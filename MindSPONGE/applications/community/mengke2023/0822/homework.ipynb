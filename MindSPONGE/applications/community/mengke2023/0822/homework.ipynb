{
 "cells": [
  {
   "cell_type": "code",
   "execution_count": 1,
   "id": "initial_id",
   "metadata": {
    "collapsed": true,
    "ExecuteTime": {
     "end_time": "2023-09-02T07:49:37.390632500Z",
     "start_time": "2023-09-02T07:49:34.537068400Z"
    }
   },
   "outputs": [],
   "source": [
    "import os\n",
    "os.environ['GLOG_v'] = '4'\n",
    "os.environ['MS_JIT_MODULES'] = 'sponge'\n",
    "\n",
    "import math\n",
    "import h5py\n",
    "import matplotlib.pyplot as plt\n",
    "from mindspore import context, nn\n",
    "from sponge.system import get_molecule\n",
    "from sponge import Sponge\n",
    "from sponge import ForceField\n",
    "from sponge import set_global_units, WithEnergyCell\n",
    "from sponge import UpdaterMD\n",
    "from sponge.control import VelocityVerlet\n",
    "from sponge.callback import WriteH5MD, RunInfo\n",
    "from sponge.control import Langevin\n",
    "from sponge.colvar import Torsion\n",
    "from sponge.function import VelocityGenerator\n",
    "from sponge.function import PI\n",
    "from sponge.sampling import Metadynamics\n",
    "\n",
    "context.set_context(mode=context.GRAPH_MODE, device_target='GPU')\n",
    "set_global_units('nm', 'kj/mol')"
   ]
  },
  {
   "cell_type": "code",
   "execution_count": 2,
   "outputs": [
    {
     "ename": "FileNotFoundError",
     "evalue": "[Errno 2] No such file or directory: './case1.pdb'",
     "output_type": "error",
     "traceback": [
      "\u001B[0;31m---------------------------------------------------------------------------\u001B[0m",
      "\u001B[0;31mFileNotFoundError\u001B[0m                         Traceback (most recent call last)",
      "Cell \u001B[0;32mIn[2], line 3\u001B[0m\n\u001B[1;32m      1\u001B[0m pdb_name \u001B[38;5;241m=\u001B[39m \u001B[38;5;124m'\u001B[39m\u001B[38;5;124m./case1.pdb\u001B[39m\u001B[38;5;124m'\u001B[39m\n\u001B[1;32m      2\u001B[0m out_pdb \u001B[38;5;241m=\u001B[39m \u001B[38;5;124m'\u001B[39m\u001B[38;5;124m./case1_sol.pdb\u001B[39m\u001B[38;5;124m'\u001B[39m\n\u001B[0;32m----> 3\u001B[0m mol \u001B[38;5;241m=\u001B[39m \u001B[43mget_molecule\u001B[49m\u001B[43m(\u001B[49m\u001B[43mpdb_name\u001B[49m\u001B[43m,\u001B[49m\u001B[43m \u001B[49m\u001B[43mtemplate\u001B[49m\u001B[38;5;241;43m=\u001B[39;49m\u001B[43m[\u001B[49m\u001B[38;5;124;43m'\u001B[39;49m\u001B[38;5;124;43mprotein0.yaml\u001B[39;49m\u001B[38;5;124;43m'\u001B[39;49m\u001B[43m]\u001B[49m\u001B[43m,\u001B[49m\u001B[43m \u001B[49m\u001B[43mrebuild_hydrogen\u001B[49m\u001B[38;5;241;43m=\u001B[39;49m\u001B[38;5;28;43;01mTrue\u001B[39;49;00m\u001B[43m)\u001B[49m\n\u001B[1;32m      4\u001B[0m mol\u001B[38;5;241m.\u001B[39mfill_water(edge\u001B[38;5;241m=\u001B[39m\u001B[38;5;241m0.4\u001B[39m, pdb_out\u001B[38;5;241m=\u001B[39mout_pdb, template\u001B[38;5;241m=\u001B[39m\u001B[38;5;124m'\u001B[39m\u001B[38;5;124mwater.spce.yaml\u001B[39m\u001B[38;5;124m'\u001B[39m)\n",
      "File \u001B[0;32m~/miniconda3/envs/mindsponge/lib/python3.9/site-packages/sponge/system/molecule/__init__.py:64\u001B[0m, in \u001B[0;36mget_molecule\u001B[0;34m(pdb_name, pbc_box, length_unit, template, rebuild_hydrogen)\u001B[0m\n\u001B[1;32m     37\u001B[0m \u001B[38;5;250m\u001B[39m\u001B[38;5;124mr\u001B[39m\u001B[38;5;124;03m\"\"\"\u001B[39;00m\n\u001B[1;32m     38\u001B[0m \u001B[38;5;124;03mBase function for get molecular system, used as the \"system module\" in MindSPONGE.\u001B[39;00m\n\u001B[1;32m     39\u001B[0m \u001B[38;5;124;03mThe `Molecule` Cell can represent a molecule or a system consisting of multiple molecules.\u001B[39;00m\n\u001B[0;32m   (...)\u001B[0m\n\u001B[1;32m     61\u001B[0m \u001B[38;5;124;03m    D:  Spatial dimension of the simulation system. Usually is 3.\u001B[39;00m\n\u001B[1;32m     62\u001B[0m \u001B[38;5;124;03m\"\"\"\u001B[39;00m\n\u001B[1;32m     63\u001B[0m \u001B[38;5;28;01mif\u001B[39;00m pdb_name\u001B[38;5;241m.\u001B[39mendswith(\u001B[38;5;124m'\u001B[39m\u001B[38;5;124m.pdb\u001B[39m\u001B[38;5;124m'\u001B[39m):\n\u001B[0;32m---> 64\u001B[0m     \u001B[38;5;28;01mreturn\u001B[39;00m \u001B[43m_MoleculeFromPDB\u001B[49m\u001B[43m(\u001B[49m\u001B[43mpdb_name\u001B[49m\u001B[43m,\u001B[49m\n\u001B[1;32m     65\u001B[0m \u001B[43m                            \u001B[49m\u001B[43mpbc_box\u001B[49m\u001B[38;5;241;43m=\u001B[39;49m\u001B[43mpbc_box\u001B[49m\u001B[43m,\u001B[49m\n\u001B[1;32m     66\u001B[0m \u001B[43m                            \u001B[49m\u001B[43mlength_unit\u001B[49m\u001B[38;5;241;43m=\u001B[39;49m\u001B[43mlength_unit\u001B[49m\u001B[43m,\u001B[49m\n\u001B[1;32m     67\u001B[0m \u001B[43m                            \u001B[49m\u001B[43mtemplate\u001B[49m\u001B[38;5;241;43m=\u001B[39;49m\u001B[43mtemplate\u001B[49m\u001B[43m,\u001B[49m\n\u001B[1;32m     68\u001B[0m \u001B[43m                            \u001B[49m\u001B[43mrebuild_hydrogen\u001B[49m\u001B[38;5;241;43m=\u001B[39;49m\u001B[43mrebuild_hydrogen\u001B[49m\u001B[43m)\u001B[49m\n\u001B[1;32m     69\u001B[0m \u001B[38;5;28;01melse\u001B[39;00m:\n\u001B[1;32m     70\u001B[0m     \u001B[38;5;28;01mraise\u001B[39;00m \u001B[38;5;167;01mValueError\u001B[39;00m(\u001B[38;5;124m'\u001B[39m\u001B[38;5;124mOnly pdb format is supported in this function, but got \u001B[39m\u001B[38;5;132;01m{}\u001B[39;00m\u001B[38;5;124m.\u001B[39m\u001B[38;5;124m'\u001B[39m\u001B[38;5;241m.\u001B[39mformat(pdb_name\u001B[38;5;241m.\u001B[39msplit()[\u001B[38;5;241m-\u001B[39m\u001B[38;5;241m1\u001B[39m]))\n",
      "File \u001B[0;32m~/miniconda3/envs/mindsponge/lib/python3.9/site-packages/sponge/system/molecule/molecule.py:1537\u001B[0m, in \u001B[0;36m_MoleculeFromPDB.__init__\u001B[0;34m(self, pdb_name, pbc_box, length_unit, template, rebuild_hydrogen)\u001B[0m\n\u001B[1;32m   1534\u001B[0m \u001B[38;5;28;01mdef\u001B[39;00m \u001B[38;5;21m__init__\u001B[39m(\u001B[38;5;28mself\u001B[39m, pdb_name: \u001B[38;5;28mstr\u001B[39m, pbc_box: Union[Tensor, ndarray, List[\u001B[38;5;28mfloat\u001B[39m]] \u001B[38;5;241m=\u001B[39m \u001B[38;5;28;01mNone\u001B[39;00m, length_unit: \u001B[38;5;28mstr\u001B[39m \u001B[38;5;241m=\u001B[39m \u001B[38;5;28;01mNone\u001B[39;00m,\n\u001B[1;32m   1535\u001B[0m              template: Union[\u001B[38;5;28mdict\u001B[39m, \u001B[38;5;28mstr\u001B[39m, List[Union[\u001B[38;5;28mdict\u001B[39m, \u001B[38;5;28mstr\u001B[39m]], Tuple[Union[\u001B[38;5;28mdict\u001B[39m, \u001B[38;5;28mstr\u001B[39m]]] \u001B[38;5;241m=\u001B[39m \u001B[38;5;28;01mNone\u001B[39;00m,\n\u001B[1;32m   1536\u001B[0m              rebuild_hydrogen: \u001B[38;5;28mbool\u001B[39m \u001B[38;5;241m=\u001B[39m \u001B[38;5;28;01mFalse\u001B[39;00m):\n\u001B[0;32m-> 1537\u001B[0m     pdb_obj \u001B[38;5;241m=\u001B[39m \u001B[43mread_pdb\u001B[49m\u001B[43m(\u001B[49m\u001B[43mpdb_name\u001B[49m\u001B[43m,\u001B[49m\u001B[43m \u001B[49m\u001B[43mrebuild_hydrogen\u001B[49m\u001B[38;5;241;43m=\u001B[39;49m\u001B[43mrebuild_hydrogen\u001B[49m\u001B[43m)\u001B[49m\n\u001B[1;32m   1538\u001B[0m     \u001B[38;5;28msuper\u001B[39m()\u001B[38;5;241m.\u001B[39m\u001B[38;5;21m__init__\u001B[39m(atoms\u001B[38;5;241m=\u001B[39mpdb_obj\u001B[38;5;241m.\u001B[39mflatten_atoms,\n\u001B[1;32m   1539\u001B[0m                      coordinate\u001B[38;5;241m=\u001B[39mpdb_obj\u001B[38;5;241m.\u001B[39mflatten_crds,\n\u001B[1;32m   1540\u001B[0m                      pbc_box\u001B[38;5;241m=\u001B[39mpbc_box,\n\u001B[1;32m   1541\u001B[0m                      length_unit\u001B[38;5;241m=\u001B[39mlength_unit)\n\u001B[1;32m   1543\u001B[0m     residue_name \u001B[38;5;241m=\u001B[39m pdb_obj\u001B[38;5;241m.\u001B[39mres_names\n",
      "File \u001B[0;32m~/miniconda3/envs/mindsponge/lib/python3.9/site-packages/sponge/system/modelling/hadder.py:763\u001B[0m, in \u001B[0;36mread_pdb\u001B[0;34m(pdb_name, rebuild_hydrogen, rebuild_suffix, remove_hydrogen)\u001B[0m\n\u001B[1;32m    761\u001B[0m \u001B[38;5;28;01mif\u001B[39;00m rebuild_hydrogen:\n\u001B[1;32m    762\u001B[0m     out_name \u001B[38;5;241m=\u001B[39m pdb_name\u001B[38;5;241m.\u001B[39mreplace(\u001B[38;5;124m'\u001B[39m\u001B[38;5;124m.pdb\u001B[39m\u001B[38;5;124m'\u001B[39m, \u001B[38;5;124m'\u001B[39m\u001B[38;5;132;01m{}\u001B[39;00m\u001B[38;5;124m.pdb\u001B[39m\u001B[38;5;124m'\u001B[39m\u001B[38;5;241m.\u001B[39mformat(rebuild_suffix))\n\u001B[0;32m--> 763\u001B[0m     \u001B[43madd_hydrogen\u001B[49m\u001B[43m(\u001B[49m\u001B[43mpdb_name\u001B[49m\u001B[43m,\u001B[49m\u001B[43m \u001B[49m\u001B[43mout_name\u001B[49m\u001B[43m)\u001B[49m\n\u001B[1;32m    764\u001B[0m     \u001B[38;5;28;01mreturn\u001B[39;00m _read_pdb(out_name, remove_hydrogen\u001B[38;5;241m=\u001B[39mremove_hydrogen)\n\u001B[1;32m    766\u001B[0m \u001B[38;5;28;01mreturn\u001B[39;00m _read_pdb(pdb_name, remove_hydrogen\u001B[38;5;241m=\u001B[39mremove_hydrogen)\n",
      "File \u001B[0;32m~/miniconda3/envs/mindsponge/lib/python3.9/site-packages/sponge/system/modelling/hadder.py:658\u001B[0m, in \u001B[0;36madd_hydrogen\u001B[0;34m(pdb_in, pdb_out)\u001B[0m\n\u001B[1;32m    656\u001B[0m pdb_name \u001B[38;5;241m=\u001B[39m pdb_in\n\u001B[1;32m    657\u001B[0m new_pdb_name \u001B[38;5;241m=\u001B[39m pdb_out\n\u001B[0;32m--> 658\u001B[0m pdb_obj \u001B[38;5;241m=\u001B[39m \u001B[43m_read_pdb\u001B[49m\u001B[43m(\u001B[49m\u001B[43mpdb_name\u001B[49m\u001B[43m,\u001B[49m\u001B[43m \u001B[49m\u001B[43mrebuild_hydrogen\u001B[49m\u001B[38;5;241;43m=\u001B[39;49m\u001B[38;5;28;43;01mTrue\u001B[39;49;00m\u001B[43m)\u001B[49m\n\u001B[1;32m    659\u001B[0m atom_names \u001B[38;5;241m=\u001B[39m pdb_obj\u001B[38;5;241m.\u001B[39matom_names\n\u001B[1;32m    660\u001B[0m res_names \u001B[38;5;241m=\u001B[39m pdb_obj\u001B[38;5;241m.\u001B[39mres_names\n",
      "File \u001B[0;32m~/miniconda3/envs/mindsponge/lib/python3.9/site-packages/sponge/system/modelling/pdb_parser.py:48\u001B[0m, in \u001B[0;36m_read_pdb\u001B[0;34m(pdb_name, rebuild_hydrogen, remove_hydrogen)\u001B[0m\n\u001B[1;32m     32\u001B[0m \u001B[38;5;250m\u001B[39m\u001B[38;5;124;03m\"\"\"Read a pdb file and return atom information with numpy array format.\u001B[39;00m\n\u001B[1;32m     33\u001B[0m \u001B[38;5;124;03mArgs:\u001B[39;00m\n\u001B[1;32m     34\u001B[0m \u001B[38;5;124;03m    pdb_name(str): The pdb file name, absolute path is suggested.\u001B[39;00m\n\u001B[0;32m   (...)\u001B[0m\n\u001B[1;32m     44\u001B[0m \u001B[38;5;124;03m    init_res_ids(list): The residue id of each atom.\u001B[39;00m\n\u001B[1;32m     45\u001B[0m \u001B[38;5;124;03m\"\"\"\u001B[39;00m\n\u001B[1;32m     46\u001B[0m pdb_obj \u001B[38;5;241m=\u001B[39m namedtuple(\u001B[38;5;124m'\u001B[39m\u001B[38;5;124mPDBObject\u001B[39m\u001B[38;5;124m'\u001B[39m, [\u001B[38;5;124m'\u001B[39m\u001B[38;5;124matom_names\u001B[39m\u001B[38;5;124m'\u001B[39m, \u001B[38;5;124m'\u001B[39m\u001B[38;5;124mres_names\u001B[39m\u001B[38;5;124m'\u001B[39m, \u001B[38;5;124m'\u001B[39m\u001B[38;5;124mcrds\u001B[39m\u001B[38;5;124m'\u001B[39m, \u001B[38;5;124m'\u001B[39m\u001B[38;5;124mres_pointer\u001B[39m\u001B[38;5;124m'\u001B[39m, \u001B[38;5;124m'\u001B[39m\u001B[38;5;124mflatten_atoms\u001B[39m\u001B[38;5;124m'\u001B[39m,\n\u001B[1;32m     47\u001B[0m                                    \u001B[38;5;124m'\u001B[39m\u001B[38;5;124mflatten_crds\u001B[39m\u001B[38;5;124m'\u001B[39m, \u001B[38;5;124m'\u001B[39m\u001B[38;5;124minit_res_names\u001B[39m\u001B[38;5;124m'\u001B[39m, \u001B[38;5;124m'\u001B[39m\u001B[38;5;124minit_res_ids\u001B[39m\u001B[38;5;124m'\u001B[39m])\n\u001B[0;32m---> 48\u001B[0m \u001B[38;5;28;01mwith\u001B[39;00m \u001B[38;5;28;43mopen\u001B[39;49m\u001B[43m(\u001B[49m\u001B[43mpdb_name\u001B[49m\u001B[43m,\u001B[49m\u001B[43m \u001B[49m\u001B[38;5;124;43m'\u001B[39;49m\u001B[38;5;124;43mr\u001B[39;49m\u001B[38;5;124;43m'\u001B[39;49m\u001B[43m)\u001B[49m \u001B[38;5;28;01mas\u001B[39;00m pdb:\n\u001B[1;32m     49\u001B[0m     lines \u001B[38;5;241m=\u001B[39m pdb\u001B[38;5;241m.\u001B[39mreadlines()\n\u001B[1;32m     50\u001B[0m atom_names \u001B[38;5;241m=\u001B[39m []\n",
      "\u001B[0;31mFileNotFoundError\u001B[0m: [Errno 2] No such file or directory: './case1.pdb'"
     ]
    }
   ],
   "source": [
    "pdb_name = './case1.pdb'\n",
    "out_pdb = './case1_sol.pdb'\n",
    "mol = get_molecule(pdb_name, template=['protein0.yaml'], rebuild_hydrogen=True)\n",
    "mol.fill_water(edge=0.4, pdb_out=out_pdb, template='water.spce.yaml')"
   ],
   "metadata": {
    "collapsed": false,
    "ExecuteTime": {
     "end_time": "2023-09-02T07:49:37.714488900Z",
     "start_time": "2023-09-02T07:49:37.392546200Z"
    }
   },
   "id": "c5d6bab56bb78695"
  },
  {
   "cell_type": "code",
   "execution_count": null,
   "outputs": [],
   "source": [
    "energy = ForceField(mol, parameters=['AMBER.FF14SB', 'SPCE'], use_pme=False)\n",
    "\n",
    "phi = Torsion([3, 12, 13, 21])\n",
    "psi = Torsion([12, 13, 21, 36])\n",
    "\n",
    "min_opt = nn.Adam(mol.trainable_params(), 1e-3)\n",
    "sim = WithEnergyCell(mol, energy)\n",
    "md = Sponge(sim, optimizer=min_opt, metrics={'phi': phi, 'psi': psi})\n",
    "run_info = RunInfo(200)\n",
    "cb_h5md = WriteH5MD(mol, './homework.h5md', save_freq=10, save_last_pdb='./homework.pdb', write_image=False)\n",
    "md.run(1000, callbacks=[run_info, cb_h5md])\n",
    "\n",
    "print('The final pbc box size is: {}'.format(mol.pbc_box.asnumpy()))"
   ],
   "metadata": {
    "collapsed": false,
    "ExecuteTime": {
     "start_time": "2023-09-02T07:49:37.713489100Z"
    }
   },
   "id": "a7a125b389537cdc"
  },
  {
   "cell_type": "markdown",
   "source": [
    "NVT"
   ],
   "metadata": {
    "collapsed": false
   },
   "id": "1349d43219517740"
  },
  {
   "cell_type": "code",
   "execution_count": null,
   "outputs": [],
   "source": [
    "temp = 300\n",
    "vgen = VelocityGenerator(temp)\n",
    "velocity = vgen(mol.shape, mol.atom_mass)\n",
    "opt = UpdaterMD(system=mol,\n",
    "                time_step=1e-3,\n",
    "                velocity=velocity,\n",
    "                integrator='velocity_verlet',\n",
    "                temperature=300,\n",
    "                thermostat='langevin',)\n",
    "md = Sponge(sim, optimizer=opt, metrics={'phi': phi, 'psi': psi})\n",
    "cb_h5md = WriteH5MD(mol, './homework.h5md', save_freq=10, write_image=False)\n",
    "md.run(1000, callbacks=[run_info, cb_h5md])"
   ],
   "metadata": {
    "collapsed": false,
    "ExecuteTime": {
     "start_time": "2023-09-02T07:49:37.713489100Z"
    }
   },
   "id": "4713d8a85b6087b0"
  },
  {
   "cell_type": "markdown",
   "source": [
    "NPT"
   ],
   "metadata": {
    "collapsed": false
   },
   "id": "47d0176ae3a9628f"
  },
  {
   "cell_type": "code",
   "execution_count": null,
   "outputs": [],
   "source": [
    "temp = 300\n",
    "vgen = VelocityGenerator(temp)\n",
    "velocity = vgen(mol.shape, mol.atom_mass)\n",
    "opt = UpdaterMD(system=mol,\n",
    "                time_step=1e-3,\n",
    "                velocity=velocity,\n",
    "                integrator='velocity_verlet',\n",
    "                temperature=300,\n",
    "                thermostat='langevin',\n",
    "                pressure=1,\n",
    "                barostat='berendsen',)\n",
    "md.change_optimizer(opt)\n",
    "cb_h5md = WriteH5MD(mol, './homework.h5md', save_freq=10, write_image=False)\n",
    "md.run(1000, callbacks=[run_info, cb_h5md])"
   ],
   "metadata": {
    "collapsed": false,
    "ExecuteTime": {
     "start_time": "2023-09-02T07:49:37.713489100Z"
    }
   },
   "id": "1b52fd7957da752f"
  },
  {
   "cell_type": "code",
   "execution_count": null,
   "outputs": [],
   "source": [
    "temp = 300\n",
    "vgen = VelocityGenerator(temp)\n",
    "velocity = vgen(mol.shape, mol.atom_mass)\n",
    "opt = UpdaterMD(system=mol,\n",
    "                time_step=1e-3,\n",
    "                velocity=velocity,\n",
    "                integrator='velocity_verlet',\n",
    "                temperature=300,\n",
    "                thermostat='langevin',\n",
    "                pressure=1,\n",
    "                barostat='berendsen',)\n",
    "md.change_optimizer(opt)\n",
    "cb_h5md = WriteH5MD(mol, './output.h5md', save_freq=10, write_image=False)\n",
    "md.run(10000, callbacks=[run_info, cb_h5md])"
   ],
   "metadata": {
    "collapsed": false,
    "ExecuteTime": {
     "start_time": "2023-09-02T07:49:37.713489100Z"
    }
   },
   "id": "7ba66b8b67e86da7"
  },
  {
   "cell_type": "code",
   "execution_count": null,
   "outputs": [],
   "source": [
    "metad = Metadynamics(\n",
    "    colvar=[phi, psi],\n",
    "    update_pace=10,\n",
    "    height=2.5,\n",
    "    sigma=0.05,\n",
    "    grid_min=-PI,\n",
    "    grid_max=PI,\n",
    "    grid_bin=360,\n",
    "    temperature=300,\n",
    "    bias_factor=100,\n",
    ")"
   ],
   "metadata": {
    "collapsed": false,
    "ExecuteTime": {
     "start_time": "2023-09-02T07:49:37.713489100Z"
    }
   },
   "id": "f626e9853d6882dd"
  },
  {
   "cell_type": "code",
   "execution_count": null,
   "outputs": [],
   "source": [
    "sim = WithEnergyCell(mol, energy, bias=metad)\n",
    "vgen = VelocityGenerator(300)\n",
    "velocity = vgen(mol.shape, mol.atom_mass)\n",
    "opt = UpdaterMD(\n",
    "    mol,\n",
    "    integrator=VelocityVerlet(mol),\n",
    "    thermostat=Langevin(mol, 300),\n",
    "    time_step=1e-3,\n",
    "    velocity=velocity\n",
    ")\n",
    "md = Sponge(sim, optimizer=opt, metrics={'phi': phi, 'psi': psi})\n",
    "cb_h5md = WriteH5MD(mol, './output_with_metad.h5md', save_freq=10, write_image=False)\n",
    "md.run(10000, callbacks=[run_info, cb_h5md])"
   ],
   "metadata": {
    "collapsed": false,
    "ExecuteTime": {
     "start_time": "2023-09-02T07:49:37.713489100Z"
    }
   },
   "id": "e21904bfda53c251"
  },
  {
   "cell_type": "code",
   "execution_count": null,
   "outputs": [],
   "source": [
    "with h5py.File('./output.h5md', 'r') as file:\n",
    "    dataset_path = 'observables/trajectory/'\n",
    "    phi_md = file[dataset_path]['phi/value'][:]\n",
    "    psi_md = file[dataset_path]['psi/value'][:]\n",
    "\n",
    "# 处理数据使其分布在 0 - pi\n",
    "phi_md = (phi_md % math.pi + math.pi) % math.pi\n",
    "psi_md = (psi_md % math.pi + math.pi) % math.pi\n",
    "\n",
    "with h5py.File('./output_with_metad.h5md') as file:\n",
    "    dataset_path = 'observables/trajectory/'\n",
    "    phi_metad = file[dataset_path]['phi/value'][:]\n",
    "    psi_metad = file[dataset_path]['psi/value'][:]\n",
    "\n",
    "# 处理数据使其分布在 0 - pi\n",
    "phi_metad = (phi_metad % math.pi + math.pi) % math.pi\n",
    "psi_metad = (psi_metad % math.pi + math.pi) % math.pi"
   ],
   "metadata": {
    "collapsed": false,
    "ExecuteTime": {
     "start_time": "2023-09-02T07:49:37.714488900Z"
    }
   },
   "id": "f823896f2b11fc86"
  },
  {
   "cell_type": "code",
   "execution_count": null,
   "outputs": [],
   "source": [
    "fig, axs = plt.subplots(1, 2, figsize=(10, 5))\n",
    "\n",
    "axs[0].scatter(phi_md, psi_md, color='blue', label='MD Data')\n",
    "axs[0].set_xlabel('Phi (radian)')\n",
    "axs[0].set_ylabel('Psi (radian)')\n",
    "axs[0].set_title('MD Scatter Plot')\n",
    "axs[0].legend()\n",
    "\n",
    "axs[1].scatter(phi_metad, psi_metad, color='orange', label='MetaD Data')\n",
    "axs[1].set_xlabel('Phi (radian)')\n",
    "axs[1].set_ylabel('Psi (radian)')\n",
    "axs[1].set_title('MetaD Scatter Plot')\n",
    "axs[1].legend()\n",
    "\n",
    "plt.tight_layout()\n",
    "plt.savefig('./result.png')\n",
    "plt.show()"
   ],
   "metadata": {
    "collapsed": false,
    "ExecuteTime": {
     "start_time": "2023-09-02T07:49:37.739071800Z"
    }
   },
   "id": "f944083affde978b"
  }
 ],
 "metadata": {
  "kernelspec": {
   "display_name": "Python 3",
   "language": "python",
   "name": "python3"
  },
  "language_info": {
   "codemirror_mode": {
    "name": "ipython",
    "version": 2
   },
   "file_extension": ".py",
   "mimetype": "text/x-python",
   "name": "python",
   "nbconvert_exporter": "python",
   "pygments_lexer": "ipython2",
   "version": "2.7.6"
  }
 },
 "nbformat": 4,
 "nbformat_minor": 5
}
