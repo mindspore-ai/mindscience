{
 "cells": [
  {
   "cell_type": "code",
   "execution_count": 1,
   "id": "a800ef56-b2f9-407e-9fc1-e9a0e83b4ff7",
   "metadata": {},
   "outputs": [
    {
     "name": "stderr",
     "output_type": "stream",
     "text": [
      "INFO:root:Using MoXing-v2.1.0.5d9c87c8-5d9c87c8\n",
      "INFO:root:Using OBS-Python-SDK-3.20.9.1\n"
     ]
    }
   ],
   "source": [
    "import moxing as mox"
   ]
  },
  {
   "cell_type": "code",
   "execution_count": 2,
   "id": "dba3745c-33d6-4051-89c2-0e68f7d761f5",
   "metadata": {},
   "outputs": [
    {
     "name": "stdout",
     "output_type": "stream",
     "text": [
      "mkdir: cannot create directory ‘./dsdp/blind_docking’: File exists\n"
     ]
    }
   ],
   "source": [
    "!mkdir ./dsdp/blind_docking"
   ]
  },
  {
   "cell_type": "code",
   "execution_count": 3,
   "id": "c6273867-4191-42f5-aa09-50e41754b13d",
   "metadata": {},
   "outputs": [
    {
     "name": "stdout",
     "output_type": "stream",
     "text": [
      "mkdir: cannot create directory ‘./dsdp/redocking’: File exists\n"
     ]
    }
   ],
   "source": [
    "!mkdir ./dsdp/redocking"
   ]
  },
  {
   "cell_type": "code",
   "execution_count": 4,
   "id": "0c31fd51-600f-493f-a7d2-767091d31d21",
   "metadata": {},
   "outputs": [
    {
     "name": "stdout",
     "output_type": "stream",
     "text": [
      "mkdir: cannot create directory ‘./dsdp/examples’: File exists\n"
     ]
    }
   ],
   "source": [
    "!mkdir ./dsdp/examples"
   ]
  },
  {
   "cell_type": "code",
   "execution_count": 5,
   "id": "ecd6ab31-e8db-4a39-877a-3e67ff42a09e",
   "metadata": {},
   "outputs": [],
   "source": [
    "mox.file.copy_parallel('obs://dsdp/blind_docking', './dsdp/blind_docking')"
   ]
  },
  {
   "cell_type": "code",
   "execution_count": 6,
   "id": "67dcef38-9d84-486a-b6fb-09e388c6b4bf",
   "metadata": {},
   "outputs": [],
   "source": [
    "mox.file.copy_parallel('obs://dsdp/redocking', './dsdp/redocking')"
   ]
  },
  {
   "cell_type": "code",
   "execution_count": 7,
   "id": "f1b3031f-8c25-4727-a59a-3b19a27970a2",
   "metadata": {},
   "outputs": [],
   "source": [
    "mox.file.copy_parallel('obs://dsdp/examples', './dsdp/examples')"
   ]
  },
  {
   "cell_type": "code",
   "execution_count": 8,
   "id": "b8431012-733d-4d8a-aa86-298f10905e77",
   "metadata": {},
   "outputs": [
    {
     "name": "stdout",
     "output_type": "stream",
     "text": [
      "nvcc -o main_SingleRun.o -c main_SingleRun.cu -arch=sm_60 -rdc=true -lcudadevrt -lcufft --use_fast_math -O4 -std=c++11 -lgomp\n",
      "nvcc -o common.o -c common.cu -arch=sm_60 -rdc=true -lcudadevrt -lcufft --use_fast_math -O4 -std=c++11 -lgomp\n",
      "common.cu(204): warning: missing return statement at end of non-void function \"Vina_Covalent_Radius\"\n",
      "\n",
      "common.cu(204): warning: missing return statement at end of non-void function \"Vina_Covalent_Radius\"\n",
      "\n",
      "nvcc -o Copy_pdbqt_Format.o -c Copy_pdbqt_Format.cu -arch=sm_60 -rdc=true -lcudadevrt -lcufft --use_fast_math -O4 -std=c++11 -lgomp\n",
      "nvcc -o DSDP_Sort.o -c DSDP_Sort.cu -arch=sm_60 -rdc=true -lcudadevrt -lcufft --use_fast_math -O4 -std=c++11 -lgomp\n",
      "nvcc -o DSDP_Task.o -c DSDP_Task.cu -arch=sm_60 -rdc=true -lcudadevrt -lcufft --use_fast_math -O4 -std=c++11 -lgomp\n",
      "nvcc -o Kernel.o -c Kernel.cu -arch=sm_60 -rdc=true -lcudadevrt -lcufft --use_fast_math -O4 -std=c++11 -lgomp\n",
      "Kernel.cu(962): warning: variable \"dd\" was declared but never referenced\n",
      "\n",
      "Kernel.cu(962): warning: variable \"dd_\" was declared but never referenced\n",
      "\n",
      "nvcc -o Neighbor_Grid.o -c Neighbor_Grid.cu -arch=sm_60 -rdc=true -lcudadevrt -lcufft --use_fast_math -O4 -std=c++11 -lgomp\n",
      "Neighbor_Grid.cu(35): warning: invalid narrowing conversion from \"float\" to \"int\"\n",
      "\n",
      "Neighbor_Grid.cu(35): warning: invalid narrowing conversion from \"float\" to \"int\"\n",
      "\n",
      "Neighbor_Grid.cu(35): warning: invalid narrowing conversion from \"float\" to \"int\"\n",
      "\n",
      "Neighbor_Grid.cu(35): warning: invalid narrowing conversion from \"float\" to \"int\"\n",
      "\n",
      "Neighbor_Grid.cu(35): warning: invalid narrowing conversion from \"float\" to \"int\"\n",
      "\n",
      "Neighbor_Grid.cu(35): warning: invalid narrowing conversion from \"float\" to \"int\"\n",
      "\n",
      "\u001B[01m\u001B[KNeighbor_Grid.cu:\u001B[m\u001B[K In member function ‘\u001B[01m\u001B[Kvoid NEIGHBOR_GRID::Put_Atom_Into_Grid_Bucket(int, VECTOR*)\u001B[m\u001B[K’:\n",
      "\u001B[01m\u001B[KNeighbor_Grid.cu:35:35:\u001B[m\u001B[K \u001B[01;35m\u001B[Kwarning: \u001B[m\u001B[Knarrowing conversion of ‘\u001B[01m\u001B[Ktempcrd.VECTOR::x\u001B[m\u001B[K’ from ‘\u001B[01m\u001B[Kfloat\u001B[m\u001B[K’ to ‘\u001B[01m\u001B[Kint\u001B[m\u001B[K’ inside { } [\u001B[01;35m\u001B[K-Wnarrowing\u001B[m\u001B[K]\n",
      "   INT_VECTOR temp_serial =\u001B[01;35m\u001B[K { tempcr\u001B[m\u001B[Kd.x,tempcrd.y,tempcrd.z };\n",
      "                           \u001B[01;35m\u001B[K~~~~~~~~^\u001B[m\u001B[K\n",
      "\u001B[01m\u001B[KNeighbor_Grid.cu:35:46:\u001B[m\u001B[K \u001B[01;35m\u001B[Kwarning: \u001B[m\u001B[Knarrowing conversion of ‘\u001B[01m\u001B[Ktempcrd.VECTOR::y\u001B[m\u001B[K’ from ‘\u001B[01m\u001B[Kfloat\u001B[m\u001B[K’ to ‘\u001B[01m\u001B[Kint\u001B[m\u001B[K’ inside { } [\u001B[01;35m\u001B[K-Wnarrowing\u001B[m\u001B[K]\n",
      "   INT_VECTOR temp_serial = { tempcrd.\u001B[01;35m\u001B[Kx,tempcrd\u001B[m\u001B[K.y,tempcrd.z };\n",
      "                                      \u001B[01;35m\u001B[K~~~~~~~~^\u001B[m\u001B[K\n",
      "\u001B[01m\u001B[KNeighbor_Grid.cu:35:57:\u001B[m\u001B[K \u001B[01;35m\u001B[Kwarning: \u001B[m\u001B[Knarrowing conversion of ‘\u001B[01m\u001B[Ktempcrd.VECTOR::z\u001B[m\u001B[K’ from ‘\u001B[01m\u001B[Kfloat\u001B[m\u001B[K’ to ‘\u001B[01m\u001B[Kint\u001B[m\u001B[K’ inside { } [\u001B[01;35m\u001B[K-Wnarrowing\u001B[m\u001B[K]\n",
      "   INT_VECTOR temp_serial = { tempcrd.x,tempcrd.y\u001B[01;35m\u001B[K,tempcrd.\u001B[m\u001B[Kz };\n",
      "                                                 \u001B[01;35m\u001B[K~~~~~~~~^\u001B[m\u001B[K\n",
      "nvcc -o Partial_Rigid_Small_Molecule.o -c Partial_Rigid_Small_Molecule.cu -arch=sm_60 -rdc=true -lcudadevrt -lcufft --use_fast_math -O4 -std=c++11 -lgomp\n",
      "Partial_Rigid_Small_Molecule.cu(49): warning: result of call is not used\n",
      "\n",
      "Partial_Rigid_Small_Molecule.cu(81): warning: result of call is not used\n",
      "\n",
      "Partial_Rigid_Small_Molecule.cu(49): warning: result of call is not used\n",
      "\n",
      "Partial_Rigid_Small_Molecule.cu(81): warning: result of call is not used\n",
      "\n",
      "\u001B[01m\u001B[KPartial_Rigid_Small_Molecule.cu:\u001B[m\u001B[K In member function ‘\u001B[01m\u001B[Kvoid PARTIAL_RIGID_SMALL_MOLECULE::Initial_From_PDBQT(const char*)\u001B[m\u001B[K’:\n",
      "\u001B[01m\u001B[KPartial_Rigid_Small_Molecule.cu:49:6:\u001B[m\u001B[K \u001B[01;35m\u001B[Kwarning: \u001B[m\u001B[Kignoring return value of ‘\u001B[01m\u001B[Kchar* fgets(char*, int, FILE*)\u001B[m\u001B[K’, declared with attribute warn_unused_result [\u001B[01;35m\u001B[K-Wunused-result\u001B[m\u001B[K]\n",
      " \u001B[01;35m\u001B[K    fgets(str_line, 256,\u001B[m\u001B[K in);\n",
      "     \u001B[01;35m\u001B[K~^~~~~~~~~~~~~~~~~~~\u001B[m\u001B[K\n",
      "\u001B[01m\u001B[KPartial_Rigid_Small_Molecule.cu:81:6:\u001B[m\u001B[K \u001B[01;35m\u001B[Kwarning: \u001B[m\u001B[Kignoring return value of ‘\u001B[01m\u001B[Kchar* fgets(char*, int, FILE*)\u001B[m\u001B[K’, declared with attribute warn_unused_result [\u001B[01;35m\u001B[K-Wunused-result\u001B[m\u001B[K]\n",
      " \u001B[01;35m\u001B[K    fgets(str_line, 256,\u001B[m\u001B[K in);\n",
      "     \u001B[01;35m\u001B[K~^~~~~~~~~~~~~~~~~~~\u001B[m\u001B[K\n",
      "nvcc -o Rigid_Protein.o -c Rigid_Protein.cu -arch=sm_60 -rdc=true -lcudadevrt -lcufft --use_fast_math -O4 -std=c++11 -lgomp\n",
      "nvcc -o Vina_Grid_Force_Field.o -c Vina_Grid_Force_Field.cu -arch=sm_60 -rdc=true -lcudadevrt -lcufft --use_fast_math -O4 -std=c++11 -lgomp\n",
      "\u001B[01m\u001B[KVina_Grid_Force_Field.cu:\u001B[m\u001B[K In member function ‘\u001B[01m\u001B[Kvoid VINA_GRID_FORCE_FIELD::GRID::Cuda_Texture_Initial(VINA_GRID_FORCE_FIELD*)\u001B[m\u001B[K’:\n",
      "\u001B[01m\u001B[KVina_Grid_Force_Field.cu:197:137:\u001B[m\u001B[K \u001B[01;35m\u001B[Kwarning: \u001B[m\u001B[Kformat ‘\u001B[01m\u001B[K%d\u001B[m\u001B[K’ expects argument of type ‘\u001B[01m\u001B[Kint\u001B[m\u001B[K’, but argument 2 has type ‘\u001B[01m\u001B[Klong unsigned int\u001B[m\u001B[K’ [\u001B[01;35m\u001B[K-Wformat=\u001B[m\u001B[K]\n",
      "\u001B[m\u001B[Ktf(\"size of protein mesh %d\\n\",\u001B[32m\u001B[K sizeof(float4) * vina_grid_force_field->grid_numbers * vina_grid_force_field->type_numbers);\n",
      "                                     \u001B[32m\u001B[K~~~~~~~~~~~~~~~~~~~~~~~~~~~~~~~~~~~~~~~~~~~~~~~~~~~~~~~~~~~~~~~~~~~~~~~~~~~~~~~~~~~~~~~~~~~~~~\u001B[m\u001B[K      \u001B[01;35m\u001B[K^\u001B[m\u001B[K\n",
      "nvcc -o DSDP  main_SingleRun.o common.o Copy_pdbqt_Format.o DSDP_Sort.o DSDP_Task.o Kernel.o Neighbor_Grid.o Partial_Rigid_Small_Molecule.o Rigid_Protein.o Vina_Grid_Force_Field.o -arch=sm_60 -rdc=true -lcudadevrt -lcufft --use_fast_math -O4 -std=c++11 -lgomp\n"
     ]
    }
   ],
   "source": [
    "#compiling redocking\n",
    "! cd ./dsdp/redocking/;make"
   ]
  },
  {
   "cell_type": "code",
   "execution_count": 9,
   "id": "7b0d5ab9-5ec3-450e-9fac-c71d554daedd",
   "metadata": {},
   "outputs": [
    {
     "name": "stdout",
     "output_type": "stream",
     "text": [
      "nvcc -o main_SingleRun_SitePointStart.o -c main_SingleRun_SitePointStart.cu -arch=sm_60 -rdc=true -lcudadevrt -lcufft --use_fast_math -O4 -std=c++11 -lgomp\n",
      "nvcc -o common.o -c common.cu -arch=sm_60 -rdc=true -lcudadevrt -lcufft --use_fast_math -O4 -std=c++11 -lgomp\n",
      "common.cu(204): warning: missing return statement at end of non-void function \"Vina_Covalent_Radius\"\n",
      "\n",
      "common.cu(204): warning: missing return statement at end of non-void function \"Vina_Covalent_Radius\"\n",
      "\n",
      "nvcc -o CLUSTER.o -c CLUSTER.cpp -arch=sm_60 -rdc=true -lcudadevrt -lcufft --use_fast_math -O4 -std=c++11 -lgomp\n",
      "nvcc -o Copy_pdbqt_Format.o -c Copy_pdbqt_Format.cu -arch=sm_60 -rdc=true -lcudadevrt -lcufft --use_fast_math -O4 -std=c++11 -lgomp\n",
      "nvcc -o DSDP_Sort.o -c DSDP_Sort.cu -arch=sm_60 -rdc=true -lcudadevrt -lcufft --use_fast_math -O4 -std=c++11 -lgomp\n",
      "nvcc -o DSDP_Task.o -c DSDP_Task.cu -arch=sm_60 -rdc=true -lcudadevrt -lcufft --use_fast_math -O4 -std=c++11 -lgomp\n",
      "nvcc -o Kernel.o -c Kernel.cu -arch=sm_60 -rdc=true -lcudadevrt -lcufft --use_fast_math -O4 -std=c++11 -lgomp\n",
      "Kernel.cu(962): warning: variable \"dd\" was declared but never referenced\n",
      "\n",
      "Kernel.cu(962): warning: variable \"dd_\" was declared but never referenced\n",
      "\n",
      "nvcc -o Neighbor_Grid.o -c Neighbor_Grid.cu -arch=sm_60 -rdc=true -lcudadevrt -lcufft --use_fast_math -O4 -std=c++11 -lgomp\n",
      "Neighbor_Grid.cu(35): warning: invalid narrowing conversion from \"float\" to \"int\"\n",
      "\n",
      "Neighbor_Grid.cu(35): warning: invalid narrowing conversion from \"float\" to \"int\"\n",
      "\n",
      "Neighbor_Grid.cu(35): warning: invalid narrowing conversion from \"float\" to \"int\"\n",
      "\n",
      "Neighbor_Grid.cu(35): warning: invalid narrowing conversion from \"float\" to \"int\"\n",
      "\n",
      "Neighbor_Grid.cu(35): warning: invalid narrowing conversion from \"float\" to \"int\"\n",
      "\n",
      "Neighbor_Grid.cu(35): warning: invalid narrowing conversion from \"float\" to \"int\"\n",
      "\n",
      "\u001B[01m\u001B[KNeighbor_Grid.cu:\u001B[m\u001B[K In member function ‘\u001B[01m\u001B[Kvoid NEIGHBOR_GRID::Put_Atom_Into_Grid_Bucket(int, VECTOR*)\u001B[m\u001B[K’:\n",
      "\u001B[01m\u001B[KNeighbor_Grid.cu:35:35:\u001B[m\u001B[K \u001B[01;35m\u001B[Kwarning: \u001B[m\u001B[Knarrowing conversion of ‘\u001B[01m\u001B[Ktempcrd.VECTOR::x\u001B[m\u001B[K’ from ‘\u001B[01m\u001B[Kfloat\u001B[m\u001B[K’ to ‘\u001B[01m\u001B[Kint\u001B[m\u001B[K’ inside { } [\u001B[01;35m\u001B[K-Wnarrowing\u001B[m\u001B[K]\n",
      "   INT_VECTOR temp_serial =\u001B[01;35m\u001B[K { tempcr\u001B[m\u001B[Kd.x,tempcrd.y,tempcrd.z };\n",
      "                           \u001B[01;35m\u001B[K~~~~~~~~^\u001B[m\u001B[K\n",
      "\u001B[01m\u001B[KNeighbor_Grid.cu:35:46:\u001B[m\u001B[K \u001B[01;35m\u001B[Kwarning: \u001B[m\u001B[Knarrowing conversion of ‘\u001B[01m\u001B[Ktempcrd.VECTOR::y\u001B[m\u001B[K’ from ‘\u001B[01m\u001B[Kfloat\u001B[m\u001B[K’ to ‘\u001B[01m\u001B[Kint\u001B[m\u001B[K’ inside { } [\u001B[01;35m\u001B[K-Wnarrowing\u001B[m\u001B[K]\n",
      "   INT_VECTOR temp_serial = { tempcrd.\u001B[01;35m\u001B[Kx,tempcrd\u001B[m\u001B[K.y,tempcrd.z };\n",
      "                                      \u001B[01;35m\u001B[K~~~~~~~~^\u001B[m\u001B[K\n",
      "\u001B[01m\u001B[KNeighbor_Grid.cu:35:57:\u001B[m\u001B[K \u001B[01;35m\u001B[Kwarning: \u001B[m\u001B[Knarrowing conversion of ‘\u001B[01m\u001B[Ktempcrd.VECTOR::z\u001B[m\u001B[K’ from ‘\u001B[01m\u001B[Kfloat\u001B[m\u001B[K’ to ‘\u001B[01m\u001B[Kint\u001B[m\u001B[K’ inside { } [\u001B[01;35m\u001B[K-Wnarrowing\u001B[m\u001B[K]\n",
      "   INT_VECTOR temp_serial = { tempcrd.x,tempcrd.y\u001B[01;35m\u001B[K,tempcrd.\u001B[m\u001B[Kz };\n",
      "                                                 \u001B[01;35m\u001B[K~~~~~~~~^\u001B[m\u001B[K\n",
      "nvcc -o Partial_Rigid_Small_Molecule.o -c Partial_Rigid_Small_Molecule.cu -arch=sm_60 -rdc=true -lcudadevrt -lcufft --use_fast_math -O4 -std=c++11 -lgomp\n",
      "Partial_Rigid_Small_Molecule.cu(49): warning: result of call is not used\n",
      "\n",
      "Partial_Rigid_Small_Molecule.cu(81): warning: result of call is not used\n",
      "\n",
      "Partial_Rigid_Small_Molecule.cu(49): warning: result of call is not used\n",
      "\n",
      "Partial_Rigid_Small_Molecule.cu(81): warning: result of call is not used\n",
      "\n",
      "\u001B[01m\u001B[KPartial_Rigid_Small_Molecule.cu:\u001B[m\u001B[K In member function ‘\u001B[01m\u001B[Kvoid PARTIAL_RIGID_SMALL_MOLECULE::Initial_From_PDBQT(const char*)\u001B[m\u001B[K’:\n",
      "\u001B[01m\u001B[KPartial_Rigid_Small_Molecule.cu:49:6:\u001B[m\u001B[K \u001B[01;35m\u001B[Kwarning: \u001B[m\u001B[Kignoring return value of ‘\u001B[01m\u001B[Kchar* fgets(char*, int, FILE*)\u001B[m\u001B[K’, declared with attribute warn_unused_result [\u001B[01;35m\u001B[K-Wunused-result\u001B[m\u001B[K]\n",
      " \u001B[01;35m\u001B[K    fgets(str_line, 256,\u001B[m\u001B[K in);\n",
      "     \u001B[01;35m\u001B[K~^~~~~~~~~~~~~~~~~~~\u001B[m\u001B[K\n",
      "\u001B[01m\u001B[KPartial_Rigid_Small_Molecule.cu:81:6:\u001B[m\u001B[K \u001B[01;35m\u001B[Kwarning: \u001B[m\u001B[Kignoring return value of ‘\u001B[01m\u001B[Kchar* fgets(char*, int, FILE*)\u001B[m\u001B[K’, declared with attribute warn_unused_result [\u001B[01;35m\u001B[K-Wunused-result\u001B[m\u001B[K]\n",
      " \u001B[01;35m\u001B[K    fgets(str_line, 256,\u001B[m\u001B[K in);\n",
      "     \u001B[01;35m\u001B[K~^~~~~~~~~~~~~~~~~~~\u001B[m\u001B[K\n",
      "nvcc -o Rigid_Protein.o -c Rigid_Protein.cu -arch=sm_60 -rdc=true -lcudadevrt -lcufft --use_fast_math -O4 -std=c++11 -lgomp\n",
      "nvcc -o Vina_Grid_Force_Field.o -c Vina_Grid_Force_Field.cu -arch=sm_60 -rdc=true -lcudadevrt -lcufft --use_fast_math -O4 -std=c++11 -lgomp\n",
      "\u001B[01m\u001B[KVina_Grid_Force_Field.cu:\u001B[m\u001B[K In member function ‘\u001B[01m\u001B[Kvoid VINA_GRID_FORCE_FIELD::GRID::Cuda_Texture_Initial(VINA_GRID_FORCE_FIELD*)\u001B[m\u001B[K’:\n",
      "\u001B[01m\u001B[KVina_Grid_Force_Field.cu:197:137:\u001B[m\u001B[K \u001B[01;35m\u001B[Kwarning: \u001B[m\u001B[Kformat ‘\u001B[01m\u001B[K%d\u001B[m\u001B[K’ expects argument of type ‘\u001B[01m\u001B[Kint\u001B[m\u001B[K’, but argument 2 has type ‘\u001B[01m\u001B[Klong unsigned int\u001B[m\u001B[K’ [\u001B[01;35m\u001B[K-Wformat=\u001B[m\u001B[K]\n",
      "\u001B[m\u001B[Ktf(\"size of protein mesh %d\\n\",\u001B[32m\u001B[K sizeof(float4) * vina_grid_force_field->grid_numbers * vina_grid_force_field->type_numbers);\n",
      "                                     \u001B[32m\u001B[K~~~~~~~~~~~~~~~~~~~~~~~~~~~~~~~~~~~~~~~~~~~~~~~~~~~~~~~~~~~~~~~~~~~~~~~~~~~~~~~~~~~~~~~~~~~~~~\u001B[m\u001B[K      \u001B[01;35m\u001B[K^\u001B[m\u001B[K\n",
      "nvcc -o Site_Information.o -c Site_Information.cu -arch=sm_60 -rdc=true -lcudadevrt -lcufft --use_fast_math -O4 -std=c++11 -lgomp\n",
      "Site_Information.cu(32): warning: result of call is not used\n",
      "\n",
      "Site_Information.cu(32): warning: result of call is not used\n",
      "\n",
      "\u001B[01m\u001B[KSite_Information.cu:\u001B[m\u001B[K In member function ‘\u001B[01m\u001B[Kvoid SITE_INFORMATION::Initial(const char*, int)\u001B[m\u001B[K’:\n",
      "\u001B[01m\u001B[KSite_Information.cu:32:6:\u001B[m\u001B[K \u001B[01;35m\u001B[Kwarning: \u001B[m\u001B[Kignoring return value of ‘\u001B[01m\u001B[Ksize_t fread(void*, size_t, size_t, FILE*)\u001B[m\u001B[K’, declared with attribute warn_unused_result [\u001B[01;35m\u001B[K-Wunused-result\u001B[m\u001B[K]\n",
      " \u001B[01;35m\u001B[K    fread(&temp.w, sizeof(float), 1, mesh_i\u001B[m\u001B[Kn);\n",
      "     \u001B[01;35m\u001B[K~^~~~~~~~~~~~~~~~~~~~~~~~~~~~~~~~~~~~~~\u001B[m\u001B[K\n",
      "nvcc -o DSDP  main_SingleRun_SitePointStart.o common.o CLUSTER.o Copy_pdbqt_Format.o DSDP_Sort.o DSDP_Task.o Kernel.o Neighbor_Grid.o Partial_Rigid_Small_Molecule.o Rigid_Protein.o Vina_Grid_Force_Field.o Site_Information.o -arch=sm_60 -rdc=true -lcudadevrt -lcufft --use_fast_math -O4 -std=c++11 -lgomp\n"
     ]
    }
   ],
   "source": [
    "#compiling blind docking\n",
    "! cd ./dsdp/blind_docking/;make"
   ]
  },
  {
   "cell_type": "code",
   "execution_count": 10,
   "id": "9bd7d794-1b92-4ef2-804e-92317275a313",
   "metadata": {},
   "outputs": [
    {
     "name": "stdout",
     "output_type": "stream",
     "text": [
      "size of protein mesh 288000000\n",
      "./1a2b/1a2b_ligand.pdbqt\n",
      "Total time 0.826231 s\n",
      "size of protein mesh 288000000\n",
      "./1a80/1a80_ligand.pdbqt\n",
      "Total time 1.150517 s\n",
      "size of protein mesh 288000000\n",
      "./1a8p/1a8p_ligand.pdbqt\n",
      "Total time 1.103487 s\n",
      "size of protein mesh 288000000\n",
      "./1a8r/1a8r_ligand.pdbqt\n",
      "Total time 0.846814 s\n",
      "size of protein mesh 288000000\n",
      "./1aa6/1aa6_ligand.pdbqt\n",
      "Total time 1.251923 s\n"
     ]
    }
   ],
   "source": [
    "#run redocking\n",
    "!cd ./dsdp/examples/redocking/;bash run.sh"
   ]
  },
  {
   "cell_type": "code",
   "execution_count": 11,
   "id": "a7b4b4b5-adc4-457e-938f-eea355384932",
   "metadata": {},
   "outputs": [
    {
     "name": "stdout",
     "output_type": "stream",
     "text": [
      "size of protein mesh 288000000\n",
      "./1a2b/1a2b.npy\n",
      "Total time 0.876729 s\n",
      "size of protein mesh 288000000\n",
      "./1a80/1a80.npy\n",
      "Total time 1.228387 s\n",
      "size of protein mesh 288000000\n",
      "./1a8p/1a8p.npy\n",
      "Total time 1.143475 s\n",
      "size of protein mesh 288000000\n",
      "./1a8r/1a8r.npy\n",
      "size of protein mesh 288000000\n",
      "./1a8r/1a8r.npy\n",
      "Total time 1.815347 s\n",
      "size of protein mesh 288000000\n",
      "./1aa6/1aa6.npy\n",
      "size of protein mesh 288000000\n",
      "./1aa6/1aa6.npy\n",
      "size of protein mesh 288000000\n",
      "./1aa6/1aa6.npy\n",
      "Total time 3.482611 s\n"
     ]
    }
   ],
   "source": [
    "#run blind docking\n",
    "!cd ./dsdp/examples/blind_docking/;bash run.sh"
   ]
  },
  {
   "cell_type": "code",
   "execution_count": 12,
   "id": "a61f0270-2e06-45d0-b583-e3cf20202d08",
   "metadata": {},
   "outputs": [
    {
     "name": "stdout",
     "output_type": "stream",
     "text": [
      "size of protein mesh 288000000\n",
      "./ligand/actives_1.pdbqt\n",
      "Total time 0.744650 s\n",
      "size of protein mesh 288000000\n",
      "./ligand/actives_2.pdbqt\n",
      "Total time 0.695518 s\n",
      "size of protein mesh 288000000\n",
      "./ligand/actives_3.pdbqt\n",
      "Total time 0.884762 s\n",
      "size of protein mesh 288000000\n",
      "./ligand/actives_4.pdbqt\n",
      "Total time 0.889508 s\n",
      "size of protein mesh 288000000\n",
      "./ligand/actives_5.pdbqt\n",
      "Total time 0.676559 s\n",
      "size of protein mesh 288000000\n",
      "./ligand/decoys_10.pdbqt\n",
      "Total time 0.717411 s\n",
      "size of protein mesh 288000000\n",
      "./ligand/decoys_11.pdbqt\n",
      "Total time 0.697610 s\n",
      "size of protein mesh 288000000\n",
      "./ligand/decoys_12.pdbqt\n",
      "Total time 0.687725 s\n",
      "size of protein mesh 288000000\n",
      "./ligand/decoys_13.pdbqt\n",
      "Total time 0.668052 s\n",
      "size of protein mesh 288000000\n",
      "./ligand/decoys_14.pdbqt\n",
      "Total time 0.687609 s\n",
      "size of protein mesh 288000000\n",
      "./ligand/decoys_15.pdbqt\n",
      "Total time 0.676188 s\n",
      "size of protein mesh 288000000\n",
      "./ligand/decoys_16.pdbqt\n",
      "Total time 0.744717 s\n",
      "size of protein mesh 288000000\n",
      "./ligand/decoys_17.pdbqt\n",
      "Total time 0.708895 s\n",
      "size of protein mesh 288000000\n",
      "./ligand/decoys_18.pdbqt\n",
      "Total time 0.697843 s\n",
      "size of protein mesh 288000000\n",
      "./ligand/decoys_19.pdbqt\n",
      "Total time 0.660223 s\n",
      "size of protein mesh 288000000\n",
      "./ligand/decoys_1.pdbqt\n",
      "Total time 0.653370 s\n",
      "size of protein mesh 288000000\n",
      "./ligand/decoys_20.pdbqt\n",
      "Total time 0.750267 s\n",
      "size of protein mesh 288000000\n",
      "./ligand/decoys_2.pdbqt\n",
      "Total time 0.705907 s\n",
      "size of protein mesh 288000000\n",
      "./ligand/decoys_3.pdbqt\n",
      "Total time 0.694091 s\n",
      "size of protein mesh 288000000\n",
      "./ligand/decoys_4.pdbqt\n",
      "Total time 0.681671 s\n",
      "size of protein mesh 288000000\n",
      "./ligand/decoys_5.pdbqt\n",
      "Total time 0.694529 s\n",
      "size of protein mesh 288000000\n",
      "./ligand/decoys_6.pdbqt\n",
      "Total time 0.677896 s\n",
      "size of protein mesh 288000000\n",
      "./ligand/decoys_7.pdbqt\n",
      "Total time 0.695912 s\n",
      "size of protein mesh 288000000\n",
      "./ligand/decoys_8.pdbqt\n",
      "Total time 0.657081 s\n",
      "size of protein mesh 288000000\n",
      "./ligand/decoys_9.pdbqt\n",
      "Total time 0.680310 s\n"
     ]
    }
   ],
   "source": [
    "#run virtual screening\n",
    "!cd ./dsdp/examples/virtual_screening/;bash run.sh"
   ]
  },
  {
   "cell_type": "code",
   "execution_count": 13,
   "id": "d65e5919-90d0-49a7-8538-8be03a889643",
   "metadata": {},
   "outputs": [
    {
     "name": "stdout",
     "output_type": "stream",
     "text": [
      "RMSD of 1a2b is : 2.3137217515833655\n",
      "RMSD of 1a80 is : 3.162129250336446\n",
      "RMSD of 1a8p is : 9.893377644037813\n",
      "RMSD of 1a8r is : 1.7093600684905446\n",
      "RMSD of 1aa6 is : 17.86585609360623\n"
     ]
    }
   ],
   "source": [
    "#estimate RMSD\n",
    "import numpy as np\n",
    "\n",
    "\n",
    "def crd_from_pdbqt(sdf):\n",
    "    crds = []\n",
    "    with open(sdf, \"r\") as sdfile:\n",
    "        input_info = sdfile.readlines()\n",
    "\n",
    "    for inline in input_info:\n",
    "        if len(inline) >= 70 and len(inline) <= 100 and (\"H\" not in inline[30:80]):\n",
    "            line_info = inline.strip()\n",
    "            crd_info = np.array([float(line_info[30:38]), float(line_info[38:46]), float(line_info[46:54])])\n",
    "            crds.append(crd_info)\n",
    "        else:\n",
    "            continue\n",
    "    return np.stack(crds)\n",
    "\n",
    "def calculate_center(ligand):\n",
    "    point_map = ligand\n",
    "    point_center = point_map.mean(axis=0)\n",
    "    return point_center\n",
    "\n",
    "def calculate_distance(ligand, site):\n",
    "    ligand_x = ligand[0]\n",
    "    ligand_y = ligand[1]\n",
    "    ligand_z = ligand[2]\n",
    "    site_x = site[0]\n",
    "    site_y = site[1]\n",
    "    site_z = site[2]\n",
    "\n",
    "    distance = pow(pow(site_x-ligand_x, 2) + pow(site_y-ligand_y, 2) + pow(site_z-ligand_z, 2), 0.5)\n",
    "    return distance\n",
    "\n",
    "dist_dict = {\"RMSD\":{}, \"MAE\":{}, \"Cent_dis\":{}}\n",
    "\n",
    "with open('./dsdp/examples/blind_docking/list.txt') as list_f:\n",
    "    lines = list_f.readlines()\n",
    "\n",
    "for line in lines:\n",
    "    line = line.strip()\n",
    "    ref_file = \"./dsdp/examples/blind_docking/\" + line + '/' + line + '_ligand.pdbqt'\n",
    "    dock_file = \"./dsdp/examples/blind_docking/\" + line + '/' + line + '_out.pdbqt'\n",
    "\n",
    "    ref_crds = crd_from_pdbqt(ref_file)\n",
    "    dock_crds = crd_from_pdbqt(dock_file)\n",
    "    ref_center = calculate_center(ref_crds)\n",
    "    dock_center = calculate_center(dock_crds)\n",
    "    ref_dock_distance = calculate_distance(ref_center, dock_center)\n",
    "    dist2_matrix = np.power(ref_crds - dock_crds, 2)\n",
    "    rmsd = np.sqrt(3 * dist2_matrix.flatten().mean())\n",
    "    mae = np.sqrt(dist2_matrix.sum(axis=1)).mean()\n",
    "    print(\"RMSD of \" + line + \" is : \" + str(rmsd))\n",
    "\n"
   ]
  },
  {
   "cell_type": "code",
   "execution_count": 14,
   "id": "ea9c5eb1-0b77-401a-9f97-4b8d12466487",
   "metadata": {},
   "outputs": [
    {
     "name": "stdout",
     "output_type": "stream",
     "text": [
      "[-9.869795, -9.516343, -7.949355, -7.816128, -7.590895, -7.171757, -6.980979, -6.884938, -6.76096, -6.689533, -6.622147, -6.604807, -6.561749, -6.461029, -6.460969, -6.361613, -6.287854, -6.252217, -5.990596, -5.840154, -5.726468, -5.648844, -4.933323, -4.842063, -4.571979]\n"
     ]
    }
   ],
   "source": [
    "import os\n",
    "import re\n",
    "\n",
    "def extract_numbers(text):\n",
    "    return float(re.findall(r'-\\d+\\.\\d+', text)[0])\n",
    "\n",
    "log_files_directory = './dsdp/examples/virtual_screening/ligand'\n",
    "scores = []\n",
    "labels = []\n",
    "\n",
    "for filename in os.listdir(log_files_directory):\n",
    "    if filename.endswith('.log'):\n",
    "        file_path = os.path.join(log_files_directory, filename)\n",
    "        labels.append(filename[0] == 'd')\n",
    "        with open(file_path, 'r') as file:\n",
    "            content = file.read()\n",
    "            numbers = extract_numbers(content)\n",
    "            scores.append(numbers)\n",
    "\n",
    "print(sorted(scores))"
   ]
  },
  {
   "cell_type": "code",
   "execution_count": 15,
   "id": "2226331b-eb5e-40ca-b96a-a8876aa63751",
   "metadata": {},
   "outputs": [
    {
     "data": {
      "text/plain": [
       "0.9299999999999999"
      ]
     },
     "execution_count": 15,
     "metadata": {},
     "output_type": "execute_result"
    }
   ],
   "source": [
    "from mindspore.nn import ROC, auc\n",
    "\n",
    "metric = ROC()\n",
    "metric.clear()\n",
    "metric.update(scores, labels)\n",
    "fpr, tpr, thre = metric.eval()\n",
    "area_under_curve = auc(fpr, tpr)\n",
    "area_under_curve"
   ]
  },
  {
   "cell_type": "code",
   "execution_count": 16,
   "id": "313b123e-7a20-4ffb-b44b-8568d75ffe97",
   "metadata": {},
   "outputs": [
    {
     "data": {
      "image/png": "[encoded data removed]",
      "text/plain": [
       "<Figure size 640x480 with 1 Axes>"
      ]
     },
     "metadata": {},
     "output_type": "display_data"
    }
   ],
   "source": [
    "from matplotlib import pyplot as plt\n",
    "\n",
    "plt.title(f\"ROC Curve (AUC = {area_under_curve})\")\n",
    "plt.plot(fpr, tpr, color='darkorange', lw=2, label='ROC curve')\n",
    "plt.plot([0, 1], [0, 1], color='navy', lw=2, linestyle='--')\n",
    "plt.xlabel(\"False Positive Rate\")\n",
    "plt.ylabel(\"True Positive Rate\")\n",
    "plt.legend(loc=\"lower right\")\n",
    "\n",
    "plt.savefig(\"roc_curve.png\")\n",
    "\n",
    "plt.show()"
   ]
  }
 ],
 "metadata": {
  "AIGalleryInfo": {
   "item_id": "0e117a3a-5aa8-4820-837d-205f7b5e82af"
  },
  "flavorInfo": {
   "architecture": "X86_64",
   "category": "GPU"
  },
  "imageInfo": {
   "id": "e1a07296-22a8-4f05-8bc8-e936c8e54202",
   "name": "mindspore1.7.0-cuda10.1-py3.7-ubuntu18.04"
  },
  "kernelspec": {
   "display_name": "MindSpore",
   "language": "python",
   "name": "mindspore"
  },
  "language_info": {
   "codemirror_mode": {
    "name": "ipython",
    "version": 3
   },
   "file_extension": ".py",
   "mimetype": "text/x-python",
   "name": "python",
   "nbconvert_exporter": "python",
   "pygments_lexer": "ipython3",
   "version": "3.7.10"
  }
 },
 "nbformat": 4,
 "nbformat_minor": 5
}
