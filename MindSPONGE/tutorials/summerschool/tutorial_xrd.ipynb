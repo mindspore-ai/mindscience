{
 "cells": [
  {
   "cell_type": "markdown",
   "metadata": {},
   "source": [
    "导入必要的包，并配置环境"
   ]
  },
  {
   "cell_type": "code",
   "execution_count": null,
   "metadata": {},
   "outputs": [],
   "source": [
    "import sys\n",
    "sys.path.insert(0, '../../src')\n",
    "import numpy as np\n",
    "import mindspore as ms\n",
    "\n",
    "from sponge.colvar import XRD3D\n",
    "from sponge import Molecule, WithEnergyCell, ForceField, Sponge, UpdaterMD\n",
    "from sponge.function import VelocityGenerator\n",
    "from sponge.sampling import Metadynamics\n",
    "from sponge.callback import WriteH5MD, RunInfo\n",
    "from sponge.control import Langevin\n",
    "\n",
    "ms.set_context(mode=ms.GRAPH_MODE, device_target='Ascend')"
   ]
  },
  {
   "cell_type": "markdown",
   "metadata": {},
   "source": [
    "第1部分：构建体系与力场"
   ]
  },
  {
   "cell_type": "code",
   "execution_count": null,
   "metadata": {},
   "outputs": [],
   "source": [
    "system = Molecule(template='water.spce.yaml')\n",
    "system.set_pbc_box([1.285/4, 1.285/4, 1.286/4])\n",
    "system.repeat_box([4, 4, 4])\n",
    "coord = np.loadtxt('water_spce_coordinate.txt', dtype=np.float32) / 10\n",
    "system.set_coordianate(coord)\n",
    "\n",
    "ff = ForceField(system, 'SPCE', 0.6)"
   ]
  },
  {
   "cell_type": "markdown",
   "metadata": {},
   "source": [
    "第2部分：构建集合变量与设置MetaDynamics参数"
   ]
  },
  {
   "cell_type": "code",
   "execution_count": null,
   "metadata": {},
   "outputs": [],
   "source": [
    "xrd3d = XRD3D(theta=11.95,\n",
    "              lamb=1.54,\n",
    "              index=[3*i for i in range(64)],\n",
    "              s=0.001,\n",
    "              qi=[1.0]*64,\n",
    "              pbc_box=system.pbc_box)\n",
    "\n",
    "metad = Metadynamics(colvar=xrd3d,\n",
    "                     update_pace=50,\n",
    "                     height=10,\n",
    "                     sigma=0.2,\n",
    "                     grid_min=-1,\n",
    "                     grid_max=8,\n",
    "                     grid_bin=90,\n",
    "                     temperature=230,\n",
    "                     bias_factor=200)"
   ]
  },
  {
   "cell_type": "markdown",
   "metadata": {},
   "source": [
    "第3部分：设置MD模拟参数"
   ]
  },
  {
   "cell_type": "code",
   "execution_count": null,
   "metadata": {},
   "outputs": [],
   "source": [
    "velocity = VelocityGenerator(temperature=230)(system.coordinate.shape, system.atom_mass)\n",
    "optim2 = UpdaterMD(system, time_step=1e-3, velocity=velocity, temperature=230, integrator='leap_frog', thermostat=Langevin(system, 230, time_constant=0.1))\n",
    "run_info = RunInfo(100)\n",
    "write_h5md = WriteH5MD(system, 'test.h5md', 100, write_metrics=True)\n",
    "\n",
    "network = WithEnergyCell(system, ff, metad)\n",
    "md = Sponge(network, optimizer=optim2, metrics={'xrd3d':xrd3d})"
   ]
  },
  {
   "cell_type": "markdown",
   "metadata": {},
   "source": [
    "第4部分：运行MD模拟"
   ]
  },
  {
   "cell_type": "code",
   "execution_count": null,
   "metadata": {},
   "outputs": [],
   "source": [
    "md.run(20000, callbacks=[run_info, write_h5md])"
   ]
  }
 ],
 "metadata": {
  "language_info": {
   "name": "python"
  }
 },
 "nbformat": 4,
 "nbformat_minor": 2
}
