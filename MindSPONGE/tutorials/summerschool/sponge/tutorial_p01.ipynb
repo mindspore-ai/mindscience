{
 "cells": [
  {
   "cell_type": "markdown",
   "metadata": {
    "collapsed": false,
    "pycharm": {
     "name": "#%% md\n"
    }
   },
   "source": [
    "Copyright 2021-2023 @ Shenzhen Bay Laboratory & Peking University & Huawei Technologies Co., Ltd\n",
    "\n",
    "This code is a part of MindSPONGE: MindSpore Simulation Package tOwards Next Generation molecular modelling.\n",
    "\n",
    "MindSPONGE is open-source software based on the AI-framework: MindSpore (https://www.mindspore.cn/)\n",
    "\n",
    "Licensed under the Apache License, Version 2.0 (the \"License\"); you may not use this file except in compliance with the License.\n",
    "\n",
    "You may obtain a copy of the License at http://www.apache.org/licenses/LICENSE-2.0\n",
    "\n",
    "Unless required by applicable law or agreed to in writing, software distributed under the License is distributed on an \"AS IS\" BASIS, WITHOUT WARRANTIES OR CONDITIONS OF ANY KIND, either express or implied.\n",
    "\n",
    "See the License for the specific language governing permissions and limitations under the License.\n",
    "\n",
    "MindSPONGE tutorial protein 01: Load PDB file and do minimization."
   ]
  },
  {
   "cell_type": "code",
   "execution_count": 9,
   "metadata": {
    "collapsed": true,
    "pycharm": {
     "name": "#%%\n"
    }
   },
   "outputs": [],
   "source": [
    "import os\n",
    "os.environ['GLOG_v'] = '4'\n",
    "os.environ['MS_JIT_MODULES'] = 'sponge'\n",
    "from mindspore import context\n",
    "import sys\n",
    "sys.path.append('../../../src')\n",
    "from sponge import Sponge\n",
    "from sponge import ForceField\n",
    "from sponge import set_global_units\n",
    "from sponge.system import Protein\n",
    "from sponge.optimizer import SteepestDescent\n",
    "from sponge.callback import WriteH5MD, RunInfo"
   ]
  },
  {
   "cell_type": "code",
   "execution_count": 10,
   "metadata": {
    "collapsed": false,
    "pycharm": {
     "name": "#%%\n"
    }
   },
   "outputs": [],
   "source": [
    "context.set_context(mode=context.GRAPH_MODE)\n",
    "set_global_units('nm', 'kj/mol')"
   ]
  },
  {
   "cell_type": "markdown",
   "metadata": {},
   "source": [
    "load PDB file"
   ]
  },
  {
   "cell_type": "code",
   "execution_count": 11,
   "metadata": {
    "collapsed": false,
    "pycharm": {
     "name": "#%%\n"
    }
   },
   "outputs": [
    {
     "name": "stdout",
     "output_type": "stream",
     "text": [
      "[MindSPONGE] Adding 57 hydrogen atoms for the protein molecule in 0.007 seconds.\n"
     ]
    }
   ],
   "source": [
    "system = Protein(pdb='./case1.pdb', rebuild_hydrogen=True)\n",
    "energy = ForceField(system, 'AMBER.FF14SB')"
   ]
  },
  {
   "cell_type": "markdown",
   "metadata": {},
   "source": [
    "do minimization"
   ]
  },
  {
   "cell_type": "code",
   "execution_count": 12,
   "metadata": {
    "collapsed": false,
    "pycharm": {
     "name": "#%%\n"
    }
   },
   "outputs": [
    {
     "name": "stdout",
     "output_type": "stream",
     "text": [
      "[MindSPONGE] Started simulation at 2023-08-15 16:18:04\n",
      "[MindSPONGE] Step: 0, E_pot: 5021.522\n",
      "[MindSPONGE] Step: 10, E_pot: 960.6975\n",
      "[MindSPONGE] Step: 20, E_pot: 614.571\n",
      "[MindSPONGE] Step: 30, E_pot: 417.6888\n",
      "[MindSPONGE] Step: 40, E_pot: 284.51123\n",
      "[MindSPONGE] Step: 50, E_pot: 185.45416\n",
      "[MindSPONGE] Step: 60, E_pot: 107.683105\n",
      "[MindSPONGE] Step: 70, E_pot: 44.551086\n",
      "[MindSPONGE] Step: 80, E_pot: -7.8761597\n",
      "[MindSPONGE] Step: 90, E_pot: -52.159973\n",
      "[MindSPONGE] Step: 100, E_pot: -90.079834\n",
      "[MindSPONGE] Step: 110, E_pot: -122.924286\n",
      "[MindSPONGE] Step: 120, E_pot: -151.656\n",
      "[MindSPONGE] Step: 130, E_pot: -177.01083\n",
      "[MindSPONGE] Step: 140, E_pot: -199.55963\n",
      "[MindSPONGE] Step: 150, E_pot: -219.75266\n",
      "[MindSPONGE] Step: 160, E_pot: -237.95001\n",
      "[MindSPONGE] Step: 170, E_pot: -254.44232\n",
      "[MindSPONGE] Step: 180, E_pot: -269.46777\n",
      "[MindSPONGE] Step: 190, E_pot: -283.2216\n",
      "[MindSPONGE] Step: 200, E_pot: -295.86728\n",
      "[MindSPONGE] Step: 210, E_pot: -307.5411\n",
      "[MindSPONGE] Step: 220, E_pot: -318.35864\n",
      "[MindSPONGE] Step: 230, E_pot: -328.41626\n",
      "[MindSPONGE] Step: 240, E_pot: -337.7979\n",
      "[MindSPONGE] Step: 250, E_pot: -346.5738\n",
      "[MindSPONGE] Step: 260, E_pot: -354.80646\n",
      "[MindSPONGE] Step: 270, E_pot: -362.5475\n",
      "[MindSPONGE] Step: 280, E_pot: -369.84302\n",
      "[MindSPONGE] Step: 290, E_pot: -376.73346\n",
      "[MindSPONGE] Step: 300, E_pot: -383.25256\n",
      "[MindSPONGE] Step: 310, E_pot: -389.43152\n",
      "[MindSPONGE] Step: 320, E_pot: -395.29703\n",
      "[MindSPONGE] Step: 330, E_pot: -400.8725\n",
      "[MindSPONGE] Step: 340, E_pot: -406.1794\n",
      "[MindSPONGE] Step: 350, E_pot: -411.23608\n",
      "[MindSPONGE] Step: 360, E_pot: -416.05887\n",
      "[MindSPONGE] Step: 370, E_pot: -420.66324\n",
      "[MindSPONGE] Step: 380, E_pot: -425.06265\n",
      "[MindSPONGE] Step: 390, E_pot: -429.26874\n",
      "[MindSPONGE] Step: 400, E_pot: -433.2934\n",
      "[MindSPONGE] Step: 410, E_pot: -437.14618\n",
      "[MindSPONGE] Step: 420, E_pot: -440.83673\n",
      "[MindSPONGE] Step: 430, E_pot: -444.37366\n",
      "[MindSPONGE] Step: 440, E_pot: -447.76477\n",
      "[MindSPONGE] Step: 450, E_pot: -451.01758\n",
      "[MindSPONGE] Step: 460, E_pot: -454.13907\n",
      "[MindSPONGE] Step: 470, E_pot: -457.1356\n",
      "[MindSPONGE] Step: 480, E_pot: -460.0132\n",
      "[MindSPONGE] Step: 490, E_pot: -462.77768\n",
      "[MindSPONGE] Finished simulation at 2023-08-15 16:18:17\n",
      "[MindSPONGE] Simulation time: 13.47 seconds.\n",
      "--------------------------------------------------------------------------------\n"
     ]
    },
    {
     "data": {
      "text/plain": [
       "<mindsponge.core.sponge.Sponge at 0x7f0ad6a616d0>"
      ]
     },
     "execution_count": 12,
     "metadata": {},
     "output_type": "execute_result"
    }
   ],
   "source": [
    "min_opt = SteepestDescent(system.trainable_params(), 1e-7)\n",
    "md = Sponge(system, energy, min_opt)\n",
    "run_info = RunInfo(10)\n",
    "cb_h5md = WriteH5MD(system, './p01.h5md', save_freq=10, write_image=False)\n",
    "md.run(500, callbacks=[run_info, cb_h5md])"
   ]
  }
 ],
 "metadata": {
  "kernelspec": {
   "display_name": "mindspore-latest",
   "language": "python",
   "name": "python3"
  },
  "language_info": {
   "codemirror_mode": {
    "name": "ipython",
    "version": 3
   },
   "file_extension": ".py",
   "mimetype": "text/x-python",
   "name": "python",
   "nbconvert_exporter": "python",
   "pygments_lexer": "ipython3",
   "version": "3.9.17"
  }
 },
 "nbformat": 4,
 "nbformat_minor": 0
}
