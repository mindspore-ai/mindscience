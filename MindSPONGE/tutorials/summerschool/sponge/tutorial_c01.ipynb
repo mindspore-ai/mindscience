{
 "cells": [
  {
   "cell_type": "markdown",
   "id": "e252a199",
   "metadata": {},
   "source": [
    "## 配置环境变量\n",
    "\n",
    "这里主要添加了本地的MindSponge路径，方便本地的MindSponge和打包安装的MindSponge的协同使用，另外配置了一些简单的环境变量。"
   ]
  },
  {
   "cell_type": "code",
   "execution_count": null,
   "id": "0011c368",
   "metadata": {},
   "outputs": [],
   "source": [
    "import sys\n",
    "sys.path.append('../../../src')\n",
    "import os\n",
    "os.environ['GLOG_v'] = '4'\n",
    "os.environ['MS_JIT_MODULES'] = 'sponge'"
   ]
  },
  {
   "cell_type": "markdown",
   "id": "909c285a",
   "metadata": {},
   "source": [
    "## 导入相关模块\n",
    "\n",
    "导入mindspore和mindsponge两个模块，基本上就可以实现大部分计算的功能。如果需要使用一些第三方库来进行前处理或者后处理，也可以自行添加。"
   ]
  },
  {
   "cell_type": "code",
   "execution_count": 1,
   "id": "initial_id",
   "metadata": {
    "ExecuteTime": {
     "end_time": "2023-08-15T01:29:58.630352328Z",
     "start_time": "2023-08-15T01:29:56.346268179Z"
    },
    "collapsed": true
   },
   "outputs": [],
   "source": [
    "from mindspore import context\n",
    "from mindspore.nn import Adam\n",
    "from sponge import Sponge, Molecule, ForceField, set_global_units\n",
    "from sponge.callback import WriteH5MD, RunInfo"
   ]
  },
  {
   "cell_type": "markdown",
   "id": "ad5ac291",
   "metadata": {},
   "source": [
    "## 设置全局变量\n",
    "\n",
    "一个是全局单位，另一个是选择MindSpore的静态图/动态图构建模式，以及运行的平台，和设备编号等。"
   ]
  },
  {
   "cell_type": "code",
   "execution_count": 2,
   "id": "4a614bdde9f6ac3f",
   "metadata": {
    "ExecuteTime": {
     "end_time": "2023-08-15T01:29:59.497230418Z",
     "start_time": "2023-08-15T01:29:59.493430913Z"
    }
   },
   "outputs": [],
   "source": [
    "set_global_units('nm', 'kj/mol')\n",
    "# context.set_context(mode=context.GRAPH_MODE, device_target='Ascend', device_id=0)\n",
    "context.set_context(mode=context.GRAPH_MODE, device_id=0)"
   ]
  },
  {
   "cell_type": "markdown",
   "id": "bbaeb3cc",
   "metadata": {},
   "source": [
    "## 定义系统\n",
    "\n",
    "Molecule是一个MindSponge中较为基础的分子类型，所有的体系都可以用Molecule这一基础类型来进行定义。如果是MindSponge已经支持的一部分模型，我们可以直接加载这些模型来定义一个分子系统，然后使用reduplicate和copy等方法对系统进行扩展。定义完一个系统之后，可以查看系统的一些属性，比如原子名称和键连关系等。"
   ]
  },
  {
   "cell_type": "code",
   "execution_count": 3,
   "id": "b9360329271909ea",
   "metadata": {
    "ExecuteTime": {
     "end_time": "2023-08-15T01:30:26.771044404Z",
     "start_time": "2023-08-15T01:30:23.212729520Z"
    }
   },
   "outputs": [
    {
     "data": {
      "text/plain": [
       "Molecule<>"
      ]
     },
     "execution_count": 3,
     "metadata": {},
     "output_type": "execute_result"
    }
   ],
   "source": [
    "system = Molecule(template='water.spce.yaml')\n",
    "system.reduplicate([0.3, 0, 0])\n",
    "new_sys = system.copy([0, 0, -0.3])\n",
    "system.append(new_sys)"
   ]
  },
  {
   "cell_type": "code",
   "execution_count": 4,
   "id": "a5bff09a928c1f83",
   "metadata": {
    "ExecuteTime": {
     "end_time": "2023-08-15T01:30:59.208227313Z",
     "start_time": "2023-08-15T01:30:59.147028415Z"
    }
   },
   "outputs": [
    {
     "name": "stdout",
     "output_type": "stream",
     "text": [
      "The atom names in the system is:  [['O' 'H1' 'H2' 'O' 'H1' 'H2' 'O' 'H1' 'H2' 'O' 'H1' 'H2']]\n"
     ]
    }
   ],
   "source": [
    "print('The atom names in the system are: ', system.atom_name)"
   ]
  },
  {
   "cell_type": "code",
   "execution_count": 5,
   "id": "4d904a9a62c3cd5f",
   "metadata": {
    "ExecuteTime": {
     "end_time": "2023-08-15T01:31:39.940225882Z",
     "start_time": "2023-08-15T01:31:39.896194460Z"
    }
   },
   "outputs": [
    {
     "name": "stdout",
     "output_type": "stream",
     "text": [
      "Bonds in the system are:  [[[ 0  1]\n",
      "  [ 0  2]\n",
      "  [ 3  4]\n",
      "  [ 3  5]\n",
      "  [ 6  7]\n",
      "  [ 6  8]\n",
      "  [ 9 10]\n",
      "  [ 9 11]]]\n"
     ]
    }
   ],
   "source": [
    "print('Bonds in the system are: ', system.bonds)"
   ]
  },
  {
   "cell_type": "markdown",
   "id": "5c30955e",
   "metadata": {},
   "source": [
    "## 定义力场\n",
    "\n",
    "这里是非常关键的一步，我们需要通过给定的分子系统，和给定的力场参数，来进行建模。进而可以使用MindSpore内置的优化器，或者我们自定义的优化器/积分器来进行迭代。最后使用Sponge类将系统、力场和迭代器封装起来，就完成了一个分子迭代器的定义。而在迭代过程中的每一步，都是可以微分的，也都可以追溯其单点能。"
   ]
  },
  {
   "cell_type": "code",
   "execution_count": 6,
   "id": "6dfb066a9fd560a4",
   "metadata": {
    "ExecuteTime": {
     "end_time": "2023-08-15T01:32:36.622731465Z",
     "start_time": "2023-08-15T01:32:35.714956088Z"
    }
   },
   "outputs": [],
   "source": [
    "potential = ForceField(system, parameters='SPCE')\n",
    "opt = Adam(system.trainable_params(), 1e-3)\n",
    "mini = Sponge(system, potential, opt)"
   ]
  },
  {
   "cell_type": "code",
   "execution_count": 7,
   "id": "6129dc53bcf9b063",
   "metadata": {
    "ExecuteTime": {
     "end_time": "2023-08-15T01:33:47.037522066Z",
     "start_time": "2023-08-15T01:33:45.198605205Z"
    }
   },
   "outputs": [
    {
     "name": "stdout",
     "output_type": "stream",
     "text": [
      "The single point energy of given system is:  [[110.0423]]\n"
     ]
    }
   ],
   "source": [
    "print('The single point energy of given system is: ', mini.calc_energy())"
   ]
  },
  {
   "cell_type": "code",
   "execution_count": 9,
   "id": "dea36193966454a9",
   "metadata": {
    "ExecuteTime": {
     "end_time": "2023-08-15T01:36:01.568672072Z",
     "start_time": "2023-08-15T01:36:01.430654443Z"
    }
   },
   "outputs": [
    {
     "name": "stdout",
     "output_type": "stream",
     "text": [
      "The bond_energy energy is: 3.8302694e-11\n",
      "The angle_energy energy is: 2.7213787e-11\n",
      "The coulomb_energy energy is: 105.32028\n",
      "The lj_energy energy is: 4.7220154\n"
     ]
    }
   ],
   "source": [
    "energy_names = mini.energy_names\n",
    "energies = mini.calc_energies()\n",
    "for i, name in enumerate(energy_names):\n",
    "    print('The {} energy is: {}'.format(name, energies[0][i]))"
   ]
  },
  {
   "cell_type": "markdown",
   "id": "6547320e",
   "metadata": {},
   "source": [
    "## 回调方法\n",
    "\n",
    "MindSponge不仅仅支持基础的RunInfo，将每一步的能量输出到屏幕上，还支持了hdf5格式的轨迹文件输出。这种hdf5格式的输出，既可以使用silx-view这一工具来查看，也可以在构建安装好相关的VMD插件之后，使用VMD来进行动态可视化。"
   ]
  },
  {
   "cell_type": "code",
   "execution_count": 10,
   "id": "f53866d0b7a5039f",
   "metadata": {
    "ExecuteTime": {
     "end_time": "2023-08-15T01:37:26.637551056Z",
     "start_time": "2023-08-15T01:37:20.959192459Z"
    }
   },
   "outputs": [
    {
     "name": "stdout",
     "output_type": "stream",
     "text": [
      "[MindSPONGE] Started simulation at 2023-08-15 09:37:20\n",
      "Warning! The optimizer \"Adam<>\" does not has the attribute \"velocity\".\n",
      "[MindSPONGE] Step: 0, E_pot: 110.0423\n",
      "[MindSPONGE] Step: 50, E_pot: 46.733253\n",
      "[MindSPONGE] Step: 100, E_pot: -40.781235\n",
      "[MindSPONGE] Step: 150, E_pot: -86.66056\n",
      "[MindSPONGE] Step: 200, E_pot: -148.19458\n",
      "[MindSPONGE] Step: 250, E_pot: -148.3973\n",
      "[MindSPONGE] Step: 300, E_pot: -148.40488\n",
      "[MindSPONGE] Step: 350, E_pot: -148.40501\n",
      "[MindSPONGE] Step: 400, E_pot: -148.40486\n",
      "[MindSPONGE] Step: 450, E_pot: -148.40503\n",
      "[MindSPONGE] Finished simulation at 2023-08-15 09:37:26\n",
      "[MindSPONGE] Simulation time: 5.62 seconds.\n",
      "--------------------------------------------------------------------------------\n"
     ]
    },
    {
     "data": {
      "text/plain": [
       "<mindsponge.core.sponge.Sponge at 0x7ff0303b3f90>"
      ]
     },
     "execution_count": 10,
     "metadata": {},
     "output_type": "execute_result"
    }
   ],
   "source": [
    "run_info = RunInfo(50)\n",
    "cb_h5md = WriteH5MD(system, 'tutorial_c01.h5md', save_freq=50, write_velocity=True, write_force=True)\n",
    "mini.run(500, callbacks=[run_info, cb_h5md])"
   ]
  }
 ],
 "metadata": {
  "kernelspec": {
   "display_name": "Python 3 (ipykernel)",
   "language": "python",
   "name": "python3"
  },
  "language_info": {
   "codemirror_mode": {
    "name": "ipython",
    "version": 3
   },
   "file_extension": ".py",
   "mimetype": "text/x-python",
   "name": "python",
   "nbconvert_exporter": "python",
   "pygments_lexer": "ipython3",
   "version": "3.9.5"
  }
 },
 "nbformat": 4,
 "nbformat_minor": 5
}
