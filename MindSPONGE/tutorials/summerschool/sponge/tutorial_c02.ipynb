{
 "cells": [
  {
   "cell_type": "code",
   "execution_count": 1,
   "id": "initial_id",
   "metadata": {
    "ExecuteTime": {
     "end_time": "2023-08-15T02:03:06.614628166Z",
     "start_time": "2023-08-15T02:03:06.497434066Z"
    },
    "collapsed": true
   },
   "outputs": [],
   "source": [
    "import sys\n",
    "sys.path.append('../../../src')\n",
    "import os\n",
    "os.environ['GLOG_v'] = '4'\n",
    "os.environ['MS_JIT_MODULES'] = 'sponge'"
   ]
  },
  {
   "cell_type": "code",
   "execution_count": 2,
   "id": "3ba900101e319c36",
   "metadata": {
    "ExecuteTime": {
     "end_time": "2023-08-15T02:03:08.744375006Z",
     "start_time": "2023-08-15T02:03:06.498085361Z"
    }
   },
   "outputs": [],
   "source": [
    "from mindspore import context\n",
    "from mindspore.nn import Adam\n",
    "from sponge import Sponge, Molecule, ForceField, UpdaterMD\n",
    "from sponge import WithEnergyCell, set_global_units\n",
    "from sponge.potential import SphericalRestrict\n",
    "from sponge.function import VelocityGenerator\n",
    "from sponge.callback import WriteH5MD, RunInfo"
   ]
  },
  {
   "cell_type": "code",
   "execution_count": 3,
   "id": "8197fa81db13c4dd",
   "metadata": {
    "ExecuteTime": {
     "end_time": "2023-08-15T02:03:08.766873277Z",
     "start_time": "2023-08-15T02:03:08.748843997Z"
    }
   },
   "outputs": [],
   "source": [
    "set_global_units('nm', 'kj/mol')\n",
    "# context.set_context(mode=context.GRAPH_MODE, device_target='Ascend', device_id=0)\n",
    "context.set_context(mode=context.GRAPH_MODE, device_id=0)"
   ]
  },
  {
   "cell_type": "markdown",
   "id": "57169a8c",
   "metadata": {},
   "source": [
    "## 系统的扩展\n",
    "\n",
    "如果使用reduplicate，系统会在内部进行扩展，但是如果使用copy，则会产生一个新的分子系统。也因此，连续扩展6次之后的系统，具有$2^6=64$个水分子，也就是192个原子。"
   ]
  },
  {
   "cell_type": "code",
   "execution_count": 4,
   "id": "94da6bdcd692a466",
   "metadata": {
    "ExecuteTime": {
     "end_time": "2023-08-15T02:03:13.005019753Z",
     "start_time": "2023-08-15T02:03:08.755588205Z"
    }
   },
   "outputs": [
    {
     "data": {
      "text/plain": [
       "Molecule<>"
      ]
     },
     "execution_count": 4,
     "metadata": {},
     "output_type": "execute_result"
    }
   ],
   "source": [
    "system = Molecule(template='water.tip3p.yaml')\n",
    "system.reduplicate([0.3, 0, 0])\n",
    "system.reduplicate([0, 0.3, 0])\n",
    "system.reduplicate([0, 0, 0.3])\n",
    "system.reduplicate([-0.6, 0, 0])\n",
    "system.reduplicate([0, -0.6, 0])\n",
    "system.reduplicate([0, 0, -0.6])"
   ]
  },
  {
   "cell_type": "code",
   "execution_count": 5,
   "id": "52fc48a11402e641",
   "metadata": {
    "ExecuteTime": {
     "end_time": "2023-08-15T02:03:13.005983600Z",
     "start_time": "2023-08-15T02:03:12.995190689Z"
    }
   },
   "outputs": [
    {
     "name": "stdout",
     "output_type": "stream",
     "text": [
      "The total number of atoms in system is:  192\n"
     ]
    }
   ],
   "source": [
    "print('The total number of atoms in system is: ', system.num_atoms)"
   ]
  },
  {
   "cell_type": "markdown",
   "id": "d94cebf1",
   "metadata": {},
   "source": [
    "## 优化器的选择\n",
    "\n",
    "一般在给定初始构象之后，都会先使用优化器对构象进行初步的优化，再进行分子动力学模拟。常用的优化器有Adam和自定义的梯度下降SteepDescent等，如果使用自定义的优化器，还可以设置为局部的优化，比如可以只优化氢原子。"
   ]
  },
  {
   "cell_type": "code",
   "execution_count": 6,
   "id": "e3e191f28122f280",
   "metadata": {
    "ExecuteTime": {
     "end_time": "2023-08-15T02:03:19.183638612Z",
     "start_time": "2023-08-15T02:03:13.003240739Z"
    }
   },
   "outputs": [
    {
     "name": "stdout",
     "output_type": "stream",
     "text": [
      "[MindSPONGE] Started simulation at 2023-08-15 10:03:14\n",
      "[MindSPONGE] Step: 0, E_pot: 1874.9269\n",
      "[MindSPONGE] Step: 50, E_pot: 219.15038\n",
      "[MindSPONGE] Step: 100, E_pot: -1060.1877\n",
      "[MindSPONGE] Step: 150, E_pot: -1696.2368\n",
      "[MindSPONGE] Step: 200, E_pot: -2013.583\n",
      "[MindSPONGE] Step: 250, E_pot: -2225.9272\n",
      "[MindSPONGE] Step: 300, E_pot: -2384.5051\n",
      "[MindSPONGE] Step: 350, E_pot: -2534.3154\n",
      "[MindSPONGE] Step: 400, E_pot: -2589.748\n",
      "[MindSPONGE] Step: 450, E_pot: -2608.951\n",
      "[MindSPONGE] Finished simulation at 2023-08-15 10:03:19\n",
      "[MindSPONGE] Simulation time: 5.14 seconds.\n",
      "--------------------------------------------------------------------------------\n"
     ]
    },
    {
     "data": {
      "text/plain": [
       "<mindsponge.core.sponge.Sponge at 0x7f1230755490>"
      ]
     },
     "execution_count": 6,
     "metadata": {},
     "output_type": "execute_result"
    }
   ],
   "source": [
    "potential = ForceField(system, parameters='TIP3P')\n",
    "\n",
    "opt = Adam(system.trainable_params(), 1e-3)\n",
    "mini = Sponge(system, potential, opt)\n",
    "\n",
    "run_info = RunInfo(50)\n",
    "mini.run(500, callbacks=[run_info])"
   ]
  },
  {
   "cell_type": "markdown",
   "id": "12750986",
   "metadata": {},
   "source": [
    "## 控温控压\n",
    "\n",
    "使用优化器对分子系统进行初步的优化之后，就可以使用UpdaterMD去定义一些分子动力学过程。常用的配置参数有：迭代步长、初始速度、积分器、控温算法、控压算法和约束算法等。前者讲到我们可以使用系统、优化器和迭代器三者来定义一个Sponge对象，此外我们还可以先使用WithEnergyCell来封装一个能量函数，然后用能量和优化器的方法来定义一个Sponge对象。这么做的好处是，我们可以在能量函数中增加bias偏置项，用于实现一些软约束算法，或者是增强采样算法，在如下案例中，我们添加了一个自定义的球形谐振子势软约束。"
   ]
  },
  {
   "cell_type": "code",
   "execution_count": 7,
   "id": "3933365d01885e27",
   "metadata": {
    "ExecuteTime": {
     "end_time": "2023-08-15T02:08:52.874935107Z",
     "start_time": "2023-08-15T02:07:38.047799181Z"
    }
   },
   "outputs": [
    {
     "name": "stdout",
     "output_type": "stream",
     "text": [
      "[MindSPONGE] The settle constraint is used for the molecule system.\n",
      "[MindSPONGE] Started simulation at 2023-08-15 10:07:39\n",
      "[MindSPONGE] Step: 0, E_pot: 6647.012, E_kin: 676.11835, E_tot: 7323.1304, Temperature: 283.83365\n",
      "[MindSPONGE] Step: 200, E_pot: -968.53015, E_kin: 2078.7773, E_tot: 1110.2472, Temperature: 1312.4381\n",
      "[MindSPONGE] Step: 400, E_pot: -1459.1447, E_kin: 1066.3557, E_tot: -392.78894, Temperature: 673.2447\n",
      "[MindSPONGE] Step: 600, E_pot: -1692.3256, E_kin: 698.86975, E_tot: -993.4558, Temperature: 441.23212\n",
      "[MindSPONGE] Step: 800, E_pot: -1946.2815, E_kin: 532.20245, E_tot: -1414.0791, Temperature: 336.00653\n",
      "[MindSPONGE] Step: 1000, E_pot: -2132.5386, E_kin: 429.04474, E_tot: -1703.4939, Temperature: 270.8778\n",
      "[MindSPONGE] Step: 1200, E_pot: -2229.7974, E_kin: 341.96985, E_tot: -1887.8275, Temperature: 215.90298\n",
      "[MindSPONGE] Step: 1400, E_pot: -2359.7773, E_kin: 379.95728, E_tot: -1979.8201, Temperature: 239.8864\n",
      "[MindSPONGE] Step: 1600, E_pot: -2423.409, E_kin: 316.2953, E_tot: -2107.1138, Temperature: 199.69333\n",
      "[MindSPONGE] Step: 1800, E_pot: -2441.505, E_kin: 289.88733, E_tot: -2151.6177, Temperature: 183.02065\n",
      "[MindSPONGE] Finished simulation at 2023-08-15 10:08:52\n",
      "[MindSPONGE] Simulation time: 1 minutes 13.7 seconds.\n",
      "--------------------------------------------------------------------------------\n"
     ]
    },
    {
     "data": {
      "text/plain": [
       "<mindsponge.core.sponge.Sponge at 0x7f123040f310>"
      ]
     },
     "execution_count": 7,
     "metadata": {},
     "output_type": "execute_result"
    }
   ],
   "source": [
    "temp = 300\n",
    "vgen = VelocityGenerator(temp)\n",
    "velocity = vgen(system.shape, system.atom_mass)\n",
    "\n",
    "updater = UpdaterMD(\n",
    "    system=system,\n",
    "    time_step=1e-3,\n",
    "    velocity=velocity,\n",
    "    integrator='velocity_verlet',\n",
    "    temperature=300,\n",
    "    thermostat='langevin',\n",
    "    constraint='all-bonds'\n",
    ")\n",
    "\n",
    "sim = WithEnergyCell(system, potential, bias=SphericalRestrict(radius=1.0, center=[0, 0, 0]))\n",
    "md = Sponge(sim, optimizer=updater)\n",
    "\n",
    "run_info = RunInfo(200)\n",
    "cb_h5md = WriteH5MD(system, 'tutorial_c02.h5md', save_freq=200, write_velocity=True, write_force=True)\n",
    "\n",
    "md.run(2000, callbacks=[run_info, cb_h5md])"
   ]
  }
 ],
 "metadata": {
  "kernelspec": {
   "display_name": "Python 3 (ipykernel)",
   "language": "python",
   "name": "python3"
  },
  "language_info": {
   "codemirror_mode": {
    "name": "ipython",
    "version": 3
   },
   "file_extension": ".py",
   "mimetype": "text/x-python",
   "name": "python",
   "nbconvert_exporter": "python",
   "pygments_lexer": "ipython3",
   "version": "3.9.5"
  }
 },
 "nbformat": 4,
 "nbformat_minor": 5
}
