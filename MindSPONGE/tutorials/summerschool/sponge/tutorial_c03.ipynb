{
 "cells": [
  {
   "cell_type": "code",
   "execution_count": 1,
   "id": "initial_id",
   "metadata": {
    "ExecuteTime": {
     "end_time": "2023-08-15T02:23:59.822212318Z",
     "start_time": "2023-08-15T02:23:59.821277099Z"
    },
    "collapsed": true
   },
   "outputs": [],
   "source": [
    "import sys\n",
    "sys.path.append('../../../src')\n",
    "import os\n",
    "os.environ['GLOG_v'] = '4'\n",
    "os.environ['MS_JIT_MODULES'] = 'sponge'"
   ]
  },
  {
   "cell_type": "code",
   "execution_count": 2,
   "id": "a910b8c2002946d3",
   "metadata": {
    "ExecuteTime": {
     "end_time": "2023-08-15T02:24:03.215308030Z",
     "start_time": "2023-08-15T02:24:00.915290860Z"
    }
   },
   "outputs": [],
   "source": [
    "from mindspore import context\n",
    "from mindspore.nn import Adam\n",
    "from sponge import Sponge, Molecule, ForceField, UpdaterMD, WithEnergyCell, set_global_units\n",
    "from sponge.function import VelocityGenerator\n",
    "from sponge.callback import WriteH5MD, RunInfo"
   ]
  },
  {
   "cell_type": "code",
   "execution_count": 3,
   "id": "eac9eb43ae346279",
   "metadata": {
    "ExecuteTime": {
     "end_time": "2023-08-15T02:24:03.927054294Z",
     "start_time": "2023-08-15T02:24:03.918889302Z"
    }
   },
   "outputs": [],
   "source": [
    "set_global_units('nm', 'kj/mol')\n",
    "# context.set_context(mode=context.GRAPH_MODE, device_target='Ascend', device_id=0)\n",
    "context.set_context(mode=context.GRAPH_MODE, device_id=0)"
   ]
  },
  {
   "cell_type": "markdown",
   "id": "288ba496",
   "metadata": {},
   "source": [
    "## 周期性边界条件\n",
    "\n",
    "对于没有周期性的体系来说，我们用reduplicate和copy就可以实现系统的扩展，但是对于有周期性边界条件的系统而言，我们需要以box为单位进行复制，然后合成一个大的box。比如这里我们先用一个盒子的空间来定义一个水分子，然后把这个box向指定方向扩展5\\*5\\*5=125个盒子。也就得到了125个水分子，一共375个原子。"
   ]
  },
  {
   "cell_type": "code",
   "execution_count": 4,
   "id": "734cb9ddde532a89",
   "metadata": {
    "ExecuteTime": {
     "end_time": "2023-08-15T02:24:08.717660485Z",
     "start_time": "2023-08-15T02:24:04.805264727Z"
    }
   },
   "outputs": [
    {
     "data": {
      "text/plain": [
       "Molecule<>"
      ]
     },
     "execution_count": 4,
     "metadata": {},
     "output_type": "execute_result"
    }
   ],
   "source": [
    "system = Molecule(template='water.tip3p.yaml')\n",
    "system.set_pbc_box([0.4, 0.4, 0.4])\n",
    "system.repeat_box([5, 5, 5])"
   ]
  },
  {
   "cell_type": "code",
   "execution_count": 5,
   "id": "2e6b30ace73772b0",
   "metadata": {
    "ExecuteTime": {
     "end_time": "2023-08-15T02:24:47.585973072Z",
     "start_time": "2023-08-15T02:24:47.542768468Z"
    }
   },
   "outputs": [
    {
     "name": "stdout",
     "output_type": "stream",
     "text": [
      "The total number of atoms is:  375\n"
     ]
    }
   ],
   "source": [
    "print('The total number of atoms is: ', system.num_atoms)"
   ]
  },
  {
   "cell_type": "markdown",
   "id": "d3e801f3",
   "metadata": {},
   "source": [
    "## 能量极小化\n",
    "\n",
    "跟前面的案例一样的流程，需要先做能量极小化。"
   ]
  },
  {
   "cell_type": "code",
   "execution_count": 6,
   "id": "b472cce1ffd1de74",
   "metadata": {
    "ExecuteTime": {
     "end_time": "2023-08-15T02:25:13.615290914Z",
     "start_time": "2023-08-15T02:25:04.355213591Z"
    }
   },
   "outputs": [
    {
     "name": "stdout",
     "output_type": "stream",
     "text": [
      "[MindSPONGE] Started simulation at 2023-08-15 10:25:06\n",
      "[MindSPONGE] Step: 0, E_pot: 11003.434\n",
      "[MindSPONGE] Step: 50, E_pot: 9806.189\n",
      "[MindSPONGE] Step: 100, E_pot: 9562.136\n",
      "[MindSPONGE] Step: 150, E_pot: 9351.428\n",
      "[MindSPONGE] Step: 200, E_pot: 9075.849\n",
      "[MindSPONGE] Step: 250, E_pot: 8433.691\n",
      "[MindSPONGE] Step: 300, E_pot: 7907.46\n",
      "[MindSPONGE] Step: 350, E_pot: 7528.109\n",
      "[MindSPONGE] Step: 400, E_pot: 7182.771\n",
      "[MindSPONGE] Step: 450, E_pot: 6916.277\n",
      "[MindSPONGE] Finished simulation at 2023-08-15 10:25:13\n",
      "[MindSPONGE] Simulation time: 6.86 seconds.\n",
      "--------------------------------------------------------------------------------\n"
     ]
    },
    {
     "data": {
      "text/plain": [
       "<mindsponge.core.sponge.Sponge at 0x7fdda8416490>"
      ]
     },
     "execution_count": 6,
     "metadata": {},
     "output_type": "execute_result"
    }
   ],
   "source": [
    "potential = ForceField(system, parameters=['TIP3P'], use_pme=True)\n",
    "opt = Adam(system.trainable_params(), 1e-3)\n",
    "sim = WithEnergyCell(system, potential)\n",
    "mini = Sponge(sim, optimizer=opt)\n",
    "run_info = RunInfo(50)\n",
    "mini.run(500, callbacks=[run_info])"
   ]
  },
  {
   "cell_type": "markdown",
   "id": "68b1a849",
   "metadata": {},
   "source": [
    "## NVT、NPT模拟\n",
    "\n",
    "如果在UpdaterMD中指定temperature，就可以实现控温，也可以通过thermostat来配置控温算法，这里选择的是郎之万控温算法。如果不配置pressure的话，就是NVT模拟，不会对box进行调整。如果配置了pressure参数，就是一个NPT模拟过程，就会在模拟的过程中不断的变化box来控制压强。"
   ]
  },
  {
   "cell_type": "code",
   "execution_count": 7,
   "id": "2b391cb167cabd3b",
   "metadata": {
    "ExecuteTime": {
     "end_time": "2023-08-15T02:26:22.204455245Z",
     "start_time": "2023-08-15T02:25:54.715294270Z"
    }
   },
   "outputs": [
    {
     "name": "stdout",
     "output_type": "stream",
     "text": [
      "[MindSPONGE] Started simulation at 2023-08-15 10:25:55\n",
      "[MindSPONGE] Step: 0, E_pot: 6720.9424, E_kin: 1428.5167, E_tot: 8149.459, Temperature: 306.25858, Pressure: -1119.9005, Volume: 8.0\n",
      "[MindSPONGE] Step: 200, E_pot: 7209.6904, E_kin: 1165.6301, E_tot: 8375.32, Temperature: 249.89856, Pressure: -95.48153, Volume: 8.0\n",
      "[MindSPONGE] Step: 400, E_pot: 7137.53, E_kin: 1399.1545, E_tot: 8536.685, Temperature: 299.96368, Pressure: -2372.6106, Volume: 8.0\n",
      "[MindSPONGE] Step: 600, E_pot: 7240.3726, E_kin: 1376.6489, E_tot: 8617.021, Temperature: 295.1387, Pressure: -1466.1366, Volume: 8.0\n",
      "[MindSPONGE] Step: 800, E_pot: 7220.04, E_kin: 1449.6494, E_tot: 8669.689, Temperature: 310.78925, Pressure: -2747.711, Volume: 8.0\n",
      "[MindSPONGE] Step: 1000, E_pot: 7111.4424, E_kin: 1447.9503, E_tot: 8559.393, Temperature: 310.42496, Pressure: -1074.3214, Volume: 8.0\n",
      "[MindSPONGE] Step: 1200, E_pot: 6992.012, E_kin: 1443.3613, E_tot: 8435.373, Temperature: 309.44113, Pressure: -521.65826, Volume: 8.0\n",
      "[MindSPONGE] Step: 1400, E_pot: 7072.8022, E_kin: 1343.4934, E_tot: 8416.296, Temperature: 288.03052, Pressure: -1878.6239, Volume: 8.0\n",
      "[MindSPONGE] Step: 1600, E_pot: 7071.7734, E_kin: 1385.0679, E_tot: 8456.842, Temperature: 296.94363, Pressure: -620.4525, Volume: 8.0\n",
      "[MindSPONGE] Step: 1800, E_pot: 7057.519, E_kin: 1387.166, E_tot: 8444.686, Temperature: 297.39346, Pressure: 821.61475, Volume: 8.0\n",
      "[MindSPONGE] Finished simulation at 2023-08-15 10:26:22\n",
      "[MindSPONGE] Simulation time: 26.98 seconds.\n",
      "--------------------------------------------------------------------------------\n"
     ]
    },
    {
     "data": {
      "text/plain": [
       "<mindsponge.core.sponge.Sponge at 0x7fdda8416490>"
      ]
     },
     "execution_count": 7,
     "metadata": {},
     "output_type": "execute_result"
    }
   ],
   "source": [
    "temp = 300\n",
    "vgen = VelocityGenerator(temp)\n",
    "velocity = vgen(system.shape, system.atom_mass)\n",
    "\n",
    "nvt = UpdaterMD(\n",
    "    system=system,\n",
    "    time_step=1e-3,\n",
    "    velocity=velocity,\n",
    "    integrator='velocity_verlet',\n",
    "    temperature=300,\n",
    "    thermostat='langevin',\n",
    ")\n",
    "md = mini.change_optimizer(nvt)\n",
    "\n",
    "run_info = RunInfo(200)\n",
    "cb_h5md = WriteH5MD(system, 'tutorial_c03_nvt.h5md', save_freq=200, write_velocity=True, write_force=True)\n",
    "md.run(2000, callbacks=[run_info, cb_h5md])"
   ]
  },
  {
   "cell_type": "code",
   "execution_count": 8,
   "id": "4b77971e74680d6e",
   "metadata": {
    "ExecuteTime": {
     "end_time": "2023-08-15T02:26:58.733913043Z",
     "start_time": "2023-08-15T02:26:30.692299534Z"
    }
   },
   "outputs": [
    {
     "name": "stdout",
     "output_type": "stream",
     "text": [
      "[MindSPONGE] Started simulation at 2023-08-15 10:26:30\n",
      "[MindSPONGE] Step: 0, E_pot: 7046.3394, E_kin: 1428.5167, E_tot: 8474.856, Temperature: 306.25858, Pressure: -1771.9061, Volume: 8.0\n",
      "[MindSPONGE] Step: 200, E_pot: 7087.521, E_kin: 1439.8352, E_tot: 8527.356, Temperature: 308.68518, Pressure: 921.82355, Volume: 7.9263415\n",
      "[MindSPONGE] Step: 400, E_pot: 7014.917, E_kin: 1370.981, E_tot: 8385.898, Temperature: 293.92355, Pressure: -1167.0834, Volume: 7.863459\n",
      "[MindSPONGE] Step: 600, E_pot: 6992.448, E_kin: 1437.8881, E_tot: 8430.336, Temperature: 308.2677, Pressure: -1167.8602, Volume: 7.8318396\n",
      "[MindSPONGE] Step: 800, E_pot: 7092.685, E_kin: 1295.2793, E_tot: 8387.965, Temperature: 277.69394, Pressure: -799.5288, Volume: 7.7849855\n",
      "[MindSPONGE] Step: 1000, E_pot: 6919.3228, E_kin: 1484.2681, E_tot: 8403.591, Temperature: 318.2111, Pressure: -2241.4954, Volume: 7.7078714\n",
      "[MindSPONGE] Step: 1200, E_pot: 6891.2686, E_kin: 1403.2451, E_tot: 8294.514, Temperature: 300.84064, Pressure: -1019.2983, Volume: 7.6695848\n",
      "[MindSPONGE] Step: 1400, E_pot: 6902.6616, E_kin: 1289.456, E_tot: 8192.117, Temperature: 276.44547, Pressure: -1639.7272, Volume: 7.58549\n",
      "[MindSPONGE] Step: 1600, E_pot: 6804.302, E_kin: 1498.2622, E_tot: 8302.564, Temperature: 321.21127, Pressure: -1352.9657, Volume: 7.511818\n",
      "[MindSPONGE] Step: 1800, E_pot: 6771.3438, E_kin: 1410.7653, E_tot: 8182.109, Temperature: 302.45288, Pressure: -1062.3917, Volume: 7.467991\n",
      "[MindSPONGE] Finished simulation at 2023-08-15 10:26:58\n",
      "[MindSPONGE] Simulation time: 27.77 seconds.\n",
      "--------------------------------------------------------------------------------\n"
     ]
    },
    {
     "data": {
      "text/plain": [
       "<mindsponge.core.sponge.Sponge at 0x7fdda8416490>"
      ]
     },
     "execution_count": 8,
     "metadata": {},
     "output_type": "execute_result"
    }
   ],
   "source": [
    "npt = UpdaterMD(\n",
    "    system=system,\n",
    "    time_step=1e-3,\n",
    "    velocity=velocity,\n",
    "    integrator='velocity_verlet',\n",
    "    temperature=300,\n",
    "    pressure=1,\n",
    "    thermostat='langevin',\n",
    ")\n",
    "md.change_optimizer(npt)\n",
    "\n",
    "run_info = RunInfo(200)\n",
    "cb_h5md = WriteH5MD(system, 'tutorial_c03_npt.h5md', save_freq=200, write_velocity=True, write_force=True)\n",
    "md.run(2000, callbacks=[run_info, cb_h5md])"
   ]
  },
  {
   "cell_type": "code",
   "execution_count": 9,
   "id": "74c3e3ecd2453e42",
   "metadata": {
    "ExecuteTime": {
     "end_time": "2023-08-15T02:27:01.042661977Z",
     "start_time": "2023-08-15T02:27:00.997224052Z"
    }
   },
   "outputs": [
    {
     "name": "stdout",
     "output_type": "stream",
     "text": [
      "The final pbc box is: [[1.9481812 1.9481812 1.9481812]]\n"
     ]
    }
   ],
   "source": [
    "print('The final pbc box is: {}'.format(system.pbc_box.asnumpy()))"
   ]
  }
 ],
 "metadata": {
  "kernelspec": {
   "display_name": "Python 3 (ipykernel)",
   "language": "python",
   "name": "python3"
  },
  "language_info": {
   "codemirror_mode": {
    "name": "ipython",
    "version": 3
   },
   "file_extension": ".py",
   "mimetype": "text/x-python",
   "name": "python",
   "nbconvert_exporter": "python",
   "pygments_lexer": "ipython3",
   "version": "3.9.5"
  }
 },
 "nbformat": 4,
 "nbformat_minor": 5
}
