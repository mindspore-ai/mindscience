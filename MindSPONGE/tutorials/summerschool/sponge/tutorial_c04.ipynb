{
 "cells": [
  {
   "cell_type": "code",
   "execution_count": 1,
   "id": "initial_id",
   "metadata": {
    "ExecuteTime": {
     "end_time": "2023-08-15T02:29:17.350088689Z",
     "start_time": "2023-08-15T02:29:17.349144578Z"
    },
    "collapsed": true
   },
   "outputs": [],
   "source": [
    "import sys\n",
    "sys.path.append('../../../src')\n",
    "import os\n",
    "os.environ['GLOG_v'] = '4'\n",
    "os.environ['MS_JIT_MODULES'] = 'sponge'"
   ]
  },
  {
   "cell_type": "code",
   "execution_count": 2,
   "id": "ba19dbea7db2dda8",
   "metadata": {
    "ExecuteTime": {
     "end_time": "2023-08-15T02:29:44.637501014Z",
     "start_time": "2023-08-15T02:29:42.264675988Z"
    }
   },
   "outputs": [],
   "source": [
    "from mindspore import context, nn\n",
    "from sponge import ForceField, set_global_units, WithEnergyCell, UpdaterMD\n",
    "from sponge.system import get_molecule\n",
    "from sponge.control import SETTLE, LeapFrog, Langevin\n",
    "from sponge.core import Sponge\n",
    "from sponge.callback import WriteH5MD, RunInfo\n",
    "from sponge.function import VelocityGenerator"
   ]
  },
  {
   "cell_type": "code",
   "execution_count": 3,
   "id": "cfc18defcf80251c",
   "metadata": {
    "ExecuteTime": {
     "end_time": "2023-08-15T02:29:51.749480802Z",
     "start_time": "2023-08-15T02:29:51.705363182Z"
    }
   },
   "outputs": [],
   "source": [
    "set_global_units('nm', 'kj/mol')\n",
    "# context.set_context(mode=context.GRAPH_MODE, device_target='Ascend', device_id=0)\n",
    "context.set_context(mode=context.GRAPH_MODE, device_id=0)"
   ]
  },
  {
   "cell_type": "markdown",
   "id": "ef636923",
   "metadata": {},
   "source": [
    "## 从文件中导入的分子\n",
    "\n",
    "MindSponge支持了pdb文件和mol2格式文件的分子输入，如果是纯蛋白体系，可以使用MindSponge中自带的Protein来加载一个pdb文件。如果是混合体系的pdb文件，可以通过一个get_molecule的函数来进行加载，得到的也是一个Molecule的基础类型。在mol对象可以调用内部函数来进行填充水分子的操作，可以指定盒子，或者指定边缘宽度，都是支持的。"
   ]
  },
  {
   "cell_type": "code",
   "execution_count": 5,
   "id": "16eed00798851005",
   "metadata": {
    "ExecuteTime": {
     "end_time": "2023-08-15T02:30:43.665518241Z",
     "start_time": "2023-08-15T02:30:37.744453859Z"
    }
   },
   "outputs": [
    {
     "name": "stdout",
     "output_type": "stream",
     "text": [
      "[MindSPONGE] Adding 57 hydrogen atoms for the protein molecule in 0.01 seconds.\n",
      "[MindSPONGE] The box size used when filling water is: [2.1184928 2.285693  1.549593 ]\n",
      "[MindSPONGE] The edge gap along x axis is 0.4.\n",
      "[MindSPONGE] The edge gap along y axis is 0.3999999523162842.\n",
      "[MindSPONGE] The edge gap along z axis is 0.4.\n",
      "[MindSPONGE] Totally 172 waters is added to the system!\n",
      "[MindSPONGE] Adding water molecule task finished!\n"
     ]
    },
    {
     "data": {
      "text/plain": [
       "_MoleculeFromPDB<>"
      ]
     },
     "execution_count": 5,
     "metadata": {},
     "output_type": "execute_result"
    }
   ],
   "source": [
    "pdb_name = './case1.pdb'\n",
    "out_pdb = './case1_add_water.pdb'\n",
    "\n",
    "mol = get_molecule(pdb_name, template=['protein0.yaml'], rebuild_hydrogen=True)\n",
    "mol.fill_water(edge=0.4, template='water.tip3p.yaml', pdb_out=out_pdb)"
   ]
  },
  {
   "cell_type": "code",
   "execution_count": 6,
   "id": "1ad9d936e3b9b321",
   "metadata": {
    "ExecuteTime": {
     "end_time": "2023-08-15T02:30:59.078043089Z",
     "start_time": "2023-08-15T02:30:59.036213409Z"
    }
   },
   "outputs": [
    {
     "name": "stdout",
     "output_type": "stream",
     "text": [
      "The total number of atoms is:  573\n"
     ]
    }
   ],
   "source": [
    "print('The total number of atoms is: ', mol.num_atoms)"
   ]
  },
  {
   "cell_type": "code",
   "execution_count": 7,
   "id": "92f21c961c16fe2f",
   "metadata": {
    "ExecuteTime": {
     "end_time": "2023-08-15T02:31:34.325325151Z",
     "start_time": "2023-08-15T02:31:34.242951304Z"
    }
   },
   "outputs": [
    {
     "name": "stdout",
     "output_type": "stream",
     "text": [
      "The residue types in mol are:  ['NALA' 'ARG' 'ALA' 'CALA' 'WAT' 'WAT' 'WAT' 'WAT' 'WAT' 'WAT' 'WAT' 'WAT'\n",
      " 'WAT' 'WAT' 'WAT' 'WAT' 'WAT' 'WAT' 'WAT' 'WAT' 'WAT' 'WAT' 'WAT' 'WAT'\n",
      " 'WAT' 'WAT' 'WAT' 'WAT' 'WAT' 'WAT' 'WAT' 'WAT' 'WAT' 'WAT' 'WAT' 'WAT'\n",
      " 'WAT' 'WAT' 'WAT' 'WAT' 'WAT' 'WAT' 'WAT' 'WAT' 'WAT' 'WAT' 'WAT' 'WAT'\n",
      " 'WAT' 'WAT' 'WAT' 'WAT' 'WAT' 'WAT' 'WAT' 'WAT' 'WAT' 'WAT' 'WAT' 'WAT'\n",
      " 'WAT' 'WAT' 'WAT' 'WAT' 'WAT' 'WAT' 'WAT' 'WAT' 'WAT' 'WAT' 'WAT' 'WAT'\n",
      " 'WAT' 'WAT' 'WAT' 'WAT' 'WAT' 'WAT' 'WAT' 'WAT' 'WAT' 'WAT' 'WAT' 'WAT'\n",
      " 'WAT' 'WAT' 'WAT' 'WAT' 'WAT' 'WAT' 'WAT' 'WAT' 'WAT' 'WAT' 'WAT' 'WAT'\n",
      " 'WAT' 'WAT' 'WAT' 'WAT' 'WAT' 'WAT' 'WAT' 'WAT' 'WAT' 'WAT' 'WAT' 'WAT'\n",
      " 'WAT' 'WAT' 'WAT' 'WAT' 'WAT' 'WAT' 'WAT' 'WAT' 'WAT' 'WAT' 'WAT' 'WAT'\n",
      " 'WAT' 'WAT' 'WAT' 'WAT' 'WAT' 'WAT' 'WAT' 'WAT' 'WAT' 'WAT' 'WAT' 'WAT'\n",
      " 'WAT' 'WAT' 'WAT' 'WAT' 'WAT' 'WAT' 'WAT' 'WAT' 'WAT' 'WAT' 'WAT' 'WAT'\n",
      " 'WAT' 'WAT' 'WAT' 'WAT' 'WAT' 'WAT' 'WAT' 'WAT' 'WAT' 'WAT' 'WAT' 'WAT'\n",
      " 'WAT' 'WAT' 'WAT' 'WAT' 'WAT' 'WAT' 'WAT' 'WAT' 'WAT' 'WAT' 'WAT' 'WAT'\n",
      " 'WAT' 'WAT' 'WAT' 'WAT' 'WAT' 'WAT' 'WAT' 'WAT']\n"
     ]
    }
   ],
   "source": [
    "print('The residue types in mol are: ', mol.residue_name)"
   ]
  },
  {
   "cell_type": "markdown",
   "id": "5ce470a3",
   "metadata": {},
   "source": [
    "## 多力场加载\n",
    "\n",
    "MindSponge支持在ForceField中配置多个力场输入，可以通过配置parameters参数来实现。"
   ]
  },
  {
   "cell_type": "code",
   "execution_count": 8,
   "id": "682f2b9544e5ed59",
   "metadata": {
    "ExecuteTime": {
     "end_time": "2023-08-15T02:33:16.714287539Z",
     "start_time": "2023-08-15T02:32:25.956273169Z"
    }
   },
   "outputs": [
    {
     "name": "stdout",
     "output_type": "stream",
     "text": [
      "[MindSPONGE] Started simulation at 2023-08-15 10:32:29\n",
      "[MindSPONGE] Step: 0, E_pot: 25184.45\n",
      "[MindSPONGE] Step: 200, E_pot: 8776.982\n",
      "[MindSPONGE] Step: 400, E_pot: 7675.1484\n",
      "[MindSPONGE] Step: 600, E_pot: 7315.301\n",
      "[MindSPONGE] Step: 800, E_pot: 7118.0225\n",
      "[MindSPONGE] Step: 1000, E_pot: 7008.8877\n",
      "[MindSPONGE] Step: 1200, E_pot: 6904.9062\n",
      "[MindSPONGE] Step: 1400, E_pot: 6850.5913\n",
      "[MindSPONGE] Step: 1600, E_pot: 6806.5317\n",
      "[MindSPONGE] Step: 1800, E_pot: 6749.9697\n",
      "[MindSPONGE] Finished simulation at 2023-08-15 10:33:16\n",
      "[MindSPONGE] Simulation time: 47.66 seconds.\n",
      "--------------------------------------------------------------------------------\n"
     ]
    },
    {
     "data": {
      "text/plain": [
       "<mindsponge.core.sponge.Sponge at 0x7f312a06eb90>"
      ]
     },
     "execution_count": 8,
     "metadata": {},
     "output_type": "execute_result"
    }
   ],
   "source": [
    "energy = ForceField(mol, parameters=['AMBER.FF99SB', 'TIP3P'], use_pme=True)\n",
    "\n",
    "min_opt = nn.Adam(mol.trainable_params(), 1e-03)\n",
    "sim = WithEnergyCell(mol, energy)\n",
    "md = Sponge(sim, optimizer=min_opt)\n",
    "\n",
    "run_info = RunInfo(200)\n",
    "md.run(2000, callbacks=[run_info])"
   ]
  },
  {
   "cell_type": "markdown",
   "id": "fc586031",
   "metadata": {},
   "source": [
    "## UpdaterMD参数配置\n",
    "\n",
    "除了通过便捷方式，输入一些字符串给UpdaterMD识别之外（例如配置thermostat='langevin'，constraint='all-bonds'之类），我们还可以直接输入一些Controller对象给UpdaterMD，这样就方便自己去定义一些算法。"
   ]
  },
  {
   "cell_type": "code",
   "execution_count": 9,
   "id": "6740b0914bf5d3cf",
   "metadata": {
    "ExecuteTime": {
     "end_time": "2023-08-15T02:35:59.126188893Z",
     "start_time": "2023-08-15T02:33:27.737412593Z"
    }
   },
   "outputs": [
    {
     "name": "stdout",
     "output_type": "stream",
     "text": [
      "[MindSPONGE] The settle constraint is used for the molecule system.\n",
      "[MindSPONGE] Started simulation at 2023-08-15 10:33:28\n",
      "[MindSPONGE] Step: 0, E_pot: 6707.88, E_kin: 2081.7134, E_tot: 8789.594, Temperature: 291.8095, Pressure: -5752.4316, Volume: 7.5034766\n",
      "[MindSPONGE] Step: 300, E_pot: 7731.6914, E_kin: 1266.357, E_tot: 8998.049, Temperature: 253.84624, Pressure: -21191.453, Volume: 7.5034766\n",
      "[MindSPONGE] Step: 600, E_pot: 7722.826, E_kin: 1284.9515, E_tot: 9007.777, Temperature: 257.57358, Pressure: -19972.49, Volume: 7.5034766\n",
      "[MindSPONGE] Step: 900, E_pot: 7712.3105, E_kin: 1314.9517, E_tot: 9027.262, Temperature: 263.58722, Pressure: -19159.764, Volume: 7.5034766\n",
      "[MindSPONGE] Step: 1200, E_pot: 7763.4526, E_kin: 1242.8066, E_tot: 9006.26, Temperature: 249.12547, Pressure: -20794.451, Volume: 7.5034766\n",
      "[MindSPONGE] Step: 1500, E_pot: 7718.5366, E_kin: 1277.3347, E_tot: 8995.871, Temperature: 256.04678, Pressure: -21711.129, Volume: 7.5034766\n",
      "[MindSPONGE] Step: 1800, E_pot: 7681.7812, E_kin: 1323.709, E_tot: 9005.49, Temperature: 265.34265, Pressure: -19366.64, Volume: 7.5034766\n",
      "[MindSPONGE] Step: 2100, E_pot: 7702.511, E_kin: 1230.9832, E_tot: 8933.494, Temperature: 246.75542, Pressure: -20581.207, Volume: 7.5034766\n",
      "[MindSPONGE] Step: 2400, E_pot: 7635.77, E_kin: 1277.2139, E_tot: 8912.984, Temperature: 256.02255, Pressure: -20788.805, Volume: 7.5034766\n",
      "[MindSPONGE] Step: 2700, E_pot: 7567.0156, E_kin: 1259.5017, E_tot: 8826.518, Temperature: 252.47206, Pressure: -20713.139, Volume: 7.5034766\n",
      "[MindSPONGE] Finished simulation at 2023-08-15 10:35:59\n",
      "[MindSPONGE] Simulation time: 2 minutes 30.5 seconds.\n",
      "--------------------------------------------------------------------------------\n"
     ]
    },
    {
     "data": {
      "text/plain": [
       "<mindsponge.core.sponge.Sponge at 0x7f312a06eb90>"
      ]
     },
     "execution_count": 9,
     "metadata": {},
     "output_type": "execute_result"
    }
   ],
   "source": [
    "temp = 300\n",
    "vgen = VelocityGenerator(temp)\n",
    "velocity = vgen(mol.shape, mol.atom_mass)\n",
    "\n",
    "updater = UpdaterMD(\n",
    "    mol,\n",
    "    time_step=2e-3,\n",
    "    velocity=velocity,\n",
    "    integrator=LeapFrog(mol),\n",
    "    thermostat=Langevin(mol, temperature=300),\n",
    "    constraint=SETTLE(mol)\n",
    ")\n",
    "\n",
    "md.change_optimizer(updater)\n",
    "\n",
    "cb_h5md = WriteH5MD(mol, 'tutorial_c04.h5md', save_freq=300, save_last_pdb='tutorial_c04.pdb', write_image=False)\n",
    "\n",
    "run_info = RunInfo(300)\n",
    "md.run(3000, callbacks=[run_info, cb_h5md])"
   ]
  }
 ],
 "metadata": {
  "kernelspec": {
   "display_name": "Python 3 (ipykernel)",
   "language": "python",
   "name": "python3"
  },
  "language_info": {
   "codemirror_mode": {
    "name": "ipython",
    "version": 3
   },
   "file_extension": ".py",
   "mimetype": "text/x-python",
   "name": "python",
   "nbconvert_exporter": "python",
   "pygments_lexer": "ipython3",
   "version": "3.9.5"
  }
 },
 "nbformat": 4,
 "nbformat_minor": 5
}
