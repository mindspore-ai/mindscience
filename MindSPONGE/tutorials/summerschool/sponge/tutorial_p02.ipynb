{
 "cells": [
  {
   "cell_type": "markdown",
   "metadata": {
    "collapsed": false,
    "pycharm": {
     "name": "#%% md\n"
    }
   },
   "source": [
    "Copyright 2021-2023 @ Shenzhen Bay Laboratory & Peking University & Huawei Technologies Co., Ltd\n",
    "\n",
    "This code is a part of MindSPONGE: MindSpore Simulation Package tOwards Next Generation molecular modelling.\n",
    "\n",
    "MindSPONGE is open-source software based on the AI-framework: MindSpore (https://www.mindspore.cn/)\n",
    "\n",
    "Licensed under the Apache License, Version 2.0 (the \"License\"); you may not use this file except in compliance with the License.\n",
    "\n",
    "You may obtain a copy of the License at http://www.apache.org/licenses/LICENSE-2.0\n",
    "\n",
    "Unless required by applicable law or agreed to in writing, software distributed under the License is distributed on an \"AS IS\" BASIS, WITHOUT WARRANTIES OR CONDITIONS OF ANY KIND, either express or implied.\n",
    "\n",
    "See the License for the specific language governing permissions and limitations under the License.\n",
    "\n",
    "MindSPONGE tutorial protein 02: Add solvent and Periodic boundary conditions."
   ]
  },
  {
   "cell_type": "code",
   "execution_count": 1,
   "metadata": {
    "collapsed": true,
    "pycharm": {
     "name": "#%%\n"
    }
   },
   "outputs": [
    {
     "name": "stderr",
     "output_type": "stream",
     "text": [
      "[WARNING] ME(21386:140484086830272,MainProcess):2023-08-15-16:33:37.606.970 [mindspore/common/api.py:897] 'mindspore.ms_function' will be deprecated and removed in a future version. Please use 'mindspore.jit' instead.\n",
      "[WARNING] ME(21386:140484086830272,MainProcess):2023-08-15-16:33:37.608.118 [mindspore/common/api.py:897] 'mindspore.ms_function' will be deprecated and removed in a future version. Please use 'mindspore.jit' instead.\n",
      "[WARNING] ME(21386:140484086830272,MainProcess):2023-08-15-16:33:37.608.559 [mindspore/common/api.py:897] 'mindspore.ms_function' will be deprecated and removed in a future version. Please use 'mindspore.jit' instead.\n",
      "[WARNING] ME(21386:140484086830272,MainProcess):2023-08-15-16:33:37.608.952 [mindspore/common/api.py:897] 'mindspore.ms_function' will be deprecated and removed in a future version. Please use 'mindspore.jit' instead.\n",
      "[WARNING] ME(21386:140484086830272,MainProcess):2023-08-15-16:33:37.609.328 [mindspore/common/api.py:897] 'mindspore.ms_function' will be deprecated and removed in a future version. Please use 'mindspore.jit' instead.\n",
      "[WARNING] ME(21386:140484086830272,MainProcess):2023-08-15-16:33:37.609.684 [mindspore/common/api.py:897] 'mindspore.ms_function' will be deprecated and removed in a future version. Please use 'mindspore.jit' instead.\n",
      "[WARNING] ME(21386:140484086830272,MainProcess):2023-08-15-16:33:37.610.068 [mindspore/common/api.py:897] 'mindspore.ms_function' will be deprecated and removed in a future version. Please use 'mindspore.jit' instead.\n",
      "[WARNING] ME(21386:140484086830272,MainProcess):2023-08-15-16:33:37.610.407 [mindspore/common/api.py:897] 'mindspore.ms_function' will be deprecated and removed in a future version. Please use 'mindspore.jit' instead.\n",
      "[WARNING] ME(21386:140484086830272,MainProcess):2023-08-15-16:33:37.610.770 [mindspore/common/api.py:897] 'mindspore.ms_function' will be deprecated and removed in a future version. Please use 'mindspore.jit' instead.\n"
     ]
    }
   ],
   "source": [
    "import os\n",
    "os.environ['GLOG_v'] = '4'\n",
    "os.environ['MS_JIT_MODULES'] = 'sponge'\n",
    "from mindspore import context, nn\n",
    "import sys\n",
    "sys.path.append('../../../src')\n",
    "from sponge import ForceField\n",
    "from sponge.system import get_molecule\n",
    "from sponge import set_global_units, WithEnergyCell\n",
    "from sponge.core import Sponge\n",
    "from sponge.callback import WriteH5MD, RunInfo"
   ]
  },
  {
   "cell_type": "code",
   "execution_count": 2,
   "metadata": {
    "collapsed": false,
    "pycharm": {
     "name": "#%%\n"
    }
   },
   "outputs": [],
   "source": [
    "context.set_context(mode=context.GRAPH_MODE)\n",
    "set_global_units('nm', 'kj/mol')"
   ]
  },
  {
   "cell_type": "markdown",
   "metadata": {
    "collapsed": false,
    "pycharm": {
     "name": "#%% md\n"
    }
   },
   "source": [
    "load pdb file and add solvent"
   ]
  },
  {
   "cell_type": "code",
   "execution_count": 3,
   "metadata": {
    "collapsed": false,
    "pycharm": {
     "name": "#%%\n"
    }
   },
   "outputs": [
    {
     "name": "stdout",
     "output_type": "stream",
     "text": [
      "[MindSPONGE] Adding 57 hydrogen atoms for the protein molecule in 0.003 seconds.\n",
      "[MindSPONGE] The box size used when filling water is: [2.1184928 2.285693  1.549593 ]\n",
      "[MindSPONGE] The edge gap along x axis is 0.4.\n",
      "[MindSPONGE] The edge gap along y axis is 0.3999999523162842.\n",
      "[MindSPONGE] The edge gap along z axis is 0.4.\n",
      "[MindSPONGE] Totally 172 waters is added to the system!\n"
     ]
    },
    {
     "name": "stderr",
     "output_type": "stream",
     "text": [
      "/tmp/ipykernel_21386/3903672113.py:4: DeprecationWarning: `product` is deprecated as of NumPy 1.25.0, and will be removed in NumPy 2.0. Please use `prod` instead.\n",
      "  mol.fill_water(edge=0.4, pdb_out=out_pdb, template='water.spce.yaml')\n"
     ]
    },
    {
     "name": "stdout",
     "output_type": "stream",
     "text": [
      "[MindSPONGE] Adding water molecule task finished!\n"
     ]
    },
    {
     "data": {
      "text/plain": [
       "_MoleculeFromPDB<>"
      ]
     },
     "execution_count": 3,
     "metadata": {},
     "output_type": "execute_result"
    }
   ],
   "source": [
    "pdb_name = './case1.pdb'\n",
    "out_pdb = './case1_sol.pdb'\n",
    "mol = get_molecule(pdb_name, template=['protein0.yaml'], rebuild_hydrogen=True)\n",
    "mol.fill_water(edge=0.4, pdb_out=out_pdb, template='water.spce.yaml')"
   ]
  },
  {
   "cell_type": "markdown",
   "metadata": {
    "collapsed": false,
    "pycharm": {
     "name": "#%% md\n"
    }
   },
   "source": [
    "protein use amber.FF14SB forcefield, while solvent use SPCE forcefield"
   ]
  },
  {
   "cell_type": "code",
   "execution_count": 4,
   "metadata": {
    "collapsed": false,
    "pycharm": {
     "name": "#%%\n"
    }
   },
   "outputs": [],
   "source": [
    "energy = ForceField(mol, parameters=['AMBER.FF14SB', 'SPCE'], use_pme=False)"
   ]
  },
  {
   "cell_type": "markdown",
   "metadata": {
    "collapsed": false,
    "pycharm": {
     "name": "#%% md\n"
    }
   },
   "source": [
    "do the minimization"
   ]
  },
  {
   "cell_type": "code",
   "execution_count": 5,
   "metadata": {
    "collapsed": false,
    "pycharm": {
     "name": "#%%\n"
    }
   },
   "outputs": [
    {
     "name": "stdout",
     "output_type": "stream",
     "text": [
      "[MindSPONGE] Started simulation at 2023-08-15 16:33:46\n",
      "[MindSPONGE] Step: 0, E_pot: 24502.51\n",
      "[MindSPONGE] Step: 10, E_pot: 18154.873\n",
      "[MindSPONGE] Step: 20, E_pot: 16701.99\n",
      "[MindSPONGE] Step: 30, E_pot: 15318.471\n",
      "[MindSPONGE] Step: 40, E_pot: 13748.047\n",
      "[MindSPONGE] Step: 50, E_pot: 12375.297\n",
      "[MindSPONGE] Step: 60, E_pot: 11392.975\n",
      "[MindSPONGE] Step: 70, E_pot: 10696.414\n",
      "[MindSPONGE] Step: 80, E_pot: 10149.101\n",
      "[MindSPONGE] Step: 90, E_pot: 9693.352\n",
      "[MindSPONGE] Step: 100, E_pot: 9311.222\n",
      "[MindSPONGE] Step: 110, E_pot: 8999.063\n",
      "[MindSPONGE] Step: 120, E_pot: 8740.288\n",
      "[MindSPONGE] Step: 130, E_pot: 8517.707\n",
      "[MindSPONGE] Step: 140, E_pot: 8332.541\n",
      "[MindSPONGE] Step: 150, E_pot: 8181.0737\n",
      "[MindSPONGE] Step: 160, E_pot: 8049.1924\n",
      "[MindSPONGE] Step: 170, E_pot: 7928.546\n",
      "[MindSPONGE] Step: 180, E_pot: 7815.838\n",
      "[MindSPONGE] Step: 190, E_pot: 7715.084\n",
      "[MindSPONGE] Step: 200, E_pot: 7625.1533\n",
      "[MindSPONGE] Step: 210, E_pot: 7540.8813\n",
      "[MindSPONGE] Step: 220, E_pot: 7464.2354\n",
      "[MindSPONGE] Step: 230, E_pot: 7393.1665\n",
      "[MindSPONGE] Step: 240, E_pot: 7324.363\n",
      "[MindSPONGE] Step: 250, E_pot: 7259.7427\n",
      "[MindSPONGE] Step: 260, E_pot: 7200.4272\n",
      "[MindSPONGE] Step: 270, E_pot: 7144.5063\n",
      "[MindSPONGE] Step: 280, E_pot: 7091.203\n",
      "[MindSPONGE] Step: 290, E_pot: 7038.3115\n",
      "[MindSPONGE] Step: 300, E_pot: 6984.403\n",
      "[MindSPONGE] Step: 310, E_pot: 6932.6743\n",
      "[MindSPONGE] Step: 320, E_pot: 6887.473\n",
      "[MindSPONGE] Step: 330, E_pot: 6847.32\n",
      "[MindSPONGE] Step: 340, E_pot: 6813.525\n",
      "[MindSPONGE] Step: 350, E_pot: 6785.2\n",
      "[MindSPONGE] Step: 360, E_pot: 6758.5654\n",
      "[MindSPONGE] Step: 370, E_pot: 6733.5615\n",
      "[MindSPONGE] Step: 380, E_pot: 6711.0977\n",
      "[MindSPONGE] Step: 390, E_pot: 6690.921\n",
      "[MindSPONGE] Step: 400, E_pot: 6671.838\n",
      "[MindSPONGE] Step: 410, E_pot: 6653.947\n",
      "[MindSPONGE] Step: 420, E_pot: 6637.1704\n",
      "[MindSPONGE] Step: 430, E_pot: 6621.731\n",
      "[MindSPONGE] Step: 440, E_pot: 6606.881\n",
      "[MindSPONGE] Step: 450, E_pot: 6592.3955\n",
      "[MindSPONGE] Step: 460, E_pot: 6578.512\n",
      "[MindSPONGE] Step: 470, E_pot: 6565.4307\n",
      "[MindSPONGE] Step: 480, E_pot: 6553.5938\n",
      "[MindSPONGE] Step: 490, E_pot: 6542.959\n",
      "[MindSPONGE] Step: 500, E_pot: 6533.124\n",
      "[MindSPONGE] Step: 510, E_pot: 6523.503\n",
      "[MindSPONGE] Step: 520, E_pot: 6513.8755\n",
      "[MindSPONGE] Step: 530, E_pot: 6503.8403\n",
      "[MindSPONGE] Step: 540, E_pot: 6493.9033\n",
      "[MindSPONGE] Step: 550, E_pot: 6483.885\n",
      "[MindSPONGE] Step: 560, E_pot: 6473.7607\n",
      "[MindSPONGE] Step: 570, E_pot: 6463.3853\n",
      "[MindSPONGE] Step: 580, E_pot: 6452.3286\n",
      "[MindSPONGE] Step: 590, E_pot: 6440.896\n",
      "[MindSPONGE] Step: 600, E_pot: 6430.1514\n",
      "[MindSPONGE] Step: 610, E_pot: 6420.722\n",
      "[MindSPONGE] Step: 620, E_pot: 6412.5054\n",
      "[MindSPONGE] Step: 630, E_pot: 6405.0903\n",
      "[MindSPONGE] Step: 640, E_pot: 6398.014\n",
      "[MindSPONGE] Step: 650, E_pot: 6391.301\n",
      "[MindSPONGE] Step: 660, E_pot: 6385.1914\n",
      "[MindSPONGE] Step: 670, E_pot: 6379.737\n",
      "[MindSPONGE] Step: 680, E_pot: 6374.8613\n",
      "[MindSPONGE] Step: 690, E_pot: 6370.1904\n",
      "[MindSPONGE] Step: 700, E_pot: 6365.507\n",
      "[MindSPONGE] Step: 710, E_pot: 6360.3027\n",
      "[MindSPONGE] Step: 720, E_pot: 6353.8926\n",
      "[MindSPONGE] Step: 730, E_pot: 6346.822\n",
      "[MindSPONGE] Step: 740, E_pot: 6341.722\n",
      "[MindSPONGE] Step: 750, E_pot: 6337.5615\n",
      "[MindSPONGE] Step: 760, E_pot: 6333.871\n",
      "[MindSPONGE] Step: 770, E_pot: 6330.5503\n",
      "[MindSPONGE] Step: 780, E_pot: 6327.3975\n",
      "[MindSPONGE] Step: 790, E_pot: 6324.379\n",
      "[MindSPONGE] Finished simulation at 2023-08-15 16:34:11\n",
      "[MindSPONGE] Simulation time: 24.38 seconds.\n",
      "--------------------------------------------------------------------------------\n",
      "The final pbc box size is: [[2.1184928 2.285693  1.549593 ]]\n"
     ]
    }
   ],
   "source": [
    "min_opt = nn.Adam(mol.trainable_params(), 1e-3)\n",
    "sim = WithEnergyCell(mol, energy)\n",
    "md = Sponge(sim, optimizer=min_opt)\n",
    "run_info = RunInfo(10)\n",
    "cb_h5md = WriteH5MD(mol, './p02.h5md', save_freq=10, save_last_pdb='./p02.pdb', write_image=False)\n",
    "md.run(800, callbacks=[run_info, cb_h5md])\n",
    "\n",
    "print('The final pbc box size is: {}'.format(mol.pbc_box.asnumpy()))"
   ]
  }
 ],
 "metadata": {
  "kernelspec": {
   "display_name": "mindspore-latest",
   "language": "python",
   "name": "python3"
  },
  "language_info": {
   "codemirror_mode": {
    "name": "ipython",
    "version": 3
   },
   "file_extension": ".py",
   "mimetype": "text/x-python",
   "name": "python",
   "nbconvert_exporter": "python",
   "pygments_lexer": "ipython3",
   "version": "3.9.17"
  }
 },
 "nbformat": 4,
 "nbformat_minor": 0
}
