{
 "cells": [
  {
   "cell_type": "markdown",
   "metadata": {},
   "source": [
    "Copyright 2021-2023 @ Shenzhen Bay Laboratory & Peking University & Huawei Technologies Co., Ltd\n",
    "\n",
    "This code is a part of MindSPONGE: MindSpore Simulation Package tOwards Next Generation molecular modelling.\n",
    "\n",
    "MindSPONGE is open-source software based on the AI-framework: MindSpore (https://www.mindspore.cn/)\n",
    "\n",
    "Licensed under the Apache License, Version 2.0 (the \"License\"); you may not use this file except in compliance with the License.\n",
    "\n",
    "You may obtain a copy of the License at http://www.apache.org/licenses/LICENSE-2.0\n",
    "\n",
    "Unless required by applicable law or agreed to in writing, software distributed under the License is distributed on an \"AS IS\" BASIS, WITHOUT WARRANTIES OR CONDITIONS OF ANY KIND, either express or implied.\n",
    "\n",
    "See the License for the specific language governing permissions and limitations under the License.\n",
    "\n",
    "MindSPONGE tutorial protein 04: Hybrid enhanced sampling MetaITS."
   ]
  },
  {
   "cell_type": "code",
   "execution_count": 1,
   "metadata": {},
   "outputs": [
    {
     "name": "stderr",
     "output_type": "stream",
     "text": [
      "[WARNING] ME(21153:140051537028288,MainProcess):2023-08-15-16:34:38.271.609 [mindspore/common/api.py:897] 'mindspore.ms_function' will be deprecated and removed in a future version. Please use 'mindspore.jit' instead.\n",
      "[WARNING] ME(21153:140051537028288,MainProcess):2023-08-15-16:34:38.273.349 [mindspore/common/api.py:897] 'mindspore.ms_function' will be deprecated and removed in a future version. Please use 'mindspore.jit' instead.\n",
      "[WARNING] ME(21153:140051537028288,MainProcess):2023-08-15-16:34:38.274.310 [mindspore/common/api.py:897] 'mindspore.ms_function' will be deprecated and removed in a future version. Please use 'mindspore.jit' instead.\n",
      "[WARNING] ME(21153:140051537028288,MainProcess):2023-08-15-16:34:38.275.067 [mindspore/common/api.py:897] 'mindspore.ms_function' will be deprecated and removed in a future version. Please use 'mindspore.jit' instead.\n",
      "[WARNING] ME(21153:140051537028288,MainProcess):2023-08-15-16:34:38.275.883 [mindspore/common/api.py:897] 'mindspore.ms_function' will be deprecated and removed in a future version. Please use 'mindspore.jit' instead.\n",
      "[WARNING] ME(21153:140051537028288,MainProcess):2023-08-15-16:34:38.276.592 [mindspore/common/api.py:897] 'mindspore.ms_function' will be deprecated and removed in a future version. Please use 'mindspore.jit' instead.\n",
      "[WARNING] ME(21153:140051537028288,MainProcess):2023-08-15-16:34:38.277.413 [mindspore/common/api.py:897] 'mindspore.ms_function' will be deprecated and removed in a future version. Please use 'mindspore.jit' instead.\n",
      "[WARNING] ME(21153:140051537028288,MainProcess):2023-08-15-16:34:38.278.112 [mindspore/common/api.py:897] 'mindspore.ms_function' will be deprecated and removed in a future version. Please use 'mindspore.jit' instead.\n",
      "[WARNING] ME(21153:140051537028288,MainProcess):2023-08-15-16:34:38.278.879 [mindspore/common/api.py:897] 'mindspore.ms_function' will be deprecated and removed in a future version. Please use 'mindspore.jit' instead.\n"
     ]
    }
   ],
   "source": [
    "import os\n",
    "os.environ['GLOG_v'] = '4'\n",
    "os.environ['MS_JIT_MODULES'] = 'sponge'\n",
    "from mindspore import context\n",
    "import sys\n",
    "sys.path.append('../../../src')\n",
    "from sponge import Sponge\n",
    "from sponge import ForceField\n",
    "from sponge import set_global_units, WithEnergyCell\n",
    "from sponge import Protein\n",
    "from sponge import UpdaterMD\n",
    "from sponge.optimizer import SteepestDescent\n",
    "from sponge.control import VelocityVerlet\n",
    "from sponge.callback import WriteH5MD, RunInfo\n",
    "from sponge.control import Langevin\n",
    "from sponge.function import VelocityGenerator\n",
    "from sponge.colvar import Torsion\n",
    "from sponge.sampling import Metadynamics\n",
    "from sponge.function import PI"
   ]
  },
  {
   "cell_type": "code",
   "execution_count": 2,
   "metadata": {},
   "outputs": [],
   "source": [
    "context.set_context(mode=context.GRAPH_MODE)\n",
    "set_global_units('nm', 'kj/mol')"
   ]
  },
  {
   "cell_type": "markdown",
   "metadata": {},
   "source": [
    "load PDB file and define CVs"
   ]
  },
  {
   "cell_type": "code",
   "execution_count": 3,
   "metadata": {},
   "outputs": [],
   "source": [
    "system = Protein(pdb='./case1_addH.pdb', rebuild_hydrogen=False)\n",
    "energy = ForceField(system, 'AMBER.FF14SB')\n",
    "\n",
    "phi = Torsion([3, 12, 13, 21])\n",
    "psi = Torsion([12, 13, 21, 36])"
   ]
  },
  {
   "cell_type": "markdown",
   "metadata": {},
   "source": [
    "do minimization"
   ]
  },
  {
   "cell_type": "code",
   "execution_count": 4,
   "metadata": {},
   "outputs": [
    {
     "name": "stdout",
     "output_type": "stream",
     "text": [
      "[MindSPONGE] Started simulation at 2023-08-15 16:34:43\n",
      "[MindSPONGE] Step: 0, E_pot: 5021.522, phi: -3.1408052, psi: 3.1149218\n",
      "[MindSPONGE] Step: 10, E_pot: 960.6975, phi: 3.1386123, psi: 3.0696745\n",
      "[MindSPONGE] Step: 20, E_pot: 614.571, phi: 3.1335664, psi: 3.0569959\n",
      "[MindSPONGE] Step: 30, E_pot: 417.6888, phi: 3.1277804, psi: 3.05628\n",
      "[MindSPONGE] Step: 40, E_pot: 284.51123, phi: 3.1217692, psi: 3.0593946\n",
      "[MindSPONGE] Step: 50, E_pot: 185.45404, phi: 3.1157963, psi: 3.0630567\n",
      "[MindSPONGE] Step: 60, E_pot: 107.68286, phi: 3.1099682, psi: 3.066002\n",
      "[MindSPONGE] Step: 70, E_pot: 44.551086, phi: 3.1043131, psi: 3.0678315\n",
      "[MindSPONGE] Step: 80, E_pot: -7.8761597, phi: 3.0988307, psi: 3.0685153\n",
      "[MindSPONGE] Step: 90, E_pot: -52.160034, phi: 3.09351, psi: 3.0681696\n",
      "[MindSPONGE] Step: 100, E_pot: -90.0798, phi: 3.0883427, psi: 3.0669641\n",
      "[MindSPONGE] Step: 110, E_pot: -122.924255, phi: 3.0833232, psi: 3.065074\n",
      "[MindSPONGE] Step: 120, E_pot: -151.65616, phi: 3.0784502, psi: 3.0626621\n",
      "[MindSPONGE] Step: 130, E_pot: -177.01074, phi: 3.073726, psi: 3.0598733\n",
      "[MindSPONGE] Step: 140, E_pot: -199.55988, phi: 3.0691535, psi: 3.0568287\n",
      "[MindSPONGE] Step: 150, E_pot: -219.75284, phi: 3.0647388, psi: 3.053631\n",
      "[MindSPONGE] Step: 160, E_pot: -237.94998, phi: 3.0604868, psi: 3.0503635\n",
      "[MindSPONGE] Step: 170, E_pot: -254.4425, phi: 3.056403, psi: 3.047093\n",
      "[MindSPONGE] Step: 180, E_pot: -269.46774, phi: 3.0524907, psi: 3.043871\n",
      "[MindSPONGE] Step: 190, E_pot: -283.22177, phi: 3.048754, psi: 3.0407386\n",
      "[MindSPONGE] Step: 200, E_pot: -295.86737, phi: 3.0451949, psi: 3.0377262\n",
      "[MindSPONGE] Step: 210, E_pot: -307.54132, phi: 3.0418146, psi: 3.0348551\n",
      "[MindSPONGE] Step: 220, E_pot: -318.35864, phi: 3.0386138, psi: 3.0321407\n",
      "[MindSPONGE] Step: 230, E_pot: -328.41638, phi: 3.0355916, psi: 3.0295925\n",
      "[MindSPONGE] Step: 240, E_pot: -337.79782, phi: 3.0327468, psi: 3.0272162\n",
      "[MindSPONGE] Step: 250, E_pot: -346.57416, phi: 3.0300775, psi: 3.025013\n",
      "[MindSPONGE] Step: 260, E_pot: -354.8067, phi: 3.0275805, psi: 3.022982\n",
      "[MindSPONGE] Step: 270, E_pot: -362.54752, phi: 3.025253, psi: 3.0211194\n",
      "[MindSPONGE] Step: 280, E_pot: -369.84308, phi: 3.0230916, psi: 3.0194206\n",
      "[MindSPONGE] Step: 290, E_pot: -376.7334, phi: 3.0210917, psi: 3.017879\n",
      "[MindSPONGE] Step: 300, E_pot: -383.25302, phi: 3.0192494, psi: 3.0164874\n",
      "[MindSPONGE] Step: 310, E_pot: -389.43164, phi: 3.0175607, psi: 3.0152378\n",
      "[MindSPONGE] Step: 320, E_pot: -395.29706, phi: 3.0160205, psi: 3.0141213\n",
      "[MindSPONGE] Step: 330, E_pot: -400.87262, phi: 3.014624, psi: 3.0131288\n",
      "[MindSPONGE] Step: 340, E_pot: -406.17932, phi: 3.0133672, psi: 3.0122519\n",
      "[MindSPONGE] Step: 350, E_pot: -411.23618, phi: 3.0122442, psi: 3.0114815\n",
      "[MindSPONGE] Step: 360, E_pot: -416.05905, phi: 3.0112512, psi: 3.0108087\n",
      "[MindSPONGE] Step: 370, E_pot: -420.66324, phi: 3.0103831, psi: 3.0102255\n",
      "[MindSPONGE] Step: 380, E_pot: -425.06238, phi: 3.0096357, psi: 3.0097222\n",
      "[MindSPONGE] Step: 390, E_pot: -429.2689, phi: 3.0090036, psi: 3.0092924\n",
      "[MindSPONGE] Step: 400, E_pot: -433.29355, phi: 3.008483, psi: 3.0089276\n",
      "[MindSPONGE] Step: 410, E_pot: -437.14642, phi: 3.0080693, psi: 3.00862\n",
      "[MindSPONGE] Step: 420, E_pot: -440.8369, phi: 3.0077581, psi: 3.008363\n",
      "[MindSPONGE] Step: 430, E_pot: -444.37366, phi: 3.0075455, psi: 3.00815\n",
      "[MindSPONGE] Step: 440, E_pot: -447.76465, phi: 3.0074272, psi: 3.0079749\n",
      "[MindSPONGE] Step: 450, E_pot: -451.01773, phi: 3.0073996, psi: 3.0078316\n",
      "[MindSPONGE] Step: 460, E_pot: -454.1391, phi: 3.0074587, psi: 3.007715\n",
      "[MindSPONGE] Step: 470, E_pot: -457.13544, phi: 3.0076, psi: 3.0076213\n",
      "[MindSPONGE] Step: 480, E_pot: -460.01312, phi: 3.0078216, psi: 3.007545\n",
      "[MindSPONGE] Step: 490, E_pot: -462.77777, phi: 3.008119, psi: 3.0074835\n",
      "[MindSPONGE] Finished simulation at 2023-08-15 16:35:00\n",
      "[MindSPONGE] Simulation time: 17.05 seconds.\n",
      "--------------------------------------------------------------------------------\n"
     ]
    },
    {
     "data": {
      "text/plain": [
       "<mindsponge.core.sponge.Sponge at 0x7f5febbc74f0>"
      ]
     },
     "execution_count": 4,
     "metadata": {},
     "output_type": "execute_result"
    }
   ],
   "source": [
    "min_opt = SteepestDescent(system.trainable_params(), 1e-7)\n",
    "md = Sponge(system, energy, min_opt, metrics={'phi': phi, 'psi': psi})\n",
    "run_info = RunInfo(10)\n",
    "cb_h5md = WriteH5MD(system, './p04_1.h5md', save_freq=10)\n",
    "md.run(500, callbacks=[run_info, cb_h5md])"
   ]
  },
  {
   "cell_type": "markdown",
   "metadata": {},
   "source": [
    "define MetaD section"
   ]
  },
  {
   "cell_type": "code",
   "execution_count": 5,
   "metadata": {},
   "outputs": [],
   "source": [
    "metad = Metadynamics(\n",
    "    colvar=[phi, psi],\n",
    "    update_pace=10,\n",
    "    height=2.5,\n",
    "    sigma=0.05,\n",
    "    grid_min=-PI,\n",
    "    grid_max=PI,\n",
    "    grid_bin=360,\n",
    "    temperature=300,\n",
    "    bias_factor=100,\n",
    ")"
   ]
  },
  {
   "cell_type": "markdown",
   "metadata": {},
   "source": [
    "Run MetaD sampling"
   ]
  },
  {
   "cell_type": "code",
   "execution_count": 6,
   "metadata": {},
   "outputs": [
    {
     "name": "stdout",
     "output_type": "stream",
     "text": [
      "[MindSPONGE] Started simulation at 2023-08-15 16:35:05\n",
      "[MindSPONGE] Step: 0, E_pot: -465.43478, E_kin: 229.43347, E_tot: -236.00131, Temperature: 328.506, phi: 3.0291107, psi: 3.0177577\n",
      "[MindSPONGE] Step: 10, E_pot: -428.97208, E_kin: 182.96736, E_tot: -246.00471, Temperature: 261.9752, phi: -3.0937796, psi: 3.0833538\n",
      "[MindSPONGE] Step: 20, E_pot: -400.25235, E_kin: 175.21399, E_tot: -225.03836, Temperature: 250.8738, phi: -3.0417027, psi: 3.0481613\n",
      "[MindSPONGE] Step: 30, E_pot: -433.21484, E_kin: 221.76509, E_tot: -211.44975, Temperature: 317.52634, phi: -2.938805, psi: 2.9409747\n",
      "[MindSPONGE] Step: 40, E_pot: -423.71866, E_kin: 216.11987, E_tot: -207.59879, Temperature: 309.44342, phi: -2.710033, psi: 2.8453958\n",
      "[MindSPONGE] Step: 50, E_pot: -442.45178, E_kin: 224.98145, E_tot: -217.47034, Temperature: 322.13153, phi: -2.5085588, psi: 2.7854238\n",
      "[MindSPONGE] Step: 60, E_pot: -420.6448, E_kin: 194.46205, E_tot: -226.18275, Temperature: 278.43344, phi: -2.4396794, psi: 2.699188\n",
      "[MindSPONGE] Step: 70, E_pot: -393.86688, E_kin: 167.68254, E_tot: -226.18434, Temperature: 240.09018, phi: -2.456327, psi: 2.5404558\n",
      "[MindSPONGE] Step: 80, E_pot: -402.7285, E_kin: 178.82143, E_tot: -223.90706, Temperature: 256.039, phi: -2.4201157, psi: 2.4973612\n",
      "[MindSPONGE] Step: 90, E_pot: -417.8105, E_kin: 185.91394, E_tot: -231.89655, Temperature: 266.19412, phi: -2.3389807, psi: 2.6330636\n",
      "[MindSPONGE] Step: 100, E_pot: -410.33456, E_kin: 194.14978, E_tot: -216.18478, Temperature: 277.98633, phi: -2.344719, psi: 2.7487636\n",
      "[MindSPONGE] Step: 110, E_pot: -410.09756, E_kin: 182.08112, E_tot: -228.01645, Temperature: 260.70627, phi: -2.3854363, psi: 2.6808372\n",
      "[MindSPONGE] Step: 120, E_pot: -405.49707, E_kin: 179.08974, E_tot: -226.40733, Temperature: 256.42316, phi: -2.4611723, psi: 2.5356855\n",
      "[MindSPONGE] Step: 130, E_pot: -413.11685, E_kin: 187.47203, E_tot: -225.64482, Temperature: 268.42505, phi: -2.605323, psi: 2.5253382\n",
      "[MindSPONGE] Step: 140, E_pot: -429.3643, E_kin: 201.18414, E_tot: -228.18015, Temperature: 288.05823, phi: -2.6228945, psi: 2.5928597\n",
      "[MindSPONGE] Step: 150, E_pot: -404.2304, E_kin: 167.56956, E_tot: -236.66084, Temperature: 239.92842, phi: -2.5125666, psi: 2.6064887\n",
      "[MindSPONGE] Step: 160, E_pot: -420.74808, E_kin: 189.12718, E_tot: -231.6209, Temperature: 270.7949, phi: -2.4938235, psi: 2.506529\n",
      "[MindSPONGE] Step: 170, E_pot: -414.37146, E_kin: 185.97531, E_tot: -228.39615, Temperature: 266.282, phi: -2.5999708, psi: 2.3341749\n",
      "[MindSPONGE] Step: 180, E_pot: -414.75244, E_kin: 199.76743, E_tot: -214.98502, Temperature: 286.02975, phi: -2.551032, psi: 2.3257945\n",
      "[MindSPONGE] Step: 190, E_pot: -422.56494, E_kin: 206.31122, E_tot: -216.25372, Temperature: 295.39926, phi: -2.4500637, psi: 2.468579\n",
      "[MindSPONGE] Step: 200, E_pot: -414.91183, E_kin: 191.46753, E_tot: -223.4443, Temperature: 274.14584, phi: -2.5027618, psi: 2.392729\n",
      "[MindSPONGE] Step: 210, E_pot: -420.59378, E_kin: 191.96698, E_tot: -228.6268, Temperature: 274.86096, phi: -2.514956, psi: 2.2615852\n",
      "[MindSPONGE] Step: 220, E_pot: -429.50046, E_kin: 199.01776, E_tot: -230.4827, Temperature: 284.9564, phi: -2.5607467, psi: 2.2157786\n",
      "[MindSPONGE] Step: 230, E_pot: -410.0314, E_kin: 185.45981, E_tot: -224.5716, Temperature: 265.54388, phi: -2.6895354, psi: 2.1607857\n",
      "[MindSPONGE] Step: 240, E_pot: -423.64642, E_kin: 198.65857, E_tot: -224.98785, Temperature: 284.4421, phi: -2.7272456, psi: 2.1500123\n",
      "[MindSPONGE] Step: 250, E_pot: -470.0892, E_kin: 252.37476, E_tot: -217.71445, Temperature: 361.35364, phi: -2.5827456, psi: 2.131452\n",
      "[MindSPONGE] Step: 260, E_pot: -429.82446, E_kin: 206.60329, E_tot: -223.22118, Temperature: 295.81744, phi: -2.5250587, psi: 2.1091068\n",
      "[MindSPONGE] Step: 270, E_pot: -458.33267, E_kin: 234.55948, E_tot: -223.7732, Temperature: 335.84552, phi: -2.6069236, psi: 2.0436833\n",
      "[MindSPONGE] Step: 280, E_pot: -443.1621, E_kin: 220.80281, E_tot: -222.3593, Temperature: 316.1485, phi: -2.7905009, psi: 1.8999572\n",
      "[MindSPONGE] Step: 290, E_pot: -411.32825, E_kin: 183.06967, E_tot: -228.25858, Temperature: 262.1217, phi: -2.847008, psi: 1.8528107\n",
      "[MindSPONGE] Step: 300, E_pot: -447.8485, E_kin: 219.6583, E_tot: -228.19022, Temperature: 314.5098, phi: -2.7821372, psi: 1.8384838\n",
      "[MindSPONGE] Step: 310, E_pot: -416.74353, E_kin: 194.52048, E_tot: -222.22305, Temperature: 278.51712, phi: -2.7461672, psi: 1.7871969\n",
      "[MindSPONGE] Step: 320, E_pot: -409.85233, E_kin: 200.96736, E_tot: -208.88496, Temperature: 287.74786, phi: -2.9196389, psi: 1.7775549\n",
      "[MindSPONGE] Step: 330, E_pot: -405.92014, E_kin: 202.08237, E_tot: -203.83777, Temperature: 289.3443, phi: -3.0385144, psi: 1.8281478\n",
      "[MindSPONGE] Step: 340, E_pot: -386.9027, E_kin: 185.7757, E_tot: -201.12701, Temperature: 265.9962, phi: -2.9718971, psi: 1.9389777\n",
      "[MindSPONGE] Step: 350, E_pot: -413.85883, E_kin: 218.98505, E_tot: -194.87378, Temperature: 313.5458, phi: -2.7442222, psi: 1.9411962\n",
      "[MindSPONGE] Step: 360, E_pot: -434.44278, E_kin: 233.42918, E_tot: -201.0136, Temperature: 334.2271, phi: -2.6705337, psi: 1.9880364\n",
      "[MindSPONGE] Step: 370, E_pot: -424.91318, E_kin: 228.35287, E_tot: -196.5603, Temperature: 326.9588, phi: -2.6786604, psi: 2.0476553\n",
      "[MindSPONGE] Step: 380, E_pot: -425.15823, E_kin: 229.14467, E_tot: -196.01357, Temperature: 328.0925, phi: -2.6302385, psi: 2.083818\n",
      "[MindSPONGE] Step: 390, E_pot: -444.39685, E_kin: 239.4415, E_tot: -204.95535, Temperature: 342.83563, phi: -2.4156926, psi: 2.111691\n",
      "[MindSPONGE] Step: 400, E_pot: -436.33057, E_kin: 229.79642, E_tot: -206.53415, Temperature: 329.02567, phi: -2.2826352, psi: 2.204177\n",
      "[MindSPONGE] Step: 410, E_pot: -428.9675, E_kin: 229.82004, E_tot: -199.14746, Temperature: 329.0595, phi: -2.323842, psi: 2.308253\n",
      "[MindSPONGE] Step: 420, E_pot: -426.60034, E_kin: 234.71933, E_tot: -191.88101, Temperature: 336.07437, phi: -2.2012985, psi: 2.411972\n",
      "[MindSPONGE] Step: 430, E_pot: -478.17624, E_kin: 283.26617, E_tot: -194.91006, Temperature: 405.58444, phi: -1.9277122, psi: 2.3616586\n",
      "[MindSPONGE] Step: 440, E_pot: -440.0367, E_kin: 249.48195, E_tot: -190.55476, Temperature: 357.2117, phi: -1.8060063, psi: 2.2393122\n",
      "[MindSPONGE] Step: 450, E_pot: -443.33334, E_kin: 261.5354, E_tot: -181.79794, Temperature: 374.46997, phi: -1.8116612, psi: 2.243518\n",
      "[MindSPONGE] Step: 460, E_pot: -411.70337, E_kin: 233.58139, E_tot: -178.12198, Temperature: 334.44504, phi: -1.8128912, psi: 2.4254718\n",
      "[MindSPONGE] Step: 470, E_pot: -449.43494, E_kin: 280.27014, E_tot: -169.1648, Temperature: 401.29465, phi: -1.6087315, psi: 2.604418\n",
      "[MindSPONGE] Step: 480, E_pot: -436.11496, E_kin: 264.6228, E_tot: -171.49216, Temperature: 378.89056, phi: -1.4932829, psi: 2.6209204\n",
      "[MindSPONGE] Step: 490, E_pot: -460.1513, E_kin: 283.97852, E_tot: -176.17279, Temperature: 406.60434, phi: -1.5288203, psi: 2.724234\n",
      "[MindSPONGE] Step: 500, E_pot: -429.86032, E_kin: 248.6576, E_tot: -181.20273, Temperature: 356.03137, phi: -1.5344958, psi: 2.914998\n",
      "[MindSPONGE] Step: 510, E_pot: -429.22653, E_kin: 259.88873, E_tot: -169.3378, Temperature: 372.11227, phi: -1.3520044, psi: 2.9636683\n",
      "[MindSPONGE] Step: 520, E_pot: -456.17508, E_kin: 281.70694, E_tot: -174.46814, Temperature: 403.3519, phi: -1.0898254, psi: 2.8075073\n",
      "[MindSPONGE] Step: 530, E_pot: -448.57956, E_kin: 277.3042, E_tot: -171.27536, Temperature: 397.04797, phi: -1.096975, psi: 2.711183\n",
      "[MindSPONGE] Step: 540, E_pot: -413.63278, E_kin: 243.82329, E_tot: -169.8095, Temperature: 349.10956, phi: -1.2111247, psi: 2.7535427\n",
      "[MindSPONGE] Step: 550, E_pot: -421.46497, E_kin: 253.98404, E_tot: -167.48093, Temperature: 363.65784, phi: -1.170612, psi: 2.8582895\n",
      "[MindSPONGE] Step: 560, E_pot: -479.6778, E_kin: 325.41922, E_tot: -154.25858, Temperature: 465.93973, phi: -0.97680444, psi: 2.9077802\n",
      "[MindSPONGE] Step: 570, E_pot: -439.42325, E_kin: 279.35486, E_tot: -160.06839, Temperature: 399.98413, phi: -1.0443549, psi: 3.0138526\n",
      "[MindSPONGE] Step: 580, E_pot: -459.03406, E_kin: 285.45456, E_tot: -173.5795, Temperature: 408.71777, phi: -1.2106311, psi: 3.1077735\n",
      "[MindSPONGE] Step: 590, E_pot: -467.92, E_kin: 298.39603, E_tot: -169.52399, Temperature: 427.24753, phi: -1.1730052, psi: 2.9769385\n",
      "[MindSPONGE] Step: 600, E_pot: -488.46307, E_kin: 329.9157, E_tot: -158.54736, Temperature: 472.37787, phi: -0.86322546, psi: 2.7514768\n",
      "[MindSPONGE] Step: 610, E_pot: -459.08206, E_kin: 297.6995, E_tot: -161.38257, Temperature: 426.25024, phi: -0.81434083, psi: 2.6393065\n",
      "[MindSPONGE] Step: 620, E_pot: -491.14072, E_kin: 317.37476, E_tot: -173.76596, Temperature: 454.42157, phi: -0.8610203, psi: 2.6190305\n",
      "[MindSPONGE] Step: 630, E_pot: -446.88123, E_kin: 287.36996, E_tot: -159.51126, Temperature: 411.4603, phi: -1.098785, psi: 2.7278378\n",
      "[MindSPONGE] Step: 640, E_pot: -482.23688, E_kin: 320.23688, E_tot: -162.0, Temperature: 458.5196, phi: -1.1641142, psi: 2.764254\n",
      "[MindSPONGE] Step: 650, E_pot: -453.43576, E_kin: 304.13965, E_tot: -149.29611, Temperature: 435.47134, phi: -1.1729225, psi: 2.628784\n",
      "[MindSPONGE] Step: 660, E_pot: -487.26715, E_kin: 307.29614, E_tot: -179.97101, Temperature: 439.99088, phi: -1.3434217, psi: 2.6031458\n",
      "[MindSPONGE] Step: 670, E_pot: -489.0211, E_kin: 314.2494, E_tot: -174.7717, Temperature: 449.9466, phi: -1.4721849, psi: 2.7649207\n",
      "[MindSPONGE] Step: 680, E_pot: -518.439, E_kin: 355.90457, E_tot: -162.53445, Temperature: 509.58905, phi: -1.4031934, psi: 2.7533922\n",
      "[MindSPONGE] Step: 690, E_pot: -529.5914, E_kin: 350.5735, E_tot: -179.01788, Temperature: 501.95596, phi: -1.2587874, psi: 2.4801512\n",
      "[MindSPONGE] Step: 700, E_pot: -477.3757, E_kin: 297.5558, E_tot: -179.81992, Temperature: 426.04446, phi: -1.3034594, psi: 2.2882402\n",
      "[MindSPONGE] Step: 710, E_pot: -495.35703, E_kin: 309.83844, E_tot: -185.51859, Temperature: 443.63095, phi: -1.452082, psi: 2.3543506\n",
      "[MindSPONGE] Step: 720, E_pot: -445.76663, E_kin: 258.08807, E_tot: -187.67856, Temperature: 369.53406, phi: -1.5261481, psi: 2.5466511\n",
      "[MindSPONGE] Step: 730, E_pot: -477.79578, E_kin: 292.6568, E_tot: -185.13898, Temperature: 419.03003, phi: -1.4335688, psi: 2.4286635\n",
      "[MindSPONGE] Step: 740, E_pot: -488.34036, E_kin: 306.02933, E_tot: -182.31104, Temperature: 438.17703, phi: -1.5336767, psi: 2.2531078\n",
      "[MindSPONGE] Step: 750, E_pot: -524.3885, E_kin: 343.39343, E_tot: -180.99506, Temperature: 491.67545, phi: -1.7545438, psi: 2.3267436\n",
      "[MindSPONGE] Step: 760, E_pot: -528.3169, E_kin: 360.81488, E_tot: -167.50201, Temperature: 516.61975, phi: -1.6490276, psi: 2.5066066\n",
      "[MindSPONGE] Step: 770, E_pot: -560.7594, E_kin: 376.64682, E_tot: -184.11258, Temperature: 539.2881, phi: -1.3161705, psi: 2.3776462\n",
      "[MindSPONGE] Step: 780, E_pot: -517.7978, E_kin: 324.99304, E_tot: -192.80475, Temperature: 465.3295, phi: -1.1761267, psi: 2.1957197\n",
      "[MindSPONGE] Step: 790, E_pot: -499.7363, E_kin: 311.96814, E_tot: -187.76816, Temperature: 446.6803, phi: -1.3566624, psi: 2.270382\n",
      "[MindSPONGE] Step: 800, E_pot: -494.86826, E_kin: 310.45096, E_tot: -184.4173, Temperature: 444.50797, phi: -1.4867735, psi: 2.4511483\n",
      "[MindSPONGE] Step: 810, E_pot: -498.476, E_kin: 315.68842, E_tot: -182.7876, Temperature: 452.00702, phi: -1.4288406, psi: 2.5621264\n",
      "[MindSPONGE] Step: 820, E_pot: -501.1709, E_kin: 319.64594, E_tot: -181.52496, Temperature: 457.67346, phi: -1.3182882, psi: 2.4842262\n",
      "[MindSPONGE] Step: 830, E_pot: -486.21875, E_kin: 307.14734, E_tot: -179.07141, Temperature: 439.77777, phi: -1.4777818, psi: 2.4260802\n",
      "[MindSPONGE] Step: 840, E_pot: -510.97903, E_kin: 346.45782, E_tot: -164.52121, Temperature: 496.06308, phi: -1.5871048, psi: 2.4580326\n",
      "[MindSPONGE] Step: 850, E_pot: -448.34436, E_kin: 271.68182, E_tot: -176.66254, Temperature: 388.9978, phi: -1.465297, psi: 2.4931054\n",
      "[MindSPONGE] Step: 860, E_pot: -503.1631, E_kin: 323.08432, E_tot: -180.07877, Temperature: 462.5966, phi: -1.053183, psi: 2.343279\n",
      "[MindSPONGE] Step: 870, E_pot: -493.05206, E_kin: 307.35297, E_tot: -185.6991, Temperature: 440.07224, phi: -0.7618774, psi: 2.1241822\n",
      "[MindSPONGE] Step: 880, E_pot: -484.5627, E_kin: 303.73352, E_tot: -180.8292, Temperature: 434.88983, phi: -0.8590411, psi: 2.1941085\n",
      "[MindSPONGE] Step: 890, E_pot: -480.58527, E_kin: 308.48535, E_tot: -172.09991, Temperature: 441.69357, phi: -0.96455866, psi: 2.3746305\n",
      "[MindSPONGE] Step: 900, E_pot: -496.2631, E_kin: 303.38318, E_tot: -192.87991, Temperature: 434.3882, phi: -0.7939056, psi: 2.2839553\n",
      "[MindSPONGE] Step: 910, E_pot: -502.66208, E_kin: 306.7047, E_tot: -195.95737, Temperature: 439.14404, phi: -0.47725794, psi: 1.9794335\n",
      "[MindSPONGE] Step: 920, E_pot: -497.3302, E_kin: 298.54205, E_tot: -198.78815, Temperature: 427.45663, phi: -0.32815903, psi: 1.871804\n",
      "[MindSPONGE] Step: 930, E_pot: -488.5527, E_kin: 292.62756, E_tot: -195.92514, Temperature: 418.98816, phi: -0.5330316, psi: 2.1695971\n",
      "[MindSPONGE] Step: 940, E_pot: -544.4944, E_kin: 343.2292, E_tot: -201.2652, Temperature: 491.4403, phi: -0.5228039, psi: 2.3118443\n",
      "[MindSPONGE] Step: 950, E_pot: -556.254, E_kin: 362.02533, E_tot: -194.2287, Temperature: 518.35284, phi: -0.53225595, psi: 2.1726346\n",
      "[MindSPONGE] Step: 960, E_pot: -525.9864, E_kin: 326.896, E_tot: -199.0904, Temperature: 468.0542, phi: -0.6944748, psi: 2.1984842\n",
      "[MindSPONGE] Step: 970, E_pot: -548.38385, E_kin: 357.50848, E_tot: -190.87537, Temperature: 511.8856, phi: -0.7817262, psi: 2.4552426\n",
      "[MindSPONGE] Step: 980, E_pot: -543.0712, E_kin: 351.9755, E_tot: -191.09573, Temperature: 503.96338, phi: -0.7403673, psi: 2.5551372\n",
      "[MindSPONGE] Step: 990, E_pot: -566.4431, E_kin: 372.70154, E_tot: -193.74158, Temperature: 533.6392, phi: -0.7799426, psi: 2.3595283\n",
      "[MindSPONGE] Finished simulation at 2023-08-15 16:36:16\n",
      "[MindSPONGE] Simulation time: 1 minutes 11.8 seconds.\n",
      "--------------------------------------------------------------------------------\n"
     ]
    },
    {
     "data": {
      "text/plain": [
       "<mindsponge.core.sponge.Sponge at 0x7f6044155580>"
      ]
     },
     "execution_count": 6,
     "metadata": {},
     "output_type": "execute_result"
    }
   ],
   "source": [
    "sim = WithEnergyCell(system, energy, bias=metad)\n",
    "vgen = VelocityGenerator(300)\n",
    "velocity = vgen(system.shape, system.atom_mass)\n",
    "opt = UpdaterMD(\n",
    "    system,\n",
    "    integrator=VelocityVerlet(system),\n",
    "    thermostat=Langevin(system, 300),\n",
    "    time_step=1e-3,\n",
    "    velocity=velocity\n",
    ")\n",
    "md = Sponge(sim, optimizer=opt, metrics={'phi': phi, 'psi': psi})\n",
    "cb_h5md = WriteH5MD(system, './p04_2.h5md', save_freq=10, write_image=False)\n",
    "md.run(1000, callbacks=[run_info, cb_h5md])"
   ]
  }
 ],
 "metadata": {
  "kernelspec": {
   "display_name": "mindspore-base",
   "language": "python",
   "name": "python3"
  },
  "language_info": {
   "codemirror_mode": {
    "name": "ipython",
    "version": 3
   },
   "file_extension": ".py",
   "mimetype": "text/x-python",
   "name": "python",
   "nbconvert_exporter": "python",
   "pygments_lexer": "ipython3",
   "version": "3.9.17"
  },
  "orig_nbformat": 4
 },
 "nbformat": 4,
 "nbformat_minor": 2
}
