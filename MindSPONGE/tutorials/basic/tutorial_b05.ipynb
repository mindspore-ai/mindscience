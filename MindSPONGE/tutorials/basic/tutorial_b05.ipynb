{
 "cells": [
  {
   "cell_type": "code",
   "execution_count": 1,
   "id": "6cb602d4-e208-42ac-88fc-9e9768c77589",
   "metadata": {},
   "outputs": [],
   "source": [
    "from sponge import Sponge\n",
    "from sponge import Molecule\n",
    "from sponge import ForceField\n",
    "from sponge import UpdaterMD\n",
    "from sponge import WithEnergyCell\n",
    "from sponge.control import VelocityVerlet, Langevin, BerendsenBarostat\n",
    "from sponge.function import VelocityGenerator\n",
    "from sponge.callback import WriteH5MD, RunInfo\n",
    "from sponge.optimizer import SteepestDescent\n",
    "from mindspore import context"
   ]
  },
  {
   "cell_type": "code",
   "execution_count": 2,
   "id": "f9571cf2",
   "metadata": {},
   "outputs": [],
   "source": [
    "context.set_context(mode=context.GRAPH_MODE, device_target=\"GPU\")"
   ]
  },
  {
   "cell_type": "code",
   "execution_count": 3,
   "id": "6a33a60b-08b8-42f4-8a78-b6553d418e4e",
   "metadata": {},
   "outputs": [
    {
     "data": {
      "text/plain": [
       "Parameter (name=pbc_box, shape=(1, 3), dtype=Float32, requires_grad=True)"
      ]
     },
     "execution_count": 3,
     "metadata": {},
     "output_type": "execute_result"
    }
   ],
   "source": [
    "system = Molecule(template='water.spce.yaml')\n",
    "system.set_pbc_box([0.4, 0.4, 0.4])"
   ]
  },
  {
   "attachments": {},
   "cell_type": "markdown",
   "id": "c199fd38-25ff-40bf-bc35-02255f10017e",
   "metadata": {},
   "source": [
    "如果定义了周期性的盒子，那么还可以使用repeat_box功能来扩展/复制系统，比如可以这样将系统复制1000份"
   ]
  },
  {
   "cell_type": "code",
   "execution_count": 4,
   "id": "d1be6458-a40f-428c-8667-35472bd7a811",
   "metadata": {},
   "outputs": [
    {
     "data": {
      "text/plain": [
       "Molecule<>"
      ]
     },
     "execution_count": 4,
     "metadata": {},
     "output_type": "execute_result"
    }
   ],
   "source": [
    "system.repeat_box([10, 10, 10])"
   ]
  },
  {
   "attachments": {},
   "cell_type": "markdown",
   "id": "39ebe6b6-f38e-4789-bd3a-21ebfd571324",
   "metadata": {},
   "source": [
    "得到的分子系统的示意图如下所示：\n",
    "![](../../docs/tutorial_b05.png)"
   ]
  },
  {
   "cell_type": "code",
   "execution_count": 5,
   "id": "013928f0-8217-48b8-87b8-4983e42c4db8",
   "metadata": {},
   "outputs": [],
   "source": [
    "potential = ForceField(system, parameters='SPCE')"
   ]
  },
  {
   "cell_type": "code",
   "execution_count": 6,
   "id": "eaa250b5-17e8-4513-9a35-3f25ad00fb72",
   "metadata": {},
   "outputs": [],
   "source": [
    "opt = SteepestDescent(system.trainable_params(), 1e-6)"
   ]
  },
  {
   "cell_type": "code",
   "execution_count": 7,
   "id": "45386747-2f06-4157-8557-43cfed2f35ce",
   "metadata": {},
   "outputs": [
    {
     "name": "stdout",
     "output_type": "stream",
     "text": [
      "[MindSPONGE] Calculate the neighbour list using the inter-atomic distances.\n"
     ]
    },
    {
     "name": "stderr",
     "output_type": "stream",
     "text": [
      "[WARNING] KERNEL(1445437,7fbdb7a3a500,python):2023-05-19-09:53:00.104.294 [mindspore/ccsrc/plugin/device/gpu/kernel/gpu_kernel.cc:40] CheckDeviceSm] It is recommended to use devices with a computing capacity >= 7, but the current device's computing capacity is 6\n"
     ]
    }
   ],
   "source": [
    "sim = WithEnergyCell(system, potential, cutoff=1.0)\n",
    "md = Sponge(sim, optimizer=opt)"
   ]
  },
  {
   "cell_type": "code",
   "execution_count": 8,
   "id": "ec6d41b5-8da8-4add-a2b7-6e6754be5742",
   "metadata": {},
   "outputs": [
    {
     "name": "stdout",
     "output_type": "stream",
     "text": [
      "[MindSPONGE] Started simulation at 2023-05-19 09:53:07\n",
      "[MindSPONGE] Step: 0, E_pot: -7163.629\n",
      "[MindSPONGE] Step: 10, E_pot: -7715.919\n",
      "[MindSPONGE] Step: 20, E_pot: -7753.0566\n",
      "[MindSPONGE] Step: 30, E_pot: -7755.648\n",
      "[MindSPONGE] Step: 40, E_pot: -7755.898\n",
      "[MindSPONGE] Step: 50, E_pot: -7755.876\n",
      "[MindSPONGE] Step: 60, E_pot: -7756.2266\n",
      "[MindSPONGE] Step: 70, E_pot: -7756.2534\n",
      "[MindSPONGE] Step: 80, E_pot: -7756.245\n",
      "[MindSPONGE] Step: 90, E_pot: -7756.242\n",
      "[MindSPONGE] Finished simulation at 2023-05-19 09:53:16\n",
      "[MindSPONGE] Simulation time: 8.39 seconds.\n",
      "--------------------------------------------------------------------------------\n"
     ]
    },
    {
     "data": {
      "text/plain": [
       "<mindsponge.core.sponge.Sponge at 0x7fbd06217940>"
      ]
     },
     "execution_count": 8,
     "metadata": {},
     "output_type": "execute_result"
    }
   ],
   "source": [
    "run_info = RunInfo(10)\n",
    "md.run(100, callbacks=[run_info])"
   ]
  },
  {
   "cell_type": "code",
   "execution_count": 9,
   "id": "d30ca198-6e5e-4ec2-a64c-99d1e254f959",
   "metadata": {},
   "outputs": [],
   "source": [
    "temp = 300\n",
    "vgen = VelocityGenerator(temp)\n",
    "velocity = vgen(system.shape, system.atom_mass)"
   ]
  },
  {
   "cell_type": "code",
   "execution_count": 10,
   "id": "73e8a6d6-7f4b-4b0e-9fc8-1965bd5fb32b",
   "metadata": {},
   "outputs": [],
   "source": [
    "opt = UpdaterMD(system,\n",
    "                integrator=VelocityVerlet(system),\n",
    "                thermostat=Langevin(system, temp),\n",
    "                barostat=BerendsenBarostat(system, 1),\n",
    "                velocity=velocity,\n",
    "                time_step=5e-4)\n",
    "md = Sponge(sim, optimizer=opt)"
   ]
  },
  {
   "cell_type": "code",
   "execution_count": 11,
   "id": "7a20e0e2-8906-4f88-b315-804ac193aa9a",
   "metadata": {},
   "outputs": [
    {
     "data": {
      "text/plain": [
       "<mindsponge.core.sponge.Sponge at 0x7fbd9366c3a0>"
      ]
     },
     "execution_count": 11,
     "metadata": {},
     "output_type": "execute_result"
    }
   ],
   "source": [
    "md.change_optimizer(opt)"
   ]
  },
  {
   "cell_type": "code",
   "execution_count": 12,
   "id": "dc3c3c5c-4106-44ce-99f8-d842983762d9",
   "metadata": {},
   "outputs": [],
   "source": [
    "cb_h5md = WriteH5MD(system, 'tutorial_b05.h5md', save_freq=10)"
   ]
  },
  {
   "cell_type": "code",
   "execution_count": 13,
   "id": "173b4f21-81f0-4e06-9375-09132fcd254d",
   "metadata": {},
   "outputs": [
    {
     "name": "stdout",
     "output_type": "stream",
     "text": [
      "[MindSPONGE] Started simulation at 2023-05-19 09:53:22\n",
      "[MindSPONGE] Step: 0, E_pot: -7756.253, E_kin: 11301.678, E_tot: 3545.4248, Temperature: 302.16284, Pressure: 649.8786, Volume: 64.0\n",
      "[MindSPONGE] Step: 10, E_pot: -6364.685, E_kin: 10050.27, E_tot: 3685.5845, Temperature: 268.70505, Pressure: -1139.3953, Volume: 63.990913\n",
      "[MindSPONGE] Step: 20, E_pot: -7306.667, E_kin: 11098.0205, E_tot: 3791.3535, Temperature: 296.7178, Pressure: 380.5648, Volume: 63.978497\n",
      "[MindSPONGE] Step: 30, E_pot: -6612.3, E_kin: 10596.975, E_tot: 3984.6748, Temperature: 283.3218, Pressure: -1579.7797, Volume: 63.966797\n",
      "[MindSPONGE] Step: 40, E_pot: -7663.0093, E_kin: 11613.1, E_tot: 3950.0903, Temperature: 310.48904, Pressure: -333.62012, Volume: 63.947372\n",
      "[MindSPONGE] Step: 50, E_pot: -8058.2236, E_kin: 12113.102, E_tot: 4054.878, Temperature: 323.85715, Pressure: -2688.4717, Volume: 63.924316\n",
      "[MindSPONGE] Step: 60, E_pot: -9006.488, E_kin: 12985.721, E_tot: 3979.2324, Temperature: 347.18756, Pressure: -1182.9622, Volume: 63.89196\n",
      "[MindSPONGE] Step: 70, E_pot: -9869.636, E_kin: 13785.867, E_tot: 3916.2314, Temperature: 368.58035, Pressure: -3694.354, Volume: 63.857307\n",
      "[MindSPONGE] Step: 80, E_pot: -10098.859, E_kin: 13576.83, E_tot: 3477.9707, Temperature: 362.99152, Pressure: -1938.2842, Volume: 63.81132\n",
      "[MindSPONGE] Step: 90, E_pot: -10719.166, E_kin: 14035.7295, E_tot: 3316.5635, Temperature: 375.2607, Pressure: -4339.304, Volume: 63.770832\n",
      "[MindSPONGE] Step: 100, E_pot: -10270.801, E_kin: 13207.148, E_tot: 2936.3477, Temperature: 353.10767, Pressure: -2411.9736, Volume: 63.714813\n",
      "[MindSPONGE] Step: 110, E_pot: -10938.654, E_kin: 13627.323, E_tot: 2688.669, Temperature: 364.34152, Pressure: -4366.8203, Volume: 63.676666\n",
      "[MindSPONGE] Step: 120, E_pot: -10411.06, E_kin: 12829.852, E_tot: 2418.792, Temperature: 343.02023, Pressure: -2566.9966, Volume: 63.617058\n",
      "[MindSPONGE] Step: 130, E_pot: -11090.599, E_kin: 13282.644, E_tot: 2192.045, Temperature: 355.12613, Pressure: -4112.5796, Volume: 63.581615\n",
      "[MindSPONGE] Step: 140, E_pot: -10800.345, E_kin: 12910.995, E_tot: 2110.6504, Temperature: 345.1897, Pressure: -2985.5771, Volume: 63.518696\n",
      "[MindSPONGE] Step: 150, E_pot: -11448.951, E_kin: 13323.722, E_tot: 1874.7705, Temperature: 356.2244, Pressure: -3720.2058, Volume: 63.48489\n",
      "[MindSPONGE] Step: 160, E_pot: -11499.745, E_kin: 13207.111, E_tot: 1707.3662, Temperature: 353.1067, Pressure: -3709.1572, Volume: 63.42032\n",
      "[MindSPONGE] Step: 170, E_pot: -12029.305, E_kin: 13508.386, E_tot: 1479.081, Temperature: 361.1616, Pressure: -3041.2988, Volume: 63.384167\n",
      "[MindSPONGE] Step: 180, E_pot: -12312.682, E_kin: 13617.09, E_tot: 1304.4082, Temperature: 364.06793, Pressure: -4027.4688, Volume: 63.322136\n",
      "[MindSPONGE] Step: 190, E_pot: -12698.835, E_kin: 13698.424, E_tot: 999.58887, Temperature: 366.24246, Pressure: -2575.084, Volume: 63.285793\n",
      "[MindSPONGE] Step: 200, E_pot: -13340.921, E_kin: 13996.991, E_tot: 656.0703, Temperature: 374.225, Pressure: -4517.8857, Volume: 63.226665\n",
      "[MindSPONGE] Step: 210, E_pot: -13584.884, E_kin: 13779.191, E_tot: 194.30762, Temperature: 368.4019, Pressure: -2233.4663, Volume: 63.184155\n",
      "[MindSPONGE] Step: 220, E_pot: -14231.555, E_kin: 14031.053, E_tot: -200.50195, Temperature: 375.13568, Pressure: -4525.115, Volume: 63.131664\n",
      "[MindSPONGE] Step: 230, E_pot: -14262.395, E_kin: 13663.084, E_tot: -599.31055, Temperature: 365.29764, Pressure: -1968.9058, Volume: 63.086113\n",
      "[MindSPONGE] Step: 240, E_pot: -14830.961, E_kin: 13813.912, E_tot: -1017.0488, Temperature: 369.3302, Pressure: -4317.6255, Volume: 63.041485\n",
      "[MindSPONGE] Step: 250, E_pot: -14943.827, E_kin: 13668.453, E_tot: -1275.374, Temperature: 365.44116, Pressure: -1988.3431, Volume: 62.992916\n",
      "[MindSPONGE] Step: 260, E_pot: -15451.592, E_kin: 13933.768, E_tot: -1517.8242, Temperature: 372.53464, Pressure: -3726.9316, Volume: 62.956177\n",
      "[MindSPONGE] Step: 270, E_pot: -15725.96, E_kin: 13988.981, E_tot: -1736.9785, Temperature: 374.01083, Pressure: -2268.5857, Volume: 62.907833\n",
      "[MindSPONGE] Step: 280, E_pot: -16183.232, E_kin: 14116.489, E_tot: -2066.7432, Temperature: 377.41992, Pressure: -3212.252, Volume: 62.87374\n",
      "[MindSPONGE] Step: 290, E_pot: -16455.543, E_kin: 14217.5625, E_tot: -2237.9805, Temperature: 380.1222, Pressure: -2454.0994, Volume: 62.82742\n",
      "[MindSPONGE] Step: 300, E_pot: -16867.44, E_kin: 14100.043, E_tot: -2767.3965, Temperature: 376.9802, Pressure: -2730.6729, Volume: 62.794495\n",
      "[MindSPONGE] Step: 310, E_pot: -17323.443, E_kin: 14338.947, E_tot: -2984.496, Temperature: 383.36758, Pressure: -2752.6025, Volume: 62.75136\n",
      "[MindSPONGE] Step: 320, E_pot: -17527.79, E_kin: 14271.767, E_tot: -3256.0225, Temperature: 381.5714, Pressure: -2163.5732, Volume: 62.717865\n",
      "[MindSPONGE] Step: 330, E_pot: -17931.66, E_kin: 14439.822, E_tot: -3491.838, Temperature: 386.06458, Pressure: -2847.6052, Volume: 62.680416\n",
      "[MindSPONGE] Step: 340, E_pot: -17918.326, E_kin: 14136.973, E_tot: -3781.3535, Temperature: 377.96756, Pressure: -1723.5306, Volume: 62.647114\n",
      "[MindSPONGE] Step: 350, E_pot: -18436.06, E_kin: 14374.324, E_tot: -4061.7363, Temperature: 384.31342, Pressure: -2761.5815, Volume: 62.616005\n",
      "[MindSPONGE] Step: 360, E_pot: -18499.861, E_kin: 14110.144, E_tot: -4389.718, Temperature: 377.25024, Pressure: -1859.0168, Volume: 62.580482\n",
      "[MindSPONGE] Step: 370, E_pot: -18916.502, E_kin: 14118.685, E_tot: -4797.8174, Temperature: 377.4786, Pressure: -2617.549, Volume: 62.551353\n",
      "[MindSPONGE] Step: 380, E_pot: -19093.992, E_kin: 14037.709, E_tot: -5056.283, Temperature: 375.31363, Pressure: -2102.9941, Volume: 62.515213\n",
      "[MindSPONGE] Step: 390, E_pot: -19344.846, E_kin: 13947.914, E_tot: -5396.9316, Temperature: 372.91287, Pressure: -2223.022, Volume: 62.4873\n",
      "[MindSPONGE] Step: 400, E_pot: -19653.941, E_kin: 14108.25, E_tot: -5545.6914, Temperature: 377.19962, Pressure: -2119.367, Volume: 62.453835\n",
      "[MindSPONGE] Step: 410, E_pot: -19908.607, E_kin: 14116.403, E_tot: -5792.204, Temperature: 377.4176, Pressure: -2291.6055, Volume: 62.422966\n",
      "[MindSPONGE] Step: 420, E_pot: -20275.244, E_kin: 14152.825, E_tot: -6122.419, Temperature: 378.3914, Pressure: -2299.703, Volume: 62.389343\n",
      "[MindSPONGE] Step: 430, E_pot: -20332.85, E_kin: 13961.043, E_tot: -6371.8066, Temperature: 373.2639, Pressure: -2219.986, Volume: 62.35611\n",
      "[MindSPONGE] Step: 440, E_pot: -20770.924, E_kin: 14075.878, E_tot: -6695.046, Temperature: 376.33414, Pressure: -2277.0093, Volume: 62.32479\n",
      "[MindSPONGE] Step: 450, E_pot: -20976.41, E_kin: 13849.117, E_tot: -7127.293, Temperature: 370.27142, Pressure: -2503.7764, Volume: 62.289528\n",
      "[MindSPONGE] Step: 460, E_pot: -21517.432, E_kin: 14058.186, E_tot: -7459.246, Temperature: 375.8611, Pressure: -2230.418, Volume: 62.25594\n",
      "[MindSPONGE] Step: 470, E_pot: -21696.676, E_kin: 13904.797, E_tot: -7791.879, Temperature: 371.7601, Pressure: -2551.444, Volume: 62.219387\n",
      "[MindSPONGE] Step: 480, E_pot: -21888.746, E_kin: 13814.728, E_tot: -8074.0186, Temperature: 369.352, Pressure: -1904.556, Volume: 62.18752\n",
      "[MindSPONGE] Step: 490, E_pot: -22124.854, E_kin: 13800.655, E_tot: -8324.198, Temperature: 368.97574, Pressure: -2567.3398, Volume: 62.155212\n",
      "[MindSPONGE] Step: 500, E_pot: -22380.9, E_kin: 13906.083, E_tot: -8474.817, Temperature: 371.79446, Pressure: -2017.3784, Volume: 62.122234\n",
      "[MindSPONGE] Step: 510, E_pot: -22685.004, E_kin: 13975.941, E_tot: -8709.0625, Temperature: 373.6622, Pressure: -2701.908, Volume: 62.0881\n",
      "[MindSPONGE] Step: 520, E_pot: -22703.354, E_kin: 13744.106, E_tot: -8959.247, Temperature: 367.46384, Pressure: -2100.4856, Volume: 62.054295\n",
      "[MindSPONGE] Step: 530, E_pot: -22925.676, E_kin: 13692.511, E_tot: -9233.165, Temperature: 366.08438, Pressure: -2594.1482, Volume: 62.02078\n",
      "[MindSPONGE] Step: 540, E_pot: -23064.406, E_kin: 13523.738, E_tot: -9540.668, Temperature: 361.57205, Pressure: -1838.6571, Volume: 61.988945\n",
      "[MindSPONGE] Step: 550, E_pot: -23468.723, E_kin: 13744.285, E_tot: -9724.4375, Temperature: 367.46863, Pressure: -2823.6707, Volume: 61.95822\n",
      "[MindSPONGE] Step: 560, E_pot: -23640.547, E_kin: 13699.506, E_tot: -9941.041, Temperature: 366.2714, Pressure: -1813.0258, Volume: 61.921978\n",
      "[MindSPONGE] Step: 570, E_pot: -23893.113, E_kin: 13727.037, E_tot: -10166.076, Temperature: 367.00748, Pressure: -2652.3823, Volume: 61.89379\n",
      "[MindSPONGE] Step: 580, E_pot: -24049.43, E_kin: 13657.34, E_tot: -10392.09, Temperature: 365.14404, Pressure: -1732.6726, Volume: 61.859303\n",
      "[MindSPONGE] Step: 590, E_pot: -24338.309, E_kin: 13680.3955, E_tot: -10657.913, Temperature: 365.76047, Pressure: -2667.9644, Volume: 61.832996\n",
      "[MindSPONGE] Step: 600, E_pot: -24569.914, E_kin: 13770.727, E_tot: -10799.1875, Temperature: 368.17557, Pressure: -1592.1074, Volume: 61.798298\n",
      "[MindSPONGE] Step: 610, E_pot: -24683.72, E_kin: 13829.8, E_tot: -10853.921, Temperature: 369.75494, Pressure: -2362.0183, Volume: 61.775406\n",
      "[MindSPONGE] Step: 620, E_pot: -24849.352, E_kin: 13844.4, E_tot: -11004.951, Temperature: 370.1453, Pressure: -1765.0223, Volume: 61.741745\n",
      "[MindSPONGE] Step: 630, E_pot: -25107.926, E_kin: 13837.807, E_tot: -11270.119, Temperature: 369.96902, Pressure: -2404.0964, Volume: 61.71684\n",
      "[MindSPONGE] Step: 640, E_pot: -25353.912, E_kin: 13960.622, E_tot: -11393.29, Temperature: 373.25262, Pressure: -2100.4746, Volume: 61.681103\n",
      "[MindSPONGE] Step: 650, E_pot: -25486.547, E_kin: 13803.619, E_tot: -11682.928, Temperature: 369.055, Pressure: -2030.3168, Volume: 61.656105\n",
      "[MindSPONGE] Step: 660, E_pot: -25743.078, E_kin: 13817.389, E_tot: -11925.689, Temperature: 369.42313, Pressure: -2130.101, Volume: 61.622345\n",
      "[MindSPONGE] Step: 670, E_pot: -25877.555, E_kin: 13559.689, E_tot: -12317.865, Temperature: 362.53326, Pressure: -1990.9275, Volume: 61.595398\n",
      "[MindSPONGE] Step: 680, E_pot: -26006.133, E_kin: 13503.969, E_tot: -12502.164, Temperature: 361.0435, Pressure: -2228.5515, Volume: 61.563187\n",
      "[MindSPONGE] Step: 690, E_pot: -26147.334, E_kin: 13455.642, E_tot: -12691.692, Temperature: 359.75143, Pressure: -1817.0687, Volume: 61.537434\n",
      "[MindSPONGE] Step: 700, E_pot: -26478.277, E_kin: 13436.735, E_tot: -13041.542, Temperature: 359.24594, Pressure: -2516.3945, Volume: 61.504707\n",
      "[MindSPONGE] Step: 710, E_pot: -26596.002, E_kin: 13356.783, E_tot: -13239.219, Temperature: 357.1083, Pressure: -1834.2029, Volume: 61.474094\n",
      "[MindSPONGE] Step: 720, E_pot: -26780.965, E_kin: 13342.139, E_tot: -13438.826, Temperature: 356.7168, Pressure: -2489.454, Volume: 61.44296\n",
      "[MindSPONGE] Step: 730, E_pot: -26980.701, E_kin: 13398.369, E_tot: -13582.332, Temperature: 358.22015, Pressure: -2098.035, Volume: 61.41069\n",
      "[MindSPONGE] Step: 740, E_pot: -26968.854, E_kin: 13294.085, E_tot: -13674.769, Temperature: 355.43204, Pressure: -2389.1714, Volume: 61.378654\n",
      "[MindSPONGE] Step: 750, E_pot: -27192.705, E_kin: 13270.371, E_tot: -13922.334, Temperature: 354.798, Pressure: -2093.0505, Volume: 61.347656\n",
      "[MindSPONGE] Step: 760, E_pot: -27170.0, E_kin: 13023.141, E_tot: -14146.859, Temperature: 348.18802, Pressure: -2431.018, Volume: 61.31494\n",
      "[MindSPONGE] Step: 770, E_pot: -27495.885, E_kin: 12976.665, E_tot: -14519.22, Temperature: 346.94547, Pressure: -2142.8376, Volume: 61.283512\n",
      "[MindSPONGE] Step: 780, E_pot: -27633.004, E_kin: 13072.269, E_tot: -14560.735, Temperature: 349.50153, Pressure: -2548.6025, Volume: 61.249878\n",
      "[MindSPONGE] Step: 790, E_pot: -27921.975, E_kin: 13160.967, E_tot: -14761.008, Temperature: 351.87296, Pressure: -2284.8582, Volume: 61.216366\n",
      "[MindSPONGE] Step: 800, E_pot: -28041.97, E_kin: 13187.017, E_tot: -14854.954, Temperature: 352.56943, Pressure: -2767.373, Volume: 61.18096\n",
      "[MindSPONGE] Step: 810, E_pot: -28175.094, E_kin: 12987.002, E_tot: -15188.092, Temperature: 347.2218, Pressure: -2204.8035, Volume: 61.145657\n",
      "[MindSPONGE] Step: 820, E_pot: -28231.934, E_kin: 12834.285, E_tot: -15397.648, Temperature: 343.1388, Pressure: -2761.7246, Volume: 61.11167\n",
      "[MindSPONGE] Step: 830, E_pot: -28297.984, E_kin: 12694.757, E_tot: -15603.228, Temperature: 339.40833, Pressure: -2099.8699, Volume: 61.077023\n",
      "[MindSPONGE] Step: 840, E_pot: -28483.605, E_kin: 12764.662, E_tot: -15718.943, Temperature: 341.27734, Pressure: -2606.4287, Volume: 61.044456\n",
      "[MindSPONGE] Step: 850, E_pot: -28493.775, E_kin: 12704.466, E_tot: -15789.31, Temperature: 339.6679, Pressure: -2063.4966, Volume: 61.010498\n",
      "[MindSPONGE] Step: 860, E_pot: -28607.957, E_kin: 12760.376, E_tot: -15847.581, Temperature: 341.16272, Pressure: -2498.1707, Volume: 60.98011\n",
      "[MindSPONGE] Step: 870, E_pot: -28811.523, E_kin: 12694.766, E_tot: -16116.758, Temperature: 339.40857, Pressure: -1943.7772, Volume: 60.947716\n",
      "[MindSPONGE] Step: 880, E_pot: -29028.975, E_kin: 12740.346, E_tot: -16288.629, Temperature: 340.62717, Pressure: -2768.7632, Volume: 60.916946\n",
      "[MindSPONGE] Step: 890, E_pot: -29319.793, E_kin: 12945.705, E_tot: -16374.088, Temperature: 346.1177, Pressure: -2063.688, Volume: 60.88085\n",
      "[MindSPONGE] Step: 900, E_pot: -29408.406, E_kin: 12915.512, E_tot: -16492.895, Temperature: 345.31042, Pressure: -2349.7036, Volume: 60.85227\n",
      "[MindSPONGE] Step: 910, E_pot: -29438.809, E_kin: 12626.782, E_tot: -16812.027, Temperature: 337.59094, Pressure: -1864.1257, Volume: 60.818233\n",
      "[MindSPONGE] Step: 920, E_pot: -29680.016, E_kin: 12739.741, E_tot: -16940.273, Temperature: 340.61102, Pressure: -2197.085, Volume: 60.794685\n",
      "[MindSPONGE] Step: 930, E_pot: -29843.96, E_kin: 12614.222, E_tot: -17229.738, Temperature: 337.25513, Pressure: -1927.541, Volume: 60.76069\n",
      "[MindSPONGE] Step: 940, E_pot: -30087.379, E_kin: 12640.077, E_tot: -17447.3, Temperature: 337.94638, Pressure: -2055.555, Volume: 60.73792\n",
      "[MindSPONGE] Step: 950, E_pot: -30149.39, E_kin: 12604.114, E_tot: -17545.277, Temperature: 336.9849, Pressure: -2025.1483, Volume: 60.704723\n",
      "[MindSPONGE] Step: 960, E_pot: -30284.957, E_kin: 12572.407, E_tot: -17712.55, Temperature: 336.13718, Pressure: -1764.429, Volume: 60.68272\n",
      "[MindSPONGE] Step: 970, E_pot: -30390.223, E_kin: 12589.904, E_tot: -17800.318, Temperature: 336.60498, Pressure: -2246.697, Volume: 60.650894\n",
      "[MindSPONGE] Step: 980, E_pot: -30541.066, E_kin: 12445.975, E_tot: -18095.092, Temperature: 332.75684, Pressure: -1432.4545, Volume: 60.62786\n",
      "[MindSPONGE] Step: 990, E_pot: -30578.229, E_kin: 12398.359, E_tot: -18179.87, Temperature: 331.48383, Pressure: -2566.106, Volume: 60.59822\n",
      "[MindSPONGE] Finished simulation at 2023-05-19 09:54:22\n",
      "[MindSPONGE] Simulation time: 59.66 seconds.\n",
      "--------------------------------------------------------------------------------\n"
     ]
    },
    {
     "data": {
      "text/plain": [
       "<mindsponge.core.sponge.Sponge at 0x7fbd9366c3a0>"
      ]
     },
     "execution_count": 13,
     "metadata": {},
     "output_type": "execute_result"
    }
   ],
   "source": [
    "md.run(1000, callbacks=[run_info, cb_h5md])"
   ]
  }
 ],
 "metadata": {
  "kernelspec": {
   "display_name": "mindspore-1.9",
   "language": "python",
   "name": "python3"
  },
  "language_info": {
   "codemirror_mode": {
    "name": "ipython",
    "version": 3
   },
   "file_extension": ".py",
   "mimetype": "text/x-python",
   "name": "python",
   "nbconvert_exporter": "python",
   "pygments_lexer": "ipython3",
   "version": "3.9.16"
  },
  "vscode": {
   "interpreter": {
    "hash": "768f82fbbece3f0acd424cda825de8aa44edbfaa38d8a3df4ff1437f7ae7861f"
   }
  }
 },
 "nbformat": 4,
 "nbformat_minor": 5
}
