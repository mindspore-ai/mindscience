{
 "cells": [
  {
   "cell_type": "code",
   "execution_count": 1,
   "id": "624a40e7-de43-4c51-8e2e-d2eea73ceb8d",
   "metadata": {},
   "outputs": [],
   "source": [
    "from sponge import Sponge\n",
    "from sponge import ForceField\n",
    "from sponge.optimizer import SteepestDescent\n",
    "from sponge.control import VelocityVerlet\n",
    "from sponge.callback import WriteH5MD, RunInfo\n",
    "from sponge.control import Langevin\n",
    "from sponge import set_global_units\n",
    "from sponge import Protein\n",
    "from sponge import UpdaterMD\n",
    "from sponge.function import VelocityGenerator\n",
    "from mindspore import context"
   ]
  },
  {
   "cell_type": "code",
   "execution_count": 2,
   "id": "5e67abd9",
   "metadata": {},
   "outputs": [],
   "source": [
    "context.set_context(mode=context.PYNATIVE_MODE, device_target=\"GPU\")"
   ]
  },
  {
   "attachments": {},
   "cell_type": "markdown",
   "id": "8b9397c0-5a6a-4338-9fa4-5b5ce46e0e58",
   "metadata": {},
   "source": [
    "## 单位设置\n",
    "\n",
    "这里我们提到的全局单位设置，主要是指输入输出的长度单位和能量单位，在MindSPONGE的计算过程中会自动根据默认单位进行计算，再将返回的结果转换成用户定义的单位。常用的长度单位是nm和A，一般在PDB文件里面是用A为单位。能量单位比较常用的是kJ/mol和kcal/mol。"
   ]
  },
  {
   "cell_type": "code",
   "execution_count": 3,
   "id": "c6bfe6a3-1f67-40ed-ba0d-33c0168c3f79",
   "metadata": {},
   "outputs": [],
   "source": [
    "set_global_units('nm', 'kj/mol')"
   ]
  },
  {
   "attachments": {},
   "cell_type": "markdown",
   "id": "83cbf326-a968-4cf5-a405-1ba7c97576d6",
   "metadata": {},
   "source": [
    "## 蛋白质案例\n",
    "\n",
    "我们提供了一些简单的蛋白质案例以供测试，一般用pdb(Protein Data Bank)格式来存储蛋白质文件。下述案例就是一个不含H原子的pdb文件（该构象来自于MEGAProtein的预测结果）。\n",
    "\n",
    "![](../../docs/case2-1.png)\n",
    "\n",
    "在使用MindSPONGE构建Protein对象时，会自动为其在相对合理的位置补充H原子（如下图所示）。而这一过程之后，最好对其进行一次能量最小化的操作，以确保得到的构象中不会存在太多的冲突，比如两个原子距离太近等。\n",
    "\n",
    "![](../../docs/case2-3.png)\n",
    "\n",
    "如果使用常用的蛋白质可视化算法NewCartoon来展示的话，可以更清晰的看到这个构象中所存在的$\\alpha$螺旋和$\\beta$折叠等区域：\n",
    "\n",
    "![](../../docs/case2-2.png)"
   ]
  },
  {
   "cell_type": "code",
   "execution_count": 4,
   "id": "66371d6d-a10c-47ff-99fb-6568f64ccddf",
   "metadata": {},
   "outputs": [
    {
     "name": "stdout",
     "output_type": "stream",
     "text": [
      "[MindSPONGE] Adding 2529 hydrogen atoms for the protein molecule in 0.085 seconds.\n"
     ]
    }
   ],
   "source": [
    "pdb_name = 'case2.pdb'\n",
    "system = Protein(pdb=pdb_name, rebuild_hydrogen=True)"
   ]
  },
  {
   "cell_type": "code",
   "execution_count": 5,
   "id": "1d313558-c263-4324-9a44-459dd2335de1",
   "metadata": {},
   "outputs": [],
   "source": [
    "energy = ForceField(system, 'AMBER.FF14SB')"
   ]
  },
  {
   "cell_type": "code",
   "execution_count": 6,
   "id": "7d85face-7806-4ee4-8f24-2889f073a099",
   "metadata": {},
   "outputs": [],
   "source": [
    "min_opt = SteepestDescent(system.trainable_params(), 1e-7)"
   ]
  },
  {
   "cell_type": "code",
   "execution_count": 7,
   "id": "07ff76ae-4624-4fa4-92d3-e98d24638206",
   "metadata": {},
   "outputs": [
    {
     "name": "stdout",
     "output_type": "stream",
     "text": [
      "[MindSPONGE] Using fully connected neighbour list (not updated).\n"
     ]
    }
   ],
   "source": [
    "md = Sponge(system, energy, min_opt)"
   ]
  },
  {
   "cell_type": "code",
   "execution_count": 8,
   "id": "51d64e25-7d63-46e0-977a-b0626b1ed361",
   "metadata": {},
   "outputs": [
    {
     "name": "stdout",
     "output_type": "stream",
     "text": [
      "[MindSPONGE] Started simulation at 2023-05-19 09:57:07\n",
      "[MindSPONGE] Step: 0, E_pot: 141277.78\n",
      "[MindSPONGE] Step: 10, E_pot: 96861.055\n",
      "[MindSPONGE] Step: 20, E_pot: 75968.83\n",
      "[MindSPONGE] Step: 30, E_pot: 62559.867\n",
      "[MindSPONGE] Step: 40, E_pot: 53021.83\n",
      "[MindSPONGE] Step: 50, E_pot: 45810.742\n",
      "[MindSPONGE] Step: 60, E_pot: 40129.074\n",
      "[MindSPONGE] Step: 70, E_pot: 35518.984\n",
      "[MindSPONGE] Step: 80, E_pot: 31696.496\n",
      "[MindSPONGE] Step: 90, E_pot: 28473.758\n",
      "[MindSPONGE] Step: 100, E_pot: 25719.988\n",
      "[MindSPONGE] Step: 110, E_pot: 23340.129\n",
      "[MindSPONGE] Step: 120, E_pot: 21262.904\n",
      "[MindSPONGE] Step: 130, E_pot: 19433.637\n",
      "[MindSPONGE] Step: 140, E_pot: 17809.629\n",
      "[MindSPONGE] Step: 150, E_pot: 16357.126\n",
      "[MindSPONGE] Step: 160, E_pot: 15049.161\n",
      "[MindSPONGE] Step: 170, E_pot: 13864.031\n",
      "[MindSPONGE] Step: 180, E_pot: 12784.111\n",
      "[MindSPONGE] Step: 190, E_pot: 11794.948\n",
      "[MindSPONGE] Step: 200, E_pot: 10884.631\n",
      "[MindSPONGE] Step: 210, E_pot: 10043.268\n",
      "[MindSPONGE] Step: 220, E_pot: 9262.622\n",
      "[MindSPONGE] Step: 230, E_pot: 8535.745\n",
      "[MindSPONGE] Step: 240, E_pot: 7856.7676\n",
      "[MindSPONGE] Step: 250, E_pot: 7220.5967\n",
      "[MindSPONGE] Step: 260, E_pot: 6622.9873\n",
      "[MindSPONGE] Step: 270, E_pot: 6060.1797\n",
      "[MindSPONGE] Step: 280, E_pot: 5528.9434\n",
      "[MindSPONGE] Step: 290, E_pot: 5026.4883\n",
      "[MindSPONGE] Step: 300, E_pot: 4550.3105\n",
      "[MindSPONGE] Step: 310, E_pot: 4098.2334\n",
      "[MindSPONGE] Step: 320, E_pot: 3668.3398\n",
      "[MindSPONGE] Step: 330, E_pot: 3258.9404\n",
      "[MindSPONGE] Step: 340, E_pot: 2868.4844\n",
      "[MindSPONGE] Step: 350, E_pot: 2495.6035\n",
      "[MindSPONGE] Step: 360, E_pot: 2139.0732\n",
      "[MindSPONGE] Step: 370, E_pot: 1797.793\n",
      "[MindSPONGE] Step: 380, E_pot: 1470.752\n",
      "[MindSPONGE] Step: 390, E_pot: 1157.0371\n",
      "[MindSPONGE] Step: 400, E_pot: 855.81934\n",
      "[MindSPONGE] Step: 410, E_pot: 566.3496\n",
      "[MindSPONGE] Step: 420, E_pot: 287.90723\n",
      "[MindSPONGE] Step: 430, E_pot: 19.878906\n",
      "[MindSPONGE] Step: 440, E_pot: -238.31982\n",
      "[MindSPONGE] Step: 450, E_pot: -487.2422\n",
      "[MindSPONGE] Step: 460, E_pot: -727.40137\n",
      "[MindSPONGE] Step: 470, E_pot: -959.2656\n",
      "[MindSPONGE] Step: 480, E_pot: -1183.2705\n",
      "[MindSPONGE] Step: 490, E_pot: -1399.8013\n",
      "[MindSPONGE] Finished simulation at 2023-05-19 09:58:00\n",
      "[MindSPONGE] Simulation time: 52.42 seconds.\n",
      "--------------------------------------------------------------------------------\n"
     ]
    },
    {
     "data": {
      "text/plain": [
       "<mindsponge.core.sponge.Sponge at 0x7fb585aedcd0>"
      ]
     },
     "execution_count": 8,
     "metadata": {},
     "output_type": "execute_result"
    }
   ],
   "source": [
    "run_info = RunInfo(10)\n",
    "md.run(500, callbacks=[run_info])"
   ]
  },
  {
   "cell_type": "code",
   "execution_count": 9,
   "id": "ee6d410b-a152-4785-9a67-322996b09bfd",
   "metadata": {},
   "outputs": [],
   "source": [
    "vgen = VelocityGenerator(300)\n",
    "velocity = vgen(system.shape, system.atom_mass)"
   ]
  },
  {
   "cell_type": "code",
   "execution_count": 10,
   "id": "a4208b35-3d46-4b71-9144-f0e8d6959f74",
   "metadata": {},
   "outputs": [],
   "source": [
    "opt = UpdaterMD(system,\n",
    "                integrator=VelocityVerlet(system),\n",
    "                thermostat=Langevin(system, 300),\n",
    "                time_step=1e-3,\n",
    "                velocity=velocity)"
   ]
  },
  {
   "cell_type": "code",
   "execution_count": 11,
   "id": "0a7bcba5-5ac0-4f46-94aa-f078f3e3ffb1",
   "metadata": {},
   "outputs": [
    {
     "name": "stdout",
     "output_type": "stream",
     "text": [
      "[MindSPONGE] Using fully connected neighbour list (not updated).\n"
     ]
    }
   ],
   "source": [
    "md = Sponge(system, energy, min_opt)"
   ]
  },
  {
   "cell_type": "code",
   "execution_count": 12,
   "id": "bf16e327-09fb-42dd-91ea-320b9acad87d",
   "metadata": {},
   "outputs": [],
   "source": [
    "cb_h5md = WriteH5MD(system, 'tutorial_b06.h5md', save_freq=10, write_velocity=True, write_force=True)"
   ]
  },
  {
   "cell_type": "code",
   "execution_count": 13,
   "id": "c1084b9b-4df7-46c0-8a34-ccb19df6a153",
   "metadata": {},
   "outputs": [
    {
     "name": "stdout",
     "output_type": "stream",
     "text": [
      "[MindSPONGE] Started simulation at 2023-05-19 09:58:14\n",
      "[MindSPONGE] Step: 0, E_pot: -1609.2485, E_kin: 9470.317, E_tot: 7861.069, Temperature: 300.37378\n",
      "[MindSPONGE] Step: 10, E_pot: -2206.371, E_kin: 9788.834, E_tot: 7582.463, Temperature: 310.47632\n",
      "[MindSPONGE] Step: 20, E_pot: -2941.3687, E_kin: 11072.383, E_tot: 8131.014, Temperature: 351.18713\n",
      "[MindSPONGE] Step: 30, E_pot: -2025.5215, E_kin: 9833.14, E_tot: 7807.618, Temperature: 311.88156\n",
      "[MindSPONGE] Step: 40, E_pot: -3535.168, E_kin: 11228.759, E_tot: 7693.591, Temperature: 356.14697\n",
      "[MindSPONGE] Step: 50, E_pot: -2917.1187, E_kin: 10332.035, E_tot: 7414.9165, Temperature: 327.70523\n",
      "[MindSPONGE] Step: 60, E_pot: -3449.0127, E_kin: 10754.891, E_tot: 7305.878, Temperature: 341.1171\n",
      "[MindSPONGE] Step: 70, E_pot: -3389.8457, E_kin: 10380.318, E_tot: 6990.4727, Temperature: 329.23666\n",
      "[MindSPONGE] Step: 80, E_pot: -3525.5068, E_kin: 10365.564, E_tot: 6840.0576, Temperature: 328.76868\n",
      "[MindSPONGE] Step: 90, E_pot: -4103.381, E_kin: 10620.147, E_tot: 6516.7666, Temperature: 336.8434\n",
      "[MindSPONGE] Step: 100, E_pot: -3710.88, E_kin: 10188.369, E_tot: 6477.4893, Temperature: 323.14853\n",
      "[MindSPONGE] Step: 110, E_pot: -3913.1812, E_kin: 10189.762, E_tot: 6276.5806, Temperature: 323.1927\n",
      "[MindSPONGE] Step: 120, E_pot: -4293.854, E_kin: 10326.445, E_tot: 6032.5913, Temperature: 327.52792\n",
      "[MindSPONGE] Step: 130, E_pot: -4181.3223, E_kin: 9922.443, E_tot: 5741.121, Temperature: 314.71402\n",
      "[MindSPONGE] Step: 140, E_pot: -4238.568, E_kin: 9932.068, E_tot: 5693.5005, Temperature: 315.01935\n",
      "[MindSPONGE] Step: 150, E_pot: -4311.211, E_kin: 10027.449, E_tot: 5716.2383, Temperature: 318.04456\n",
      "[MindSPONGE] Step: 160, E_pot: -4487.7734, E_kin: 10005.429, E_tot: 5517.6553, Temperature: 317.34613\n",
      "[MindSPONGE] Step: 170, E_pot: -4477.725, E_kin: 10170.817, E_tot: 5693.0923, Temperature: 322.59183\n",
      "[MindSPONGE] Step: 180, E_pot: -4554.523, E_kin: 9956.309, E_tot: 5401.7856, Temperature: 315.78818\n",
      "[MindSPONGE] Step: 190, E_pot: -4492.597, E_kin: 9817.061, E_tot: 5324.4634, Temperature: 311.37158\n",
      "[MindSPONGE] Step: 200, E_pot: -4637.0083, E_kin: 9953.278, E_tot: 5316.27, Temperature: 315.69205\n",
      "[MindSPONGE] Step: 210, E_pot: -4664.6636, E_kin: 9857.124, E_tot: 5192.4604, Temperature: 312.64227\n",
      "[MindSPONGE] Step: 220, E_pot: -4733.1313, E_kin: 9823.417, E_tot: 5090.2856, Temperature: 311.57318\n",
      "[MindSPONGE] Step: 230, E_pot: -4979.2646, E_kin: 9988.673, E_tot: 5009.408, Temperature: 316.81467\n",
      "[MindSPONGE] Step: 240, E_pot: -5065.0635, E_kin: 9981.17, E_tot: 4916.1064, Temperature: 316.5767\n",
      "[MindSPONGE] Step: 250, E_pot: -4733.4253, E_kin: 9605.277, E_tot: 4871.852, Temperature: 304.65436\n",
      "[MindSPONGE] Step: 260, E_pot: -5098.015, E_kin: 9969.445, E_tot: 4871.43, Temperature: 316.20483\n",
      "[MindSPONGE] Step: 270, E_pot: -4751.5713, E_kin: 9702.084, E_tot: 4950.5127, Temperature: 307.72482\n",
      "[MindSPONGE] Step: 280, E_pot: -5022.4673, E_kin: 9866.117, E_tot: 4843.65, Temperature: 312.92752\n",
      "[MindSPONGE] Step: 290, E_pot: -5160.551, E_kin: 9896.072, E_tot: 4735.5215, Temperature: 313.87762\n",
      "[MindSPONGE] Step: 300, E_pot: -5159.8936, E_kin: 9797.374, E_tot: 4637.4805, Temperature: 310.74716\n",
      "[MindSPONGE] Step: 310, E_pot: -5093.485, E_kin: 9707.621, E_tot: 4614.136, Temperature: 307.90045\n",
      "[MindSPONGE] Step: 320, E_pot: -5253.119, E_kin: 9806.83, E_tot: 4553.711, Temperature: 311.0471\n",
      "[MindSPONGE] Step: 330, E_pot: -5337.0435, E_kin: 9875.652, E_tot: 4538.609, Temperature: 313.22995\n",
      "[MindSPONGE] Step: 340, E_pot: -5272.1475, E_kin: 9768.742, E_tot: 4496.5947, Temperature: 309.83905\n",
      "[MindSPONGE] Step: 350, E_pot: -5370.141, E_kin: 9749.082, E_tot: 4378.941, Temperature: 309.21548\n",
      "[MindSPONGE] Step: 360, E_pot: -5409.303, E_kin: 9648.711, E_tot: 4239.4077, Temperature: 306.03198\n",
      "[MindSPONGE] Step: 370, E_pot: -5469.2246, E_kin: 9736.58, E_tot: 4267.3555, Temperature: 308.81894\n",
      "[MindSPONGE] Step: 380, E_pot: -5551.328, E_kin: 9815.27, E_tot: 4263.9414, Temperature: 311.31476\n",
      "[MindSPONGE] Step: 390, E_pot: -5570.0264, E_kin: 9797.257, E_tot: 4227.2305, Temperature: 310.74347\n",
      "[MindSPONGE] Step: 400, E_pot: -5478.2393, E_kin: 9715.613, E_tot: 4237.374, Temperature: 308.15393\n",
      "[MindSPONGE] Step: 410, E_pot: -5560.316, E_kin: 9627.703, E_tot: 4067.3872, Temperature: 305.36563\n",
      "[MindSPONGE] Step: 420, E_pot: -5541.04, E_kin: 9702.123, E_tot: 4161.083, Temperature: 307.72607\n",
      "[MindSPONGE] Step: 430, E_pot: -5573.5117, E_kin: 9812.687, E_tot: 4239.175, Temperature: 311.23285\n",
      "[MindSPONGE] Step: 440, E_pot: -5782.372, E_kin: 9912.725, E_tot: 4130.3525, Temperature: 314.4058\n",
      "[MindSPONGE] Step: 450, E_pot: -5721.8545, E_kin: 9678.158, E_tot: 3956.3037, Temperature: 306.96594\n",
      "[MindSPONGE] Step: 460, E_pot: -5787.089, E_kin: 9639.217, E_tot: 3852.128, Temperature: 305.73087\n",
      "[MindSPONGE] Step: 470, E_pot: -5698.4165, E_kin: 9494.346, E_tot: 3795.9292, Temperature: 301.13593\n",
      "[MindSPONGE] Step: 480, E_pot: -5737.782, E_kin: 9583.498, E_tot: 3845.7158, Temperature: 303.96356\n",
      "[MindSPONGE] Step: 490, E_pot: -5883.4795, E_kin: 9747.756, E_tot: 3864.2764, Temperature: 309.17343\n",
      "[MindSPONGE] Step: 500, E_pot: -5703.5034, E_kin: 9676.284, E_tot: 3972.7808, Temperature: 306.90652\n",
      "[MindSPONGE] Step: 510, E_pot: -5754.4375, E_kin: 9601.189, E_tot: 3846.752, Temperature: 304.52472\n",
      "[MindSPONGE] Step: 520, E_pot: -5660.6265, E_kin: 9511.857, E_tot: 3851.231, Temperature: 301.6913\n",
      "[MindSPONGE] Step: 530, E_pot: -5779.5713, E_kin: 9589.029, E_tot: 3809.458, Temperature: 304.13904\n",
      "[MindSPONGE] Step: 540, E_pot: -5871.727, E_kin: 9450.969, E_tot: 3579.2417, Temperature: 299.7601\n",
      "[MindSPONGE] Step: 550, E_pot: -5741.0186, E_kin: 9277.996, E_tot: 3536.9775, Temperature: 294.27386\n",
      "[MindSPONGE] Step: 560, E_pot: -6089.87, E_kin: 9561.24, E_tot: 3471.37, Temperature: 303.25763\n",
      "[MindSPONGE] Step: 570, E_pot: -5924.791, E_kin: 9466.148, E_tot: 3541.3574, Temperature: 300.24158\n",
      "[MindSPONGE] Step: 580, E_pot: -5718.2812, E_kin: 9447.66, E_tot: 3729.379, Temperature: 299.65515\n",
      "[MindSPONGE] Step: 590, E_pot: -5853.211, E_kin: 9561.979, E_tot: 3708.7676, Temperature: 303.28104\n",
      "[MindSPONGE] Step: 600, E_pot: -6012.2905, E_kin: 9618.739, E_tot: 3606.4487, Temperature: 305.08133\n",
      "[MindSPONGE] Step: 610, E_pot: -5934.3096, E_kin: 9578.33, E_tot: 3644.0205, Temperature: 303.79965\n",
      "[MindSPONGE] Step: 620, E_pot: -6011.3613, E_kin: 9706.315, E_tot: 3694.954, Temperature: 307.85904\n",
      "[MindSPONGE] Step: 630, E_pot: -5951.256, E_kin: 9682.885, E_tot: 3731.629, Temperature: 307.11588\n",
      "[MindSPONGE] Step: 640, E_pot: -5797.61, E_kin: 9584.025, E_tot: 3786.4155, Temperature: 303.98032\n",
      "[MindSPONGE] Step: 650, E_pot: -5696.913, E_kin: 9457.192, E_tot: 3760.2793, Temperature: 299.95752\n",
      "[MindSPONGE] Step: 660, E_pot: -5521.5557, E_kin: 9483.451, E_tot: 3961.8955, Temperature: 300.79034\n",
      "[MindSPONGE] Step: 670, E_pot: -5651.8877, E_kin: 9571.308, E_tot: 3919.42, Temperature: 303.57693\n",
      "[MindSPONGE] Step: 680, E_pot: -5751.7427, E_kin: 9517.904, E_tot: 3766.1616, Temperature: 301.88312\n",
      "[MindSPONGE] Step: 690, E_pot: -5737.454, E_kin: 9517.207, E_tot: 3779.753, Temperature: 301.861\n",
      "[MindSPONGE] Step: 700, E_pot: -5978.31, E_kin: 9633.652, E_tot: 3655.3423, Temperature: 305.55435\n",
      "[MindSPONGE] Step: 710, E_pot: -5919.367, E_kin: 9378.957, E_tot: 3459.5898, Temperature: 297.47607\n",
      "[MindSPONGE] Step: 720, E_pot: -5947.0664, E_kin: 9434.873, E_tot: 3487.8066, Temperature: 299.24957\n",
      "[MindSPONGE] Step: 730, E_pot: -5946.624, E_kin: 9582.167, E_tot: 3635.543, Temperature: 303.92136\n",
      "[MindSPONGE] Step: 740, E_pot: -6020.919, E_kin: 9620.502, E_tot: 3599.583, Temperature: 305.13724\n",
      "[MindSPONGE] Step: 750, E_pot: -6033.1035, E_kin: 9507.261, E_tot: 3474.1572, Temperature: 301.54553\n",
      "[MindSPONGE] Step: 760, E_pot: -6105.3867, E_kin: 9620.021, E_tot: 3514.6348, Temperature: 305.122\n",
      "[MindSPONGE] Step: 770, E_pot: -6387.7217, E_kin: 9787.638, E_tot: 3399.916, Temperature: 310.43835\n",
      "[MindSPONGE] Step: 780, E_pot: -6153.115, E_kin: 9414.178, E_tot: 3261.0625, Temperature: 298.59317\n",
      "[MindSPONGE] Step: 790, E_pot: -6197.958, E_kin: 9612.113, E_tot: 3414.1553, Temperature: 304.8712\n",
      "[MindSPONGE] Step: 800, E_pot: -6189.3833, E_kin: 9468.492, E_tot: 3279.109, Temperature: 300.3159\n",
      "[MindSPONGE] Step: 810, E_pot: -6234.6206, E_kin: 9514.141, E_tot: 3279.52, Temperature: 301.76376\n",
      "[MindSPONGE] Step: 820, E_pot: -6360.5396, E_kin: 9578.35, E_tot: 3217.81, Temperature: 303.8003\n",
      "[MindSPONGE] Step: 830, E_pot: -6189.08, E_kin: 9460.549, E_tot: 3271.4688, Temperature: 300.06396\n",
      "[MindSPONGE] Step: 840, E_pot: -6288.009, E_kin: 9448.972, E_tot: 3160.963, Temperature: 299.69678\n",
      "[MindSPONGE] Step: 850, E_pot: -6176.1006, E_kin: 9429.913, E_tot: 3253.8125, Temperature: 299.09225\n",
      "[MindSPONGE] Step: 860, E_pot: -6202.2017, E_kin: 9296.584, E_tot: 3094.3823, Temperature: 294.86343\n",
      "[MindSPONGE] Step: 870, E_pot: -6157.3228, E_kin: 9199.246, E_tot: 3041.9233, Temperature: 291.77612\n",
      "[MindSPONGE] Step: 880, E_pot: -6097.3164, E_kin: 9298.546, E_tot: 3201.2295, Temperature: 294.92566\n",
      "[MindSPONGE] Step: 890, E_pot: -6349.2607, E_kin: 9502.0205, E_tot: 3152.7598, Temperature: 301.37933\n",
      "[MindSPONGE] Step: 900, E_pot: -6051.4194, E_kin: 9183.031, E_tot: 3131.6118, Temperature: 291.2618\n",
      "[MindSPONGE] Step: 910, E_pot: -6230.764, E_kin: 9322.227, E_tot: 3091.4624, Temperature: 295.67673\n",
      "[MindSPONGE] Step: 920, E_pot: -6294.048, E_kin: 9421.826, E_tot: 3127.7783, Temperature: 298.83575\n",
      "[MindSPONGE] Step: 930, E_pot: -6201.509, E_kin: 9481.9375, E_tot: 3280.4287, Temperature: 300.74234\n",
      "[MindSPONGE] Step: 940, E_pot: -6161.005, E_kin: 9320.25, E_tot: 3159.245, Temperature: 295.61404\n",
      "[MindSPONGE] Step: 950, E_pot: -6185.493, E_kin: 9557.868, E_tot: 3372.375, Temperature: 303.15067\n",
      "[MindSPONGE] Step: 960, E_pot: -6240.4175, E_kin: 9576.547, E_tot: 3336.1294, Temperature: 303.7431\n",
      "[MindSPONGE] Step: 970, E_pot: -6149.0283, E_kin: 9439.266, E_tot: 3290.2373, Temperature: 299.38892\n",
      "[MindSPONGE] Step: 980, E_pot: -6225.2275, E_kin: 9544.469, E_tot: 3319.2412, Temperature: 302.72568\n",
      "[MindSPONGE] Step: 990, E_pot: -6025.579, E_kin: 9274.178, E_tot: 3248.5986, Temperature: 294.15274\n",
      "[MindSPONGE] Step: 1000, E_pot: -6228.9478, E_kin: 9564.118, E_tot: 3335.1704, Temperature: 303.34888\n",
      "[MindSPONGE] Step: 1010, E_pot: -6230.133, E_kin: 9661.054, E_tot: 3430.921, Temperature: 306.42343\n",
      "[MindSPONGE] Step: 1020, E_pot: -6129.452, E_kin: 9392.298, E_tot: 3262.8457, Temperature: 297.8992\n",
      "[MindSPONGE] Step: 1030, E_pot: -6331.3354, E_kin: 9564.691, E_tot: 3233.356, Temperature: 303.3671\n",
      "[MindSPONGE] Step: 1040, E_pot: -6006.784, E_kin: 9515.504, E_tot: 3508.7197, Temperature: 301.807\n",
      "[MindSPONGE] Step: 1050, E_pot: -5967.623, E_kin: 9468.824, E_tot: 3501.2012, Temperature: 300.32645\n",
      "[MindSPONGE] Step: 1060, E_pot: -5869.12, E_kin: 9445.556, E_tot: 3576.4355, Temperature: 299.5884\n",
      "[MindSPONGE] Step: 1070, E_pot: -5971.909, E_kin: 9496.866, E_tot: 3524.957, Temperature: 301.21585\n",
      "[MindSPONGE] Step: 1080, E_pot: -6119.709, E_kin: 9662.73, E_tot: 3543.0215, Temperature: 306.47662\n",
      "[MindSPONGE] Step: 1090, E_pot: -5983.791, E_kin: 9557.3955, E_tot: 3573.6045, Temperature: 303.13568\n",
      "[MindSPONGE] Step: 1100, E_pot: -6057.0283, E_kin: 9517.76, E_tot: 3460.7314, Temperature: 301.87854\n",
      "[MindSPONGE] Step: 1110, E_pot: -6303.342, E_kin: 9643.876, E_tot: 3340.5342, Temperature: 305.8786\n",
      "[MindSPONGE] Step: 1120, E_pot: -6351.454, E_kin: 9591.122, E_tot: 3239.668, Temperature: 304.20538\n",
      "[MindSPONGE] Step: 1130, E_pot: -6232.771, E_kin: 9478.288, E_tot: 3245.517, Temperature: 300.6266\n",
      "[MindSPONGE] Step: 1140, E_pot: -6109.5083, E_kin: 9421.767, E_tot: 3312.2583, Temperature: 298.83386\n",
      "[MindSPONGE] Step: 1150, E_pot: -6187.5933, E_kin: 9533.681, E_tot: 3346.0874, Temperature: 302.3835\n",
      "[MindSPONGE] Step: 1160, E_pot: -5999.984, E_kin: 9361.795, E_tot: 3361.811, Temperature: 296.93173\n",
      "[MindSPONGE] Step: 1170, E_pot: -6132.1865, E_kin: 9461.145, E_tot: 3328.958, Temperature: 300.08286\n",
      "[MindSPONGE] Step: 1180, E_pot: -6000.8027, E_kin: 9435.594, E_tot: 3434.791, Temperature: 299.27246\n",
      "[MindSPONGE] Step: 1190, E_pot: -6192.941, E_kin: 9486.453, E_tot: 3293.5122, Temperature: 300.8856\n",
      "[MindSPONGE] Step: 1200, E_pot: -6165.3926, E_kin: 9598.854, E_tot: 3433.461, Temperature: 304.45062\n",
      "[MindSPONGE] Step: 1210, E_pot: -6155.835, E_kin: 9518.52, E_tot: 3362.6846, Temperature: 301.90262\n",
      "[MindSPONGE] Step: 1220, E_pot: -6211.243, E_kin: 9534.863, E_tot: 3323.62, Temperature: 302.42102\n",
      "[MindSPONGE] Step: 1230, E_pot: -6162.758, E_kin: 9401.5205, E_tot: 3238.7627, Temperature: 298.1917\n",
      "[MindSPONGE] Step: 1240, E_pot: -6075.9834, E_kin: 9292.794, E_tot: 3216.8105, Temperature: 294.74323\n",
      "[MindSPONGE] Step: 1250, E_pot: -6259.048, E_kin: 9536.748, E_tot: 3277.7002, Temperature: 302.4808\n",
      "[MindSPONGE] Step: 1260, E_pot: -6284.3867, E_kin: 9452.378, E_tot: 3167.9912, Temperature: 299.80478\n",
      "[MindSPONGE] Step: 1270, E_pot: -6333.3496, E_kin: 9482.346, E_tot: 3148.996, Temperature: 300.7553\n",
      "[MindSPONGE] Step: 1280, E_pot: -6263.928, E_kin: 9449.07, E_tot: 3185.142, Temperature: 299.6999\n",
      "[MindSPONGE] Step: 1290, E_pot: -6276.2573, E_kin: 9470.979, E_tot: 3194.7212, Temperature: 300.39474\n",
      "[MindSPONGE] Step: 1300, E_pot: -6263.455, E_kin: 9463.101, E_tot: 3199.6455, Temperature: 300.1449\n",
      "[MindSPONGE] Step: 1310, E_pot: -6162.0635, E_kin: 9438.635, E_tot: 3276.5713, Temperature: 299.3689\n",
      "[MindSPONGE] Step: 1320, E_pot: -6106.4316, E_kin: 9484.294, E_tot: 3377.8623, Temperature: 300.8171\n",
      "[MindSPONGE] Step: 1330, E_pot: -6058.723, E_kin: 9431.888, E_tot: 3373.1646, Temperature: 299.15488\n",
      "[MindSPONGE] Step: 1340, E_pot: -6166.233, E_kin: 9405.975, E_tot: 3239.7417, Temperature: 298.333\n",
      "[MindSPONGE] Step: 1350, E_pot: -6180.6543, E_kin: 9546.347, E_tot: 3365.6924, Temperature: 302.78525\n",
      "[MindSPONGE] Step: 1360, E_pot: -6100.197, E_kin: 9284.403, E_tot: 3184.2065, Temperature: 294.47708\n",
      "[MindSPONGE] Step: 1370, E_pot: -6181.396, E_kin: 9448.158, E_tot: 3266.7622, Temperature: 299.67096\n",
      "[MindSPONGE] Step: 1380, E_pot: -6375.1357, E_kin: 9579.934, E_tot: 3204.7979, Temperature: 303.85052\n",
      "[MindSPONGE] Step: 1390, E_pot: -6238.7734, E_kin: 9584.659, E_tot: 3345.8857, Temperature: 304.00043\n",
      "[MindSPONGE] Step: 1400, E_pot: -6235.1797, E_kin: 9488.721, E_tot: 3253.541, Temperature: 300.9575\n",
      "[MindSPONGE] Step: 1410, E_pot: -6249.108, E_kin: 9451.858, E_tot: 3202.7505, Temperature: 299.78833\n",
      "[MindSPONGE] Step: 1420, E_pot: -6402.6987, E_kin: 9518.556, E_tot: 3115.857, Temperature: 301.90378\n",
      "[MindSPONGE] Step: 1430, E_pot: -6325.033, E_kin: 9502.569, E_tot: 3177.5361, Temperature: 301.39673\n",
      "[MindSPONGE] Step: 1440, E_pot: -6319.0684, E_kin: 9536.426, E_tot: 3217.3574, Temperature: 302.47058\n",
      "[MindSPONGE] Step: 1450, E_pot: -6261.9067, E_kin: 9484.367, E_tot: 3222.4604, Temperature: 300.81943\n",
      "[MindSPONGE] Step: 1460, E_pot: -6082.595, E_kin: 9224.424, E_tot: 3141.8286, Temperature: 292.57468\n",
      "[MindSPONGE] Step: 1470, E_pot: -6319.8154, E_kin: 9462.859, E_tot: 3143.044, Temperature: 300.13724\n",
      "[MindSPONGE] Step: 1480, E_pot: -6119.992, E_kin: 9428.62, E_tot: 3308.628, Temperature: 299.05127\n",
      "[MindSPONGE] Step: 1490, E_pot: -6332.376, E_kin: 9615.771, E_tot: 3283.3955, Temperature: 304.9872\n",
      "[MindSPONGE] Step: 1500, E_pot: -6384.5566, E_kin: 9614.158, E_tot: 3229.6016, Temperature: 304.93604\n",
      "[MindSPONGE] Step: 1510, E_pot: -6402.679, E_kin: 9534.464, E_tot: 3131.7847, Temperature: 302.40836\n",
      "[MindSPONGE] Step: 1520, E_pot: -6237.143, E_kin: 9527.418, E_tot: 3290.275, Temperature: 302.18488\n",
      "[MindSPONGE] Step: 1530, E_pot: -6293.5117, E_kin: 9571.566, E_tot: 3278.0547, Temperature: 303.58514\n",
      "[MindSPONGE] Step: 1540, E_pot: -6223.834, E_kin: 9513.645, E_tot: 3289.8105, Temperature: 301.74802\n",
      "[MindSPONGE] Step: 1550, E_pot: -6186.2075, E_kin: 9383.959, E_tot: 3197.7515, Temperature: 297.63474\n",
      "[MindSPONGE] Step: 1560, E_pot: -6340.916, E_kin: 9382.485, E_tot: 3041.5693, Temperature: 297.58798\n",
      "[MindSPONGE] Step: 1570, E_pot: -6266.316, E_kin: 9571.839, E_tot: 3305.523, Temperature: 303.59378\n",
      "[MindSPONGE] Step: 1580, E_pot: -6663.466, E_kin: 9661.186, E_tot: 2997.7197, Temperature: 306.42764\n",
      "[MindSPONGE] Step: 1590, E_pot: -6533.461, E_kin: 9310.775, E_tot: 2777.3145, Temperature: 295.31354\n",
      "[MindSPONGE] Step: 1600, E_pot: -6670.9707, E_kin: 9322.577, E_tot: 2651.6064, Temperature: 295.68787\n",
      "[MindSPONGE] Step: 1610, E_pot: -6601.962, E_kin: 9176.052, E_tot: 2574.0898, Temperature: 291.04044\n",
      "[MindSPONGE] Step: 1620, E_pot: -6622.2524, E_kin: 9259.315, E_tot: 2637.063, Temperature: 293.68134\n",
      "[MindSPONGE] Step: 1630, E_pot: -6730.2583, E_kin: 9533.63, E_tot: 2803.3716, Temperature: 302.3819\n",
      "[MindSPONGE] Step: 1640, E_pot: -6757.737, E_kin: 9615.755, E_tot: 2858.018, Temperature: 304.9867\n",
      "[MindSPONGE] Step: 1650, E_pot: -6541.618, E_kin: 9456.586, E_tot: 2914.9678, Temperature: 299.93826\n",
      "[MindSPONGE] Step: 1660, E_pot: -6315.5493, E_kin: 9272.337, E_tot: 2956.7876, Temperature: 294.09436\n",
      "[MindSPONGE] Step: 1670, E_pot: -6353.5254, E_kin: 9458.129, E_tot: 3104.6035, Temperature: 299.9872\n",
      "[MindSPONGE] Step: 1680, E_pot: -6484.5264, E_kin: 9540.173, E_tot: 3055.6465, Temperature: 302.58942\n",
      "[MindSPONGE] Step: 1690, E_pot: -6446.3906, E_kin: 9387.942, E_tot: 2941.5518, Temperature: 297.76108\n",
      "[MindSPONGE] Step: 1700, E_pot: -6564.3945, E_kin: 9576.371, E_tot: 3011.9766, Temperature: 303.73752\n",
      "[MindSPONGE] Step: 1710, E_pot: -6623.5664, E_kin: 9599.195, E_tot: 2975.629, Temperature: 304.46146\n",
      "[MindSPONGE] Step: 1720, E_pot: -6495.5723, E_kin: 9469.148, E_tot: 2973.5762, Temperature: 300.3367\n",
      "[MindSPONGE] Step: 1730, E_pot: -6408.757, E_kin: 9464.283, E_tot: 3055.5264, Temperature: 300.1824\n",
      "[MindSPONGE] Step: 1740, E_pot: -6369.0757, E_kin: 9350.333, E_tot: 2981.2573, Temperature: 296.56818\n",
      "[MindSPONGE] Step: 1750, E_pot: -6510.377, E_kin: 9321.653, E_tot: 2811.2764, Temperature: 295.65857\n",
      "[MindSPONGE] Step: 1760, E_pot: -6635.116, E_kin: 9327.267, E_tot: 2692.1504, Temperature: 295.8366\n",
      "[MindSPONGE] Step: 1770, E_pot: -6585.206, E_kin: 9131.441, E_tot: 2546.2354, Temperature: 289.62552\n",
      "[MindSPONGE] Step: 1780, E_pot: -6625.574, E_kin: 9146.784, E_tot: 2521.21, Temperature: 290.11215\n",
      "[MindSPONGE] Step: 1790, E_pot: -6524.8965, E_kin: 9009.936, E_tot: 2485.039, Temperature: 285.77167\n",
      "[MindSPONGE] Step: 1800, E_pot: -6714.0674, E_kin: 9339.273, E_tot: 2625.206, Temperature: 296.2174\n",
      "[MindSPONGE] Step: 1810, E_pot: -6849.1045, E_kin: 9400.142, E_tot: 2551.037, Temperature: 298.14798\n",
      "[MindSPONGE] Step: 1820, E_pot: -6652.369, E_kin: 9159.427, E_tot: 2507.0576, Temperature: 290.51315\n",
      "[MindSPONGE] Step: 1830, E_pot: -6510.445, E_kin: 9087.744, E_tot: 2577.2993, Temperature: 288.23956\n",
      "[MindSPONGE] Step: 1840, E_pot: -6427.784, E_kin: 9349.127, E_tot: 2921.3428, Temperature: 296.52994\n",
      "[MindSPONGE] Step: 1850, E_pot: -6691.662, E_kin: 9555.487, E_tot: 2863.8252, Temperature: 303.07516\n",
      "[MindSPONGE] Step: 1860, E_pot: -6666.389, E_kin: 9513.882, E_tot: 2847.4927, Temperature: 301.75552\n",
      "[MindSPONGE] Step: 1870, E_pot: -6519.579, E_kin: 9239.079, E_tot: 2719.5, Temperature: 293.03952\n",
      "[MindSPONGE] Step: 1880, E_pot: -6547.2183, E_kin: 9453.775, E_tot: 2906.5571, Temperature: 299.84912\n",
      "[MindSPONGE] Step: 1890, E_pot: -6699.6426, E_kin: 9526.905, E_tot: 2827.2627, Temperature: 302.1686\n",
      "[MindSPONGE] Step: 1900, E_pot: -6586.748, E_kin: 9495.373, E_tot: 2908.625, Temperature: 301.1685\n",
      "[MindSPONGE] Step: 1910, E_pot: -6538.129, E_kin: 9562.203, E_tot: 3024.0742, Temperature: 303.28815\n",
      "[MindSPONGE] Step: 1920, E_pot: -6528.6416, E_kin: 9472.65, E_tot: 2944.0088, Temperature: 300.44778\n",
      "[MindSPONGE] Step: 1930, E_pot: -6410.4478, E_kin: 9398.878, E_tot: 2988.4302, Temperature: 298.1079\n",
      "[MindSPONGE] Step: 1940, E_pot: -6493.865, E_kin: 9546.016, E_tot: 3052.1504, Temperature: 302.77472\n",
      "[MindSPONGE] Step: 1950, E_pot: -6385.59, E_kin: 9498.398, E_tot: 3112.8086, Temperature: 301.26443\n",
      "[MindSPONGE] Step: 1960, E_pot: -6609.041, E_kin: 9598.957, E_tot: 2989.916, Temperature: 304.45392\n",
      "[MindSPONGE] Step: 1970, E_pot: -6549.6426, E_kin: 9677.54, E_tot: 3127.8975, Temperature: 306.94635\n",
      "[MindSPONGE] Step: 1980, E_pot: -6536.0312, E_kin: 9495.347, E_tot: 2959.3154, Temperature: 301.16766\n",
      "[MindSPONGE] Step: 1990, E_pot: -6573.922, E_kin: 9713.088, E_tot: 3139.166, Temperature: 308.07385\n",
      "[MindSPONGE] Finished simulation at 2023-05-19 10:02:34\n",
      "[MindSPONGE] Simulation time: 4 minutes 20.7 seconds.\n",
      "--------------------------------------------------------------------------------\n"
     ]
    },
    {
     "data": {
      "text/plain": [
       "<mindsponge.core.sponge.Sponge at 0x7fb507428c70>"
      ]
     },
     "execution_count": 13,
     "metadata": {},
     "output_type": "execute_result"
    }
   ],
   "source": [
    "md.change_optimizer(opt)\n",
    "md.run(2000, callbacks=[run_info, cb_h5md])"
   ]
  }
 ],
 "metadata": {
  "kernelspec": {
   "display_name": "mindspore-1.9",
   "language": "python",
   "name": "python3"
  },
  "language_info": {
   "codemirror_mode": {
    "name": "ipython",
    "version": 3
   },
   "file_extension": ".py",
   "mimetype": "text/x-python",
   "name": "python",
   "nbconvert_exporter": "python",
   "pygments_lexer": "ipython3",
   "version": "3.9.16"
  },
  "vscode": {
   "interpreter": {
    "hash": "768f82fbbece3f0acd424cda825de8aa44edbfaa38d8a3df4ff1437f7ae7861f"
   }
  }
 },
 "nbformat": 4,
 "nbformat_minor": 5
}
