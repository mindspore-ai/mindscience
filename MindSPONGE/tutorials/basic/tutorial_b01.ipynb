{
 "cells": [
  {
   "cell_type": "code",
   "execution_count": 1,
   "id": "6543a19e-f04b-4d32-8c26-476931cbbbda",
   "metadata": {},
   "outputs": [],
   "source": [
    "import numpy as np\n",
    "from mindspore import context\n",
    "from sponge import Sponge\n",
    "from sponge import Molecule\n",
    "from sponge import ForceFieldBase\n",
    "from sponge import UpdaterMD\n",
    "\n",
    "from sponge.potential import BondEnergy, AngleEnergy\n",
    "from sponge.callback import WriteH5MD, RunInfo\n",
    "from sponge.function import VelocityGenerator\n",
    "from sponge.control import LeapFrog, BerendsenThermostat"
   ]
  },
  {
   "attachments": {},
   "cell_type": "markdown",
   "id": "a35b79c3-9560-430a-a6f1-c72b820e7b9d",
   "metadata": {},
   "source": [
    "## 图模式选择与GPU选择\n",
    "\n",
    "一般情况下，使用MindSpore的静态图模式GRAPH_MODE会取得更好的速度增益，而动态图模式PYNATIVE_MODE更多的被用于进行Debug。在硬件平台上，如果没有华为的Ascend专用硬件，一般都是在GPU上运行，才有一定的速度保障。如果有多张卡，可以通过device_id进行选择。"
   ]
  },
  {
   "cell_type": "code",
   "execution_count": 2,
   "id": "6f876c41-e1d6-4a32-8f96-0e6cd26e559e",
   "metadata": {},
   "outputs": [],
   "source": [
    "context.set_context(mode=context.GRAPH_MODE, device_target=\"GPU\")"
   ]
  },
  {
   "attachments": {},
   "cell_type": "markdown",
   "id": "ecededb8-a743-413e-b5d0-11eec3436e88",
   "metadata": {},
   "source": [
    "## 创建分子对象\n",
    "\n",
    "一个分子，可以是三个原子组成的水分子，也可以是上万个原子组成的蛋白质。在MindSPONGE中，为不同类型的分子提供了多种定义形式。当定义一个小体系$H_2O$时，我们可以直接用常规的列表来定义分子中所包含的原子种类、原子坐标以及键连信息等。在后续的案例中我们也会讲到，还可以通过配置文件等方式来进行定义，这两种方式都是支持的。"
   ]
  },
  {
   "cell_type": "code",
   "execution_count": 3,
   "id": "ebdee15c-926a-4c59-9ff9-50625798762f",
   "metadata": {},
   "outputs": [],
   "source": [
    "system = Molecule(atoms=['O', 'H', 'H'],\n",
    "                  coordinate=[[0, 0, 0], [0.1, 0, 0], [-0.0333, 0.0943, 0]],\n",
    "                  bond=[[[0, 1], [0, 2]]])"
   ]
  },
  {
   "attachments": {},
   "cell_type": "markdown",
   "id": "ebd0e9a7-5b52-4e98-b6e1-c39ec069a8ae",
   "metadata": {},
   "source": [
    "## 能量项定义\n",
    "\n",
    "不同的分子体系会有不同的能量项的需求。比如当前定义的$H_2O$分子，因为只有3个原子，因此涉及到的能量项只有近程相互作用中的键相互作用和角相互作用：\n",
    "\n",
    "$$\n",
    "E_{bond}=\\frac{1}{2}k_b(l-l_0)^2\\\\\n",
    "E_{angle}=\\frac{1}{2}k_a(a-a_0)^2\n",
    "$$"
   ]
  },
  {
   "cell_type": "code",
   "execution_count": 4,
   "id": "87adb0e2-79e1-4f8a-be8d-f9692fd1e1d0",
   "metadata": {},
   "outputs": [],
   "source": [
    "bond_energy = BondEnergy(index=system.bond,\n",
    "                         force_constant=[[345000, 345000]],\n",
    "                         bond_length=[[0.1, 0.1]])"
   ]
  },
  {
   "cell_type": "code",
   "execution_count": 5,
   "id": "63c9db0d-91ce-4e34-8470-aadd27218194",
   "metadata": {},
   "outputs": [],
   "source": [
    "angle_energy = AngleEnergy(index=[[1, 0, 2]],\n",
    "                           force_constant=[[383]],\n",
    "                           bond_angle=[[109.47 / 180 * np.pi]])"
   ]
  },
  {
   "cell_type": "code",
   "execution_count": 6,
   "id": "6d232d05-edf6-4593-ac40-aecf0e562e1c",
   "metadata": {},
   "outputs": [],
   "source": [
    "potential = ForceFieldBase(energy=[bond_energy, angle_energy])"
   ]
  },
  {
   "attachments": {},
   "cell_type": "markdown",
   "id": "c3afb783-e6a4-4bdf-9e2a-21f02412c3f6",
   "metadata": {},
   "source": [
    "## 速度生成器\n",
    "\n",
    "根据指定的温度，我们可以计算出系统平均运动动能，进而通过标准正态分布生成随机的一组原子运动速度，用于初始化系统。"
   ]
  },
  {
   "cell_type": "code",
   "execution_count": 7,
   "id": "20adeb34-0636-498b-a6ba-fcb23902136d",
   "metadata": {},
   "outputs": [],
   "source": [
    "vgen = VelocityGenerator(300)\n",
    "velocity = vgen(system.shape, system.atom_mass)"
   ]
  },
  {
   "attachments": {},
   "cell_type": "markdown",
   "id": "272fec0d-9eb4-4882-a886-00aad2cb3941",
   "metadata": {},
   "source": [
    "## 分子动力学更新器\n",
    "\n",
    "如果不对系统施加任何的限制，任由系统去演化的话，就只需要配置integrator积分器，常见的算法有LeapFrog与VelocityVerlet，在MindSPONGE的control中都是支持的。通过前面配置的各项势能项，利用MindSpore框架的自动微分，就可以计算出当前受力以及下一步的位移，进而实现分子系统的演化。\n",
    "\n",
    "如果需要对系统施加以一定的控制，比如控制系统的温度，或者是控制系统的压强，在MindSPONGE的control中可以调用BerendsenThermostat、Barostat等算法，来跑一个NVT的系统，避免系统演化中可能出现的温度震荡现象。"
   ]
  },
  {
   "cell_type": "code",
   "execution_count": 8,
   "id": "c411534c-1ac0-42a3-93b8-cf140d89cf49",
   "metadata": {},
   "outputs": [],
   "source": [
    "opt = UpdaterMD(system,\n",
    "                integrator=LeapFrog(system),\n",
    "                thermostat=BerendsenThermostat(system, 300),\n",
    "                time_step=1e-3,\n",
    "                velocity=velocity)"
   ]
  },
  {
   "cell_type": "code",
   "execution_count": 9,
   "id": "d7433369-20e8-4caa-bcce-195a803ba4e8",
   "metadata": {},
   "outputs": [
    {
     "name": "stdout",
     "output_type": "stream",
     "text": [
      "[MindSPONGE] Using fully connected neighbour list (not updated).\n"
     ]
    }
   ],
   "source": [
    "md = Sponge(system, potential, opt)"
   ]
  },
  {
   "attachments": {},
   "cell_type": "markdown",
   "id": "d1e2217a-5e76-4ef1-82e6-cda9cbe9b8d7",
   "metadata": {},
   "source": [
    "## 信息回调\n",
    "\n",
    "基于MindSpore的信息回调系统CallBack，我们可以创建一些符合自己需求的信息回调机制，比如使用RunInfo在屏幕上对系统能量进行输出，或者是通过WriteH5MD将轨迹输出到hdf5/h5md文件中。\n",
    "\n",
    "关于h5md格式的轨迹输出，可以使用改进版的VMD-h5mdplugin进行可视化，相关安装和说明链接为：https://gitee.com/helloyesterday/VMD-h5mdplugin"
   ]
  },
  {
   "cell_type": "code",
   "execution_count": 10,
   "id": "c84061d8-c1dc-425f-9145-494eacf7f126",
   "metadata": {},
   "outputs": [],
   "source": [
    "run_info = RunInfo(10)\n",
    "cb_h5md = WriteH5MD(system, 'tutorial_b01.h5md', save_freq=10, write_velocity=True, write_force=True)"
   ]
  },
  {
   "cell_type": "code",
   "execution_count": 11,
   "id": "924cfb6b-d196-4ecb-bf75-cecd3810a496",
   "metadata": {},
   "outputs": [
    {
     "name": "stdout",
     "output_type": "stream",
     "text": [
      "[MindSPONGE] Started simulation at 2023-05-18 15:43:26\n",
      "[MindSPONGE] Step: 0, E_pot: 3.2556585e-05, E_kin: 5.3435974, E_tot: 5.34363, Temperature: 214.22902\n",
      "[MindSPONGE] Step: 10, E_pot: 0.02617842, E_kin: 5.3983507, E_tot: 5.424529, Temperature: 216.42413\n",
      "[MindSPONGE] Step: 20, E_pot: 0.38339773, E_kin: 4.9563036, E_tot: 5.339701, Temperature: 198.7021\n",
      "[MindSPONGE] Step: 30, E_pot: 0.47682104, E_kin: 5.0025334, E_tot: 5.4793544, Temperature: 200.5555\n",
      "[MindSPONGE] Step: 40, E_pot: 1.2222694, E_kin: 4.3118324, E_tot: 5.534102, Temperature: 172.86475\n",
      "[MindSPONGE] Step: 50, E_pot: 1.2958429, E_kin: 4.4264836, E_tot: 5.7223263, Temperature: 177.4612\n",
      "[MindSPONGE] Step: 60, E_pot: 1.9626869, E_kin: 3.9435818, E_tot: 5.9062686, Temperature: 158.10129\n",
      "[MindSPONGE] Step: 70, E_pot: 1.9212525, E_kin: 4.197031, E_tot: 6.1182833, Temperature: 168.26227\n",
      "[MindSPONGE] Step: 80, E_pot: 2.2296777, E_kin: 4.123099, E_tot: 6.3527765, Temperature: 165.29828\n",
      "[MindSPONGE] Step: 90, E_pot: 2.0075974, E_kin: 4.5484595, E_tot: 6.556057, Temperature: 182.35132\n",
      "[MindSPONGE] Step: 100, E_pot: 2.0124142, E_kin: 4.7535152, E_tot: 6.765929, Temperature: 190.57216\n",
      "[MindSPONGE] Step: 110, E_pot: 1.634624, E_kin: 5.2908688, E_tot: 6.925493, Temperature: 212.11508\n",
      "[MindSPONGE] Step: 120, E_pot: 1.5520611, E_kin: 5.519725, E_tot: 7.071786, Temperature: 221.2901\n",
      "[MindSPONGE] Step: 130, E_pot: 1.1630558, E_kin: 5.9759717, E_tot: 7.1390276, Temperature: 239.5814\n",
      "[MindSPONGE] Step: 140, E_pot: 1.1337721, E_kin: 6.07636, E_tot: 7.2101326, Temperature: 243.60605\n",
      "[MindSPONGE] Step: 150, E_pot: 1.023837, E_kin: 6.1315346, E_tot: 7.1553717, Temperature: 245.81805\n",
      "[MindSPONGE] Step: 160, E_pot: 1.0234246, E_kin: 6.174978, E_tot: 7.1984024, Temperature: 247.55972\n",
      "[MindSPONGE] Step: 170, E_pot: 1.4666116, E_kin: 5.6337256, E_tot: 7.100337, Temperature: 225.86049\n",
      "[MindSPONGE] Step: 180, E_pot: 1.3349512, E_kin: 5.8814416, E_tot: 7.2163925, Temperature: 235.79163\n",
      "[MindSPONGE] Step: 190, E_pot: 2.1980891, E_kin: 5.030443, E_tot: 7.2285323, Temperature: 201.67442\n",
      "[MindSPONGE] Step: 200, E_pot: 1.7928903, E_kin: 5.6554556, E_tot: 7.448346, Temperature: 226.73166\n",
      "[MindSPONGE] Step: 210, E_pot: 2.5234928, E_kin: 5.090129, E_tot: 7.6136217, Temperature: 204.06728\n",
      "[MindSPONGE] Step: 220, E_pot: 1.874282, E_kin: 5.959739, E_tot: 7.834021, Temperature: 238.93063\n",
      "[MindSPONGE] Step: 230, E_pot: 2.090373, E_kin: 5.9378104, E_tot: 8.028183, Temperature: 238.05148\n",
      "[MindSPONGE] Step: 240, E_pot: 1.4098389, E_kin: 6.717952, E_tot: 8.12779, Temperature: 269.32797\n",
      "[MindSPONGE] Step: 250, E_pot: 1.2631261, E_kin: 6.9627657, E_tot: 8.225892, Temperature: 279.14276\n",
      "[MindSPONGE] Step: 260, E_pot: 0.8408126, E_kin: 7.356901, E_tot: 8.197714, Temperature: 294.94394\n",
      "[MindSPONGE] Step: 270, E_pot: 0.6954209, E_kin: 7.506627, E_tot: 8.202048, Temperature: 300.94656\n",
      "[MindSPONGE] Step: 280, E_pot: 0.73455966, E_kin: 7.4069185, E_tot: 8.141479, Temperature: 296.9492\n",
      "[MindSPONGE] Step: 290, E_pot: 0.6990082, E_kin: 7.4341373, E_tot: 8.133145, Temperature: 298.0404\n",
      "[MindSPONGE] Step: 300, E_pot: 1.2253034, E_kin: 6.9136963, E_tot: 8.139, Temperature: 277.1755\n",
      "[MindSPONGE] Step: 310, E_pot: 1.0471073, E_kin: 7.123906, E_tot: 8.171014, Temperature: 285.603\n",
      "[MindSPONGE] Step: 320, E_pot: 1.8908968, E_kin: 6.374039, E_tot: 8.264936, Temperature: 255.54025\n",
      "[MindSPONGE] Step: 330, E_pot: 1.282715, E_kin: 7.0221906, E_tot: 8.304906, Temperature: 281.52515\n",
      "[MindSPONGE] Step: 340, E_pot: 2.1022716, E_kin: 6.308477, E_tot: 8.4107485, Temperature: 252.9118\n",
      "[MindSPONGE] Step: 350, E_pot: 1.1990148, E_kin: 7.1929097, E_tot: 8.391925, Temperature: 288.36942\n",
      "[MindSPONGE] Step: 360, E_pot: 1.6976612, E_kin: 6.7255287, E_tot: 8.42319, Temperature: 269.63174\n",
      "[MindSPONGE] Step: 370, E_pot: 0.98462886, E_kin: 7.3726344, E_tot: 8.357264, Temperature: 295.5747\n",
      "[MindSPONGE] Step: 380, E_pot: 1.1916275, E_kin: 7.150249, E_tot: 8.341877, Temperature: 286.65912\n",
      "[MindSPONGE] Step: 390, E_pot: 0.93155557, E_kin: 7.3778553, E_tot: 8.309411, Temperature: 295.784\n",
      "[MindSPONGE] Step: 400, E_pot: 1.0485029, E_kin: 7.292425, E_tot: 8.340928, Temperature: 292.35904\n",
      "[MindSPONGE] Step: 410, E_pot: 1.1162057, E_kin: 7.2454996, E_tot: 8.361706, Temperature: 290.47778\n",
      "[MindSPONGE] Step: 420, E_pot: 1.2014465, E_kin: 7.2420025, E_tot: 8.443449, Temperature: 290.33755\n",
      "[MindSPONGE] Step: 430, E_pot: 1.4507121, E_kin: 7.0090313, E_tot: 8.4597435, Temperature: 280.9976\n",
      "[MindSPONGE] Step: 440, E_pot: 1.4070625, E_kin: 7.1201487, E_tot: 8.527211, Temperature: 285.45236\n",
      "[MindSPONGE] Step: 450, E_pot: 1.8863378, E_kin: 6.639295, E_tot: 8.525633, Temperature: 266.17456\n",
      "[MindSPONGE] Step: 460, E_pot: 1.5161223, E_kin: 7.041216, E_tot: 8.557339, Temperature: 282.28787\n",
      "[MindSPONGE] Step: 470, E_pot: 2.2769215, E_kin: 6.3236923, E_tot: 8.600614, Temperature: 253.5218\n",
      "[MindSPONGE] Step: 480, E_pot: 1.4179252, E_kin: 7.1689954, E_tot: 8.586921, Temperature: 287.41068\n",
      "[MindSPONGE] Step: 490, E_pot: 2.250277, E_kin: 6.45677, E_tot: 8.7070465, Temperature: 258.857\n",
      "[MindSPONGE] Step: 500, E_pot: 1.123281, E_kin: 7.4823627, E_tot: 8.605644, Temperature: 299.9738\n",
      "[MindSPONGE] Step: 510, E_pot: 1.6341956, E_kin: 7.1077538, E_tot: 8.741949, Temperature: 284.95544\n",
      "[MindSPONGE] Step: 520, E_pot: 0.81110024, E_kin: 7.7416506, E_tot: 8.552751, Temperature: 310.36887\n",
      "[MindSPONGE] Step: 530, E_pot: 0.89598775, E_kin: 7.7238493, E_tot: 8.619837, Temperature: 309.65518\n",
      "[MindSPONGE] Step: 540, E_pot: 0.7243346, E_kin: 7.6987386, E_tot: 8.423073, Temperature: 308.6485\n",
      "[MindSPONGE] Step: 550, E_pot: 0.7333229, E_kin: 7.6895747, E_tot: 8.422897, Temperature: 308.2811\n",
      "[MindSPONGE] Step: 560, E_pot: 1.1064969, E_kin: 7.214509, E_tot: 8.321006, Temperature: 289.23535\n",
      "[MindSPONGE] Step: 570, E_pot: 1.3416429, E_kin: 7.025072, E_tot: 8.3667145, Temperature: 281.6407\n",
      "[MindSPONGE] Step: 580, E_pot: 1.9461229, E_kin: 6.475323, E_tot: 8.421446, Temperature: 259.6008\n",
      "[MindSPONGE] Step: 590, E_pot: 2.1919482, E_kin: 6.4159555, E_tot: 8.6079035, Temperature: 257.2207\n",
      "[MindSPONGE] Step: 600, E_pot: 2.7411718, E_kin: 6.038394, E_tot: 8.779566, Temperature: 242.08397\n",
      "[MindSPONGE] Step: 610, E_pot: 2.4349017, E_kin: 6.5863047, E_tot: 9.021206, Temperature: 264.0501\n",
      "[MindSPONGE] Step: 620, E_pot: 2.8360052, E_kin: 6.332436, E_tot: 9.168442, Temperature: 253.87233\n",
      "[MindSPONGE] Step: 630, E_pot: 1.7620239, E_kin: 7.486147, E_tot: 9.248171, Temperature: 300.12552\n",
      "[MindSPONGE] Step: 640, E_pot: 2.10292, E_kin: 7.167614, E_tot: 9.2705345, Temperature: 287.3553\n",
      "[MindSPONGE] Step: 650, E_pot: 0.8140672, E_kin: 8.2812605, E_tot: 9.095327, Temperature: 332.00223\n",
      "[MindSPONGE] Step: 660, E_pot: 1.1281502, E_kin: 7.9191175, E_tot: 9.047268, Temperature: 317.48364\n",
      "[MindSPONGE] Step: 670, E_pot: 0.41520658, E_kin: 8.342734, E_tot: 8.757941, Temperature: 334.46677\n",
      "[MindSPONGE] Step: 680, E_pot: 0.6678254, E_kin: 8.086657, E_tot: 8.754482, Temperature: 324.2004\n",
      "[MindSPONGE] Step: 690, E_pot: 0.73582494, E_kin: 7.809595, E_tot: 8.54542, Temperature: 313.0928\n",
      "[MindSPONGE] Step: 700, E_pot: 0.9481475, E_kin: 7.672221, E_tot: 8.620369, Temperature: 307.5854\n",
      "[MindSPONGE] Step: 710, E_pot: 1.4372815, E_kin: 7.1266456, E_tot: 8.563927, Temperature: 285.71283\n",
      "[MindSPONGE] Step: 720, E_pot: 1.5964327, E_kin: 7.0780764, E_tot: 8.674509, Temperature: 283.76566\n",
      "[MindSPONGE] Step: 730, E_pot: 2.1207442, E_kin: 6.6179447, E_tot: 8.738689, Temperature: 265.3186\n",
      "[MindSPONGE] Step: 740, E_pot: 2.079582, E_kin: 6.7676344, E_tot: 8.847217, Temperature: 271.3198\n",
      "[MindSPONGE] Step: 750, E_pot: 2.4840727, E_kin: 6.4833884, E_tot: 8.967461, Temperature: 259.92413\n",
      "[MindSPONGE] Step: 760, E_pot: 2.0304914, E_kin: 7.0226264, E_tot: 9.053118, Temperature: 281.5426\n",
      "[MindSPONGE] Step: 770, E_pot: 2.343634, E_kin: 6.8178716, E_tot: 9.161506, Temperature: 273.33383\n",
      "[MindSPONGE] Step: 780, E_pot: 1.452441, E_kin: 7.739449, E_tot: 9.19189, Temperature: 310.2806\n",
      "[MindSPONGE] Step: 790, E_pot: 1.6896406, E_kin: 7.548004, E_tot: 9.237645, Temperature: 302.60544\n",
      "[MindSPONGE] Step: 800, E_pot: 0.7123238, E_kin: 8.46281, E_tot: 9.175134, Temperature: 339.28067\n",
      "[MindSPONGE] Step: 810, E_pot: 0.76967144, E_kin: 8.362747, E_tot: 9.132419, Temperature: 335.2691\n",
      "[MindSPONGE] Step: 820, E_pot: 0.2111303, E_kin: 8.754015, E_tot: 8.965145, Temperature: 350.95535\n",
      "[MindSPONGE] Step: 830, E_pot: 0.12917775, E_kin: 8.709957, E_tot: 8.839135, Temperature: 349.18903\n",
      "[MindSPONGE] Step: 840, E_pot: 0.2038198, E_kin: 8.418462, E_tot: 8.622282, Temperature: 337.50275\n",
      "[MindSPONGE] Step: 850, E_pot: 0.25612155, E_kin: 8.23741, E_tot: 8.493531, Temperature: 330.24423\n",
      "[MindSPONGE] Step: 860, E_pot: 0.79620427, E_kin: 7.561965, E_tot: 8.35817, Temperature: 303.1651\n",
      "[MindSPONGE] Step: 870, E_pot: 1.0343658, E_kin: 7.3220153, E_tot: 8.356381, Temperature: 293.54535\n",
      "[MindSPONGE] Step: 880, E_pot: 1.6859179, E_kin: 6.7226133, E_tot: 8.408531, Temperature: 269.51486\n",
      "[MindSPONGE] Step: 890, E_pot: 1.7323385, E_kin: 6.813917, E_tot: 8.546256, Temperature: 273.1753\n",
      "[MindSPONGE] Step: 900, E_pot: 2.199376, E_kin: 6.543151, E_tot: 8.742527, Temperature: 262.32007\n",
      "[MindSPONGE] Step: 910, E_pot: 1.7109818, E_kin: 7.137841, E_tot: 8.848824, Temperature: 286.16165\n",
      "[MindSPONGE] Step: 920, E_pot: 1.9475229, E_kin: 7.1012015, E_tot: 9.048724, Temperature: 284.69275\n",
      "[MindSPONGE] Step: 930, E_pot: 1.1563395, E_kin: 7.803446, E_tot: 8.959785, Temperature: 312.84628\n",
      "[MindSPONGE] Step: 940, E_pot: 1.227311, E_kin: 7.857497, E_tot: 9.084808, Temperature: 315.01324\n",
      "[MindSPONGE] Step: 950, E_pot: 0.8221144, E_kin: 8.016448, E_tot: 8.838562, Temperature: 321.3857\n",
      "[MindSPONGE] Step: 960, E_pot: 0.6929897, E_kin: 8.201964, E_tot: 8.894954, Temperature: 328.82318\n",
      "[MindSPONGE] Step: 970, E_pot: 1.0741184, E_kin: 7.5969887, E_tot: 8.671107, Temperature: 304.56924\n",
      "[MindSPONGE] Step: 980, E_pot: 0.8201632, E_kin: 7.867488, E_tot: 8.687651, Temperature: 315.41376\n",
      "[MindSPONGE] Step: 990, E_pot: 1.6750107, E_kin: 6.9321055, E_tot: 8.607117, Temperature: 277.91357\n",
      "[MindSPONGE] Finished simulation at 2023-05-18 15:43:33\n",
      "[MindSPONGE] Simulation time: 6.95 seconds.\n",
      "--------------------------------------------------------------------------------\n"
     ]
    },
    {
     "data": {
      "text/plain": [
       "<mindsponge.core.sponge.Sponge at 0x7f80845d8b50>"
      ]
     },
     "execution_count": 11,
     "metadata": {},
     "output_type": "execute_result"
    }
   ],
   "source": [
    "md.run(1000, callbacks=[run_info, cb_h5md])"
   ]
  },
  {
   "attachments": {},
   "cell_type": "markdown",
   "id": "e0bfd201-98dd-4326-bb4b-5300ae1db0d0",
   "metadata": {},
   "source": [
    "上述运行结果的轨迹输出如下图所示，该结果展示使用了VMD-h5mdplugin插件，在VMD中对分子运行轨迹进行了可视化。\n",
    "\n",
    "![](../../docs/tutorial_b01.gif)"
   ]
  }
 ],
 "metadata": {
  "kernelspec": {
   "display_name": "mindspore-1.9",
   "language": "python",
   "name": "python3"
  },
  "language_info": {
   "codemirror_mode": {
    "name": "ipython",
    "version": 3
   },
   "file_extension": ".py",
   "mimetype": "text/x-python",
   "name": "python",
   "nbconvert_exporter": "python",
   "pygments_lexer": "ipython3",
   "version": "3.9.16"
  },
  "vscode": {
   "interpreter": {
    "hash": "768f82fbbece3f0acd424cda825de8aa44edbfaa38d8a3df4ff1437f7ae7861f"
   }
  }
 },
 "nbformat": 4,
 "nbformat_minor": 5
}
