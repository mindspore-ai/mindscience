{
 "cells": [
  {
   "cell_type": "code",
   "execution_count": 1,
   "id": "b698676e-9a49-489d-a396-d717a4ef6b09",
   "metadata": {},
   "outputs": [],
   "source": [
    "from mindspore import context\n",
    "from sponge import Sponge\n",
    "from sponge import Molecule\n",
    "from sponge import ForceField\n",
    "from sponge import UpdaterMD\n",
    "from sponge.control import VelocityVerlet, Langevin\n",
    "from sponge.callback import WriteH5MD, RunInfo"
   ]
  },
  {
   "cell_type": "code",
   "execution_count": 2,
   "id": "71c58271-41cd-4f15-a88a-4ac371a09a61",
   "metadata": {},
   "outputs": [],
   "source": [
    "context.set_context(mode=context.GRAPH_MODE, device_target=\"GPU\")"
   ]
  },
  {
   "attachments": {},
   "cell_type": "markdown",
   "id": "103887d0-1c8b-49fe-933c-27cec1001c3f",
   "metadata": {},
   "source": [
    "## 使用力场模板\n",
    "\n",
    "MindSPONGE中支持yaml格式的力场参数信息配置，其中大体分为`模板`和`参数`两个大类。`模板`中主要存储系统中的原子名称、原子类型、原子质量、原子序数、成键关系等基本信息，也是一般都不需要去改动的信息。`参数`中顾名思义就是存储一些力场参数，比如键长相互作用$E_b=k_b(l-l_0)^2$中的$(k_b,l_0)$就是一组力场参数。不同的原子组合形成的键、角度、二面角还有其他的一些远程相互作用等，都会对应于不同的参数，在不同的力场中千差万别。\n",
    "\n",
    "比如这是一个三点水的模板配置信息：\n",
    "\n",
    "```yaml\n",
    "template:\n",
    "  WAT:\n",
    "    atom_name: [O, H1, H2]\n",
    "    atom_type: [OW, HW, HW]\n",
    "    atom_mass: [16.00, 1.008, 1.008]\n",
    "    atomic_number: [8, 1, 1]\n",
    "    bond:\n",
    "    - [0, 1]\n",
    "    - [0, 2]\n",
    "    head_atom: null\n",
    "    tail_atom: null\n",
    "```\n",
    "\n",
    "以及一个三点水的力场参数信息：\n",
    "\n",
    "```yaml\n",
    "template:\n",
    "  base: water.tip3p.yaml\n",
    "parameters:\n",
    "  bond_energy:\n",
    "    length_unit: nm\n",
    "    energy_unit: kj/mol\n",
    "    parameter_names:\n",
    "      atoms: [bond_length, force_constant]\n",
    "    parameters:\n",
    "      OW-HW: [0.09572, 502416]\n",
    "  angle_energy:\n",
    "    length_unit: nm\n",
    "    energy_unit: kj/mol\n",
    "    parameter_names:\n",
    "      atoms: [bond_angle, force_constant]\n",
    "    parameters:\n",
    "      HW-OW-HW: [1.824218, 628.02]\n",
    "  coulomb_energy:\n",
    "    length_unit: nm\n",
    "    energy_unit: kj/mol\n",
    "  vdw_energy:\n",
    "    length_unit: nm\n",
    "    energy_unit: kj/mol\n",
    "    parameter_names:\n",
    "      atoms: [sigma, epsilon]\n",
    "    parameters:\n",
    "      OW: [0.315061, 0.636386]\n",
    "      HW: [0.0, 0.0]\n",
    "```\n",
    "\n",
    "用户可以根据不同的力场自定义一个这样的yaml文件，然后就可以在MindSPONGE平台上非常方便的进行分子动力学模拟。"
   ]
  },
  {
   "cell_type": "code",
   "execution_count": 3,
   "id": "f4b59501-20e9-4b79-a33d-0376ef25232d",
   "metadata": {},
   "outputs": [],
   "source": [
    "system = Molecule(template='water.tip3p.yaml')"
   ]
  },
  {
   "cell_type": "code",
   "execution_count": 4,
   "id": "12adc305-1db8-47a8-bb6f-df1ad83a2040",
   "metadata": {},
   "outputs": [],
   "source": [
    "potential = ForceField(system, parameters='TIP3P')"
   ]
  },
  {
   "cell_type": "code",
   "execution_count": 5,
   "id": "56f70d3b-92e3-41e4-8119-ef0395e8b279",
   "metadata": {},
   "outputs": [],
   "source": [
    "opt = UpdaterMD(system,\n",
    "                integrator=VelocityVerlet(system),\n",
    "                thermostat=Langevin(system, 300),\n",
    "                time_step=1e-3)"
   ]
  },
  {
   "cell_type": "code",
   "execution_count": 6,
   "id": "1fb210d5-8c8d-4f79-848f-d4cd3d5549a7",
   "metadata": {},
   "outputs": [
    {
     "name": "stdout",
     "output_type": "stream",
     "text": [
      "[MindSPONGE] Using fully connected neighbour list (not updated).\n"
     ]
    }
   ],
   "source": [
    "md = Sponge(system, potential, opt)"
   ]
  },
  {
   "cell_type": "code",
   "execution_count": 7,
   "id": "9e28a60d-fe84-4afb-8c94-37fda8b56bba",
   "metadata": {},
   "outputs": [],
   "source": [
    "run_info = RunInfo(10)\n",
    "cb_h5md = WriteH5MD(system, 'tutorial_b02.h5md', save_freq=10, write_velocity=True, write_force=True)"
   ]
  },
  {
   "cell_type": "code",
   "execution_count": 8,
   "id": "26add33b-e30b-4940-9aa7-8231d56e96f5",
   "metadata": {},
   "outputs": [
    {
     "name": "stdout",
     "output_type": "stream",
     "text": [
      "[MindSPONGE] Started simulation at 2023-05-18 15:44:05\n",
      "[MindSPONGE] Step: 0, E_pot: 9.203461, E_kin: 0.0, E_tot: 9.203461, Temperature: 0.0\n",
      "[MindSPONGE] Step: 10, E_pot: 0.6919369, E_kin: 5.335342, E_tot: 6.027279, Temperature: 213.89804\n",
      "[MindSPONGE] Step: 20, E_pot: 5.1924877, E_kin: 7.8551044, E_tot: 13.047592, Temperature: 314.91733\n",
      "[MindSPONGE] Step: 30, E_pot: 10.103012, E_kin: 0.9324558, E_tot: 11.035468, Temperature: 37.382885\n",
      "[MindSPONGE] Step: 40, E_pot: 1.1600024, E_kin: 7.154517, E_tot: 8.31452, Temperature: 286.83023\n",
      "[MindSPONGE] Step: 50, E_pot: 6.919018, E_kin: 12.86599, E_tot: 19.785007, Temperature: 515.8077\n",
      "[MindSPONGE] Step: 60, E_pot: 8.723356, E_kin: 1.1074567, E_tot: 9.830812, Temperature: 44.398808\n",
      "[MindSPONGE] Step: 70, E_pot: 0.13484783, E_kin: 14.124053, E_tot: 14.258901, Temperature: 566.2444\n",
      "[MindSPONGE] Step: 80, E_pot: 11.5438385, E_kin: 12.99567, E_tot: 24.539509, Temperature: 521.00665\n",
      "[MindSPONGE] Step: 90, E_pot: 10.714951, E_kin: 4.5360303, E_tot: 15.25098, Temperature: 181.85303\n",
      "[MindSPONGE] Step: 100, E_pot: 2.4442875, E_kin: 16.273548, E_tot: 18.717836, Temperature: 652.4194\n",
      "[MindSPONGE] Step: 110, E_pot: 10.522242, E_kin: 8.347689, E_tot: 18.86993, Temperature: 334.6654\n",
      "[MindSPONGE] Step: 120, E_pot: 8.779335, E_kin: 3.9530892, E_tot: 12.732424, Temperature: 158.48247\n",
      "[MindSPONGE] Step: 130, E_pot: 0.6875291, E_kin: 16.605366, E_tot: 17.292894, Temperature: 665.72217\n",
      "[MindSPONGE] Step: 140, E_pot: 13.432104, E_kin: 6.081078, E_tot: 19.513182, Temperature: 243.7952\n",
      "[MindSPONGE] Step: 150, E_pot: 8.619225, E_kin: 6.2171464, E_tot: 14.83637, Temperature: 249.25029\n",
      "[MindSPONGE] Step: 160, E_pot: 2.3385963, E_kin: 16.127241, E_tot: 18.465837, Temperature: 646.5538\n",
      "[MindSPONGE] Step: 170, E_pot: 9.630001, E_kin: 4.2523894, E_tot: 13.882391, Temperature: 170.48164\n",
      "[MindSPONGE] Step: 180, E_pot: 2.8978565, E_kin: 5.502411, E_tot: 8.400268, Temperature: 220.59598\n",
      "[MindSPONGE] Step: 190, E_pot: 2.3856459, E_kin: 8.1680355, E_tot: 10.553681, Temperature: 327.46295\n",
      "[MindSPONGE] Step: 200, E_pot: 5.3754563, E_kin: 1.9252844, E_tot: 7.3007407, Temperature: 77.186165\n",
      "[MindSPONGE] Step: 210, E_pot: 1.4027051, E_kin: 5.722039, E_tot: 7.1247444, Temperature: 229.40105\n",
      "[MindSPONGE] Step: 220, E_pot: 4.376238, E_kin: 5.0032024, E_tot: 9.37944, Temperature: 200.58232\n",
      "[MindSPONGE] Step: 230, E_pot: 6.2186437, E_kin: 2.0254965, E_tot: 8.244141, Temperature: 81.20374\n",
      "[MindSPONGE] Step: 240, E_pot: 0.3672761, E_kin: 6.3537297, E_tot: 6.721006, Temperature: 254.72601\n",
      "[MindSPONGE] Step: 250, E_pot: 4.177092, E_kin: 3.3801956, E_tot: 7.5572877, Temperature: 135.5147\n",
      "[MindSPONGE] Step: 260, E_pot: 3.972587, E_kin: 0.27663928, E_tot: 4.2492266, Temperature: 11.090687\n",
      "[MindSPONGE] Step: 270, E_pot: 1.2045541, E_kin: 6.773947, E_tot: 7.978501, Temperature: 271.57285\n",
      "[MindSPONGE] Step: 280, E_pot: 4.9846077, E_kin: 4.6431293, E_tot: 9.627737, Temperature: 186.14671\n",
      "[MindSPONGE] Step: 290, E_pot: 1.893726, E_kin: 4.0843024, E_tot: 5.9780283, Temperature: 163.74289\n",
      "[MindSPONGE] Step: 300, E_pot: 2.043978, E_kin: 4.3137097, E_tot: 6.357688, Temperature: 172.94002\n",
      "[MindSPONGE] Step: 310, E_pot: 2.5842943, E_kin: 7.288695, E_tot: 9.87299, Temperature: 292.2095\n",
      "[MindSPONGE] Step: 320, E_pot: 1.7064639, E_kin: 9.497666, E_tot: 11.20413, Temperature: 380.76892\n",
      "[MindSPONGE] Step: 330, E_pot: 5.55573, E_kin: 5.909224, E_tot: 11.464954, Temperature: 236.90544\n",
      "[MindSPONGE] Step: 340, E_pot: 3.6261935, E_kin: 7.648797, E_tot: 11.27499, Temperature: 306.64627\n",
      "[MindSPONGE] Step: 350, E_pot: 2.3874404, E_kin: 11.411655, E_tot: 13.799096, Temperature: 457.50226\n",
      "[MindSPONGE] Step: 360, E_pot: 3.4005933, E_kin: 15.865459, E_tot: 19.266052, Temperature: 636.0587\n",
      "[MindSPONGE] Step: 370, E_pot: 8.217561, E_kin: 10.740438, E_tot: 18.958, Temperature: 430.59262\n",
      "[MindSPONGE] Step: 380, E_pot: 9.877348, E_kin: 11.634243, E_tot: 21.511591, Temperature: 466.42596\n",
      "[MindSPONGE] Step: 390, E_pot: 1.7556465, E_kin: 14.2977915, E_tot: 16.053438, Temperature: 573.2097\n",
      "[MindSPONGE] Step: 400, E_pot: 0.9923559, E_kin: 9.727927, E_tot: 10.7202835, Temperature: 390.00024\n",
      "[MindSPONGE] Step: 410, E_pot: 1.4614636, E_kin: 6.8869357, E_tot: 8.348399, Temperature: 276.10266\n",
      "[MindSPONGE] Step: 420, E_pot: 0.5761567, E_kin: 7.3616567, E_tot: 7.9378133, Temperature: 295.1346\n",
      "[MindSPONGE] Step: 430, E_pot: 1.7825865, E_kin: 13.6412525, E_tot: 15.423839, Temperature: 546.88855\n",
      "[MindSPONGE] Step: 440, E_pot: 2.140042, E_kin: 18.791424, E_tot: 20.931465, Temperature: 753.3629\n",
      "[MindSPONGE] Step: 450, E_pot: 6.35559, E_kin: 19.09697, E_tot: 25.45256, Temperature: 765.6125\n",
      "[MindSPONGE] Step: 460, E_pot: 4.8257737, E_kin: 11.003372, E_tot: 15.829145, Temperature: 441.13382\n",
      "[MindSPONGE] Step: 470, E_pot: 0.5079805, E_kin: 20.776997, E_tot: 21.284977, Temperature: 832.9661\n",
      "[MindSPONGE] Step: 480, E_pot: 5.4052286, E_kin: 12.757234, E_tot: 18.162462, Temperature: 511.44754\n",
      "[MindSPONGE] Step: 490, E_pot: 12.717473, E_kin: 6.365279, E_tot: 19.082752, Temperature: 255.18904\n",
      "[MindSPONGE] Step: 500, E_pot: 9.381782, E_kin: 10.4865265, E_tot: 19.868309, Temperature: 420.4131\n",
      "[MindSPONGE] Step: 510, E_pot: 3.5444221, E_kin: 20.339916, E_tot: 23.884338, Temperature: 815.44324\n",
      "[MindSPONGE] Step: 520, E_pot: 3.6083715, E_kin: 20.16925, E_tot: 23.777622, Temperature: 808.60114\n",
      "[MindSPONGE] Step: 530, E_pot: 13.900964, E_kin: 8.599932, E_tot: 22.500896, Temperature: 344.778\n",
      "[MindSPONGE] Step: 540, E_pot: 16.835377, E_kin: 4.2361593, E_tot: 21.071537, Temperature: 169.83096\n",
      "[MindSPONGE] Step: 550, E_pot: 3.850226, E_kin: 18.618826, E_tot: 22.469051, Temperature: 746.44336\n",
      "[MindSPONGE] Step: 560, E_pot: 4.1169605, E_kin: 22.549639, E_tot: 26.6666, Temperature: 904.0327\n",
      "[MindSPONGE] Step: 570, E_pot: 14.870237, E_kin: 8.997383, E_tot: 23.86762, Temperature: 360.71216\n",
      "[MindSPONGE] Step: 580, E_pot: 14.9235525, E_kin: 1.3006303, E_tot: 16.224182, Temperature: 52.14329\n",
      "[MindSPONGE] Step: 590, E_pot: 2.9082236, E_kin: 11.0285015, E_tot: 13.936726, Temperature: 442.1413\n",
      "[MindSPONGE] Step: 600, E_pot: 2.5037482, E_kin: 13.225328, E_tot: 15.729076, Temperature: 530.2138\n",
      "[MindSPONGE] Step: 610, E_pot: 6.3856544, E_kin: 6.683526, E_tot: 13.0691805, Temperature: 267.9478\n",
      "[MindSPONGE] Step: 620, E_pot: 8.185682, E_kin: 6.014846, E_tot: 14.200528, Temperature: 241.1399\n",
      "[MindSPONGE] Step: 630, E_pot: 2.9624848, E_kin: 10.881788, E_tot: 13.844273, Temperature: 436.25946\n",
      "[MindSPONGE] Step: 640, E_pot: 0.60499775, E_kin: 13.46654, E_tot: 14.071538, Temperature: 539.8842\n",
      "[MindSPONGE] Step: 650, E_pot: 3.8418045, E_kin: 12.601644, E_tot: 16.443447, Temperature: 505.20978\n",
      "[MindSPONGE] Step: 660, E_pot: 6.873087, E_kin: 6.0305157, E_tot: 12.903603, Temperature: 241.76811\n",
      "[MindSPONGE] Step: 670, E_pot: 3.3526607, E_kin: 4.729856, E_tot: 8.082517, Temperature: 189.62364\n",
      "[MindSPONGE] Step: 680, E_pot: 3.2266955, E_kin: 5.307774, E_tot: 8.53447, Temperature: 212.79283\n",
      "[MindSPONGE] Step: 690, E_pot: 0.8748121, E_kin: 4.6341968, E_tot: 5.509009, Temperature: 185.78859\n",
      "[MindSPONGE] Step: 700, E_pot: 1.0416834, E_kin: 3.1034217, E_tot: 4.1451054, Temperature: 124.41862\n",
      "[MindSPONGE] Step: 710, E_pot: 4.537917, E_kin: 1.3588508, E_tot: 5.896768, Temperature: 54.477398\n",
      "[MindSPONGE] Step: 720, E_pot: 0.75157213, E_kin: 3.0986137, E_tot: 3.8501859, Temperature: 124.22586\n",
      "[MindSPONGE] Step: 730, E_pot: 1.4978188, E_kin: 3.8575387, E_tot: 5.3553576, Temperature: 154.65176\n",
      "[MindSPONGE] Step: 740, E_pot: 3.7332497, E_kin: 5.2397585, E_tot: 8.973008, Temperature: 210.06604\n",
      "[MindSPONGE] Step: 750, E_pot: 2.9734194, E_kin: 4.5043, E_tot: 7.4777193, Temperature: 180.58093\n",
      "[MindSPONGE] Step: 760, E_pot: 2.0943558, E_kin: 5.477934, E_tot: 7.5722895, Temperature: 219.61467\n",
      "[MindSPONGE] Step: 770, E_pot: 2.3855252, E_kin: 4.1495104, E_tot: 6.5350356, Temperature: 166.35713\n",
      "[MindSPONGE] Step: 780, E_pot: 0.104725644, E_kin: 7.3063574, E_tot: 7.411083, Temperature: 292.9176\n",
      "[MindSPONGE] Step: 790, E_pot: 1.3509954, E_kin: 8.151885, E_tot: 9.50288, Temperature: 326.81546\n",
      "[MindSPONGE] Step: 800, E_pot: 2.2487445, E_kin: 1.478623, E_tot: 3.7273674, Temperature: 59.27916\n",
      "[MindSPONGE] Step: 810, E_pot: 0.84451467, E_kin: 1.0599738, E_tot: 1.9044886, Temperature: 42.495186\n",
      "[MindSPONGE] Step: 820, E_pot: 0.80730677, E_kin: 1.9026141, E_tot: 2.709921, Temperature: 76.27729\n",
      "[MindSPONGE] Step: 830, E_pot: 0.56859815, E_kin: 2.6845284, E_tot: 3.2531266, Temperature: 107.624855\n",
      "[MindSPONGE] Step: 840, E_pot: 0.71681315, E_kin: 3.8419337, E_tot: 4.558747, Temperature: 154.02614\n",
      "[MindSPONGE] Step: 850, E_pot: 1.3561876, E_kin: 6.303375, E_tot: 7.659562, Temperature: 252.70726\n",
      "[MindSPONGE] Step: 860, E_pot: 1.8047297, E_kin: 5.846566, E_tot: 7.6512957, Temperature: 234.39343\n",
      "[MindSPONGE] Step: 870, E_pot: 0.32392418, E_kin: 5.003424, E_tot: 5.327348, Temperature: 200.5912\n",
      "[MindSPONGE] Step: 880, E_pot: 0.40876678, E_kin: 5.4097004, E_tot: 5.818467, Temperature: 216.87915\n",
      "[MindSPONGE] Step: 890, E_pot: 0.7688398, E_kin: 3.7124174, E_tot: 4.481257, Temperature: 148.83372\n",
      "[MindSPONGE] Step: 900, E_pot: 1.4810293, E_kin: 5.0336943, E_tot: 6.514724, Temperature: 201.80475\n",
      "[MindSPONGE] Step: 910, E_pot: 0.5452095, E_kin: 5.1630287, E_tot: 5.708238, Temperature: 206.98988\n",
      "[MindSPONGE] Step: 920, E_pot: 0.82501245, E_kin: 6.601229, E_tot: 7.426242, Temperature: 264.64847\n",
      "[MindSPONGE] Step: 930, E_pot: 1.4055427, E_kin: 2.6020536, E_tot: 4.0075965, Temperature: 104.31838\n",
      "[MindSPONGE] Step: 940, E_pot: 0.5157271, E_kin: 4.2496467, E_tot: 4.7653737, Temperature: 170.37167\n",
      "[MindSPONGE] Step: 950, E_pot: 0.5462569, E_kin: 4.8971415, E_tot: 5.4433985, Temperature: 196.33025\n",
      "[MindSPONGE] Step: 960, E_pot: 1.9998605, E_kin: 4.912148, E_tot: 6.9120083, Temperature: 196.93187\n",
      "[MindSPONGE] Step: 970, E_pot: 1.430975, E_kin: 6.76495, E_tot: 8.195925, Temperature: 271.21216\n",
      "[MindSPONGE] Step: 980, E_pot: 2.922052, E_kin: 3.5865657, E_tot: 6.5086174, Temperature: 143.78824\n",
      "[MindSPONGE] Step: 990, E_pot: 0.996925, E_kin: 5.1042004, E_tot: 6.1011252, Temperature: 204.63141\n",
      "[MindSPONGE] Finished simulation at 2023-05-18 15:44:15\n",
      "[MindSPONGE] Simulation time: 10.08 seconds.\n",
      "--------------------------------------------------------------------------------\n"
     ]
    },
    {
     "data": {
      "text/plain": [
       "<mindsponge.core.sponge.Sponge at 0x7ff5255c3f10>"
      ]
     },
     "execution_count": 8,
     "metadata": {},
     "output_type": "execute_result"
    }
   ],
   "source": [
    "md.run(1000, callbacks=[run_info, cb_h5md])"
   ]
  },
  {
   "attachments": {},
   "cell_type": "markdown",
   "id": "89a5690f-75e9-4ca4-b133-5e50932f9101",
   "metadata": {},
   "source": [
    "![](../../docs/tutorial_b02.gif)"
   ]
  }
 ],
 "metadata": {
  "kernelspec": {
   "display_name": "mindspore-1.9",
   "language": "python",
   "name": "python3"
  },
  "language_info": {
   "codemirror_mode": {
    "name": "ipython",
    "version": 3
   },
   "file_extension": ".py",
   "mimetype": "text/x-python",
   "name": "python",
   "nbconvert_exporter": "python",
   "pygments_lexer": "ipython3",
   "version": "3.9.16"
  },
  "vscode": {
   "interpreter": {
    "hash": "768f82fbbece3f0acd424cda825de8aa44edbfaa38d8a3df4ff1437f7ae7861f"
   }
  }
 },
 "nbformat": 4,
 "nbformat_minor": 5
}
