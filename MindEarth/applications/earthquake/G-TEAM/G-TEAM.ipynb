{
 "cells": [
  {
   "cell_type": "markdown",
   "id": "daaa37d8-af16-47a9-b512-b8aaf15f4fe3",
   "metadata": {},
   "source": [
    "# G-TEAM地震预警模型\n",
    "\n",
    "## 概述\n",
    "\n",
    "地震预警系统旨在在破坏性震动到达前尽早发出警报，以减少人员伤亡和经济损失。G-TEAM 模型是一种数据驱动的全国地震预警系统，结合了图神经网络（GNN）和 Transformer 架构，能够在地震发生后 3 秒内迅速提供震中位置、震级及地震强度分布。该模型通过直接处理原始地震波形数据，避免了手动特征选择的限制，并充分利用多台站数据，提高了预测的准确性和实时性。\n",
    "\n",
    "本模型是一款高效的地震预警系统，结合了图神经网络（Graph Neural Network, GNN）与 Transformer 架构，以任意数量的地震台站记录的地震波形数据作为输入。该模型能够实时接收地震信号，并对震源位置、震级以及地震烈度分布范围进行快速且精准的估计，其中烈度分布范围以地面峰值加速度（Peak Ground Acceleration, PGA）表征。通过深度学习方法，本模型可以充分利用地震台网的空间关联性与时序特征，提高预警精度和响应速度，为地震应急响应和减灾决策提供可靠支持。\n",
    "\n",
    "![](./images/image.png)\n",
    "\n",
    "该模型采用多源地震台站数据进行PGA预测，具体架构如下：首先，系统接收多个地震台站的位置信息及其记录的地震波形数据，同时获取待估计PGA的目标位置坐标。对于每个地震台站的波形数据，首先进行标准化处理，随后通过卷积神经网络（CNN）进行特征提取。提取的特征经全连接层进行特征融合，并与对应台站的位置信息共同构成特征向量。\n",
    "目标PGA位置坐标经过位置编码模块处理后，形成特征向量。所有特征向量按序列形式输入到Transformer编码器中，编码器通过自注意力机制捕捉全局依赖关系。编码器输出依次通过三个独立的全连接层，分别完成地震事件震级、震中位置以及PGA的回归预测任务。\n",
    "\n",
    "本模型的训练数据来源于[谛听数据集2.0 -中国地震台网多功能大型人工智能训练数据集](http://www.esdc.ac.cn/article/137)，该数据集汇集了中国大陆及其邻近地区（15°-50°N，65°-140°E）1177 个中国地震台网固定台站的波形记录，覆盖时间范围为 2020 年 3 月至 2023 年 2 月。数据集包含研究区域内所有震级大于 0 的地方震事件，共计 264,298 个。我们在训练过程中仅选取了初至 P 波和 S 波震相，并且只保留至少被三个台站记录到的地震事件，以确保数据的可靠性和稳定性。\n",
    "\n",
    "目前本模型已开源推理部分，可使用提供的ckpt进行推理。\n"
   ]
  },
  {
   "cell_type": "code",
   "execution_count": 19,
   "id": "2a6dec0b-9307-4317-891a-c168fa400648",
   "metadata": {},
   "outputs": [],
   "source": [
    "import numpy as np\n",
    "\n",
    "import mindspore as ms\n",
    "from mindspore import context"
   ]
  },
  {
   "cell_type": "markdown",
   "id": "ced04ef1-9f41-429c-817d-9ed87ad67209",
   "metadata": {},
   "source": [
    "下述src可在[GTEAM/src](./src)下载"
   ]
  },
  {
   "cell_type": "code",
   "execution_count": 13,
   "id": "cb8b38ab-430d-48c7-9939-3dda1718802e",
   "metadata": {},
   "outputs": [],
   "source": [
    "from mindearth import load_yaml_config, make_dir\n",
    "\n",
    "from src.utils import (\n",
    "    predict_at_time,\n",
    "    calc_mag_stats,\n",
    "    calc_loc_stats,\n",
    "    calc_pga_stats,\n",
    "    init_model,\n",
    "    get_logger\n",
    ")\n",
    "from src.forcast import GTeamInference\n",
    "from src.data import load_data\n",
    "from src.visual import generate_true_pred_plot"
   ]
  },
  {
   "cell_type": "markdown",
   "id": "40e22dca-f372-459b-97e9-2cf09a5ac412",
   "metadata": {},
   "source": [
    "可以在[配置文件](./config/GTEAM.yaml)中配置模型、数据和优化器等参数。"
   ]
  },
  {
   "cell_type": "code",
   "execution_count": 14,
   "id": "f4e613c6-95a6-4af4-9636-9f62df623b7c",
   "metadata": {},
   "outputs": [],
   "source": [
    "config = load_yaml_config(\"./config/GTEAM.yaml\")\n",
    "context.set_context(mode=ms.PYNATIVE_MODE)\n",
    "ms.set_device(device_target=\"Ascend\", device_id=0)"
   ]
  },
  {
   "cell_type": "code",
   "execution_count": 15,
   "id": "6160aeba-7b83-4bbc-941d-b0a7ffe1e4cf",
   "metadata": {},
   "outputs": [
    {
     "name": "stderr",
     "output_type": "stream",
     "text": [
      "2025-04-05 08:57:36,391 - utils.py[line:179] - INFO: {'hidden_dim': 1000, 'hidden_dropout': 0.0, 'n_heads': 10, 'n_pga_targets': 15, 'output_location_dims': [150, 100, 50, 30, 3], 'output_mlp_dims': [150, 100, 50, 30, 1], 'transformer_layers': 6, 'waveform_model_dims': [500, 500, 500], 'wavelength': [[0.01, 15], [0.01, 15], [0.01, 10]], 'times': [5], 'run_with_less_data': False, 'pga': True, 'mode': 'test', 'no_event_token': False}\n",
      "2025-04-05 08:57:36,391 - utils.py[line:179] - INFO: {'hidden_dim': 1000, 'hidden_dropout': 0.0, 'n_heads': 10, 'n_pga_targets': 15, 'output_location_dims': [150, 100, 50, 30, 3], 'output_mlp_dims': [150, 100, 50, 30, 1], 'transformer_layers': 6, 'waveform_model_dims': [500, 500, 500], 'wavelength': [[0.01, 15], [0.01, 15], [0.01, 10]], 'times': [5], 'run_with_less_data': False, 'pga': True, 'mode': 'test', 'no_event_token': False}\n",
      "2025-04-05 08:57:36,392 - utils.py[line:179] - INFO: {'root_dir': './dataset', 'batch_size': 64, 'max_stations': 5, 'disable_station_foreshadowing': True, 'key': 'Mag', 'magnitude_resampling': 1, 'min_mag': 'None', 'min_upsample_magnitude': 4, 'aug_large': True, 'pga_from_inactive': True, 'pga_key': 'pga', 'pga_selection_skew': 1000, 'pos_offset': [30, 102], 'scale_metadata': False, 'selection_skew': 1000, 'shuffle_train_dev': True, 'transform_target_only': False, 'trigger_based': True, 'waveform_shape': [3000, 3], 'overwrite_sampling_rate': 'None', 'noise_seconds': 5}\n",
      "2025-04-05 08:57:36,392 - utils.py[line:179] - INFO: {'root_dir': './dataset', 'batch_size': 64, 'max_stations': 5, 'disable_station_foreshadowing': True, 'key': 'Mag', 'magnitude_resampling': 1, 'min_mag': 'None', 'min_upsample_magnitude': 4, 'aug_large': True, 'pga_from_inactive': True, 'pga_key': 'pga', 'pga_selection_skew': 1000, 'pos_offset': [30, 102], 'scale_metadata': False, 'selection_skew': 1000, 'shuffle_train_dev': True, 'transform_target_only': False, 'trigger_based': True, 'waveform_shape': [3000, 3], 'overwrite_sampling_rate': 'None', 'noise_seconds': 5}\n",
      "2025-04-05 08:57:36,394 - utils.py[line:179] - INFO: {'summary_dir': './summary', 'ckpt_path': '/home/lry/202542测试/PreDiff/G-TEAM/dataset/ckpt/g_team.ckpt'}\n",
      "2025-04-05 08:57:36,394 - utils.py[line:179] - INFO: {'summary_dir': './summary', 'ckpt_path': '/home/lry/202542测试/PreDiff/G-TEAM/dataset/ckpt/g_team.ckpt'}\n"
     ]
    }
   ],
   "source": [
    "save_dir = config[\"summary\"].get(\"summary_dir\", \"./summary\")\n",
    "make_dir(save_dir)\n",
    "logger_obj = get_logger(config)"
   ]
  },
  {
   "cell_type": "markdown",
   "id": "e39876ce-308a-4301-9182-0086423fe062",
   "metadata": {},
   "source": [
    "## 初始化模型"
   ]
  },
  {
   "cell_type": "code",
   "execution_count": 16,
   "id": "a408f4ce-92fd-401b-941e-d60e3aaa9044",
   "metadata": {},
   "outputs": [],
   "source": [
    "model = init_model(config)"
   ]
  },
  {
   "cell_type": "markdown",
   "id": "11f3dcd6-ef19-461d-9db5-ab2ef2ef2ec9",
   "metadata": {},
   "source": [
    "## 数据集准备\n",
    "\n",
    "根据地震后发生时间选择不同台站检测的数据"
   ]
  },
  {
   "cell_type": "code",
   "execution_count": null,
   "id": "4fc7dc04-8b29-4f88-8a51-5dbd628e02c7",
   "metadata": {},
   "outputs": [],
   "source": [
    "class GTeamInference:\n",
    "    \"\"\"\n",
    "    Initialize the GTeamInference class.\n",
    "    \"\"\"\n",
    "\n",
    "    def __init__(self, model_ins, cfg, output_dir, logger):\n",
    "        \"\"\"\n",
    "        Args:\n",
    "            model_ins: The model instance used for inference.\n",
    "            cfg: Configuration dictionary containing model and data parameters.\n",
    "            output_dir: Directory to save the output results.\n",
    "        Attributes:\n",
    "            model: The model instance for inference.\n",
    "            cfg: Configuration dictionary.\n",
    "            output_dir: Directory to save outputs.\n",
    "            pga: Flag indicating if PGA (Peak Ground Acceleration) is enabled.\n",
    "            generator_params: Parameters for data generation.\n",
    "            model_params: Parameters specific to the model.\n",
    "            mag_key: Key for magnitude-related data.\n",
    "            pos_offset: Position offset for location predictions.\n",
    "            mag_stats: List to store magnitude prediction statistics.\n",
    "            loc_stats: List to store location prediction statistics.\n",
    "            pga_stats: List to store PGA prediction statistics.\n",
    "        \"\"\"\n",
    "        self.model = model_ins\n",
    "        self.cfg = cfg\n",
    "        self.output_dir = output_dir\n",
    "        self.logger = logger\n",
    "        self.pga = cfg[\"model\"].get(\"pga\", \"true\")\n",
    "        self.generator_params = cfg[\"data\"]\n",
    "        self.model_params = cfg[\"model\"]\n",
    "        self.output_dir = output_dir\n",
    "        self.mag_key = self.generator_params[\"key\"]\n",
    "        self.pos_offset = self.generator_params[\"pos_offset\"]\n",
    "        self.mag_stats = []\n",
    "        self.loc_stats = []\n",
    "        self.pga_stats = []\n",
    "\n",
    "    def _parse_predictions(self, pred):\n",
    "        \"\"\"\n",
    "        Parse the raw predictions into magnitude, location, and PGA components.\n",
    "        \"\"\"\n",
    "        mag_pred = pred[0]\n",
    "        loc_pred = pred[1]\n",
    "        pga_pred = pred[2] if self.pga else []\n",
    "        return mag_pred, loc_pred, pga_pred\n",
    "\n",
    "    def _process_predictions(\n",
    "            self, mag_pred, loc_pred, pga_pred, time, evt_metadata, pga_true\n",
    "    ):\n",
    "        \"\"\"\n",
    "        Process the parsed predictions to compute statistics and generate plots.\n",
    "        \"\"\"\n",
    "        mag_pred_np = [t[0].asnumpy() for t in mag_pred]\n",
    "        mag_pred_reshaped = np.concatenate(mag_pred_np, axis=0)\n",
    "\n",
    "        loc_pred_np = [t[0].asnumpy() for t in loc_pred]\n",
    "        loc_pred_reshaped = np.array(loc_pred_np)\n",
    "\n",
    "        pga_pred_np = [t.asnumpy() for t in pga_pred]\n",
    "        pga_pred_reshaped = np.concatenate(pga_pred_np, axis=0)\n",
    "        pga_true_reshaped = np.log(\n",
    "            np.abs(np.concatenate(pga_true, axis=0).reshape(-1, 1))\n",
    "        )\n",
    "\n",
    "        if not self.model_params[\"no_event_token\"]:\n",
    "            self.mag_stats += calc_mag_stats(\n",
    "                mag_pred_reshaped, evt_metadata, self.mag_key\n",
    "            )\n",
    "\n",
    "            self.loc_stats += calc_loc_stats(\n",
    "                loc_pred_reshaped, evt_metadata, self.pos_offset\n",
    "            )\n",
    "\n",
    "            generate_true_pred_plot(\n",
    "                mag_pred_reshaped,\n",
    "                evt_metadata[self.mag_key].values,\n",
    "                time,\n",
    "                self.output_dir,\n",
    "            )\n",
    "        self.pga_stats = calc_pga_stats(pga_pred_reshaped, pga_true_reshaped)\n",
    "\n",
    "    def _save_results(self):\n",
    "        \"\"\"\n",
    "        Save the final results (magnitude, location, and PGA statistics) to a JSON file.\n",
    "        \"\"\"\n",
    "        times = self.cfg[\"model\"].get(\"times\")\n",
    "        self.logger.info(\"times: {}\".format(times))\n",
    "        self.logger.info(\"mag_stats: {}\".format(self.mag_stats))\n",
    "        self.logger.info(\"loc_stats: {}\".format(self.loc_stats))\n",
    "        self.logger.info(\"pga_stats: {}\".format(self.pga_stats))\n",
    "\n",
    "    def test(self):\n",
    "        \"\"\"\n",
    "        Perform inference for all specified times, process predictions, and save results.\n",
    "        This method iterates over the specified times, performs predictions, processes\n",
    "        the results, and saves the final statistics.\n",
    "        \"\"\"\n",
    "        data_data, evt_key, evt_metadata, meta_data, data_path = load_data(self.cfg)\n",
    "        pga_true = data_data[\"pga\"]\n",
    "        for time in self.cfg[\"model\"].get(\"times\"):\n",
    "            pred = predict_at_time(\n",
    "                self.model,\n",
    "                time,\n",
    "                data_data,\n",
    "                data_path,\n",
    "                evt_key,\n",
    "                evt_metadata,\n",
    "                config=self.cfg,\n",
    "                pga=self.pga,\n",
    "                sampling_rate=meta_data[\"sampling_rate\"],\n",
    "            )\n",
    "            mag_pred, loc_pred, pga_pred = self._parse_predictions(pred)\n",
    "            self._process_predictions(\n",
    "                mag_pred, loc_pred, pga_pred, time, evt_metadata, pga_true\n",
    "            )\n",
    "        self._save_results()\n",
    "        print(\"Inference completed and results saved\")\n"
   ]
  },
  {
   "cell_type": "markdown",
   "id": "e45e95cf-a0e8-4ce6-a093-88cc4d871578",
   "metadata": {},
   "source": [
    "## 开始推理"
   ]
  },
  {
   "cell_type": "code",
   "execution_count": 17,
   "id": "bdac9a30-d8f9-4f16-850f-def6e23d46a2",
   "metadata": {},
   "outputs": [
    {
     "name": "stdout",
     "output_type": "stream",
     "text": [
      "Data loaded from ./dataset/diting2_2020-2022_sc_abridged_test_filter_pga.pkl\n"
     ]
    },
    {
     "name": "stderr",
     "output_type": "stream",
     "text": [
      "2025-04-05 08:57:42,398 - forcast.py[line:115] - INFO: times: [5]\n",
      "2025-04-05 08:57:42,398 - forcast.py[line:115] - INFO: times: [5]\n",
      "2025-04-05 08:57:42,399 - forcast.py[line:116] - INFO: mag_stats: [-5.849881172180176, 0.26172267853934106, 0.2561628818511963]\n",
      "2025-04-05 08:57:42,399 - forcast.py[line:116] - INFO: mag_stats: [-5.849881172180176, 0.26172267853934106, 0.2561628818511963]\n",
      "2025-04-05 08:57:42,400 - forcast.py[line:117] - INFO: loc_stats: [5.55861115185705, 5.1707730693636345, 4.317579930843666, 4.128873124004999]\n",
      "2025-04-05 08:57:42,400 - forcast.py[line:117] - INFO: loc_stats: [5.55861115185705, 5.1707730693636345, 4.317579930843666, 4.128873124004999]\n",
      "2025-04-05 08:57:42,402 - forcast.py[line:118] - INFO: pga_stats: [0.8641006385570611, 0.4655571071890895, 0.28675066434439034]\n",
      "2025-04-05 08:57:42,402 - forcast.py[line:118] - INFO: pga_stats: [0.8641006385570611, 0.4655571071890895, 0.28675066434439034]\n"
     ]
    },
    {
     "name": "stdout",
     "output_type": "stream",
     "text": [
      "Inference completed and results saved\n"
     ]
    }
   ],
   "source": [
    "processor = GTeamInference(model, config, save_dir, logger_obj)\n",
    "processor.test()"
   ]
  }
 ],
 "metadata": {
  "kernelspec": {
   "display_name": "Python 3 (ipykernel)",
   "language": "python",
   "name": "python3"
  },
  "language_info": {
   "codemirror_mode": {
    "name": "ipython",
    "version": 3
   },
   "file_extension": ".py",
   "mimetype": "text/x-python",
   "name": "python",
   "nbconvert_exporter": "python",
   "pygments_lexer": "ipython3",
   "version": "3.11.11"
  }
 },
 "nbformat": 4,
 "nbformat_minor": 5
}
