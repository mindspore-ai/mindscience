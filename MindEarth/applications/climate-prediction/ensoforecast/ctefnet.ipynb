{
 "cells": [
  {
   "cell_type": "markdown",
   "metadata": {
    "pycharm": {
     "name": "#%% md\n"
    }
   },
   "source": [
    "# CTEFNet: ENSO Forecast Based on CNN and Transfer Learning\n",
    "\n",
    "[![DownloadNotebook](https://mindspore-website.obs.cn-north-4.myhuaweicloud.com/website-images/master/resource/_static/logo_notebook_en.svg)](https://obs.dualstack.cn-north-4.myhuaweicloud.com/mindspore-website/notebook/master/mindearth/en/medium-range/mindspore_graphcast.ipynb)&emsp;[![DownloadCode](https://mindspore-website.obs.cn-north-4.myhuaweicloud.com/website-images/master/resource/_static/logo_download_code_en.svg)](https://obs.dualstack.cn-north-4.myhuaweicloud.com/mindspore-website/notebook/master/mindearth/en/medium-range/mindspore_graphcast.py)&emsp;[![ViewSource](https://mindspore-website.obs.cn-north-4.myhuaweicloud.com/website-images/master/resource/_static/logo_source_en.svg)](https://gitee.com/mindspore/docs/blob/master/docs/mindearth/docs/source_en/medium-range/graphcast.ipynb)"
   ]
  },
  {
   "cell_type": "markdown",
   "metadata": {
    "pycharm": {
     "name": "#%% md\n"
    }
   },
   "source": [
    "## Overview\n",
    "\n",
    "CTEFNet is an ENSO forecast model based on deep learning. It uses 2D CNN to extract features from climate data. Multiple time point features are merged into time series and then input into Transformer Encoder for time series analysis and ENSO prediction.\n",
    "Compared with previous deep learning models, CTEFNet's effective prediction time is extended to 19 months.\n",
    "\n",
    "This tutorial introduces the research background and technical path of CTEFNet, and shows how to train and fast infer the model through MindEarth."
   ]
  },
  {
   "cell_type": "markdown",
   "metadata": {
    "pycharm": {
     "name": "#%% md\n"
    }
   },
   "source": [
    "## CTEFNet\n",
    "\n",
    "The following figure shows the CTEFNet network architecture.\n",
    "\n",
    "<img src=\"images/CTEFNet.png\" alt=\"CTEFNet\" style=\"width: 800px;\"/>\n",
    "\n",
    "CTEFNet mainly consists of two parts: CNN feature extractor and Transformer encoder.\n",
    "\n",
    "The CNN part includes three  2d convolutional layers and three maximum pooling layers; the monthly abnormal values of ocean and atmospheric indicators for 12 consecutive months are used as input.\n",
    "\n",
    "The extracted features are concatenated into sequences and analyzed by the Transformer encoder. The Transformer encoder is combined with the CNN to form a residual structure. Finally, the fully connected layer outputs the Nino3.4 index estimate for the 12-month observation period and the Nino3.4 index prediction for the subsequent 23 months."
   ]
  },
  {
   "cell_type": "markdown",
   "metadata": {
    "pycharm": {
     "name": "#%% md\n"
    }
   },
   "source": [
    "## Technology Path\n",
    "\n",
    "MindSpore Earth solves the problem as follows:\n",
    "\n",
    "1. Data Construction.\n",
    "2. Model Construction.\n",
    "3. Loss function.\n",
    "4. Model Training.\n",
    "5. Model Evaluation and Visualization."
   ]
  },
  {
   "cell_type": "markdown",
   "metadata": {},
   "source": [
    "Download the training and test dataset: [mindearth/dataset](https://download-mindspore.osinfra.cn/mindscience/mindearth/dataset/enso_dataset.zip) ."
   ]
  },
  {
   "cell_type": "code",
   "execution_count": 1,
   "metadata": {
    "pycharm": {
     "name": "#%%\n"
    }
   },
   "outputs": [],
   "source": [
    "import os\n",
    "import random\n",
    "\n",
    "import numpy as np\n",
    "\n",
    "from mindspore import set_seed\n",
    "from mindspore import context\n",
    "import mindspore.dataset as ds\n",
    "from mindspore.train.serialization import load_param_into_net"
   ]
  },
  {
   "cell_type": "markdown",
   "metadata": {},
   "source": [
    "The following `src` can be downloaded in [ensoforcast/src](https://gitee.com/mindspore/mindscience/tree/master/MindEarth/applications/climate-prediction/ensoforecast/src)."
   ]
  },
  {
   "cell_type": "code",
   "execution_count": 2,
   "metadata": {},
   "outputs": [],
   "source": [
    "from mindearth.module import Trainer\n",
    "from mindearth.utils import load_yaml_config, create_logger\n",
    "from src import WeightedLoss, CTEFNet, InferenceModule, EvaluateCallBack\n",
    "from src import ReanalysisData, plot_correlation, get_param_dict, init_dataloader"
   ]
  },
  {
   "cell_type": "code",
   "execution_count": 3,
   "metadata": {},
   "outputs": [],
   "source": [
    "set_seed(0)\n",
    "np.random.seed(0)\n",
    "random.seed(0)"
   ]
  },
  {
   "cell_type": "markdown",
   "metadata": {},
   "source": [
    "You can get parameters of model, data and optimizer from [config](https://gitee.com/mindspore/mindscience/blob/master/MindEarth/applications/climate-prediction/ensoforecast/configs/pretrain.yaml) ."
   ]
  },
  {
   "cell_type": "code",
   "execution_count": 4,
   "metadata": {
    "pycharm": {
     "name": "#%%\n"
    }
   },
   "outputs": [],
   "source": [
    "config = load_yaml_config(\"./configs/pretrain.yaml\")\n",
    "context.set_context(mode=context.PYNATIVE_MODE, device_target=\"GPU\", device_id=0)"
   ]
  },
  {
   "cell_type": "markdown",
   "metadata": {},
   "source": [
    "## Data Construction\n",
    "\n",
    "Download the statistic, training and validation dataset from [dataset](https://download-mindspore.osinfra.cn/mindscience/mindearth/dataset/enso_dataset.zip) to `./dataset`.\n",
    "\n",
    "Modify the parameter of `root_dir` in the [configs/pretrain.yaml](https://gitee.com/mindspore/mindscience/blob/master/MindEarth/applications/climate-prediction/ensoforecast/configs/pretrain.yaml) and [configs/finetune.yaml](https://gitee.com/mindspore/mindscience/blob/master/MindEarth/applications/climate-prediction/ensoforecast/configs/finetune.yaml), which set the directory for dataset.\n",
    "\n",
    "The `./dataset` is hosted with the following directory structure:\n",
    "\n",
    "``` markdown\n",
    ".\n",
    "dataset\n",
    "├── CMIP5_nino34.npy\n",
    "├── CMIP5_sst_ssh_slp.npy\n",
    "├── SODA_nino34.npy\n",
    "└── SODA_sst_ssh_slp.npy\n",
    "\n",
    "```"
   ]
  },
  {
   "cell_type": "markdown",
   "metadata": {
    "pycharm": {
     "name": "#%% md\n"
    }
   },
   "source": [
    "## Model Construction\n"
   ]
  },
  {
   "cell_type": "markdown",
   "metadata": {
    "pycharm": {
     "name": "#%% md\n"
    }
   },
   "source": [
    "The initialization of the model:"
   ]
  },
  {
   "cell_type": "code",
   "execution_count": 5,
   "metadata": {
    "pycharm": {
     "name": "#%%\n"
    }
   },
   "outputs": [],
   "source": [
    "config['data']['obs_time'] = 12 # Observation time length\n",
    "config['data']['pred_time'] = 23 # Predition time length\n",
    "logger = create_logger(os.path.join(os.path.abspath(config['summary'][\"summary_dir\"]), \"results.log\"))"
   ]
  },
  {
   "cell_type": "code",
   "execution_count": 6,
   "metadata": {
    "pycharm": {
     "name": "#%%\n"
    }
   },
   "outputs": [],
   "source": [
    "data_params = config.get(\"data\")\n",
    "model_params = config.get(\"model\")\n",
    "model = CTEFNet(\n",
    "        cov_hidden_channels=model_params.get('cov_hidden_channels'),\n",
    "        cov_out_channels=model_params.get('cov_out_channels'),\n",
    "        heads=model_params.get('heads'),\n",
    "        num_layer=model_params.get('num_layer'),\n",
    "        feedforward_dims=model_params.get('feedforward_dims'),\n",
    "        dropout=model_params.get('dropout'),\n",
    "        obs_time=data_params.get('obs_time'),\n",
    "        pred_time=data_params.get('pred_time')\n",
    "    )"
   ]
  },
  {
   "cell_type": "markdown",
   "metadata": {
    "pycharm": {
     "name": "#%% md\n"
    }
   },
   "source": [
    "## Loss Function\n",
    "\n",
    "CTEFNet uses custom weighted loss for model training. The function was:\n",
    "\n",
    "<img src=\"images/Loss.png\" alt=\"Loss\" style=\"width: 600px;\"/>"
   ]
  },
  {
   "cell_type": "code",
   "execution_count": 7,
   "metadata": {
    "pycharm": {
     "name": "#%%\n"
    }
   },
   "outputs": [],
   "source": [
    "opt_params = config.get(\"optimizer\")\n",
    "loss_fn = WeightedLoss(\n",
    "    lambda_1=opt_params.get('loss_alpha'),\n",
    "    lambda_2=opt_params.get('loss_beta'),\n",
    "    lambda_3=opt_params.get('loss_gamma'),\n",
    "    obs_time=data_params.get('obs_time')\n",
    ")"
   ]
  },
  {
   "cell_type": "markdown",
   "metadata": {
    "pycharm": {
     "name": "#%% md\n"
    }
   },
   "source": [
    "## Model Training\n",
    "\n",
    "In this tutorial, we inherite the Trainer and override `get_dataset` member function to load custom data, override `get_callback` member function to perform inference on the test dataset during the training process. Model training can be divided into two steps: pre-training and fine-tuning.\n",
    "\n",
    "MindSpore Earth provides training and inference interface for model training with `MindSpore` version >= 2.0.0."
   ]
  },
  {
   "cell_type": "code",
   "execution_count": 8,
   "metadata": {
    "pycharm": {
     "name": "#%%\n"
    }
   },
   "outputs": [],
   "source": [
    "class CTEFTrainer(Trainer):\n",
    "    def __init__(self, config, model, loss_fn, logger):\n",
    "        super().__init__(config, model, loss_fn, logger)\n",
    "        self.train_dataset, self.valid_dataset = self.get_dataset()\n",
    "        self.pred_cb = self.get_callback()\n",
    "\n",
    "    def get_callback(self):\n",
    "        pred_cb = EvaluateCallBack(self.model, self.valid_dataset, self.config, self.logger)\n",
    "        return pred_cb\n",
    "\n",
    "\n",
    "    def get_dataset(self):\n",
    "        train_dataloader, valid_dataloader = init_dataloader(self.config)\n",
    "        return train_dataloader, valid_dataloader"
   ]
  },
  {
   "cell_type": "markdown",
   "metadata": {},
   "source": [
    "Pre-trained using CMIP5 data."
   ]
  },
  {
   "cell_type": "code",
   "execution_count": 9,
   "metadata": {
    "pycharm": {
     "name": "#%%\n"
    },
    "scrolled": true
   },
   "outputs": [
    {
     "name": "stderr",
     "output_type": "stream",
     "text": [
      "2024-01-04 17:09:53,354 - pretrain.py[line:215] - INFO: steps_per_epoch: 60\n"
     ]
    },
    {
     "name": "stdout",
     "output_type": "stream",
     "text": [
      "epoch: 1 step: 1, loss is 1.5182791\n",
      "epoch: 1 step: 2, loss is 1.5837412\n",
      "epoch: 1 step: 3, loss is 1.5687228\n",
      "epoch: 1 step: 4, loss is 1.5529883\n",
      "epoch: 1 step: 5, loss is 1.5631034\n",
      "epoch: 1 step: 6, loss is 1.5315193\n",
      "epoch: 1 step: 7, loss is 1.4964404\n",
      "epoch: 1 step: 8, loss is 1.6084869\n",
      "epoch: 1 step: 9, loss is 1.4317186\n",
      "epoch: 1 step: 10, loss is 1.3057781\n",
      "epoch: 1 step: 11, loss is 1.274146\n",
      "epoch: 1 step: 12, loss is 1.1803966\n",
      "epoch: 1 step: 13, loss is 1.3376935\n",
      "epoch: 1 step: 14, loss is 1.3478584\n",
      "epoch: 1 step: 15, loss is 1.2935078\n",
      "epoch: 1 step: 16, loss is 1.1874846\n",
      "epoch: 1 step: 17, loss is 1.1050987\n",
      "epoch: 1 step: 18, loss is 1.0307624\n",
      "epoch: 1 step: 19, loss is 1.0223571\n",
      "epoch: 1 step: 20, loss is 1.0439371\n",
      "epoch: 1 step: 21, loss is 0.9886076\n",
      "epoch: 1 step: 22, loss is 0.9710097\n",
      "epoch: 1 step: 23, loss is 0.88749564\n",
      "epoch: 1 step: 24, loss is 0.83498174\n",
      "epoch: 1 step: 25, loss is 0.8129358\n",
      "epoch: 1 step: 26, loss is 0.85638297\n",
      "epoch: 1 step: 27, loss is 0.8833265\n",
      "epoch: 1 step: 28, loss is 0.85660905\n",
      "epoch: 1 step: 29, loss is 0.754498\n",
      "epoch: 1 step: 30, loss is 0.7766734\n",
      "epoch: 1 step: 31, loss is 0.7851509\n",
      "epoch: 1 step: 32, loss is 0.771443\n",
      "epoch: 1 step: 33, loss is 0.7554009\n",
      "epoch: 1 step: 34, loss is 0.7047553\n",
      "epoch: 1 step: 35, loss is 0.78116345\n",
      "epoch: 1 step: 36, loss is 0.7370071\n",
      "epoch: 1 step: 37, loss is 0.6524527\n",
      "epoch: 1 step: 38, loss is 0.6733249\n",
      "epoch: 1 step: 39, loss is 0.69256854\n",
      "epoch: 1 step: 40, loss is 0.75662607\n",
      "epoch: 1 step: 41, loss is 0.6764941\n",
      "epoch: 1 step: 42, loss is 0.69294155\n",
      "epoch: 1 step: 43, loss is 0.65346605\n",
      "epoch: 1 step: 44, loss is 0.68135226\n",
      "epoch: 1 step: 45, loss is 0.6220738\n",
      "epoch: 1 step: 46, loss is 0.74384445\n",
      "epoch: 1 step: 47, loss is 0.7067735\n",
      "epoch: 1 step: 48, loss is 0.68393433\n",
      "epoch: 1 step: 49, loss is 0.669054\n",
      "epoch: 1 step: 50, loss is 0.6225511\n",
      "epoch: 1 step: 51, loss is 0.6350826\n",
      "epoch: 1 step: 52, loss is 0.69258356\n",
      "epoch: 1 step: 53, loss is 0.716274\n",
      "epoch: 1 step: 54, loss is 0.66771346\n",
      "epoch: 1 step: 55, loss is 0.7135001\n",
      "epoch: 1 step: 56, loss is 0.63662004\n",
      "epoch: 1 step: 57, loss is 0.64884925\n",
      "epoch: 1 step: 58, loss is 0.63733655\n",
      "epoch: 1 step: 59, loss is 0.5653443\n",
      "epoch: 1 step: 60, loss is 0.71718526\n",
      "Train epoch time: 24583.562 ms, per step time: 409.726 ms\n",
      "epoch: 2 step: 1, loss is 0.56888366\n",
      "epoch: 2 step: 2, loss is 0.6008902\n",
      "epoch: 2 step: 3, loss is 0.6083292\n",
      "epoch: 2 step: 4, loss is 0.6083587\n",
      "epoch: 2 step: 5, loss is 0.58343875\n",
      "epoch: 2 step: 6, loss is 0.55690366\n",
      "epoch: 2 step: 7, loss is 0.6116943\n",
      "epoch: 2 step: 8, loss is 0.657875\n",
      "epoch: 2 step: 9, loss is 0.58674693\n",
      "epoch: 2 step: 10, loss is 0.56312734\n",
      "epoch: 2 step: 11, loss is 0.5488151\n",
      "epoch: 2 step: 12, loss is 0.6426433\n",
      "epoch: 2 step: 13, loss is 0.5715689\n",
      "epoch: 2 step: 14, loss is 0.52180696\n",
      "epoch: 2 step: 15, loss is 0.6096277\n",
      "epoch: 2 step: 16, loss is 0.56413805\n",
      "epoch: 2 step: 17, loss is 0.50245285\n",
      "epoch: 2 step: 18, loss is 0.5373196\n",
      "epoch: 2 step: 19, loss is 0.5417232\n",
      "epoch: 2 step: 20, loss is 0.54734194\n",
      "epoch: 2 step: 21, loss is 0.5036081\n",
      "epoch: 2 step: 22, loss is 0.56618\n",
      "epoch: 2 step: 23, loss is 0.5372315\n",
      "epoch: 2 step: 24, loss is 0.56387323\n",
      "epoch: 2 step: 25, loss is 0.55433303\n",
      "epoch: 2 step: 26, loss is 0.523936\n",
      "epoch: 2 step: 27, loss is 0.50261855\n",
      "epoch: 2 step: 28, loss is 0.5678744\n",
      "epoch: 2 step: 29, loss is 0.5539999\n",
      "epoch: 2 step: 30, loss is 0.5098688\n",
      "epoch: 2 step: 31, loss is 0.5363601\n",
      "epoch: 2 step: 32, loss is 0.50291675\n",
      "epoch: 2 step: 33, loss is 0.5402401\n",
      "epoch: 2 step: 34, loss is 0.5125216\n",
      "epoch: 2 step: 35, loss is 0.52483565\n",
      "epoch: 2 step: 36, loss is 0.4986547\n",
      "epoch: 2 step: 37, loss is 0.53104204\n",
      "epoch: 2 step: 38, loss is 0.5345428\n",
      "epoch: 2 step: 39, loss is 0.6157109\n",
      "epoch: 2 step: 40, loss is 0.5201006\n",
      "epoch: 2 step: 41, loss is 0.5101197\n",
      "epoch: 2 step: 42, loss is 0.56995845\n",
      "epoch: 2 step: 43, loss is 0.55777603\n",
      "epoch: 2 step: 44, loss is 0.5070236\n",
      "epoch: 2 step: 45, loss is 0.53355616\n",
      "epoch: 2 step: 46, loss is 0.5161159\n",
      "epoch: 2 step: 47, loss is 0.48573616\n",
      "epoch: 2 step: 48, loss is 0.5224382\n",
      "epoch: 2 step: 49, loss is 0.55924237\n",
      "epoch: 2 step: 50, loss is 0.5624079\n",
      "epoch: 2 step: 51, loss is 0.47137842\n",
      "epoch: 2 step: 52, loss is 0.5155587\n",
      "epoch: 2 step: 53, loss is 0.5236587\n",
      "epoch: 2 step: 54, loss is 0.49769577\n",
      "epoch: 2 step: 55, loss is 0.516678\n",
      "epoch: 2 step: 56, loss is 0.4528763\n",
      "epoch: 2 step: 57, loss is 0.5081045\n",
      "epoch: 2 step: 58, loss is 0.49429625\n",
      "epoch: 2 step: 59, loss is 0.46181297\n",
      "epoch: 2 step: 60, loss is 0.53146744\n",
      "Train epoch time: 23109.417 ms, per step time: 385.157 ms\n",
      "epoch: 3 step: 1, loss is 0.46705624\n",
      "epoch: 3 step: 2, loss is 0.4919145\n",
      "epoch: 3 step: 3, loss is 0.47116995\n",
      "epoch: 3 step: 4, loss is 0.53258795\n",
      "epoch: 3 step: 5, loss is 0.452492\n",
      "epoch: 3 step: 6, loss is 0.47140858\n",
      "epoch: 3 step: 7, loss is 0.43464658\n",
      "epoch: 3 step: 8, loss is 0.4715193\n",
      "epoch: 3 step: 9, loss is 0.46271923\n",
      "epoch: 3 step: 10, loss is 0.45083588\n",
      "epoch: 3 step: 11, loss is 0.42075214\n",
      "epoch: 3 step: 12, loss is 0.43200198\n",
      "epoch: 3 step: 13, loss is 0.45995778\n",
      "epoch: 3 step: 14, loss is 0.41877013\n",
      "epoch: 3 step: 15, loss is 0.41065714\n",
      "epoch: 3 step: 16, loss is 0.4511772\n",
      "epoch: 3 step: 17, loss is 0.44655403\n",
      "epoch: 3 step: 18, loss is 0.44500768\n",
      "epoch: 3 step: 19, loss is 0.42788166\n",
      "epoch: 3 step: 20, loss is 0.44660574\n",
      "epoch: 3 step: 21, loss is 0.44636944\n",
      "epoch: 3 step: 22, loss is 0.4083813\n",
      "epoch: 3 step: 23, loss is 0.45812872\n",
      "epoch: 3 step: 24, loss is 0.4114276\n",
      "epoch: 3 step: 25, loss is 0.44491306\n",
      "epoch: 3 step: 26, loss is 0.4776596\n",
      "epoch: 3 step: 27, loss is 0.43484417\n",
      "epoch: 3 step: 28, loss is 0.4231249\n",
      "epoch: 3 step: 29, loss is 0.3999155\n",
      "epoch: 3 step: 30, loss is 0.40318862\n",
      "epoch: 3 step: 31, loss is 0.41433373\n",
      "epoch: 3 step: 32, loss is 0.48422465\n",
      "epoch: 3 step: 33, loss is 0.3726483\n",
      "epoch: 3 step: 34, loss is 0.39681238\n",
      "epoch: 3 step: 36, loss is 0.43758622\n",
      "epoch: 3 step: 37, loss is 0.41576648\n",
      "epoch: 3 step: 38, loss is 0.41521117\n",
      "epoch: 3 step: 39, loss is 0.41350183\n",
      "epoch: 3 step: 40, loss is 0.41684762\n",
      "epoch: 3 step: 41, loss is 0.45174953\n",
      "epoch: 3 step: 42, loss is 0.42618632\n",
      "epoch: 3 step: 43, loss is 0.39534318\n",
      "epoch: 3 step: 44, loss is 0.3946972\n",
      "epoch: 3 step: 45, loss is 0.4129707\n",
      "epoch: 3 step: 46, loss is 0.38389134\n",
      "epoch: 3 step: 47, loss is 0.4263321\n",
      "epoch: 3 step: 48, loss is 0.42287937\n",
      "epoch: 3 step: 49, loss is 0.3981556\n",
      "epoch: 3 step: 50, loss is 0.4246643\n",
      "epoch: 3 step: 51, loss is 0.4160875\n",
      "epoch: 3 step: 52, loss is 0.42268148\n",
      "epoch: 3 step: 53, loss is 0.39156696\n",
      "epoch: 3 step: 54, loss is 0.409423\n",
      "epoch: 3 step: 55, loss is 0.37749597\n",
      "epoch: 3 step: 56, loss is 0.39433476\n",
      "epoch: 3 step: 57, loss is 0.3904736\n",
      "epoch: 3 step: 58, loss is 0.41656807\n",
      "epoch: 3 step: 59, loss is 0.38299286\n",
      "epoch: 3 step: 60, loss is 0.4177055\n",
      "Train epoch time: 23727.653 ms, per step time: 395.461 ms\n"
     ]
    }
   ],
   "source": [
    "config['data'][\"train_dataset\"] = \"CMIP5\" # Training set\n",
    "config['data'][\"train_period\"] = [1861, 2004] # Training period\n",
    "config['data'][\"valid_dataset\"] = \"Reanalysis\" # validation set\n",
    "config['data'][\"valid_period\"] = [1941, 1983] # validation period\n",
    "config['data'][\"t_in\"] = 1  # Training stage\n",
    "config['data'][\"t_out_train\"] = 1  # Training stage\n",
    "config['optimizer']['name'] = 'adam'  # Optimizer name\n",
    "config['optimizer']['initial_lr'] = 0.0008  # Learning rate\n",
    "config['optimizer']['epochs'] = 3  # Training epoch\n",
    "\n",
    "trainer = CTEFTrainer(config, model, loss_fn, logger)\n",
    "trainer.train()"
   ]
  },
  {
   "cell_type": "markdown",
   "metadata": {},
   "source": [
    "Fine-tuning using pre-1984 SODA reanalysis data"
   ]
  },
  {
   "cell_type": "code",
   "execution_count": 10,
   "metadata": {},
   "outputs": [
    {
     "name": "stderr",
     "output_type": "stream",
     "text": [
      "2024-01-04 17:11:06,569 - pretrain.py[line:215] - INFO: steps_per_epoch: 1\n"
     ]
    },
    {
     "name": "stdout",
     "output_type": "stream",
     "text": [
      "epoch: 1 step: 1, loss is 0.61560714\n",
      "Train epoch time: 2055.669 ms, per step time: 2055.669 ms\n",
      "epoch: 2 step: 1, loss is 0.58329463\n",
      "Train epoch time: 2326.359 ms, per step time: 2326.359 ms\n",
      "epoch: 3 step: 1, loss is 0.55557144\n",
      "Train epoch time: 392.554 ms, per step time: 392.554 ms\n",
      "epoch: 4 step: 1, loss is 0.5530031\n",
      "Train epoch time: 394.613 ms, per step time: 394.613 ms\n",
      "epoch: 5 step: 1, loss is 0.5358207\n",
      "Train epoch time: 863.843 ms, per step time: 863.843 ms\n",
      "epoch: 6 step: 1, loss is 0.53078103\n",
      "Train epoch time: 393.652 ms, per step time: 393.652 ms\n",
      "epoch: 7 step: 1, loss is 0.5277782\n",
      "Train epoch time: 401.477 ms, per step time: 401.477 ms\n",
      "epoch: 8 step: 1, loss is 0.5282854\n",
      "Train epoch time: 394.892 ms, per step time: 394.892 ms\n",
      "epoch: 9 step: 1, loss is 0.51547956\n",
      "Train epoch time: 394.976 ms, per step time: 394.976 ms\n",
      "epoch: 10 step: 1, loss is 0.5200441\n",
      "Train epoch time: 814.040 ms, per step time: 814.040 ms\n",
      "epoch: 11 step: 1, loss is 0.5064292\n",
      "Train epoch time: 352.751 ms, per step time: 352.751 ms\n",
      "epoch: 12 step: 1, loss is 0.50081474\n",
      "Train epoch time: 352.343 ms, per step time: 352.343 ms\n",
      "epoch: 13 step: 1, loss is 0.50466853\n",
      "Train epoch time: 386.924 ms, per step time: 386.924 ms\n",
      "epoch: 14 step: 1, loss is 0.49948427\n",
      "Train epoch time: 402.477 ms, per step time: 402.477 ms\n",
      "epoch: 15 step: 1, loss is 0.4918735\n",
      "Train epoch time: 827.487 ms, per step time: 827.487 ms\n",
      "epoch: 16 step: 1, loss is 0.48331362\n",
      "Train epoch time: 371.657 ms, per step time: 371.657 ms\n",
      "epoch: 17 step: 1, loss is 0.48400766\n",
      "Train epoch time: 351.896 ms, per step time: 351.896 ms\n",
      "epoch: 18 step: 1, loss is 0.48089945\n",
      "Train epoch time: 350.520 ms, per step time: 350.520 ms\n",
      "epoch: 19 step: 1, loss is 0.48200566\n",
      "Train epoch time: 357.279 ms, per step time: 357.279 ms\n",
      "epoch: 20 step: 1, loss is 0.47972715\n",
      "Train epoch time: 809.933 ms, per step time: 809.933 ms\n",
      "epoch: 21 step: 1, loss is 0.4758023\n",
      "Train epoch time: 358.736 ms, per step time: 358.736 ms\n",
      "epoch: 22 step: 1, loss is 0.47165716\n",
      "Train epoch time: 354.522 ms, per step time: 354.522 ms\n",
      "epoch: 23 step: 1, loss is 0.46438223\n",
      "Train epoch time: 359.395 ms, per step time: 359.395 ms\n",
      "epoch: 24 step: 1, loss is 0.4585072\n",
      "Train epoch time: 354.154 ms, per step time: 354.154 ms\n",
      "epoch: 25 step: 1, loss is 0.46144748\n",
      "Train epoch time: 810.738 ms, per step time: 810.738 ms\n",
      "epoch: 26 step: 1, loss is 0.45737046\n",
      "Train epoch time: 378.850 ms, per step time: 378.850 ms\n",
      "epoch: 27 step: 1, loss is 0.45591274\n",
      "Train epoch time: 391.279 ms, per step time: 391.279 ms\n",
      "epoch: 28 step: 1, loss is 0.44685048\n",
      "Train epoch time: 382.062 ms, per step time: 382.062 ms\n",
      "epoch: 29 step: 1, loss is 0.4506305\n",
      "Train epoch time: 385.629 ms, per step time: 385.629 ms\n",
      "epoch: 30 step: 1, loss is 0.44449228\n",
      "Train epoch time: 861.384 ms, per step time: 861.384 ms\n",
      "epoch: 31 step: 1, loss is 0.45827085\n",
      "Train epoch time: 352.844 ms, per step time: 352.844 ms\n",
      "epoch: 32 step: 1, loss is 0.44309524\n",
      "Train epoch time: 371.910 ms, per step time: 371.910 ms\n",
      "epoch: 33 step: 1, loss is 0.44053802\n",
      "Train epoch time: 361.489 ms, per step time: 361.489 ms\n",
      "epoch: 34 step: 1, loss is 0.44138706\n",
      "Train epoch time: 367.649 ms, per step time: 367.649 ms\n",
      "epoch: 35 step: 1, loss is 0.4371326\n",
      "Train epoch time: 839.206 ms, per step time: 839.206 ms\n",
      "epoch: 36 step: 1, loss is 0.43779927\n",
      "Train epoch time: 363.003 ms, per step time: 363.003 ms\n",
      "epoch: 37 step: 1, loss is 0.4292135\n",
      "Train epoch time: 384.001 ms, per step time: 384.001 ms\n",
      "epoch: 38 step: 1, loss is 0.4280753\n",
      "Train epoch time: 395.999 ms, per step time: 395.999 ms\n",
      "epoch: 39 step: 1, loss is 0.42536047\n",
      "Train epoch time: 382.885 ms, per step time: 382.885 ms\n",
      "epoch: 40 step: 1, loss is 0.42444882\n",
      "Train epoch time: 827.079 ms, per step time: 827.079 ms\n",
      "epoch: 41 step: 1, loss is 0.42772493\n",
      "Train epoch time: 358.217 ms, per step time: 358.217 ms\n",
      "epoch: 42 step: 1, loss is 0.4194583\n",
      "Train epoch time: 380.362 ms, per step time: 380.362 ms\n",
      "epoch: 43 step: 1, loss is 0.42305347\n",
      "Train epoch time: 381.813 ms, per step time: 381.813 ms\n",
      "epoch: 44 step: 1, loss is 0.42692977\n",
      "Train epoch time: 381.349 ms, per step time: 381.349 ms\n",
      "epoch: 45 step: 1, loss is 0.41452655\n",
      "Train epoch time: 833.743 ms, per step time: 833.743 ms\n",
      "epoch: 46 step: 1, loss is 0.414336\n",
      "Train epoch time: 357.660 ms, per step time: 357.660 ms\n",
      "epoch: 47 step: 1, loss is 0.41650334\n",
      "Train epoch time: 378.438 ms, per step time: 378.438 ms\n",
      "epoch: 48 step: 1, loss is 0.41458774\n",
      "Train epoch time: 362.884 ms, per step time: 362.884 ms\n",
      "epoch: 49 step: 1, loss is 0.41509667\n",
      "Train epoch time: 354.893 ms, per step time: 354.893 ms\n",
      "epoch: 50 step: 1, loss is 0.40763673\n",
      "Train epoch time: 834.482 ms, per step time: 834.482 ms\n",
      "epoch: 51 step: 1, loss is 0.4076965\n",
      "Train epoch time: 390.698 ms, per step time: 390.698 ms\n",
      "epoch: 52 step: 1, loss is 0.4099675\n",
      "Train epoch time: 380.928 ms, per step time: 380.928 ms\n",
      "epoch: 53 step: 1, loss is 0.4133613\n",
      "Train epoch time: 382.146 ms, per step time: 382.146 ms\n",
      "epoch: 54 step: 1, loss is 0.4079482\n",
      "Train epoch time: 408.247 ms, per step time: 408.247 ms\n",
      "epoch: 55 step: 1, loss is 0.40728897\n",
      "Train epoch time: 889.649 ms, per step time: 889.649 ms\n",
      "epoch: 56 step: 1, loss is 0.40148348\n",
      "Train epoch time: 379.208 ms, per step time: 379.208 ms\n",
      "epoch: 57 step: 1, loss is 0.4068535\n",
      "Train epoch time: 368.566 ms, per step time: 368.566 ms\n",
      "epoch: 58 step: 1, loss is 0.3975606\n",
      "Train epoch time: 380.932 ms, per step time: 380.932 ms\n",
      "epoch: 59 step: 1, loss is 0.40141594\n",
      "Train epoch time: 389.283 ms, per step time: 389.283 ms\n",
      "epoch: 60 step: 1, loss is 0.39630443\n",
      "Train epoch time: 889.782 ms, per step time: 889.782 ms\n",
      "epoch: 61 step: 1, loss is 0.40392\n",
      "Train epoch time: 381.061 ms, per step time: 381.061 ms\n",
      "epoch: 62 step: 1, loss is 0.39758873\n",
      "Train epoch time: 392.336 ms, per step time: 392.336 ms\n",
      "epoch: 63 step: 1, loss is 0.39947414\n",
      "Train epoch time: 397.018 ms, per step time: 397.018 ms\n",
      "epoch: 64 step: 1, loss is 0.3967721\n",
      "Train epoch time: 396.512 ms, per step time: 396.512 ms\n",
      "epoch: 65 step: 1, loss is 0.39805123\n",
      "Train epoch time: 878.881 ms, per step time: 878.881 ms\n",
      "epoch: 66 step: 1, loss is 0.39490277\n",
      "Train epoch time: 391.711 ms, per step time: 391.711 ms\n",
      "epoch: 67 step: 1, loss is 0.39881504\n",
      "Train epoch time: 396.660 ms, per step time: 396.660 ms\n",
      "epoch: 68 step: 1, loss is 0.39144495\n",
      "Train epoch time: 399.137 ms, per step time: 399.137 ms\n",
      "epoch: 69 step: 1, loss is 0.3974124\n",
      "Train epoch time: 406.574 ms, per step time: 406.574 ms\n",
      "epoch: 70 step: 1, loss is 0.3945576\n",
      "Train epoch time: 880.968 ms, per step time: 880.968 ms\n",
      "epoch: 71 step: 1, loss is 0.3892263\n",
      "Train epoch time: 401.798 ms, per step time: 401.798 ms\n",
      "epoch: 72 step: 1, loss is 0.39131072\n",
      "Train epoch time: 363.423 ms, per step time: 363.423 ms\n",
      "epoch: 73 step: 1, loss is 0.39135817\n",
      "Train epoch time: 387.679 ms, per step time: 387.679 ms\n",
      "epoch: 74 step: 1, loss is 0.3906595\n",
      "Train epoch time: 400.164 ms, per step time: 400.164 ms\n",
      "epoch: 75 step: 1, loss is 0.38735798\n",
      "Train epoch time: 887.114 ms, per step time: 887.114 ms\n",
      "epoch: 76 step: 1, loss is 0.39138255\n",
      "Train epoch time: 402.398 ms, per step time: 402.398 ms\n",
      "epoch: 77 step: 1, loss is 0.39623243\n",
      "Train epoch time: 395.496 ms, per step time: 395.496 ms\n",
      "epoch: 78 step: 1, loss is 0.39160952\n",
      "Train epoch time: 393.597 ms, per step time: 393.597 ms\n",
      "epoch: 79 step: 1, loss is 0.39205432\n",
      "Train epoch time: 390.555 ms, per step time: 390.555 ms\n",
      "epoch: 80 step: 1, loss is 0.38802898\n",
      "Train epoch time: 744.580 ms, per step time: 744.580 ms\n",
      "epoch: 81 step: 1, loss is 0.38999146\n",
      "Train epoch time: 252.533 ms, per step time: 252.533 ms\n",
      "epoch: 82 step: 1, loss is 0.390638\n",
      "Train epoch time: 251.663 ms, per step time: 251.663 ms\n",
      "epoch: 83 step: 1, loss is 0.39281532\n",
      "Train epoch time: 257.500 ms, per step time: 257.500 ms\n",
      "epoch: 84 step: 1, loss is 0.3916379\n",
      "Train epoch time: 248.953 ms, per step time: 248.953 ms\n",
      "epoch: 85 step: 1, loss is 0.39380166\n",
      "Train epoch time: 731.336 ms, per step time: 731.336 ms\n",
      "epoch: 86 step: 1, loss is 0.38812312\n",
      "Train epoch time: 246.521 ms, per step time: 246.521 ms\n",
      "epoch: 87 step: 1, loss is 0.39653432\n",
      "Train epoch time: 246.938 ms, per step time: 246.938 ms\n",
      "epoch: 88 step: 1, loss is 0.3899284\n",
      "Train epoch time: 250.170 ms, per step time: 250.170 ms\n"
     ]
    },
    {
     "name": "stdout",
     "output_type": "stream",
     "text": [
      "epoch: 89 step: 1, loss is 0.39276436\n",
      "Train epoch time: 244.567 ms, per step time: 244.567 ms\n",
      "epoch: 90 step: 1, loss is 0.39129978\n",
      "Train epoch time: 741.366 ms, per step time: 741.366 ms\n",
      "epoch: 91 step: 1, loss is 0.38780504\n",
      "Train epoch time: 251.739 ms, per step time: 251.739 ms\n",
      "epoch: 92 step: 1, loss is 0.3935294\n",
      "Train epoch time: 252.401 ms, per step time: 252.401 ms\n",
      "epoch: 93 step: 1, loss is 0.39000306\n",
      "Train epoch time: 249.758 ms, per step time: 249.758 ms\n",
      "epoch: 94 step: 1, loss is 0.38844264\n",
      "Train epoch time: 252.133 ms, per step time: 252.133 ms\n",
      "epoch: 95 step: 1, loss is 0.38856846\n",
      "Train epoch time: 738.786 ms, per step time: 738.786 ms\n",
      "epoch: 96 step: 1, loss is 0.39583182\n",
      "Train epoch time: 248.755 ms, per step time: 248.755 ms\n",
      "epoch: 97 step: 1, loss is 0.39176747\n",
      "Train epoch time: 240.972 ms, per step time: 240.972 ms\n",
      "epoch: 98 step: 1, loss is 0.38904893\n",
      "Train epoch time: 240.452 ms, per step time: 240.452 ms\n",
      "epoch: 99 step: 1, loss is 0.39654502\n",
      "Train epoch time: 243.854 ms, per step time: 243.854 ms\n",
      "epoch: 100 step: 1, loss is 0.390933\n",
      "Train epoch time: 738.570 ms, per step time: 738.570 ms\n"
     ]
    }
   ],
   "source": [
    "config['data'][\"train_dataset\"] = \"Reanalysis\" # Training set\n",
    "config['data'][\"train_period\"] = [1941, 1983] # Training period\n",
    "config['data'][\"valid_dataset\"] = \"Reanalysis\" # validation set\n",
    "config['data'][\"valid_period\"] = [1984, 2008] # validation period\n",
    "config['data'][\"t_in\"] = 2  # Training stage\n",
    "config['data'][\"t_out_train\"] = 1  # Training stage\n",
    "config['optimizer']['name'] = 'sgd'  # Optimizer name\n",
    "config['optimizer']['finetune_lr'] = 0.001  # Fine-tune learning rate\n",
    "config['optimizer']['epochs'] = 100  # Fine-tune epoch\n",
    "\n",
    "trainer = CTEFTrainer(config, model, loss_fn, logger)\n",
    "trainer.train()"
   ]
  },
  {
   "cell_type": "markdown",
   "metadata": {},
   "source": [
    "## Model Evaluation and Visualization"
   ]
  },
  {
   "cell_type": "markdown",
   "metadata": {},
   "source": [
    "After training, we use the checkpoint for inference. The following shows the correlation coefficient between the predicted value and the true value of the nino3.4 index."
   ]
  },
  {
   "cell_type": "code",
   "execution_count": 11,
   "metadata": {},
   "outputs": [],
   "source": [
    "test_dataset = ReanalysisData(\n",
    "    data_params.get('root_dir'),\n",
    "    data_params.get('test_period'),\n",
    "    data_params.get('obs_time'),\n",
    "    data_params.get('pred_time')\n",
    ")\n",
    "test_dataloader = ds.GeneratorDataset(\n",
    "    test_dataset,\n",
    "    [\"data\", \"index\"],\n",
    "    shuffle=False).batch(data_params.get('valid_batch_size'), False)"
   ]
  },
  {
   "cell_type": "code",
   "execution_count": 12,
   "metadata": {},
   "outputs": [
    {
     "name": "stderr",
     "output_type": "stream",
     "text": [
      "2024-01-04 17:11:56,021 - 2085024365.py[line:5] - INFO: Load pre-trained model successfully, ./summary/ckpt/step_1\n"
     ]
    },
    {
     "name": "stdout",
     "output_type": "stream",
     "text": [
      "OBS Accuracy: 95.08%, Pred Accuracy: 65.63%, Pred Corr:\n",
      "[0.95 0.91 0.88 0.83 0.79 0.74 0.71 0.7  0.7  0.7  0.68 0.68 0.67 0.66\n",
      " 0.64 0.63 0.59 0.52 0.5  0.45 0.42 0.37 0.38]\n"
     ]
    },
    {
     "name": "stderr",
     "output_type": "stream",
     "text": [
      "2024-01-04 17:11:57,095 - 2085024365.py[line:5] - INFO: Load pre-trained model successfully, ./summary/ckpt/step_2\n"
     ]
    },
    {
     "name": "stdout",
     "output_type": "stream",
     "text": [
      "OBS Accuracy: 94.15%, Pred Accuracy: 67.44%, Pred Corr:\n",
      "[0.95 0.91 0.88 0.83 0.79 0.75 0.71 0.71 0.7  0.7  0.71 0.71 0.7  0.69\n",
      " 0.67 0.66 0.63 0.56 0.53 0.47 0.44 0.41 0.4 ]\n"
     ]
    }
   ],
   "source": [
    "corr_list = []\n",
    "for t in range(1, 2+1):\n",
    "    param_dict, file_dir = get_param_dict(config, t)\n",
    "    load_param_into_net(model, param_dict)\n",
    "    logger.info(f\"Load pre-trained model successfully, {file_dir}\")\n",
    "    inference_module = InferenceModule(model, config, logger)\n",
    "    corr_list.append(inference_module.eval(test_dataloader)[data_params.get('obs_time'):])"
   ]
  },
  {
   "cell_type": "code",
   "execution_count": 13,
   "metadata": {},
   "outputs": [
    {
     "data": {
      "image/png": "[encoded data removed]",
      "text/plain": [
       "<Figure size 2250x900 with 1 Axes>"
      ]
     },
     "metadata": {},
     "output_type": "display_data"
    }
   ],
   "source": [
    "plot_correlation(config, corr_list)"
   ]
  }
 ],
 "metadata": {
  "interpreter": {
   "hash": "58e6709d8bbc21fe79376972d6b15d6c06efb7b1d41f6d4b946e12f7486761ac"
  },
  "kernelspec": {
   "display_name": "mindspore",
   "language": "python",
   "name": "mindspore"
  },
  "language_info": {
   "codemirror_mode": {
    "name": "ipython",
    "version": 3
   },
   "file_extension": ".py",
   "mimetype": "text/x-python",
   "name": "python",
   "nbconvert_exporter": "python",
   "pygments_lexer": "ipython3",
   "version": "3.9.0"
  }
 },
 "nbformat": 4,
 "nbformat_minor": 2
}
