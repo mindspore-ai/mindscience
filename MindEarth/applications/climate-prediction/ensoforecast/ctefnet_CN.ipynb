{
 "cells": [
  {
   "cell_type": "markdown",
   "metadata": {
    "pycharm": {
     "name": "#%% md\n"
    }
   },
   "source": [
    "# CTEFNet: 基于 CNN 与迁移学习的厄尔尼诺预测模型\n",
    "\n",
    "[![下载Notebook](https://mindspore-website.obs.cn-north-4.myhuaweicloud.com/website-images/master/resource/_static/logo_notebook.svg)](https://obs.dualstack.cn-north-4.myhuaweicloud.com/mindspore-website/notebook/master/mindearth/zh_cn/medium-range/mindspore_graphcast.ipynb)&emsp;[![下载样例代码](https://mindspore-website.obs.cn-north-4.myhuaweicloud.com/website-images/master/resource/_static/logo_download_code.svg)](https://obs.dualstack.cn-north-4.myhuaweicloud.com/mindspore-website/notebook/master/mindearth/zh_cn/medium-range/mindspore_graphcast.py)&emsp;[![查看源文件](https://mindspore-website.obs.cn-north-4.myhuaweicloud.com/website-images/master/resource/_static/logo_source.svg)](https://gitee.com/mindspore/docs/blob/master/docs/mindearth/docs/source_zh_cn/medium-range/graphcast.ipynb)"
   ]
  },
  {
   "cell_type": "markdown",
   "metadata": {
    "pycharm": {
     "name": "#%% md\n"
    }
   },
   "source": [
    "## 概述\n",
    "\n",
    "CTEFNet是一种基于深度学习的 ENSO 预测模型，其使用 2D CNN 从气象数据中提取特征，将多个时点特征拼接为时间序列后输入 Transformer Encoder 进行时序分析和 ENSO 预测。 与之前的深度学习模型相比，CTEFNet的有效预测时长延长至19个月。\n",
    "\n",
    "本教程介绍了CTEFNet的研究背景和技术路径，并展示了如何通过MindEarth训练和快速推理模型。"
   ]
  },
  {
   "cell_type": "markdown",
   "metadata": {
    "pycharm": {
     "name": "#%% md\n"
    }
   },
   "source": [
    "## CTEFNet\n",
    "\n",
    "下图展示了CTEFNet的网络架构\n",
    "\n",
    "<img src=\"images/CTEFNet.png\" alt=\"CTEFNet\" style=\"width: 800px;\"/>\n",
    "\n",
    "CTEFNet 主要由 CNN 特征提取器和 Transformer 编码器两部分组成。\n",
    "\n",
    "CNN 部分包含三个卷积层、三个最大池化层；以连续 12 个月的海洋、大气指标月异常值作为输入。\n",
    "\n",
    "提取出的特征排列为序列后将输入 Transformer 编码器进行序列分析，并与CNN构成残差结构，最后经过全连接层输出观测期 12 个月的Nino3.4 指数估计值及后续 23 个月的 Nino3.4 指数预测值。"
   ]
  },
  {
   "cell_type": "markdown",
   "metadata": {
    "pycharm": {
     "name": "#%% md\n"
    }
   },
   "source": [
    "## 技术路径\n",
    "\n",
    "MindSpore Earth求解该问题的具体流程如下:\n",
    "\n",
    "1. 创建数据集\n",
    "2. 模型构建\n",
    "3. 损失函数\n",
    "4. 模型训练\n",
    "5. 模型评估与可视化"
   ]
  },
  {
   "cell_type": "markdown",
   "metadata": {},
   "source": [
    "训练和测试所用的数据集可以在: [mindearth/dataset](https://download-mindspore.osinfra.cn/mindscience/mindearth/dataset/enso_dataset.zip) 下载。"
   ]
  },
  {
   "cell_type": "code",
   "execution_count": 1,
   "metadata": {
    "pycharm": {
     "name": "#%%\n"
    }
   },
   "outputs": [],
   "source": [
    "import os\n",
    "import random\n",
    "\n",
    "import numpy as np\n",
    "\n",
    "from mindspore import set_seed\n",
    "from mindspore import context\n",
    "import mindspore.dataset as ds\n",
    "from mindspore.train.serialization import load_param_into_net"
   ]
  },
  {
   "cell_type": "markdown",
   "metadata": {},
   "source": [
    "下述`src`可以在[ensoforcast/src](https://gitee.com/mindspore/mindscience/tree/master/MindEarth/applications/climate-prediction/ensoforecast/src)下载。"
   ]
  },
  {
   "cell_type": "code",
   "execution_count": 2,
   "metadata": {},
   "outputs": [],
   "source": [
    "from mindearth.module import Trainer\n",
    "from mindearth.utils import load_yaml_config, create_logger\n",
    "from src import WeightedLoss, CTEFNet, InferenceModule, EvaluateCallBack\n",
    "from src import ReanalysisData, plot_correlation, get_param_dict, init_dataloader"
   ]
  },
  {
   "cell_type": "code",
   "execution_count": 3,
   "metadata": {},
   "outputs": [],
   "source": [
    "set_seed(0)\n",
    "np.random.seed(0)\n",
    "random.seed(0)"
   ]
  },
  {
   "cell_type": "markdown",
   "metadata": {},
   "source": [
    "模型涉及的参数、优化器、数据配置见[config](https://gitee.com/mindspore/mindscience/blob/master/MindEarth/applications/climate-prediction/ensoforecast/configs/pretrain.yaml)。"
   ]
  },
  {
   "cell_type": "code",
   "execution_count": 4,
   "metadata": {
    "pycharm": {
     "name": "#%%\n"
    }
   },
   "outputs": [],
   "source": [
    "config = load_yaml_config(\"./configs/pretrain.yaml\")\n",
    "context.set_context(mode=context.PYNATIVE_MODE, device_target=\"GPU\", device_id=0)"
   ]
  },
  {
   "cell_type": "markdown",
   "metadata": {},
   "source": [
    "## 创建数据集\n",
    "\n",
    "在[dataset](https://download-mindspore.osinfra.cn/mindscience/mindearth/dataset/enso_dataset.zip)路径下，下载训练数据集验证数据集到 `./dataset`目录。\n",
    "\n",
    "修改[configs/pretrain.yaml](https://gitee.com/mindspore/mindscience/blob/master/MindEarth/applications/climate-prediction/ensoforecast/configs/pretrain.yaml)和[configs/finetune.yaml](https://gitee.com/mindspore/mindscience/blob/master/MindEarth/applications/climate-prediction/ensoforecast/configs/finetune.yaml)配置文件中的`root_dir`参数，该参数设置了数据集的路径。\n",
    "\n",
    "`./dataset`中的目录结构如下所示：\n",
    "\n",
    "``` markdown\n",
    ".\n",
    "dataset\n",
    "├── CMIP5_nino34.npy\n",
    "├── CMIP5_sst_ssh_slp.npy\n",
    "├── SODA_nino34.npy\n",
    "└── SODA_sst_ssh_slp.npy\n",
    "\n",
    "```\n"
   ]
  },
  {
   "cell_type": "markdown",
   "metadata": {
    "pycharm": {
     "name": "#%% md\n"
    }
   },
   "source": [
    "## 模型构建"
   ]
  },
  {
   "cell_type": "markdown",
   "metadata": {
    "pycharm": {
     "name": "#%% md\n"
    }
   },
   "source": [
    "模型初始化："
   ]
  },
  {
   "cell_type": "code",
   "execution_count": 5,
   "metadata": {
    "pycharm": {
     "name": "#%%\n"
    }
   },
   "outputs": [],
   "source": [
    "config['data']['obs_time'] = 12 # 观测时长\n",
    "config['data']['pred_time'] = 23 # 预测时长\n",
    "logger = create_logger(os.path.join(os.path.abspath(config['summary'][\"summary_dir\"]), \"results.log\"))"
   ]
  },
  {
   "cell_type": "code",
   "execution_count": 6,
   "metadata": {
    "pycharm": {
     "name": "#%%\n"
    }
   },
   "outputs": [],
   "source": [
    "data_params = config.get(\"data\")\n",
    "model_params = config.get(\"model\")\n",
    "model = CTEFNet(\n",
    "        cov_hidden_channels=model_params.get('cov_hidden_channels'),\n",
    "        cov_out_channels=model_params.get('cov_out_channels'),\n",
    "        heads=model_params.get('heads'),\n",
    "        num_layer=model_params.get('num_layer'),\n",
    "        feedforward_dims=model_params.get('feedforward_dims'),\n",
    "        dropout=model_params.get('dropout'),\n",
    "        obs_time=data_params.get('obs_time'),\n",
    "        pred_time=data_params.get('pred_time')\n",
    "    )"
   ]
  },
  {
   "cell_type": "markdown",
   "metadata": {
    "pycharm": {
     "name": "#%% md\n"
    }
   },
   "source": [
    "## 损失函数\n",
    "\n",
    "CTEFNet 在模型训练中使用自定义加权损失。计算公式为：\n",
    "\n",
    "<img src=\"images/Loss.png\" alt=\"Loss\" style=\"width: 600px;\"/>"
   ]
  },
  {
   "cell_type": "code",
   "execution_count": 7,
   "metadata": {
    "pycharm": {
     "name": "#%%\n"
    }
   },
   "outputs": [],
   "source": [
    "opt_params = config.get(\"optimizer\")\n",
    "loss_fn = WeightedLoss(\n",
    "    lambda_1=opt_params.get('loss_alpha'),\n",
    "    lambda_2=opt_params.get('loss_beta'),\n",
    "    lambda_3=opt_params.get('loss_gamma'),\n",
    "    obs_time=data_params.get('obs_time')\n",
    ")"
   ]
  },
  {
   "cell_type": "markdown",
   "metadata": {
    "pycharm": {
     "name": "#%% md\n"
    }
   },
   "source": [
    "## 模型训练\n",
    "\n",
    "在本教程中，我们继承了`Trainer`并重写了`get_dataset`成员函数来加入自定义数据，并重写了`get_callback`成员函数来在训练过程中对测试数据集执行推理。模型训练可以分为预训练和调优两步。\n",
    "\n",
    "MindSpore Earth提供训练和推理接口，使用2.0.0及之后的MindSpore训练网络。"
   ]
  },
  {
   "cell_type": "code",
   "execution_count": 8,
   "metadata": {
    "pycharm": {
     "name": "#%%\n"
    }
   },
   "outputs": [],
   "source": [
    "class CTEFTrainer(Trainer):\n",
    "    def __init__(self, config, model, loss_fn, logger):\n",
    "        super().__init__(config, model, loss_fn, logger)\n",
    "        self.train_dataset, self.valid_dataset = self.get_dataset()\n",
    "        self.pred_cb = self.get_callback()\n",
    "\n",
    "    def get_callback(self):\n",
    "        pred_cb = EvaluateCallBack(self.model, self.valid_dataset, self.config, self.logger)\n",
    "        return pred_cb\n",
    "\n",
    "\n",
    "    def get_dataset(self):\n",
    "        train_dataloader, valid_dataloader = init_dataloader(self.config)\n",
    "        return train_dataloader, valid_dataloader"
   ]
  },
  {
   "cell_type": "markdown",
   "metadata": {},
   "source": [
    "首先使用 CMIP5 数据进行预训练。"
   ]
  },
  {
   "cell_type": "code",
   "execution_count": 9,
   "metadata": {
    "pycharm": {
     "name": "#%%\n"
    },
    "scrolled": true
   },
   "outputs": [
    {
     "name": "stderr",
     "output_type": "stream",
     "text": [
      "2024-01-04 16:48:10,192 - pretrain.py[line:215] - INFO: steps_per_epoch: 60\n"
     ]
    },
    {
     "name": "stdout",
     "output_type": "stream",
     "text": [
      "epoch: 1 step: 1, loss is 1.5188606\n",
      "epoch: 1 step: 2, loss is 1.5849463\n",
      "epoch: 1 step: 3, loss is 1.567341\n",
      "epoch: 1 step: 4, loss is 1.55313\n",
      "epoch: 1 step: 5, loss is 1.5645213\n",
      "epoch: 1 step: 6, loss is 1.530109\n",
      "epoch: 1 step: 7, loss is 1.4947193\n",
      "epoch: 1 step: 8, loss is 1.6096498\n",
      "epoch: 1 step: 9, loss is 1.4316063\n",
      "epoch: 1 step: 10, loss is 1.3057346\n",
      "epoch: 1 step: 11, loss is 1.274231\n",
      "epoch: 1 step: 12, loss is 1.181603\n",
      "epoch: 1 step: 13, loss is 1.3375003\n",
      "epoch: 1 step: 14, loss is 1.3464673\n",
      "epoch: 1 step: 15, loss is 1.2914193\n",
      "epoch: 1 step: 16, loss is 1.188085\n",
      "epoch: 1 step: 17, loss is 1.1063777\n",
      "epoch: 1 step: 18, loss is 1.0297971\n",
      "epoch: 1 step: 19, loss is 1.0219135\n",
      "epoch: 1 step: 20, loss is 1.0448943\n",
      "epoch: 1 step: 21, loss is 0.9871134\n",
      "epoch: 1 step: 22, loss is 0.9697764\n",
      "epoch: 1 step: 23, loss is 0.8869653\n",
      "epoch: 1 step: 24, loss is 0.83613193\n",
      "epoch: 1 step: 25, loss is 0.81286037\n",
      "epoch: 1 step: 26, loss is 0.8561025\n",
      "epoch: 1 step: 27, loss is 0.8827102\n",
      "epoch: 1 step: 28, loss is 0.85715127\n",
      "epoch: 1 step: 29, loss is 0.75270265\n",
      "epoch: 1 step: 30, loss is 0.77542055\n",
      "epoch: 1 step: 31, loss is 0.7872468\n",
      "epoch: 1 step: 32, loss is 0.77227855\n",
      "epoch: 1 step: 33, loss is 0.7558909\n",
      "epoch: 1 step: 34, loss is 0.7046847\n",
      "epoch: 1 step: 35, loss is 0.7825455\n",
      "epoch: 1 step: 36, loss is 0.7378743\n",
      "epoch: 1 step: 37, loss is 0.65110046\n",
      "epoch: 1 step: 38, loss is 0.67370504\n",
      "epoch: 1 step: 39, loss is 0.69400984\n",
      "epoch: 1 step: 40, loss is 0.75552076\n",
      "epoch: 1 step: 41, loss is 0.675478\n",
      "epoch: 1 step: 42, loss is 0.6933277\n",
      "epoch: 1 step: 43, loss is 0.652467\n",
      "epoch: 1 step: 44, loss is 0.682188\n",
      "epoch: 1 step: 45, loss is 0.6214609\n",
      "epoch: 1 step: 46, loss is 0.7426838\n",
      "epoch: 1 step: 47, loss is 0.7073796\n",
      "epoch: 1 step: 48, loss is 0.68398577\n",
      "epoch: 1 step: 49, loss is 0.6684543\n",
      "epoch: 1 step: 50, loss is 0.62312675\n",
      "epoch: 1 step: 51, loss is 0.6356817\n",
      "epoch: 1 step: 52, loss is 0.6924011\n",
      "epoch: 1 step: 53, loss is 0.7179657\n",
      "epoch: 1 step: 54, loss is 0.6673139\n",
      "epoch: 1 step: 55, loss is 0.71542984\n",
      "epoch: 1 step: 56, loss is 0.6357017\n",
      "epoch: 1 step: 57, loss is 0.64719725\n",
      "epoch: 1 step: 58, loss is 0.6400023\n",
      "epoch: 1 step: 59, loss is 0.5658947\n",
      "epoch: 1 step: 60, loss is 0.72137564\n",
      "Train epoch time: 24724.506 ms, per step time: 412.075 ms\n",
      "epoch: 2 step: 1, loss is 0.57272166\n",
      "epoch: 2 step: 2, loss is 0.60107744\n",
      "epoch: 2 step: 3, loss is 0.6142667\n",
      "epoch: 2 step: 4, loss is 0.61135393\n",
      "epoch: 2 step: 5, loss is 0.59008026\n",
      "epoch: 2 step: 6, loss is 0.55769503\n",
      "epoch: 2 step: 7, loss is 0.6169138\n",
      "epoch: 2 step: 8, loss is 0.6607239\n",
      "epoch: 2 step: 9, loss is 0.5925299\n",
      "epoch: 2 step: 10, loss is 0.56119543\n",
      "epoch: 2 step: 11, loss is 0.54973286\n",
      "epoch: 2 step: 12, loss is 0.6421773\n",
      "epoch: 2 step: 13, loss is 0.5680235\n",
      "epoch: 2 step: 14, loss is 0.51818794\n",
      "epoch: 2 step: 15, loss is 0.6115192\n",
      "epoch: 2 step: 16, loss is 0.5597903\n",
      "epoch: 2 step: 17, loss is 0.5017172\n",
      "epoch: 2 step: 18, loss is 0.5355549\n",
      "epoch: 2 step: 19, loss is 0.54432935\n",
      "epoch: 2 step: 20, loss is 0.54612625\n",
      "epoch: 2 step: 21, loss is 0.5064267\n",
      "epoch: 2 step: 22, loss is 0.5641006\n",
      "epoch: 2 step: 23, loss is 0.53402853\n",
      "epoch: 2 step: 24, loss is 0.56409854\n",
      "epoch: 2 step: 25, loss is 0.5547538\n",
      "epoch: 2 step: 26, loss is 0.52168787\n",
      "epoch: 2 step: 27, loss is 0.50073695\n",
      "epoch: 2 step: 28, loss is 0.5658678\n",
      "epoch: 2 step: 29, loss is 0.5456942\n",
      "epoch: 2 step: 30, loss is 0.5074164\n",
      "epoch: 2 step: 31, loss is 0.53656584\n",
      "epoch: 2 step: 32, loss is 0.498707\n",
      "epoch: 2 step: 33, loss is 0.5416054\n",
      "epoch: 2 step: 34, loss is 0.5111377\n",
      "epoch: 2 step: 35, loss is 0.5170372\n",
      "epoch: 2 step: 36, loss is 0.4953815\n",
      "epoch: 2 step: 37, loss is 0.522937\n",
      "epoch: 2 step: 38, loss is 0.5251102\n",
      "epoch: 2 step: 39, loss is 0.6115593\n",
      "epoch: 2 step: 40, loss is 0.513452\n",
      "epoch: 2 step: 41, loss is 0.5051282\n",
      "epoch: 2 step: 42, loss is 0.56805813\n",
      "epoch: 2 step: 43, loss is 0.5504278\n",
      "epoch: 2 step: 44, loss is 0.50644845\n",
      "epoch: 2 step: 45, loss is 0.52800596\n",
      "epoch: 2 step: 46, loss is 0.51017976\n",
      "epoch: 2 step: 47, loss is 0.48454082\n",
      "epoch: 2 step: 48, loss is 0.5147435\n",
      "epoch: 2 step: 49, loss is 0.55463827\n",
      "epoch: 2 step: 50, loss is 0.5583949\n",
      "epoch: 2 step: 51, loss is 0.46847\n",
      "epoch: 2 step: 52, loss is 0.508221\n",
      "epoch: 2 step: 53, loss is 0.51874894\n",
      "epoch: 2 step: 54, loss is 0.49054924\n",
      "epoch: 2 step: 55, loss is 0.526009\n",
      "epoch: 2 step: 56, loss is 0.44429526\n",
      "epoch: 2 step: 57, loss is 0.5136778\n",
      "epoch: 2 step: 58, loss is 0.4784464\n",
      "epoch: 2 step: 59, loss is 0.4732335\n",
      "epoch: 2 step: 60, loss is 0.51772326\n",
      "Train epoch time: 23191.143 ms, per step time: 386.519 ms\n",
      "epoch: 3 step: 1, loss is 0.4750706\n",
      "epoch: 3 step: 2, loss is 0.48269853\n",
      "epoch: 3 step: 3, loss is 0.46930555\n",
      "epoch: 3 step: 4, loss is 0.53976506\n",
      "epoch: 3 step: 5, loss is 0.45064783\n",
      "epoch: 3 step: 6, loss is 0.48692372\n",
      "epoch: 3 step: 7, loss is 0.42766225\n",
      "epoch: 3 step: 8, loss is 0.48673934\n",
      "epoch: 3 step: 9, loss is 0.47094002\n",
      "epoch: 3 step: 10, loss is 0.45435265\n",
      "epoch: 3 step: 11, loss is 0.42117134\n",
      "epoch: 3 step: 12, loss is 0.43872935\n",
      "epoch: 3 step: 13, loss is 0.46873012\n",
      "epoch: 3 step: 14, loss is 0.42344517\n",
      "epoch: 3 step: 15, loss is 0.40826172\n",
      "epoch: 3 step: 16, loss is 0.45344242\n",
      "epoch: 3 step: 17, loss is 0.44920912\n",
      "epoch: 3 step: 18, loss is 0.4486245\n",
      "epoch: 3 step: 19, loss is 0.42562398\n",
      "epoch: 3 step: 20, loss is 0.44630742\n",
      "epoch: 3 step: 21, loss is 0.44960156\n",
      "epoch: 3 step: 22, loss is 0.4110858\n",
      "epoch: 3 step: 23, loss is 0.46188158\n",
      "epoch: 3 step: 24, loss is 0.41163203\n",
      "epoch: 3 step: 25, loss is 0.44231677\n",
      "epoch: 3 step: 26, loss is 0.47693586\n",
      "epoch: 3 step: 27, loss is 0.43815553\n",
      "epoch: 3 step: 28, loss is 0.42475647\n",
      "epoch: 3 step: 29, loss is 0.40018725\n",
      "epoch: 3 step: 30, loss is 0.4047419\n",
      "epoch: 3 step: 31, loss is 0.41568086\n",
      "epoch: 3 step: 32, loss is 0.4855649\n",
      "epoch: 3 step: 33, loss is 0.3752021\n",
      "epoch: 3 step: 34, loss is 0.39752242\n",
      "epoch: 3 step: 35, loss is 0.4245457\n",
      "epoch: 3 step: 36, loss is 0.4405562\n",
      "epoch: 3 step: 37, loss is 0.4194824\n",
      "epoch: 3 step: 38, loss is 0.41644216\n",
      "epoch: 3 step: 39, loss is 0.4146227\n",
      "epoch: 3 step: 40, loss is 0.4191032\n",
      "epoch: 3 step: 41, loss is 0.45491794\n",
      "epoch: 3 step: 42, loss is 0.4291702\n",
      "epoch: 3 step: 43, loss is 0.39572227\n",
      "epoch: 3 step: 44, loss is 0.3950731\n",
      "epoch: 3 step: 45, loss is 0.4129534\n",
      "epoch: 3 step: 46, loss is 0.38462117\n",
      "epoch: 3 step: 47, loss is 0.4284274\n",
      "epoch: 3 step: 48, loss is 0.42783144\n",
      "epoch: 3 step: 49, loss is 0.39956057\n",
      "epoch: 3 step: 50, loss is 0.42680585\n",
      "epoch: 3 step: 51, loss is 0.41994417\n",
      "epoch: 3 step: 52, loss is 0.42392176\n",
      "epoch: 3 step: 53, loss is 0.39017242\n",
      "epoch: 3 step: 54, loss is 0.41048494\n",
      "epoch: 3 step: 55, loss is 0.38297585\n",
      "epoch: 3 step: 56, loss is 0.39554143\n",
      "epoch: 3 step: 57, loss is 0.39077458\n",
      "epoch: 3 step: 58, loss is 0.41679516\n",
      "epoch: 3 step: 59, loss is 0.38581425\n",
      "epoch: 3 step: 60, loss is 0.4225014\n",
      "Train epoch time: 23033.433 ms, per step time: 383.891 ms\n"
     ]
    }
   ],
   "source": [
    "config['data'][\"train_dataset\"] = \"CMIP5\" # 训练数据集\n",
    "config['data'][\"train_period\"] = [1861, 2004] # 训练周期\n",
    "config['data'][\"valid_dataset\"] = \"Reanalysis\" # 评估数据集\n",
    "config['data'][\"valid_period\"] = [1941, 1983] # 评估周期\n",
    "config['data'][\"t_in\"] = 1  # 训练阶段\n",
    "config['data'][\"t_out_train\"] = 1  # 训练阶段\n",
    "config['optimizer']['name'] = 'adam'  # 优化器\n",
    "config['optimizer']['initial_lr'] = 0.0008  # 学习率\n",
    "config['optimizer']['epochs'] = 3  # 训练批次\n",
    "\n",
    "trainer = CTEFTrainer(config, model, loss_fn, logger)\n",
    "trainer.train()"
   ]
  },
  {
   "cell_type": "markdown",
   "metadata": {},
   "source": [
    "使用1984年前的 SODA 再分析数据对模型进行调优"
   ]
  },
  {
   "cell_type": "code",
   "execution_count": 10,
   "metadata": {
    "scrolled": true
   },
   "outputs": [
    {
     "name": "stderr",
     "output_type": "stream",
     "text": [
      "2024-01-04 16:49:23,276 - pretrain.py[line:215] - INFO: steps_per_epoch: 1\n"
     ]
    },
    {
     "name": "stdout",
     "output_type": "stream",
     "text": [
      "epoch: 1 step: 1, loss is 0.6054596\n",
      "Train epoch time: 1675.850 ms, per step time: 1675.850 ms\n",
      "epoch: 2 step: 1, loss is 0.5792351\n",
      "Train epoch time: 2416.648 ms, per step time: 2416.648 ms\n",
      "epoch: 3 step: 1, loss is 0.55488724\n",
      "Train epoch time: 637.654 ms, per step time: 637.654 ms\n",
      "epoch: 4 step: 1, loss is 0.5511505\n",
      "Train epoch time: 373.729 ms, per step time: 373.729 ms\n",
      "epoch: 5 step: 1, loss is 0.53579855\n",
      "Train epoch time: 861.648 ms, per step time: 861.648 ms\n",
      "epoch: 6 step: 1, loss is 0.53114736\n",
      "Train epoch time: 368.341 ms, per step time: 368.341 ms\n",
      "epoch: 7 step: 1, loss is 0.52704656\n",
      "Train epoch time: 360.355 ms, per step time: 360.355 ms\n",
      "epoch: 8 step: 1, loss is 0.52844036\n",
      "Train epoch time: 390.446 ms, per step time: 390.446 ms\n",
      "epoch: 9 step: 1, loss is 0.5157909\n",
      "Train epoch time: 374.243 ms, per step time: 374.243 ms\n",
      "epoch: 10 step: 1, loss is 0.52055264\n",
      "Train epoch time: 846.829 ms, per step time: 846.829 ms\n",
      "epoch: 11 step: 1, loss is 0.5075707\n",
      "Train epoch time: 382.759 ms, per step time: 382.759 ms\n",
      "epoch: 12 step: 1, loss is 0.5020871\n",
      "Train epoch time: 390.023 ms, per step time: 390.023 ms\n",
      "epoch: 13 step: 1, loss is 0.5073288\n",
      "Train epoch time: 390.477 ms, per step time: 390.477 ms\n",
      "epoch: 14 step: 1, loss is 0.5027429\n",
      "Train epoch time: 374.348 ms, per step time: 374.348 ms\n",
      "epoch: 15 step: 1, loss is 0.4930692\n",
      "Train epoch time: 799.965 ms, per step time: 799.965 ms\n",
      "epoch: 16 step: 1, loss is 0.48513547\n",
      "Train epoch time: 393.042 ms, per step time: 393.042 ms\n",
      "epoch: 17 step: 1, loss is 0.48836067\n",
      "Train epoch time: 364.588 ms, per step time: 364.588 ms\n",
      "epoch: 18 step: 1, loss is 0.48387384\n",
      "Train epoch time: 383.717 ms, per step time: 383.717 ms\n",
      "epoch: 19 step: 1, loss is 0.48332673\n",
      "Train epoch time: 395.301 ms, per step time: 395.301 ms\n",
      "epoch: 20 step: 1, loss is 0.48246846\n",
      "Train epoch time: 861.177 ms, per step time: 861.177 ms\n",
      "epoch: 21 step: 1, loss is 0.47871596\n",
      "Train epoch time: 393.851 ms, per step time: 393.851 ms\n",
      "epoch: 22 step: 1, loss is 0.4733048\n",
      "Train epoch time: 378.441 ms, per step time: 378.441 ms\n",
      "epoch: 23 step: 1, loss is 0.46719003\n",
      "Train epoch time: 387.466 ms, per step time: 387.466 ms\n",
      "epoch: 24 step: 1, loss is 0.46099764\n",
      "Train epoch time: 386.913 ms, per step time: 386.913 ms\n",
      "epoch: 25 step: 1, loss is 0.4648919\n",
      "Train epoch time: 843.299 ms, per step time: 843.299 ms\n",
      "epoch: 26 step: 1, loss is 0.46094352\n",
      "Train epoch time: 393.954 ms, per step time: 393.954 ms\n",
      "epoch: 27 step: 1, loss is 0.46058637\n",
      "Train epoch time: 393.088 ms, per step time: 393.088 ms\n",
      "epoch: 28 step: 1, loss is 0.45114172\n",
      "Train epoch time: 390.627 ms, per step time: 390.627 ms\n",
      "epoch: 29 step: 1, loss is 0.4542201\n",
      "Train epoch time: 386.749 ms, per step time: 386.749 ms\n",
      "epoch: 30 step: 1, loss is 0.44695458\n",
      "Train epoch time: 873.155 ms, per step time: 873.155 ms\n",
      "epoch: 31 step: 1, loss is 0.4620165\n",
      "Train epoch time: 389.273 ms, per step time: 389.273 ms\n",
      "epoch: 32 step: 1, loss is 0.44787094\n",
      "Train epoch time: 401.011 ms, per step time: 401.011 ms\n",
      "epoch: 33 step: 1, loss is 0.4433445\n",
      "Train epoch time: 380.664 ms, per step time: 380.664 ms\n",
      "epoch: 34 step: 1, loss is 0.44463074\n",
      "Train epoch time: 388.620 ms, per step time: 388.620 ms\n",
      "epoch: 35 step: 1, loss is 0.4420088\n",
      "Train epoch time: 874.592 ms, per step time: 874.592 ms\n",
      "epoch: 36 step: 1, loss is 0.4415965\n",
      "Train epoch time: 406.824 ms, per step time: 406.824 ms\n",
      "epoch: 37 step: 1, loss is 0.4327811\n",
      "Train epoch time: 419.507 ms, per step time: 419.507 ms\n",
      "epoch: 38 step: 1, loss is 0.43310413\n",
      "Train epoch time: 393.425 ms, per step time: 393.425 ms\n",
      "epoch: 39 step: 1, loss is 0.42871487\n",
      "Train epoch time: 392.060 ms, per step time: 392.060 ms\n",
      "epoch: 40 step: 1, loss is 0.42700115\n",
      "Train epoch time: 864.884 ms, per step time: 864.884 ms\n",
      "epoch: 41 step: 1, loss is 0.4304939\n",
      "Train epoch time: 392.906 ms, per step time: 392.906 ms\n",
      "epoch: 42 step: 1, loss is 0.42373008\n",
      "Train epoch time: 389.448 ms, per step time: 389.448 ms\n",
      "epoch: 43 step: 1, loss is 0.4270916\n",
      "Train epoch time: 401.419 ms, per step time: 401.419 ms\n",
      "epoch: 44 step: 1, loss is 0.43033546\n",
      "Train epoch time: 390.563 ms, per step time: 390.563 ms\n",
      "epoch: 45 step: 1, loss is 0.4183911\n",
      "Train epoch time: 877.060 ms, per step time: 877.060 ms\n",
      "epoch: 46 step: 1, loss is 0.4190299\n",
      "Train epoch time: 388.141 ms, per step time: 388.141 ms\n",
      "epoch: 47 step: 1, loss is 0.42117584\n",
      "Train epoch time: 401.250 ms, per step time: 401.250 ms\n",
      "epoch: 48 step: 1, loss is 0.41927367\n",
      "Train epoch time: 400.067 ms, per step time: 400.067 ms\n",
      "epoch: 49 step: 1, loss is 0.41891223\n",
      "Train epoch time: 422.280 ms, per step time: 422.280 ms\n",
      "epoch: 50 step: 1, loss is 0.41190383\n",
      "Train epoch time: 904.671 ms, per step time: 904.671 ms\n",
      "epoch: 51 step: 1, loss is 0.4126401\n",
      "Train epoch time: 406.168 ms, per step time: 406.168 ms\n",
      "epoch: 52 step: 1, loss is 0.41577375\n",
      "Train epoch time: 428.372 ms, per step time: 428.372 ms\n",
      "epoch: 53 step: 1, loss is 0.41751474\n",
      "Train epoch time: 411.383 ms, per step time: 411.383 ms\n",
      "epoch: 54 step: 1, loss is 0.41157743\n",
      "Train epoch time: 369.164 ms, per step time: 369.164 ms\n",
      "epoch: 55 step: 1, loss is 0.41317195\n",
      "Train epoch time: 866.985 ms, per step time: 866.985 ms\n",
      "epoch: 56 step: 1, loss is 0.4058202\n",
      "Train epoch time: 398.064 ms, per step time: 398.064 ms\n",
      "epoch: 57 step: 1, loss is 0.4110185\n",
      "Train epoch time: 392.245 ms, per step time: 392.245 ms\n",
      "epoch: 58 step: 1, loss is 0.4046321\n",
      "Train epoch time: 391.392 ms, per step time: 391.392 ms\n",
      "epoch: 59 step: 1, loss is 0.40699565\n",
      "Train epoch time: 394.736 ms, per step time: 394.736 ms\n",
      "epoch: 60 step: 1, loss is 0.40285215\n",
      "Train epoch time: 886.668 ms, per step time: 886.668 ms\n",
      "epoch: 61 step: 1, loss is 0.40855336\n",
      "Train epoch time: 378.877 ms, per step time: 378.877 ms\n",
      "epoch: 62 step: 1, loss is 0.40485284\n",
      "Train epoch time: 394.926 ms, per step time: 394.926 ms\n",
      "epoch: 63 step: 1, loss is 0.40492773\n",
      "Train epoch time: 404.862 ms, per step time: 404.862 ms\n",
      "epoch: 64 step: 1, loss is 0.40292162\n",
      "Train epoch time: 416.394 ms, per step time: 416.394 ms\n",
      "epoch: 65 step: 1, loss is 0.40084353\n",
      "Train epoch time: 905.360 ms, per step time: 905.360 ms\n",
      "epoch: 66 step: 1, loss is 0.3991841\n",
      "Train epoch time: 380.289 ms, per step time: 380.289 ms\n",
      "epoch: 67 step: 1, loss is 0.40422586\n",
      "Train epoch time: 394.500 ms, per step time: 394.500 ms\n",
      "epoch: 68 step: 1, loss is 0.3966834\n",
      "Train epoch time: 402.288 ms, per step time: 402.288 ms\n",
      "epoch: 69 step: 1, loss is 0.40102166\n",
      "Train epoch time: 399.921 ms, per step time: 399.921 ms\n",
      "epoch: 70 step: 1, loss is 0.39967057\n",
      "Train epoch time: 835.827 ms, per step time: 835.827 ms\n",
      "epoch: 71 step: 1, loss is 0.39507467\n",
      "Train epoch time: 387.872 ms, per step time: 387.872 ms\n",
      "epoch: 72 step: 1, loss is 0.39597306\n",
      "Train epoch time: 391.975 ms, per step time: 391.975 ms\n",
      "epoch: 73 step: 1, loss is 0.3948932\n",
      "Train epoch time: 393.454 ms, per step time: 393.454 ms\n",
      "epoch: 74 step: 1, loss is 0.3958722\n",
      "Train epoch time: 393.284 ms, per step time: 393.284 ms\n",
      "epoch: 75 step: 1, loss is 0.39084744\n",
      "Train epoch time: 892.086 ms, per step time: 892.086 ms\n",
      "epoch: 76 step: 1, loss is 0.3977805\n",
      "Train epoch time: 406.141 ms, per step time: 406.141 ms\n",
      "epoch: 77 step: 1, loss is 0.40383166\n",
      "Train epoch time: 419.049 ms, per step time: 419.049 ms\n",
      "epoch: 78 step: 1, loss is 0.39898807\n",
      "Train epoch time: 405.107 ms, per step time: 405.107 ms\n",
      "epoch: 79 step: 1, loss is 0.3944457\n",
      "Train epoch time: 386.722 ms, per step time: 386.722 ms\n",
      "epoch: 80 step: 1, loss is 0.39511174\n",
      "Train epoch time: 731.272 ms, per step time: 731.272 ms\n",
      "epoch: 81 step: 1, loss is 0.39553034\n",
      "Train epoch time: 251.356 ms, per step time: 251.356 ms\n",
      "epoch: 82 step: 1, loss is 0.39698482\n",
      "Train epoch time: 256.108 ms, per step time: 256.108 ms\n",
      "epoch: 83 step: 1, loss is 0.3977422\n",
      "Train epoch time: 264.109 ms, per step time: 264.109 ms\n",
      "epoch: 84 step: 1, loss is 0.39563298\n",
      "Train epoch time: 245.023 ms, per step time: 245.023 ms\n",
      "epoch: 85 step: 1, loss is 0.39720464\n",
      "Train epoch time: 726.805 ms, per step time: 726.805 ms\n",
      "epoch: 86 step: 1, loss is 0.3952939\n",
      "Train epoch time: 243.748 ms, per step time: 243.748 ms\n",
      "epoch: 87 step: 1, loss is 0.40058035\n",
      "Train epoch time: 249.446 ms, per step time: 249.446 ms\n",
      "epoch: 88 step: 1, loss is 0.39524236\n",
      "Train epoch time: 246.521 ms, per step time: 246.521 ms\n"
     ]
    },
    {
     "name": "stdout",
     "output_type": "stream",
     "text": [
      "epoch: 89 step: 1, loss is 0.39630213\n",
      "Train epoch time: 260.887 ms, per step time: 260.887 ms\n",
      "epoch: 90 step: 1, loss is 0.39602667\n",
      "Train epoch time: 745.354 ms, per step time: 745.354 ms\n",
      "epoch: 91 step: 1, loss is 0.39271408\n",
      "Train epoch time: 246.109 ms, per step time: 246.109 ms\n",
      "epoch: 92 step: 1, loss is 0.3992708\n",
      "Train epoch time: 245.204 ms, per step time: 245.204 ms\n",
      "epoch: 93 step: 1, loss is 0.39485645\n",
      "Train epoch time: 243.879 ms, per step time: 243.879 ms\n",
      "epoch: 94 step: 1, loss is 0.3959085\n",
      "Train epoch time: 245.995 ms, per step time: 245.995 ms\n",
      "epoch: 95 step: 1, loss is 0.39440528\n",
      "Train epoch time: 723.685 ms, per step time: 723.685 ms\n",
      "epoch: 96 step: 1, loss is 0.40036404\n",
      "Train epoch time: 243.884 ms, per step time: 243.884 ms\n",
      "epoch: 97 step: 1, loss is 0.39797822\n",
      "Train epoch time: 244.216 ms, per step time: 244.216 ms\n",
      "epoch: 98 step: 1, loss is 0.3943558\n",
      "Train epoch time: 242.548 ms, per step time: 242.548 ms\n",
      "epoch: 99 step: 1, loss is 0.40187484\n",
      "Train epoch time: 247.567 ms, per step time: 247.567 ms\n",
      "epoch: 100 step: 1, loss is 0.39730263\n",
      "Train epoch time: 730.584 ms, per step time: 730.584 ms\n"
     ]
    }
   ],
   "source": [
    "config['data'][\"train_dataset\"] = \"Reanalysis\" # 训练数据集\n",
    "config['data'][\"train_period\"] = [1941, 1983] # 训练周期\n",
    "config['data'][\"valid_dataset\"] = \"Reanalysis\" # 评估数据集\n",
    "config['data'][\"valid_period\"] = [1984, 2008] # 评估周期\n",
    "config['data'][\"t_in\"] = 2  # 训练阶段\n",
    "config['data'][\"t_out_train\"] = 1  # 训练阶段\n",
    "config['optimizer']['name'] = 'sgd'  # 优化器\n",
    "config['optimizer']['finetune_lr'] = 0.001  # 调优学习率\n",
    "config['optimizer']['epochs'] = 100  # 训练批次\n",
    "\n",
    "trainer = CTEFTrainer(config, model, loss_fn, logger)\n",
    "trainer.train()"
   ]
  },
  {
   "cell_type": "markdown",
   "metadata": {},
   "source": [
    "## 模型评估和可视化"
   ]
  },
  {
   "cell_type": "markdown",
   "metadata": {},
   "source": [
    "完成训练后，我们使用ckpt进行推理。下述展示了nino3.4指数预测值、真实值的相关系数。"
   ]
  },
  {
   "cell_type": "code",
   "execution_count": 11,
   "metadata": {},
   "outputs": [],
   "source": [
    "test_dataset = ReanalysisData(\n",
    "    data_params.get('root_dir'),\n",
    "    data_params.get('test_period'),\n",
    "    data_params.get('obs_time'),\n",
    "    data_params.get('pred_time')\n",
    ")\n",
    "test_dataloader = ds.GeneratorDataset(\n",
    "    test_dataset,\n",
    "    [\"data\", \"index\"],\n",
    "    shuffle=False).batch(data_params.get('valid_batch_size'), False)"
   ]
  },
  {
   "cell_type": "code",
   "execution_count": 12,
   "metadata": {},
   "outputs": [
    {
     "name": "stderr",
     "output_type": "stream",
     "text": [
      "2024-01-04 16:50:13,707 - 2085024365.py[line:5] - INFO: Load pre-trained model successfully, ./summary/ckpt/step_1\n"
     ]
    },
    {
     "name": "stdout",
     "output_type": "stream",
     "text": [
      "OBS Accuracy: 94.83%, Pred Accuracy: 66.41%, Pred Corr:\n",
      "[0.95 0.91 0.88 0.83 0.79 0.75 0.72 0.71 0.71 0.71 0.71 0.7  0.69 0.68\n",
      " 0.66 0.65 0.61 0.52 0.5  0.44 0.42 0.37 0.37]\n"
     ]
    },
    {
     "name": "stderr",
     "output_type": "stream",
     "text": [
      "2024-01-04 16:50:14,782 - 2085024365.py[line:5] - INFO: Load pre-trained model successfully, ./summary/ckpt/step_2\n"
     ]
    },
    {
     "name": "stdout",
     "output_type": "stream",
     "text": [
      "OBS Accuracy: 94.15%, Pred Accuracy: 67.44%, Pred Corr:\n",
      "[0.95 0.91 0.88 0.83 0.79 0.75 0.71 0.71 0.7  0.7  0.71 0.71 0.7  0.69\n",
      " 0.67 0.66 0.63 0.56 0.53 0.47 0.44 0.41 0.4 ]\n"
     ]
    }
   ],
   "source": [
    "corr_list = []\n",
    "for t in range(1, 2+1):\n",
    "    param_dict, file_dir = get_param_dict(config, t)\n",
    "    load_param_into_net(model, param_dict)\n",
    "    logger.info(f\"Load pre-trained model successfully, {file_dir}\")\n",
    "    inference_module = InferenceModule(model, config, logger)\n",
    "    corr_list.append(inference_module.eval(test_dataloader)[data_params.get('obs_time'):])"
   ]
  },
  {
   "cell_type": "code",
   "execution_count": 13,
   "metadata": {},
   "outputs": [
    {
     "data": {
      "image/png": "[encoded data removed]",
      "text/plain": [
       "<Figure size 2250x900 with 1 Axes>"
      ]
     },
     "metadata": {},
     "output_type": "display_data"
    }
   ],
   "source": [
    "plot_correlation(config, corr_list)"
   ]
  }
 ],
 "metadata": {
  "interpreter": {
   "hash": "58e6709d8bbc21fe79376972d6b15d6c06efb7b1d41f6d4b946e12f7486761ac"
  },
  "kernelspec": {
   "display_name": "mindspore",
   "language": "python",
   "name": "mindspore"
  },
  "language_info": {
   "codemirror_mode": {
    "name": "ipython",
    "version": 3
   },
   "file_extension": ".py",
   "mimetype": "text/x-python",
   "name": "python",
   "nbconvert_exporter": "python",
   "pygments_lexer": "ipython3",
   "version": "3.9.0"
  }
 },
 "nbformat": 4,
 "nbformat_minor": 2
}
