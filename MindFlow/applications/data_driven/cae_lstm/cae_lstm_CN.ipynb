{
 "cells": [
  {
   "cell_type": "markdown",
   "id": "fda19887",
   "metadata": {},
   "source": [
    "\n",
    "# CAE-LSTM降阶模型\n",
    "\n",
    "## 概述\n",
    "\n",
    "为有效降低使用CFD方法的设计成本和周期，近年来降阶模型得到了广泛的关注。对于复杂的可压缩流动，使用本征正交分解(POD)等线性方法进行流场降维，需要大量的模态才能保证流场重建的精度。已有研究表明，采用非线性降维方法能够有效减少所需模态数。卷积自编码器(CAE)是一种由编码器和解码器组成的神经网络，能够实现数据降维和重构，可看作是POD方法的非线性拓展。采用CAE进行流场数据的非线性降维，同时使用长短期记忆神经网络(LSTM)进行流场状态的时间演化。针对非定常可压缩流动，CAE-LSTM降阶模型能够在使用较少自由变量数的前提下获得较高的重构和预测精度。"
   ]
  },
  {
   "cell_type": "markdown",
   "id": "39552eaf",
   "metadata": {},
   "source": [
    "## 模型架构\n",
    "\n",
    "CAE-LSTM降阶模型采用CAE网络对流场进行降维，提取流动数据的特征，将其压缩到编码器的隐藏空间中，再用LSTM网络对隐藏空间的自由变量进行系数时间演化，得到流动其他时刻的自由变量，再通过CAE网络的解码器将演化的自由变量进行解码，重建得到相应时刻的流场流动数据。CAE-LSTM流动降阶模型的构造依赖于CAE网络的数据降维和LSTM网络的系数时间演化。与现有的POD/DMD等方法相比，使用CAE网络对流场数据进行非线性降维，同时使用LSTM网络对自由变量进行无方程演化，可以在保证流场降阶模型具备一定精度的情况下，得到更高的压缩比，提高流场预测的效率。\n",
    "\n",
    "+ 输入：输入一段时间的流场。\n",
    "+ 压缩：通过CAE的编码器对流场进行降维，提取高维时空流动特征。\n",
    "+ 演化：通过LSTM学习低维空间流场时空特征的演变，预测下一时刻。\n",
    "+ 重建：通过CAE的解码器将预测的流场低维特征恢复到高维空间。\n",
    "+ 输出：输出对下一时刻瞬态流场的预测结果。\n",
    "\n",
    "训练时，首先进行CAE网络的训练，训练完成之后使用CAE的编码器得到流场的低维特征，将此低维特征作为LSTM网络的数据集，进行LSTM网络的训练。"
   ]
  },
  {
   "cell_type": "markdown",
   "id": "901d5c41",
   "metadata": {},
   "source": [
    "![CAE-LSTM.png](./images/cae_lstm_CN.png)"
   ]
  },
  {
   "cell_type": "markdown",
   "id": "4e7406dd",
   "metadata": {},
   "source": [
    "## 训练环境\n",
    "\n",
    "导入训练所需函数库，其中`src`文件夹包括数据集处理函数、网络模型和训练loss可视化函数。\n",
    "\n",
    "训练可选择不同的算例：`sod`，`shu_osher`，`riemann`，`kh`和`cylinder`，其中`sod`和`shu_osher`为一维算例，`riemann`，`kh`和`cylinder`为二维算例。在`parser.add_argument`的`case`选择中修改算例名称即可运行相应的算例。如若使用命令行调用网络训练，也可在`--case`后填写算例名称运行相应算例。默认选择`sod`算例。\n",
    "\n",
    "训练默认采用Mindspore框架的静态图模式(GRAPH)，在GPU(默认)或Ascend进行训练(单卡)。"
   ]
  },
  {
   "cell_type": "code",
   "execution_count": 1,
   "id": "d7ba41b7",
   "metadata": {},
   "outputs": [],
   "source": [
    "import os\n",
    "import time\n",
    "import argparse\n",
    "\n",
    "import numpy as np\n",
    "\n",
    "from mindspore import nn, ops, context, save_checkpoint, set_seed, jit, data_sink\n",
    "from mindflow.utils import load_yaml_config\n",
    "from src import create_cae_dataset, CaeNet1D, CaeNet2D, plot_train_loss"
   ]
  },
  {
   "cell_type": "code",
   "execution_count": 2,
   "id": "7e3ba84a",
   "metadata": {},
   "outputs": [],
   "source": [
    "np.random.seed(0)\n",
    "set_seed(0)"
   ]
  },
  {
   "cell_type": "code",
   "execution_count": 3,
   "id": "aa53aed1",
   "metadata": {},
   "outputs": [],
   "source": [
    "parser = argparse.ArgumentParser(description='CaeNet')\n",
    "parser.add_argument(\"--case\", type=str, default=\"sod\", choices=[\"sod\", \"shu_osher\", \"riemann\", \"kh\"],\n",
    "                    help=\"Which case to run, support 'sod', 'shu_osher', 'riemann', 'kh'\")\n",
    "parser.add_argument(\"--mode\", type=str, default=\"GRAPH\", choices=[\"GRAPH\", \"PYNATIVE\"],\n",
    "                    help=\"Context mode, support 'GRAPH', 'PYNATIVE'\")\n",
    "parser.add_argument(\"--save_graphs\", type=bool, default=False, choices=[True, False],\n",
    "                    help=\"Whether to save intermediate compilation graphs\")\n",
    "parser.add_argument(\"--save_graphs_path\", type=str, default=\"./graphs\")\n",
    "parser.add_argument(\"--device_target\", type=str, default=\"GPU\", choices=[\"GPU\", \"Ascend\"],\n",
    "                    help=\"The target device to run, support 'Ascend', 'GPU'\")\n",
    "parser.add_argument(\"--device_id\", type=int, default=0, help=\"ID of the target device\")\n",
    "parser.add_argument(\"--config_file_path\", type=str, default=\"./config.yaml\")\n",
    "args = parser.parse_args()\n",
    "\n",
    "context.set_context(case=args.case,\n",
    "                    mode=context.GRAPH_MODE if args.mode.upper().startswith(\"GRAPH\") else context.PYNATIVE_MODE,\n",
    "                    save_graphs=args.save_graphs,\n",
    "                    save_graphs_path=args.save_graphs_path,\n",
    "                    device_target=args.device_target,\n",
    "                    device_id=args.device_id,\n",
    "                    config_file_path=args.config_file_path)\n",
    "use_ascend = context.get_context(attr_key='device_target') == \"Ascend\""
   ]
  },
  {
   "cell_type": "markdown",
   "id": "bbd5ca2c",
   "metadata": {},
   "source": [
    "## CAE网络训练参数设置\n",
    "\n",
    "根据所选取的算例，从config.yaml文件里导入相应的数据集、CAE模型和优化器的参数配置。对于二维圆柱绕流算例，在config.yaml文件中需注明算例的具体雷诺数，以读取相应雷诺数下的数据进行训练。"
   ]
  },
  {
   "cell_type": "code",
   "execution_count": 4,
   "id": "37e0f61b",
   "metadata": {},
   "outputs": [],
   "source": [
    "config = load_yaml_config(args.config_file_path)\n",
    "if args.case == 'sod' or args.case == 'shu_osher':\n",
    "    data_params = config[\"1D_cae_data\"]\n",
    "    model_params = config[\"1D_cae_model\"]\n",
    "    optimizer_params = config[\"1D_cae_optimizer\"]\n",
    "else:\n",
    "    data_params = config[\"2D_cae_data\"]\n",
    "    model_params = config[\"2D_cae_model\"]\n",
    "    optimizer_params = config[\"2D_cae_optimizer\"]"
   ]
  },
  {
   "cell_type": "markdown",
   "id": "8e53d5ec",
   "metadata": {},
   "source": [
    "训练过程loss文件保存路径默认为optimizer_params[\"summary_dir\"]，权重参数保存在ckpt文件夹中。"
   ]
  },
  {
   "cell_type": "code",
   "execution_count": 5,
   "id": "7e34bd79",
   "metadata": {},
   "outputs": [],
   "source": [
    "summary_dir = optimizer_params[\"summary_dir\"]\n",
    "if not os.path.exists(summary_dir):\n",
    "    os.mkdir(summary_dir)\n",
    "ckpt_dir = os.path.join(summary_dir, 'ckpt')\n",
    "if not os.path.exists(ckpt_dir):\n",
    "    os.mkdir(ckpt_dir)"
   ]
  },
  {
   "cell_type": "markdown",
   "id": "505908fc",
   "metadata": {},
   "source": [
    "## 构建CAE网络\n",
    "\n",
    "CAE网络由多层卷积和极大池化构成编码器，由多层卷积和上采样构成解码器。使用MSELoss损失函数和Adam优化器。"
   ]
  },
  {
   "cell_type": "code",
   "execution_count": 6,
   "id": "dbe1356d",
   "metadata": {},
   "outputs": [],
   "source": [
    "if args.case == 'sod' or args.case == 'shu_osher':\n",
    "    cae = CaeNet1D(model_params[\"data_dimension\"], model_params[\"conv_kernel_size\"],\n",
    "                   model_params[\"maxpool_kernel_size\"], model_params[\"maxpool_stride\"],\n",
    "                   model_params[\"encoder_channels\"], model_params[\"decoder_channels\"])\n",
    "else:\n",
    "    cae = CaeNet2D(model_params[\"data_dimension\"], model_params[\"conv_kernel_size\"],\n",
    "                   model_params[\"maxpool_kernel_size\"], model_params[\"maxpool_stride\"],\n",
    "                   model_params[\"encoder_channels\"], model_params[\"decoder_channels\"],\n",
    "                   model_params[\"channels_dense\"])\n",
    "\n",
    "loss_fn = nn.MSELoss()\n",
    "cae_opt = nn.Adam(cae.trainable_params(), optimizer_params[\"lr\"], weight_decay=optimizer_params[\"weight_decay\"])\n",
    "\n",
    "if use_ascend:\n",
    "    from mindspore.amp import DynamicLossScaler, auto_mixed_precision, all_finite\n",
    "    loss_scaler = DynamicLossScaler(1024, 2, 100)\n",
    "    auto_mixed_precision(cae, 'O1')\n",
    "else:\n",
    "    loss_scaler = None"
   ]
  },
  {
   "cell_type": "markdown",
   "id": "faacf783",
   "metadata": {},
   "source": [
    "## CAE网络数据集\n",
    "\n",
    "数据集下载地址：[data_driven/cae-lstm/dataset](https://download.mindspore.cn/mindscience/mindflow/dataset/applications/data_driven/cae-lstm)\n",
    "\n",
    "导入数据集之后进行数据下沉设置。"
   ]
  },
  {
   "cell_type": "code",
   "execution_count": 7,
   "id": "25786be1",
   "metadata": {},
   "outputs": [],
   "source": [
    "cae_dataset, _ = create_cae_dataset(data_params[\"data_path\"], data_params[\"batch_size\"], data_params[\"multiple\"])\n",
    "\n",
    "sink_process = data_sink(train_step, cae_dataset, sink_size=1)\n",
    "train_data_size = cae_dataset.get_dataset_size()"
   ]
  },
  {
   "cell_type": "markdown",
   "id": "771dfcdf",
   "metadata": {},
   "source": [
    "## CAE网络模型训练\n",
    "\n",
    "搭建forward_fn和train_step，开始CAE网络的训练，并将训练loss可视化。"
   ]
  },
  {
   "cell_type": "code",
   "execution_count": 8,
   "id": "6f16d65f",
   "metadata": {},
   "outputs": [
    {
     "name": "stdout",
     "output_type": "stream",
     "text": [
      "pid:23104\n",
      "====================Start CaeNet train=======================\n",
      "epoch: 1 train loss: 0.00859989 epoch time: 3.23s\n",
      "epoch: 2 train loss: 0.00563688 epoch time: 0.52s\n",
      "epoch: 3 train loss: 0.00485115 epoch time: 0.53s\n",
      "epoch: 4 train loss: 0.00341164 epoch time: 0.62s\n",
      "epoch: 5 train loss: 0.00332990 epoch time: 0.57s\n",
      "...\n",
      "epoch: 4396 train loss: 3.69731242e-06 epoch time: 0.51s\n",
      "epoch: 4397 train loss: 2.65247831e-06 epoch time: 0.55s\n",
      "epoch: 4398 train loss: 1.14417275e-06 epoch time: 0.54s\n",
      "epoch: 4399 train loss: 4.97764995e-06 epoch time:0.52s\n",
      "epoch: 4400 train loss: 2.48092419e-06 epoch time: 0.55s\n",
      "====================End CaeNet train=======================\n"
     ]
    }
   ],
   "source": [
    "def forward_fn(data, label):\n",
    "    logits = cae(data)\n",
    "    loss = loss_fn(logits, label)\n",
    "    if use_ascend:\n",
    "        loss = loss_scaler.scale(loss)\n",
    "    return loss\n",
    "\n",
    "grad_fn = ops.value_and_grad(forward_fn, None, cae_opt.parameters, has_aux=False)\n",
    "\n",
    "@jit\n",
    "def train_step(data, label):\n",
    "    loss, grads = grad_fn(data, label)\n",
    "    if use_ascend:\n",
    "        loss = loss_scaler.unscale(loss)\n",
    "        if all_finite(grads):\n",
    "            grads = loss_scaler.unscale(grads)\n",
    "    loss = ops.depend(loss, cae_opt(grads))\n",
    "    return loss\n",
    "\n",
    "print(f\"====================Start CaeNet train=======================\")\n",
    "train_loss = []\n",
    "for epoch in range(1, optimizer_params[\"epochs\"] + 1):\n",
    "    local_time_beg = time.time()\n",
    "    cae.set_train()\n",
    "    epoch_train_loss = 0\n",
    "    for _ in range(train_data_size):\n",
    "        epoch_train_loss = ops.squeeze(sink_process(), axis=())\n",
    "    train_loss.append(epoch_train_loss)\n",
    "    print(f\"epoch: {epoch} train loss: {epoch_train_loss} epoch time: {time.time() - local_time_beg:.2f}s\")\n",
    "\n",
    "    if epoch % optimizer_params[\"save_ckpt_interval\"] == 0:\n",
    "        save_checkpoint(cae, f\"{ckpt_dir}/cae_{epoch}.ckpt\")\n",
    "print(f\"=====================End CaeNet train========================\")\n",
    "plot_train_loss(train_loss, summary_dir, optimizer_params[\"epochs\"], \"cae\")"
   ]
  },
  {
   "cell_type": "markdown",
   "id": "70a43727",
   "metadata": {},
   "source": [
    "## CAE流场重建结果\n",
    "\n",
    "在训练完CAE网络后，可运行`cae_eval.py`查看CAE的训练结果，以判断是否继续进行LSTM网络的训练。\n",
    "\n",
    "下图分别为五个算例的真实流场，CAE流场重建结果以及它们之间的误差曲线。对于前四个算例，前两个流场结果展现了流场中不同位置的密度随时间的变化情况，第三个误差曲线展现了CAE重建流场和真实流场label的平均相对误差随时间的变化情况。对于圆柱绕流算例，以雷诺数Re = 300状态为例，前两个流场结果展现了流场中不同位置的流向速度随时间的变化情况，第三个误差曲线展现了CAE重建流场和真实流场label的绝对误差随时间的变化情况。误差满足流场重建精度需求。"
   ]
  },
  {
   "cell_type": "markdown",
   "id": "70291369",
   "metadata": {},
   "source": [
    "Sod激波管："
   ]
  },
  {
   "cell_type": "markdown",
   "id": "a44c7619",
   "metadata": {},
   "source": [
    "<figure class=\"harf\">\n",
    "    <img src=\"./images/sod_cae_reconstruction.gif\" title=\"sod_cae_reconstruction\" width=\"600\"/>\n",
    "    <img src=\"./images/sod_cae_error.png\" title=\"sod_cae_error\" width=\"300\"/>\n",
    "</center>"
   ]
  },
  {
   "cell_type": "markdown",
   "id": "26984184",
   "metadata": {},
   "source": [
    "Shu_Osher问题："
   ]
  },
  {
   "cell_type": "markdown",
   "id": "6958d67b",
   "metadata": {},
   "source": [
    "<figure class=\"harf\">\n",
    "    <img src=\"./images/shu_osher_cae_reconstruction.gif\" title=\"shu_osher_cae_reconstruction\" width=\"600\"/>\n",
    "    <img src=\"./images/shu_osher_cae_error.png\" title=\"shu_osher_cae_error\" width=\"300\"/>\n",
    "</center>"
   ]
  },
  {
   "cell_type": "markdown",
   "id": "3bdeb66d",
   "metadata": {},
   "source": [
    "黎曼问题："
   ]
  },
  {
   "cell_type": "markdown",
   "id": "36ba526f",
   "metadata": {},
   "source": [
    "<figure class=\"harf\">\n",
    "    <img src=\"./images/riemann_cae_reconstruction.gif\" title=\"riemann_cae_reconstruction\" width=\"600\"/>\n",
    "    <img src=\"./images/riemann_cae_error.png\" title=\"riemann_cae_error\" width=\"300\"/>\n",
    "</center>"
   ]
  },
  {
   "cell_type": "markdown",
   "id": "0a75fcf1",
   "metadata": {},
   "source": [
    "开尔文亥姆霍兹不稳定性问题："
   ]
  },
  {
   "cell_type": "markdown",
   "id": "711274f3",
   "metadata": {},
   "source": [
    "<figure class=\"harf\">\n",
    "    <img src=\"./images/kh_cae_reconstruction.gif\" title=\"kh_cae_reconstruction\" width=\"600\"/>\n",
    "    <img src=\"./images/kh_cae_error.png\" title=\"kh_cae_error\" width=\"300\"/>\n",
    "</center>"
   ]
  },
  {
   "cell_type": "markdown",
   "id": "82a9fef5",
   "metadata": {},
   "source": [
    "圆柱绕流（Re = 300）："
   ]
  },
  {
   "cell_type": "markdown",
   "id": "6373e44f",
   "metadata": {},
   "source": [
    "<figure class=\"harf\">\n",
    "    <img src=\"./images/cylinder_cae_reconstruction.gif\" title=\"cylinder_cae_reconstruction\" width=\"600\"/>\n",
    "    <img src=\"./images/cylinder_cae_error.png\" title=\"cylinder_cae_error\" width=\"300\"/>\n",
    "</center>"
   ]
  },
  {
   "cell_type": "markdown",
   "id": "a72e4826",
   "metadata": {},
   "source": [
    "## LSTM网络框架及训练设置\n",
    "\n",
    "LSTM网络框架搭建、训练环境等相关处理与CAE网络类似。\n",
    "\n",
    "首先导入训练所需函数库，然后导入相应算例的LSTM网络数据集设置参数、LSTM模型和优化器参数设置。默认训练loss保存路径为optimizer_params[\"summary_dir\"]，权重参数保存在ckpt文件夹下。网络由多层LSTM层和一层全连接层组成，使用MSELoss损失函数和Adam优化器。"
   ]
  },
  {
   "cell_type": "code",
   "execution_count": 9,
   "id": "9bbef106",
   "metadata": {},
   "outputs": [],
   "source": [
    "import os\n",
    "import time\n",
    "import argparse\n",
    "\n",
    "import numpy as np\n",
    "\n",
    "from mindspore import nn, ops, context, save_checkpoint, set_seed, jit, data_sink\n",
    "from mindflow.utils import load_yaml_config\n",
    "from src import create_lstm_dataset, Lstm, plot_train_loss\n",
    "from cae_eval import cae_eval\n",
    "\n",
    "np.random.seed(0)\n",
    "set_seed(0)\n",
    "\n",
    "parser = argparse.ArgumentParser(description='Lstm')\n",
    "parser.add_argument(\"--case\", type=str, default=\"sod\", choices=[\"sod\", \"shu_osher\", \"riemann\", \"kh\"],\n",
    "                    help=\"Which case to run, support 'sod', 'shu_osher', 'riemann', 'kh'\")\n",
    "parser.add_argument(\"--mode\", type=str, default=\"GRAPH\", choices=[\"GRAPH\", \"PYNATIVE\"],\n",
    "                    help=\"Context mode, support 'GRAPH', 'PYNATIVE'\")\n",
    "parser.add_argument(\"--save_graphs\", type=bool, default=False, choices=[True, False],\n",
    "                    help=\"Whether to save intermediate compilation graphs\")\n",
    "parser.add_argument(\"--save_graphs_path\", type=str, default=\"./graphs\")\n",
    "parser.add_argument(\"--device_target\", type=str, default=\"GPU\", choices=[\"GPU\", \"Ascend\"],\n",
    "                    help=\"The target device to run, support 'Ascend', 'GPU'\")\n",
    "parser.add_argument(\"--device_id\", type=int, default=0, help=\"ID of the target device\")\n",
    "parser.add_argument(\"--config_file_path\", type=str, default=\"./config.yaml\")\n",
    "args = parser.parse_args()\n",
    "\n",
    "context.set_context(case=args.case,\n",
    "                    mode=context.GRAPH_MODE if args.mode.upper().startswith(\"GRAPH\") else context.PYNATIVE_MODE,\n",
    "                    save_graphs=args.save_graphs,\n",
    "                    save_graphs_path=args.save_graphs_path,\n",
    "                    device_target=args.device_target,\n",
    "                    device_id=args.device_id,\n",
    "                    config_file_path=args.config_file_path)\n",
    "use_ascend = context.get_context(attr_key='device_target') == \"Ascend\"\n",
    "\n",
    "# prepare params\n",
    "config = load_yaml_config(args.config_file_path)\n",
    "if args.case == 'sod' or args.case == 'shu_osher':\n",
    "    data_params = config[\"1D_lstm_data\"]\n",
    "    model_params = config[\"1D_lstm_model\"]\n",
    "    optimizer_params = config[\"1D_lstm_optimizer\"]\n",
    "else:\n",
    "    data_params = config[\"1D_lstm_data\"]\n",
    "    model_params = config[\"1D_lstm_model\"]\n",
    "    optimizer_params = config[\"1D_lstm_optimizer\"]\n",
    "\n",
    "# prepare summary file\n",
    "summary_dir = optimizer_params[\"summary_dir\"]\n",
    "ckpt_dir = os.path.join(summary_dir, 'ckpt')\n",
    "\n",
    "# prepare model\n",
    "lstm = Lstm(model_params[\"latent_size\"], model_params[\"hidden_size\"], model_params[\"num_layers\"])\n",
    "loss_fn = nn.MSELoss()\n",
    "lstm_opt = nn.Adam(lstm.trainable_params(), optimizer_params[\"lr\"], weight_decay=optimizer_params[\"weight_decay\"])\n",
    "\n",
    "if use_ascend:\n",
    "    from mindspore.amp import DynamicLossScaler, auto_mixed_precision, all_finite\n",
    "    loss_scaler = DynamicLossScaler(1024, 2, 100)\n",
    "    auto_mixed_precision(lstm, 'O1')\n",
    "else:\n",
    "    loss_scaler = None"
   ]
  },
  {
   "cell_type": "markdown",
   "id": "6a5a08fc",
   "metadata": {},
   "source": [
    "## LSTM网络数据集加载与处理\n",
    "\n",
    "LSTM网络数据集由CAE的编码器得到，创建数据集之后进行数据下沉设置。"
   ]
  },
  {
   "cell_type": "code",
   "execution_count": 10,
   "id": "f6e5aa3c",
   "metadata": {},
   "outputs": [],
   "source": [
    "# prepare dataset\n",
    "latent_true = cae_eval(args.config_file_path, args.case)\n",
    "lstm_dataset, _ = create_lstm_dataset(latent_true, data_params[\"batch_size\"], data_params[\"time_size\"],\n",
    "                                      data_params[\"latent_size\"], data_params[\"time_window\"],\n",
    "                                      data_params[\"gaussian_filter_sigma\"])\n",
    "\n",
    "# data sink\n",
    "sink_process = data_sink(train_step, lstm_dataset, sink_size=1)\n",
    "train_data_size = lstm_dataset.get_dataset_size()"
   ]
  },
  {
   "cell_type": "markdown",
   "id": "eab5ec56",
   "metadata": {},
   "source": [
    "## LSTM网络模型训练\n",
    "\n",
    "搭建forward_fn和train_step，开始LSTM网络的训练，并将训练loss可视化。"
   ]
  },
  {
   "cell_type": "code",
   "execution_count": 11,
   "id": "89b97708",
   "metadata": {},
   "outputs": [
    {
     "name": "stdout",
     "output_type": "stream",
     "text": [
      "pid:22152\n",
      "====================Start Lstm train=======================\n",
      "epoch: 1 train loss: 0.4425844 epoch time: 3.75s\n",
      "epoch: 2 train loss: 0.23611887 epoch time: 0.75s\n",
      "epoch: 3 train loss: 0.65945524 epoch time: 0.76s\n",
      "epoch: 4 train loss: 0.77271056 epoch time: 0.80s\n",
      "epoch: 5 train loss: 0.3535387 epoch time: 0.81s\n",
      "...\n",
      "epoch: 4396 train loss: 9.665465e-05 epoch time: 0.76s\n",
      "epoch: 4397 train loss: 5.5045904e-05 epoch time: 0.77s\n",
      "epoch: 4398 train loss: 0.00013155791 epoch time: 0.80s\n",
      "epoch: 4399 train loss: 0.0769522e-05 epoch time: 0.80s\n",
      "epoch: 4400 train loss: 0.0010389996 epoch time: 0.80s\n",
      "====================End Lstm train=======================\n"
     ]
    }
   ],
   "source": [
    "# Define forward function\n",
    "def forward_fn(data, label):\n",
    "    logits = lstm(data)\n",
    "    loss = loss_fn(logits, label)\n",
    "    if use_ascend:\n",
    "        loss = loss_scaler.scale(loss)\n",
    "    return loss\n",
    "\n",
    "# Get gradient function\n",
    "grad_fn = ops.value_and_grad(forward_fn, None, lstm_opt.parameters, has_aux=False)\n",
    "\n",
    "@jit\n",
    "def train_step(data, label):\n",
    "    loss, grads = grad_fn(data, label)\n",
    "    if use_ascend:\n",
    "        loss = loss_scaler.unscale(loss)\n",
    "        if all_finite(grads):\n",
    "            grads = loss_scaler.unscale(grads)\n",
    "    loss = ops.depend(loss, lstm_opt(grads))\n",
    "    return loss\n",
    "\n",
    "print(f\"====================Start Lstm train=======================\")\n",
    "train_loss = []\n",
    "for epoch in range(1, optimizer_params[\"epochs\"] + 1):\n",
    "    local_time_beg = time.time()\n",
    "    lstm.set_train()\n",
    "    epoch_train_loss = 0\n",
    "    for _ in range(train_data_size):\n",
    "        epoch_train_loss = ops.squeeze(sink_process(), axis=())\n",
    "    train_loss.append(epoch_train_loss)\n",
    "    print(f\"epoch: {epoch} train loss: {epoch_train_loss} epoch time: {time.time() - local_time_beg:.2f}s\")\n",
    "\n",
    "    if epoch % optimizer_params[\"save_ckpt_interval\"] == 0:\n",
    "        save_checkpoint(lstm, f\"{ckpt_dir}/lstm_{epoch}.ckpt\")\n",
    "print(f\"=====================End Lstm train========================\")\n",
    "plot_train_loss(train_loss, summary_dir, optimizer_params[\"epochs\"], \"lstm\")"
   ]
  },
  {
   "cell_type": "markdown",
   "id": "25aac646",
   "metadata": {},
   "source": [
    "## 预测流场结果可视化\n",
    "\n",
    "运行`cae_lstm_eval.py`可查看CAE-LSTM降阶模型的预测结果。\n",
    "\n",
    "下图分别为五个不同算例的真实流场，CAE-LSTM网络的预测结果和相对应的平均误差。整个预测时间误差满足流场预测精度需求。"
   ]
  },
  {
   "cell_type": "markdown",
   "id": "aaa1c1c6",
   "metadata": {},
   "source": [
    "Sod激波管："
   ]
  },
  {
   "cell_type": "markdown",
   "id": "577ba22d",
   "metadata": {},
   "source": [
    "<figure class=\"harf\">\n",
    "    <img src=\"./images/sod_cae_lstm_predict.gif\" title=\"sod_cae_lstm_predict\" width=\"600\"/>\n",
    "    <img src=\"./images/sod_cae_lstm_error.png\" title=\"sod_cae_lstm_error\" width=\"300\"/>\n",
    "</center>"
   ]
  },
  {
   "cell_type": "markdown",
   "id": "9a794962",
   "metadata": {},
   "source": [
    "Shu_osher问题："
   ]
  },
  {
   "cell_type": "markdown",
   "id": "2c2dd6f9",
   "metadata": {},
   "source": [
    "<figure class=\"harf\">\n",
    "    <img src=\"./images/shu_osher_cae_lstm_predict.gif\" title=\"shu_osher_cae_lstm_predict\" width=\"600\"/>\n",
    "    <img src=\"./images/shu_osher_cae_lstm_error.png\" title=\"shu_osher_cae_lstm_error\" width=\"300\"/>\n",
    "</center>"
   ]
  },
  {
   "cell_type": "markdown",
   "id": "ed3713a4",
   "metadata": {},
   "source": [
    "黎曼问题："
   ]
  },
  {
   "cell_type": "markdown",
   "id": "4d6b7bb0",
   "metadata": {},
   "source": [
    "<figure class=\"harf\">\n",
    "    <img src=\"./images/riemann_cae_lstm_predict.gif\" title=\"riemann_cae_lstm_predict\" width=\"600\"/>\n",
    "    <img src=\"./images/riemann_cae_lstm_error.png\" title=\"riemann_cae_lstm_error\" width=\"300\"/>\n",
    "</center>"
   ]
  },
  {
   "cell_type": "markdown",
   "id": "1dfaa568",
   "metadata": {},
   "source": [
    "开尔文亥姆霍兹不稳定性问题："
   ]
  },
  {
   "cell_type": "markdown",
   "id": "8c08b008",
   "metadata": {},
   "source": [
    "<figure class=\"harf\">\n",
    "    <img src=\"./images/kh_cae_lstm_predict.gif\" title=\"kh_cae_lstm_predict\" width=\"600\"/>\n",
    "    <img src=\"./images/kh_cae_lstm_error.png\" title=\"kh_cae_lstm_error\" width=\"300\"/>\n",
    "</center>"
   ]
  },
  {
   "cell_type": "markdown",
   "id": "4de237ac",
   "metadata": {},
   "source": [
    "圆柱绕流（Re = 300）："
   ]
  },
  {
   "cell_type": "markdown",
   "id": "068d2b08",
   "metadata": {},
   "source": [
    "<figure class=\"harf\">\n",
    "    <img src=\"./images/cylinder_cae_lstm_predict.gif\" title=\"cylinder_cae_lstm_predict\" width=\"600\"/>\n",
    "    <img src=\"./images/cylinder_cae_lstm_error.png\" title=\"cylinder_cae_lstm_error\" width=\"300\"/>\n",
    "</center>"
   ]
  }
 ],
 "metadata": {
  "kernelspec": {
   "display_name": "Python 3 (ipykernel)",
   "language": "python",
   "name": "python3"
  },
  "language_info": {
   "codemirror_mode": {
    "name": "ipython",
    "version": 3
   },
   "file_extension": ".py",
   "mimetype": "text/x-python",
   "name": "python",
   "nbconvert_exporter": "python",
   "pygments_lexer": "ipython3",
   "version": "3.7.9"
  }
 },
 "nbformat": 4,
 "nbformat_minor": 5
}
